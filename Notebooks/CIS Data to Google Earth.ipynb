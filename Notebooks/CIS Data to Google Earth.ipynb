{
 "cells": [
  {
   "cell_type": "code",
   "execution_count": 1,
   "id": "62e1d373-17ea-422d-be12-b6ab9de0371c",
   "metadata": {
    "pycharm": {
     "name": "#%%\n"
    }
   },
   "outputs": [],
   "source": [
    "import os\n",
    "import math\n",
    "import time\n",
    "import pandas as pd\n",
    "import simplekml\n",
    "import shutil\n",
    "from sys import platform\n",
    "from pathlib import Path\n",
    "\n",
    "# Measuring execution time\n",
    "start_time = time.time()"
   ]
  },
  {
   "cell_type": "markdown",
   "id": "a784d0b6-7cf1-4dba-891e-9c13f3d4cedc",
   "metadata": {
    "pycharm": {
     "name": "#%% md\n"
    }
   },
   "source": [
    "# Specify Variables"
   ]
  },
  {
   "cell_type": "code",
   "execution_count": 4,
   "id": "bff0e0f7-4e5e-4fab-8354-b73290b4fb41",
   "metadata": {
    "pycharm": {
     "name": "#%%\n"
    }
   },
   "outputs": [],
   "source": [
    "# SPECIFY SCALE FACTOR\n",
    "scale_factor = 20\n",
    "# SPECIFY TRANSPARENCY (0 to 1)\n",
    "transparency = 1\n",
    "# SPECIFY ICON SCALE\n",
    "icon_scale = 0.3\n",
    "# SPECIFY COLOR PALETTE\n",
    "#my_cmap = plt.get_cmap('Spectral_r')\n",
    "# SPECIFY LENGTH PER .kml FILE (miles)\n",
    "miles_per_kml = 1\n",
    "# PROJECT NAME\n",
    "project_name = 'XYZ'    #input('\\nPROJECT NAME:')"
   ]
  },
  {
   "cell_type": "markdown",
   "source": [
    "# XXX"
   ],
   "metadata": {
    "collapsed": false,
    "pycharm": {
     "name": "#%% md\n"
    }
   }
  },
  {
   "cell_type": "code",
   "execution_count": 2,
   "outputs": [],
   "source": [
    "# Checks what operating system the user is using\n",
    "if platform == 'win32':\n",
    "    root_path = r'C:\\Users\\Stefanos\\DeLasCasas CP, LLc\\Ro De Las Casas - ' \\\n",
    "                r'DLC2P Server\\AA Stefanos\\Data Science\\Python Projects\\CIS ' \\\n",
    "                r'Data to Google Earth'\n",
    "elif platform == 'darwin':\n",
    "    root_path = r'/Users/Stefanos/Library/CloudStorage/' \\\n",
    "                r'OneDrive-SharedLibraries-DeLasCasasCP,LLc/Ro De Las Casas ' \\\n",
    "                r'- DLC2P Server/AA Stefanos/Data Science/Python Projects/' \\\n",
    "                r'CIS Data to Google Earth'"
   ],
   "metadata": {
    "collapsed": false,
    "pycharm": {
     "name": "#%%\n"
    }
   }
  },
  {
   "cell_type": "code",
   "execution_count": 5,
   "outputs": [],
   "source": [
    "# Create dataframe\n",
    "df_cis = pd.read_csv(root_path + str(Path(r'/Data/Data.csv')))\n",
    "# Distance between points\n",
    "step_feet = df_cis['STATIONING (ft)'].iloc[2]-df_cis['STATIONING (ft)'].iloc[1]\n",
    "#Convert miles to feet\n",
    "distance_feet = miles_per_kml*5280\n",
    "# Number of data points\n",
    "data_points = int(distance_feet/step_feet)\n",
    "# Total miles in the CIS survey (rounded up)\n",
    "total_miles = math.ceil(max(df_cis['STATIONING (ft)'])/5280)"
   ],
   "metadata": {
    "collapsed": false,
    "pycharm": {
     "name": "#%%\n"
    }
   }
  },
  {
   "cell_type": "markdown",
   "source": [
    "# Directories"
   ],
   "metadata": {
    "collapsed": false,
    "pycharm": {
     "name": "#%% md\n"
    }
   }
  },
  {
   "cell_type": "code",
   "execution_count": 8,
   "outputs": [],
   "source": [
    "# Create Output folder\n",
    "if os.path.exists(root_path + r'/Output/'):\n",
    "    shutil.rmtree(root_path + r'/Output/')\n",
    "    os.makedirs(root_path + r'/Output/')\n",
    "if not os.path.exists(root_path + r'/Output/'):\n",
    "    os.makedirs(root_path + r'/Output/')"
   ],
   "metadata": {
    "collapsed": false,
    "pycharm": {
     "name": "#%%\n"
    }
   }
  },
  {
   "cell_type": "code",
   "execution_count": 9,
   "outputs": [],
   "source": [
    "# Create mile # folders\n",
    "starting_folder_mile = 0\n",
    "ending_folder_mile = miles_per_kml\n",
    "\n",
    "while ending_folder_mile <=total_miles:\n",
    "    if miles_per_kml > 1:\n",
    "        os.makedirs(root_path + r'/Output/' + 'Mile ' +\n",
    "                    starting_folder_mile.__str__() + ' to ' +\n",
    "                    ending_folder_mile.__str__() + '/')\n",
    "    else:\n",
    "        os.makedirs(root_path + r'/Output/' + 'Mile ' +\n",
    "                    ending_folder_mile.__str__() + '/')\n",
    "\n",
    "    starting_folder_mile += miles_per_kml\n",
    "    ending_folder_mile += miles_per_kml"
   ],
   "metadata": {
    "collapsed": false,
    "pycharm": {
     "name": "#%%\n"
    }
   }
  },
  {
   "cell_type": "markdown",
   "source": [
    "# CIS Data"
   ],
   "metadata": {
    "collapsed": false,
    "pycharm": {
     "name": "#%% md\n"
    }
   }
  },
  {
   "cell_type": "markdown",
   "source": [
    "## On"
   ],
   "metadata": {
    "collapsed": false,
    "pycharm": {
     "name": "#%% md\n"
    }
   }
  },
  {
   "cell_type": "code",
   "execution_count": 6,
   "id": "08778f45-6310-4f5c-9d3f-056bb7d06b45",
   "metadata": {
    "pycharm": {
     "name": "#%%\n"
    }
   },
   "outputs": [],
   "source": [
    "# Preventing chained assignment\n",
    "df_cis_on = df_cis.copy()\n",
    "#df_cis_on = df_cis[df_cis['PS_ON'] != 0]\n",
    "#df_cis_on = df_cis_on.iloc[:, [False, True, False, False, True, True, False]]\n",
    "df_cis_on = df_cis_on[['LONGITUDE', 'LATITUDE', 'PS_ON']].reset_index(drop=True)\n",
    "df_cis_on['PS_ON'] = df_cis_on['PS_ON']*(-1)"
   ]
  },
  {
   "cell_type": "code",
   "execution_count": 8,
   "id": "2073504c-64b8-4b26-bb66-b19ed717a29a",
   "metadata": {
    "pycharm": {
     "name": "#%%\n"
    }
   },
   "outputs": [
    {
     "ename": "FileNotFoundError",
     "evalue": "[Errno 2] No such file or directory: '/Users/Stefanos/Library/CloudStorage/OneDrive-SharedLibraries-DeLasCasasCP,LLc/Ro De Las Casas - DLC2P Server/AA Stefanos/Data Science/Python Projects/CIS Data to Google Earth/Output/2/XYZ - ON (Mile 1).kml'",
     "output_type": "error",
     "traceback": [
      "\u001B[0;31m---------------------------------------------------------------------------\u001B[0m",
      "\u001B[0;31mFileNotFoundError\u001B[0m                         Traceback (most recent call last)",
      "Input \u001B[0;32mIn [8]\u001B[0m, in \u001B[0;36m<cell line: 8>\u001B[0;34m()\u001B[0m\n\u001B[1;32m     38\u001B[0m     kml\u001B[38;5;241m.\u001B[39msave(root_path \u001B[38;5;241m+\u001B[39m \u001B[38;5;124mr\u001B[39m\u001B[38;5;124m'\u001B[39m\u001B[38;5;124m/Output/\u001B[39m\u001B[38;5;124m'\u001B[39m \u001B[38;5;241m+\u001B[39m project_name \u001B[38;5;241m+\u001B[39m\n\u001B[1;32m     39\u001B[0m              \u001B[38;5;124m'\u001B[39m\u001B[38;5;124m - ON (Mile \u001B[39m\u001B[38;5;124m'\u001B[39m \u001B[38;5;241m+\u001B[39m (starting_mile\u001B[38;5;241m-\u001B[39m\u001B[38;5;241m1\u001B[39m)\u001B[38;5;241m.\u001B[39m\u001B[38;5;21m__str__\u001B[39m() \u001B[38;5;241m+\u001B[39m \u001B[38;5;124m'\u001B[39m\u001B[38;5;124m to \u001B[39m\u001B[38;5;124m'\u001B[39m \u001B[38;5;241m+\u001B[39m\n\u001B[1;32m     40\u001B[0m              (ending_mile\u001B[38;5;241m-\u001B[39m\u001B[38;5;241m1\u001B[39m)\u001B[38;5;241m.\u001B[39m\u001B[38;5;21m__str__\u001B[39m() \u001B[38;5;241m+\u001B[39m \u001B[38;5;124m'\u001B[39m\u001B[38;5;124m)\u001B[39m\u001B[38;5;124m'\u001B[39m \u001B[38;5;241m+\u001B[39m \u001B[38;5;124m'\u001B[39m\u001B[38;5;124m.kml\u001B[39m\u001B[38;5;124m'\u001B[39m)\n\u001B[1;32m     41\u001B[0m \u001B[38;5;28;01melse\u001B[39;00m:\n\u001B[0;32m---> 42\u001B[0m     \u001B[43mkml\u001B[49m\u001B[38;5;241;43m.\u001B[39;49m\u001B[43msave\u001B[49m\u001B[43m(\u001B[49m\u001B[43mroot_path\u001B[49m\u001B[43m \u001B[49m\u001B[38;5;241;43m+\u001B[39;49m\u001B[43m \u001B[49m\u001B[38;5;124;43mr\u001B[39;49m\u001B[38;5;124;43m'\u001B[39;49m\u001B[38;5;124;43m/Output/\u001B[39;49m\u001B[38;5;124;43m'\u001B[39;49m\u001B[43m \u001B[49m\u001B[38;5;241;43m+\u001B[39;49m\u001B[43m \u001B[49m\u001B[38;5;124;43mr\u001B[39;49m\u001B[38;5;124;43m'\u001B[39;49m\u001B[38;5;132;43;01m{}\u001B[39;49;00m\u001B[38;5;124;43m/\u001B[39;49m\u001B[38;5;124;43m'\u001B[39;49m\u001B[38;5;241;43m.\u001B[39;49m\u001B[43mformat\u001B[49m\u001B[43m(\u001B[49m\u001B[43mending_mile\u001B[49m\u001B[43m)\u001B[49m\u001B[43m \u001B[49m\u001B[38;5;241;43m+\u001B[39;49m\n\u001B[1;32m     43\u001B[0m \u001B[43m             \u001B[49m\u001B[43mproject_name\u001B[49m\u001B[43m \u001B[49m\u001B[38;5;241;43m+\u001B[39;49m\u001B[43m \u001B[49m\u001B[38;5;124;43m'\u001B[39;49m\u001B[38;5;124;43m - ON (Mile \u001B[39;49m\u001B[38;5;124;43m'\u001B[39;49m\u001B[43m \u001B[49m\u001B[38;5;241;43m+\u001B[39;49m\n\u001B[1;32m     44\u001B[0m \u001B[43m             \u001B[49m\u001B[43m(\u001B[49m\u001B[43mending_mile\u001B[49m\u001B[38;5;241;43m-\u001B[39;49m\u001B[38;5;241;43m1\u001B[39;49m\u001B[43m)\u001B[49m\u001B[38;5;241;43m.\u001B[39;49m\u001B[38;5;21;43m__str__\u001B[39;49m\u001B[43m(\u001B[49m\u001B[43m)\u001B[49m\u001B[43m \u001B[49m\u001B[38;5;241;43m+\u001B[39;49m\u001B[43m \u001B[49m\u001B[38;5;124;43m'\u001B[39;49m\u001B[38;5;124;43m)\u001B[39;49m\u001B[38;5;124;43m'\u001B[39;49m\u001B[43m \u001B[49m\u001B[38;5;241;43m+\u001B[39;49m\u001B[43m \u001B[49m\u001B[38;5;124;43m'\u001B[39;49m\u001B[38;5;124;43m.kml\u001B[39;49m\u001B[38;5;124;43m'\u001B[39;49m\u001B[43m)\u001B[49m\n",
      "File \u001B[0;32m/Users/stefanos/opt/anaconda3/lib/python3.10/site-packages/simplekml/kml.py:332\u001B[0m, in \u001B[0;36mKml.save\u001B[0;34m(self, path, format)\u001B[0m\n\u001B[1;32m    330\u001B[0m \u001B[38;5;28mself\u001B[39m\u001B[38;5;241m.\u001B[39m_outputkmz \u001B[38;5;241m=\u001B[39m \u001B[38;5;28;01mFalse\u001B[39;00m\n\u001B[1;32m    331\u001B[0m out \u001B[38;5;241m=\u001B[39m \u001B[38;5;28mself\u001B[39m\u001B[38;5;241m.\u001B[39m_genkml(\u001B[38;5;28mformat\u001B[39m)\n\u001B[0;32m--> 332\u001B[0m f \u001B[38;5;241m=\u001B[39m \u001B[43mcodecs\u001B[49m\u001B[38;5;241;43m.\u001B[39;49m\u001B[43mopen\u001B[49m\u001B[43m(\u001B[49m\u001B[43mpath\u001B[49m\u001B[43m,\u001B[49m\u001B[43m \u001B[49m\u001B[38;5;124;43m'\u001B[39;49m\u001B[38;5;124;43mwb\u001B[39;49m\u001B[38;5;124;43m'\u001B[39;49m\u001B[43m,\u001B[49m\u001B[43m \u001B[49m\u001B[38;5;124;43m'\u001B[39;49m\u001B[38;5;124;43mutf-8\u001B[39;49m\u001B[38;5;124;43m'\u001B[39;49m\u001B[43m)\u001B[49m\n\u001B[1;32m    333\u001B[0m \u001B[38;5;28;01mtry\u001B[39;00m:\n\u001B[1;32m    334\u001B[0m     f\u001B[38;5;241m.\u001B[39mwrite(out)\n",
      "File \u001B[0;32m/Users/stefanos/opt/anaconda3/lib/python3.10/codecs.py:905\u001B[0m, in \u001B[0;36mopen\u001B[0;34m(filename, mode, encoding, errors, buffering)\u001B[0m\n\u001B[1;32m    901\u001B[0m \u001B[38;5;28;01mif\u001B[39;00m encoding \u001B[38;5;129;01mis\u001B[39;00m \u001B[38;5;129;01mnot\u001B[39;00m \u001B[38;5;28;01mNone\u001B[39;00m \u001B[38;5;129;01mand\u001B[39;00m \\\n\u001B[1;32m    902\u001B[0m    \u001B[38;5;124m'\u001B[39m\u001B[38;5;124mb\u001B[39m\u001B[38;5;124m'\u001B[39m \u001B[38;5;129;01mnot\u001B[39;00m \u001B[38;5;129;01min\u001B[39;00m mode:\n\u001B[1;32m    903\u001B[0m     \u001B[38;5;66;03m# Force opening of the file in binary mode\u001B[39;00m\n\u001B[1;32m    904\u001B[0m     mode \u001B[38;5;241m=\u001B[39m mode \u001B[38;5;241m+\u001B[39m \u001B[38;5;124m'\u001B[39m\u001B[38;5;124mb\u001B[39m\u001B[38;5;124m'\u001B[39m\n\u001B[0;32m--> 905\u001B[0m file \u001B[38;5;241m=\u001B[39m \u001B[43mbuiltins\u001B[49m\u001B[38;5;241;43m.\u001B[39;49m\u001B[43mopen\u001B[49m\u001B[43m(\u001B[49m\u001B[43mfilename\u001B[49m\u001B[43m,\u001B[49m\u001B[43m \u001B[49m\u001B[43mmode\u001B[49m\u001B[43m,\u001B[49m\u001B[43m \u001B[49m\u001B[43mbuffering\u001B[49m\u001B[43m)\u001B[49m\n\u001B[1;32m    906\u001B[0m \u001B[38;5;28;01mif\u001B[39;00m encoding \u001B[38;5;129;01mis\u001B[39;00m \u001B[38;5;28;01mNone\u001B[39;00m:\n\u001B[1;32m    907\u001B[0m     \u001B[38;5;28;01mreturn\u001B[39;00m file\n",
      "\u001B[0;31mFileNotFoundError\u001B[0m: [Errno 2] No such file or directory: '/Users/Stefanos/Library/CloudStorage/OneDrive-SharedLibraries-DeLasCasasCP,LLc/Ro De Las Casas - DLC2P Server/AA Stefanos/Data Science/Python Projects/CIS Data to Google Earth/Output/2/XYZ - ON (Mile 1).kml'"
     ]
    }
   ],
   "source": [
    "# Counters\n",
    "starting_mile = 0\n",
    "ending_mile = miles_per_kml\n",
    "starting_data_point = 0\n",
    "ending_data_point = starting_data_point+data_points\n",
    "row_number = 0\n",
    "\n",
    "while ending_mile <= total_miles:\n",
    "    kml = simplekml.Kml()\n",
    "    style = simplekml.Style()\n",
    "    z = df_cis_on.iloc[starting_data_point:ending_data_point].last_valid_index()\n",
    "\n",
    "    while row_number < z:\n",
    "        pnt = kml.newpoint(name=df_cis_on.loc[row_number, 'PS_ON']*(-1))\n",
    "        pnt.style.balloonstyle.text = \\\n",
    "            'Potential: -{} V'.format(df_cis_on.loc[row_number, 'PS_ON'])\n",
    "        pnt.coords = [(df_cis_on.loc[row_number, 'LONGITUDE'],\n",
    "                       df_cis_on.loc[row_number, 'LATITUDE'],\n",
    "                       df_cis_on.loc[row_number, 'PS_ON']*scale_factor)]\n",
    "        pnt.altitudemode = simplekml.AltitudeMode.relativetoground\n",
    "\n",
    "        # Style\n",
    "        pnt.style.iconstyle.icon.href = \\\n",
    "            'https://maps.google.com/mapfiles/kml/paddle/red-square-lv.png'\n",
    "        pnt.style.iconstyle.scale = icon_scale\n",
    "        pnt.style.labelstyle.scale = 0\n",
    "        pnt.extrude = 1\n",
    "\n",
    "        row_number += 1\n",
    "\n",
    "    starting_mile += miles_per_kml\n",
    "    ending_mile += miles_per_kml\n",
    "    starting_data_point = ending_data_point\n",
    "    ending_data_point += data_points\n",
    "    row_number = 0\n",
    "\n",
    "    if miles_per_kml > 1:\n",
    "        kml.save(root_path + r'/Output/' + project_name +\n",
    "                 ' - ON (Mile ' + (starting_mile-1).__str__() + ' to ' +\n",
    "                 (ending_mile-1).__str__() + ')' + '.kml')\n",
    "    else:\n",
    "        kml.save(root_path + r'/Output/' + r'{}/'.format(ending_mile) +\n",
    "                 project_name + ' - ON (Mile ' +\n",
    "                 (ending_mile-1).__str__() + ')' + '.kml')"
   ]
  },
  {
   "cell_type": "markdown",
   "source": [
    "## Off"
   ],
   "metadata": {
    "collapsed": false,
    "pycharm": {
     "name": "#%% md\n"
    }
   }
  },
  {
   "cell_type": "code",
   "execution_count": 74,
   "outputs": [],
   "source": [
    "kml = simplekml.Kml()"
   ],
   "metadata": {
    "collapsed": false,
    "pycharm": {
     "name": "#%%\n"
    }
   }
  },
  {
   "cell_type": "code",
   "execution_count": 75,
   "id": "545b2f37-c13a-4076-af7b-5a9e64d4ca16",
   "metadata": {
    "pycharm": {
     "name": "#%%\n"
    }
   },
   "outputs": [
    {
     "ename": "IndexError",
     "evalue": "Boolean index has wrong length: 7 instead of 6",
     "output_type": "error",
     "traceback": [
      "\u001B[0;31m---------------------------------------------------------------------------\u001B[0m",
      "\u001B[0;31mIndexError\u001B[0m                                Traceback (most recent call last)",
      "Input \u001B[0;32mIn [75]\u001B[0m, in \u001B[0;36m<cell line: 2>\u001B[0;34m()\u001B[0m\n\u001B[1;32m      1\u001B[0m df_cis_off \u001B[38;5;241m=\u001B[39m df_cis[df_cis[\u001B[38;5;124m'\u001B[39m\u001B[38;5;124mPS_OFF\u001B[39m\u001B[38;5;124m'\u001B[39m] \u001B[38;5;241m!=\u001B[39m \u001B[38;5;241m0\u001B[39m]\n\u001B[0;32m----> 2\u001B[0m df_cis_off \u001B[38;5;241m=\u001B[39m \u001B[43mdf_cis_off\u001B[49m\u001B[38;5;241;43m.\u001B[39;49m\u001B[43miloc\u001B[49m\u001B[43m[\u001B[49m\u001B[43m:\u001B[49m\u001B[43m,\u001B[49m\u001B[43m \u001B[49m\u001B[43m[\u001B[49m\u001B[38;5;28;43;01mFalse\u001B[39;49;00m\u001B[43m,\u001B[49m\u001B[43m \u001B[49m\u001B[38;5;28;43;01mFalse\u001B[39;49;00m\u001B[43m,\u001B[49m\u001B[43m \u001B[49m\u001B[38;5;28;43;01mTrue\u001B[39;49;00m\u001B[43m,\u001B[49m\u001B[43m \u001B[49m\u001B[38;5;28;43;01mFalse\u001B[39;49;00m\u001B[43m,\u001B[49m\u001B[43m \u001B[49m\u001B[38;5;28;43;01mTrue\u001B[39;49;00m\u001B[43m,\u001B[49m\u001B[43m \u001B[49m\u001B[38;5;28;43;01mTrue\u001B[39;49;00m\u001B[43m,\u001B[49m\u001B[43m \u001B[49m\u001B[38;5;28;43;01mFalse\u001B[39;49;00m\u001B[43m]\u001B[49m\u001B[43m]\u001B[49m\n\u001B[1;32m      3\u001B[0m df_cis_off \u001B[38;5;241m=\u001B[39m df_cis_off[[\u001B[38;5;124m'\u001B[39m\u001B[38;5;124mLONGITUDE\u001B[39m\u001B[38;5;124m'\u001B[39m, \u001B[38;5;124m'\u001B[39m\u001B[38;5;124mLATITUDE\u001B[39m\u001B[38;5;124m'\u001B[39m, \u001B[38;5;124m'\u001B[39m\u001B[38;5;124mPS_OFF\u001B[39m\u001B[38;5;124m'\u001B[39m]]\u001B[38;5;241m.\u001B[39mreset_index(drop\u001B[38;5;241m=\u001B[39m\u001B[38;5;28;01mTrue\u001B[39;00m)\n\u001B[1;32m      4\u001B[0m df_cis_off \u001B[38;5;241m=\u001B[39m df_cis_off\u001B[38;5;241m.\u001B[39miloc[:\u001B[38;5;241m2112\u001B[39m, :]\n",
      "File \u001B[0;32m/Users/stefanos/opt/anaconda3/lib/python3.10/site-packages/pandas/core/indexing.py:961\u001B[0m, in \u001B[0;36m_LocationIndexer.__getitem__\u001B[0;34m(self, key)\u001B[0m\n\u001B[1;32m    959\u001B[0m     \u001B[38;5;28;01mif\u001B[39;00m \u001B[38;5;28mself\u001B[39m\u001B[38;5;241m.\u001B[39m_is_scalar_access(key):\n\u001B[1;32m    960\u001B[0m         \u001B[38;5;28;01mreturn\u001B[39;00m \u001B[38;5;28mself\u001B[39m\u001B[38;5;241m.\u001B[39mobj\u001B[38;5;241m.\u001B[39m_get_value(\u001B[38;5;241m*\u001B[39mkey, takeable\u001B[38;5;241m=\u001B[39m\u001B[38;5;28mself\u001B[39m\u001B[38;5;241m.\u001B[39m_takeable)\n\u001B[0;32m--> 961\u001B[0m     \u001B[38;5;28;01mreturn\u001B[39;00m \u001B[38;5;28;43mself\u001B[39;49m\u001B[38;5;241;43m.\u001B[39;49m\u001B[43m_getitem_tuple\u001B[49m\u001B[43m(\u001B[49m\u001B[43mkey\u001B[49m\u001B[43m)\u001B[49m\n\u001B[1;32m    962\u001B[0m \u001B[38;5;28;01melse\u001B[39;00m:\n\u001B[1;32m    963\u001B[0m     \u001B[38;5;66;03m# we by definition only have the 0th axis\u001B[39;00m\n\u001B[1;32m    964\u001B[0m     axis \u001B[38;5;241m=\u001B[39m \u001B[38;5;28mself\u001B[39m\u001B[38;5;241m.\u001B[39maxis \u001B[38;5;129;01mor\u001B[39;00m \u001B[38;5;241m0\u001B[39m\n",
      "File \u001B[0;32m/Users/stefanos/opt/anaconda3/lib/python3.10/site-packages/pandas/core/indexing.py:1465\u001B[0m, in \u001B[0;36m_iLocIndexer._getitem_tuple\u001B[0;34m(self, tup)\u001B[0m\n\u001B[1;32m   1462\u001B[0m \u001B[38;5;28;01mwith\u001B[39;00m suppress(IndexingError):\n\u001B[1;32m   1463\u001B[0m     \u001B[38;5;28;01mreturn\u001B[39;00m \u001B[38;5;28mself\u001B[39m\u001B[38;5;241m.\u001B[39m_getitem_lowerdim(tup)\n\u001B[0;32m-> 1465\u001B[0m \u001B[38;5;28;01mreturn\u001B[39;00m \u001B[38;5;28;43mself\u001B[39;49m\u001B[38;5;241;43m.\u001B[39;49m\u001B[43m_getitem_tuple_same_dim\u001B[49m\u001B[43m(\u001B[49m\u001B[43mtup\u001B[49m\u001B[43m)\u001B[49m\n",
      "File \u001B[0;32m/Users/stefanos/opt/anaconda3/lib/python3.10/site-packages/pandas/core/indexing.py:827\u001B[0m, in \u001B[0;36m_LocationIndexer._getitem_tuple_same_dim\u001B[0;34m(self, tup)\u001B[0m\n\u001B[1;32m    824\u001B[0m \u001B[38;5;28;01mif\u001B[39;00m com\u001B[38;5;241m.\u001B[39mis_null_slice(key):\n\u001B[1;32m    825\u001B[0m     \u001B[38;5;28;01mcontinue\u001B[39;00m\n\u001B[0;32m--> 827\u001B[0m retval \u001B[38;5;241m=\u001B[39m \u001B[38;5;28;43mgetattr\u001B[39;49m\u001B[43m(\u001B[49m\u001B[43mretval\u001B[49m\u001B[43m,\u001B[49m\u001B[43m \u001B[49m\u001B[38;5;28;43mself\u001B[39;49m\u001B[38;5;241;43m.\u001B[39;49m\u001B[43mname\u001B[49m\u001B[43m)\u001B[49m\u001B[38;5;241;43m.\u001B[39;49m\u001B[43m_getitem_axis\u001B[49m\u001B[43m(\u001B[49m\u001B[43mkey\u001B[49m\u001B[43m,\u001B[49m\u001B[43m \u001B[49m\u001B[43maxis\u001B[49m\u001B[38;5;241;43m=\u001B[39;49m\u001B[43mi\u001B[49m\u001B[43m)\u001B[49m\n\u001B[1;32m    828\u001B[0m \u001B[38;5;66;03m# We should never have retval.ndim < self.ndim, as that should\u001B[39;00m\n\u001B[1;32m    829\u001B[0m \u001B[38;5;66;03m#  be handled by the _getitem_lowerdim call above.\u001B[39;00m\n\u001B[1;32m    830\u001B[0m \u001B[38;5;28;01massert\u001B[39;00m retval\u001B[38;5;241m.\u001B[39mndim \u001B[38;5;241m==\u001B[39m \u001B[38;5;28mself\u001B[39m\u001B[38;5;241m.\u001B[39mndim\n",
      "File \u001B[0;32m/Users/stefanos/opt/anaconda3/lib/python3.10/site-packages/pandas/core/indexing.py:1510\u001B[0m, in \u001B[0;36m_iLocIndexer._getitem_axis\u001B[0;34m(self, key, axis)\u001B[0m\n\u001B[1;32m   1508\u001B[0m \u001B[38;5;28;01mif\u001B[39;00m com\u001B[38;5;241m.\u001B[39mis_bool_indexer(key):\n\u001B[1;32m   1509\u001B[0m     \u001B[38;5;28mself\u001B[39m\u001B[38;5;241m.\u001B[39m_validate_key(key, axis)\n\u001B[0;32m-> 1510\u001B[0m     \u001B[38;5;28;01mreturn\u001B[39;00m \u001B[38;5;28;43mself\u001B[39;49m\u001B[38;5;241;43m.\u001B[39;49m\u001B[43m_getbool_axis\u001B[49m\u001B[43m(\u001B[49m\u001B[43mkey\u001B[49m\u001B[43m,\u001B[49m\u001B[43m \u001B[49m\u001B[43maxis\u001B[49m\u001B[38;5;241;43m=\u001B[39;49m\u001B[43maxis\u001B[49m\u001B[43m)\u001B[49m\n\u001B[1;32m   1512\u001B[0m \u001B[38;5;66;03m# a list of integers\u001B[39;00m\n\u001B[1;32m   1513\u001B[0m \u001B[38;5;28;01melif\u001B[39;00m is_list_like_indexer(key):\n",
      "File \u001B[0;32m/Users/stefanos/opt/anaconda3/lib/python3.10/site-packages/pandas/core/indexing.py:984\u001B[0m, in \u001B[0;36m_LocationIndexer._getbool_axis\u001B[0;34m(self, key, axis)\u001B[0m\n\u001B[1;32m    981\u001B[0m \u001B[38;5;28;01mdef\u001B[39;00m \u001B[38;5;21m_getbool_axis\u001B[39m(\u001B[38;5;28mself\u001B[39m, key, axis: \u001B[38;5;28mint\u001B[39m):\n\u001B[1;32m    982\u001B[0m     \u001B[38;5;66;03m# caller is responsible for ensuring non-None axis\u001B[39;00m\n\u001B[1;32m    983\u001B[0m     labels \u001B[38;5;241m=\u001B[39m \u001B[38;5;28mself\u001B[39m\u001B[38;5;241m.\u001B[39mobj\u001B[38;5;241m.\u001B[39m_get_axis(axis)\n\u001B[0;32m--> 984\u001B[0m     key \u001B[38;5;241m=\u001B[39m \u001B[43mcheck_bool_indexer\u001B[49m\u001B[43m(\u001B[49m\u001B[43mlabels\u001B[49m\u001B[43m,\u001B[49m\u001B[43m \u001B[49m\u001B[43mkey\u001B[49m\u001B[43m)\u001B[49m\n\u001B[1;32m    985\u001B[0m     inds \u001B[38;5;241m=\u001B[39m key\u001B[38;5;241m.\u001B[39mnonzero()[\u001B[38;5;241m0\u001B[39m]\n\u001B[1;32m    986\u001B[0m     \u001B[38;5;28;01mreturn\u001B[39;00m \u001B[38;5;28mself\u001B[39m\u001B[38;5;241m.\u001B[39mobj\u001B[38;5;241m.\u001B[39m_take_with_is_copy(inds, axis\u001B[38;5;241m=\u001B[39maxis)\n",
      "File \u001B[0;32m/Users/stefanos/opt/anaconda3/lib/python3.10/site-packages/pandas/core/indexing.py:2401\u001B[0m, in \u001B[0;36mcheck_bool_indexer\u001B[0;34m(index, key)\u001B[0m\n\u001B[1;32m   2397\u001B[0m \u001B[38;5;28;01melif\u001B[39;00m \u001B[38;5;129;01mnot\u001B[39;00m is_array_like(result):\n\u001B[1;32m   2398\u001B[0m     \u001B[38;5;66;03m# GH 33924\u001B[39;00m\n\u001B[1;32m   2399\u001B[0m     \u001B[38;5;66;03m# key may contain nan elements, check_array_indexer needs bool array\u001B[39;00m\n\u001B[1;32m   2400\u001B[0m     result \u001B[38;5;241m=\u001B[39m pd_array(result, dtype\u001B[38;5;241m=\u001B[39m\u001B[38;5;28mbool\u001B[39m)\n\u001B[0;32m-> 2401\u001B[0m \u001B[38;5;28;01mreturn\u001B[39;00m \u001B[43mcheck_array_indexer\u001B[49m\u001B[43m(\u001B[49m\u001B[43mindex\u001B[49m\u001B[43m,\u001B[49m\u001B[43m \u001B[49m\u001B[43mresult\u001B[49m\u001B[43m)\u001B[49m\n",
      "File \u001B[0;32m/Users/stefanos/opt/anaconda3/lib/python3.10/site-packages/pandas/core/indexers/utils.py:579\u001B[0m, in \u001B[0;36mcheck_array_indexer\u001B[0;34m(array, indexer)\u001B[0m\n\u001B[1;32m    577\u001B[0m     \u001B[38;5;66;03m# GH26658\u001B[39;00m\n\u001B[1;32m    578\u001B[0m     \u001B[38;5;28;01mif\u001B[39;00m \u001B[38;5;28mlen\u001B[39m(indexer) \u001B[38;5;241m!=\u001B[39m \u001B[38;5;28mlen\u001B[39m(array):\n\u001B[0;32m--> 579\u001B[0m         \u001B[38;5;28;01mraise\u001B[39;00m \u001B[38;5;167;01mIndexError\u001B[39;00m(\n\u001B[1;32m    580\u001B[0m             \u001B[38;5;124mf\u001B[39m\u001B[38;5;124m\"\u001B[39m\u001B[38;5;124mBoolean index has wrong length: \u001B[39m\u001B[38;5;124m\"\u001B[39m\n\u001B[1;32m    581\u001B[0m             \u001B[38;5;124mf\u001B[39m\u001B[38;5;124m\"\u001B[39m\u001B[38;5;132;01m{\u001B[39;00m\u001B[38;5;28mlen\u001B[39m(indexer)\u001B[38;5;132;01m}\u001B[39;00m\u001B[38;5;124m instead of \u001B[39m\u001B[38;5;132;01m{\u001B[39;00m\u001B[38;5;28mlen\u001B[39m(array)\u001B[38;5;132;01m}\u001B[39;00m\u001B[38;5;124m\"\u001B[39m\n\u001B[1;32m    582\u001B[0m         )\n\u001B[1;32m    583\u001B[0m \u001B[38;5;28;01melif\u001B[39;00m is_integer_dtype(dtype):\n\u001B[1;32m    584\u001B[0m     \u001B[38;5;28;01mtry\u001B[39;00m:\n",
      "\u001B[0;31mIndexError\u001B[0m: Boolean index has wrong length: 7 instead of 6"
     ]
    }
   ],
   "source": [
    "df_cis_off = df_cis[df_cis['PS_OFF'] != 0]\n",
    "df_cis_off = df_cis_off.iloc[:, [False, False, True, False, True, True, False]]\n",
    "df_cis_off = df_cis_off[['LONGITUDE', 'LATITUDE', 'PS_OFF']].reset_index(drop=True)\n",
    "df_cis_off = df_cis_off.iloc[:2112, :]\n",
    "df_cis_off['PS_OFF'] = df_cis_off['PS_OFF'] * -1"
   ]
  },
  {
   "cell_type": "code",
   "execution_count": null,
   "id": "867e796d-7b4a-4ffc-b0e7-ee40f73c008c",
   "metadata": {
    "pycharm": {
     "name": "#%%\n"
    }
   },
   "outputs": [],
   "source": [
    "# Counters\n",
    "i = 0                                   # Row\n",
    "z = df_cis_off.last_valid_index()       # Max iterations\n",
    "\n",
    "while i < z:\n",
    "    pnt = kml.newpoint(name=df_cis_off.loc[i, 'PS_OFF']*-1)\n",
    "    pnt.style.balloonstyle.text = 'Potential: -{} V'.format(df_cis_off.loc[i, 'PS_OFF'])\n",
    "    pnt.coords = [(df_cis_off.loc[i, 'LONGITUDE'], df_cis_off.loc[i, 'LATITUDE'], df_cis_off.loc[i, 'PS_OFF']*scale_factor)]\n",
    "\n",
    "    # noinspection SpellCheckingInspection\n",
    "    pnt.altitudemode = simplekml.AltitudeMode.relativetoground\n",
    "\n",
    "    # Style\n",
    "    pnt.style.iconstyle.icon.href = 'https://maps.google.com/mapfiles/kml/paddle/red-blank.png'\n",
    "    pnt.style.iconstyle.scale = icon_scale\n",
    "    pnt.style.labelstyle.scale = 0\n",
    "\n",
    "    i += 1\n",
    "\n",
    "kml.save(root_path + r'\\Output/' + 'OFF - ' + project_name + '.kml')"
   ]
  },
  {
   "cell_type": "markdown",
   "id": "c36dc3c9-97c6-4547-a2a6-a9497958fd3b",
   "metadata": {
    "jp-MarkdownHeadingCollapsed": true,
    "tags": [],
    "pycharm": {
     "name": "#%% md\n"
    }
   },
   "source": [
    "## 1200"
   ]
  },
  {
   "cell_type": "code",
   "execution_count": null,
   "outputs": [],
   "source": [
    "kml = simplekml.Kml()"
   ],
   "metadata": {
    "collapsed": false,
    "pycharm": {
     "name": "#%%\n"
    }
   }
  },
  {
   "cell_type": "code",
   "execution_count": null,
   "id": "982c98e3-b5a7-49b0-a447-0ec4f775b529",
   "metadata": {
    "pycharm": {
     "name": "#%%\n"
    }
   },
   "outputs": [],
   "source": [
    "df_cis_1200 = df_cis.iloc[:, [False, False, False, False, True, True, False]].copy()\n",
    "df_cis_1200['Potential (V)'] = 1.200"
   ]
  },
  {
   "cell_type": "code",
   "execution_count": null,
   "id": "bd1cd08e-a9d9-4411-bc20-64f8c0aa45a2",
   "metadata": {
    "pycharm": {
     "name": "#%%\n"
    }
   },
   "outputs": [],
   "source": [
    "# Counters\n",
    "i = 0                                    # Row\n",
    "z = 282                                  # Max iterations\n",
    "\n",
    "while i < z:\n",
    "    ls = kml.newlinestring()\n",
    "    ls.style.balloonstyle.text = 'Potential: -{} V'.format(df_cis_1200.loc[i, 'Potential (V)'])\n",
    "    ls.coords = [(df_cis_1200.loc[i, 'LONGITUDE'], df_cis_1200.loc[i, 'LATITUDE'], df_cis_1200.loc[i, 'Potential (V)']*scale_factor),\n",
    "                 (df_cis_1200.loc[i+1, 'LONGITUDE'], df_cis_1200.loc[i+1, 'LATITUDE'], df_cis_1200.loc[i+1, 'Potential (V)']*scale_factor)] \n",
    "    ls.altitudemode = simplekml.AltitudeMode.relativetoground\n",
    "\n",
    "    # Style\n",
    "    ls.style.linestyle.width = 5\n",
    "    ls.style.linestyle.color = simplekml.Color.rgb(175, 175, 175, 255)\n",
    "\n",
    "    i += 1\n",
    "\n",
    "kml.save(root_path + r'\\Output/' + '1.2 V - ' + project_name + '.kml')"
   ]
  },
  {
   "cell_type": "markdown",
   "id": "fa92ef61-3026-4252-9bad-ed7f27299fb8",
   "metadata": {
    "jp-MarkdownHeadingCollapsed": true,
    "tags": [],
    "pycharm": {
     "name": "#%% md\n"
    }
   },
   "source": [
    "## 850"
   ]
  },
  {
   "cell_type": "code",
   "execution_count": null,
   "outputs": [],
   "source": [
    "kml = simplekml.Kml()"
   ],
   "metadata": {
    "collapsed": false,
    "pycharm": {
     "name": "#%%\n"
    }
   }
  },
  {
   "cell_type": "code",
   "execution_count": null,
   "id": "4550c108-b02f-4b1a-bcee-0ef0808a927c",
   "metadata": {
    "pycharm": {
     "name": "#%%\n"
    }
   },
   "outputs": [],
   "source": [
    "df_cis_850 = df_cis.iloc[:, [False, False, False, False, True, True, False]].copy()\n",
    "df_cis_850['Potential (V)'] = 0.850"
   ]
  },
  {
   "cell_type": "code",
   "execution_count": null,
   "id": "7d93f190-5b5a-4e6c-b655-2de94ab3dad8",
   "metadata": {
    "pycharm": {
     "name": "#%%\n"
    }
   },
   "outputs": [],
   "source": [
    "i = 0                                    # Row\n",
    "z = 282                                  # Max iterations\n",
    "\n",
    "while i < z:\n",
    "    ls = kml.newlinestring()\n",
    "    ls.style.balloonstyle.text = 'Potential: {} V'.format(df_cis_850.loc[i, 'Potential (V)'])\n",
    "    ls.coords = [(df_cis_850.loc[i, 'LONGITUDE'], df_cis_850.loc[i, 'LATITUDE'], df_cis_850.loc[i, 'Potential (V)']*scale_factor),\n",
    "                 (df_cis_850.loc[i+1, 'LONGITUDE'], df_cis_850.loc[i+1, 'LATITUDE'], df_cis_850.loc[i+1, 'Potential (V)']*scale_factor)]\n",
    "    ls.altitudemode = simplekml.AltitudeMode.relativetoground\n",
    "\n",
    "    # Style\n",
    "    ls.style.linestyle.width = 5\n",
    "    ls.style.linestyle.color = simplekml.Color.rgb(175, 175, 175, 255)\n",
    "\n",
    "    i += 1\n",
    "\n",
    "kml.save(root_path + r'\\Output/' + '0.85 V - ' + project_name + '.kml')"
   ]
  },
  {
   "cell_type": "markdown",
   "source": [
    "## Pipe"
   ],
   "metadata": {
    "collapsed": false,
    "pycharm": {
     "name": "#%% md\n"
    }
   }
  },
  {
   "cell_type": "code",
   "execution_count": null,
   "outputs": [],
   "source": [
    "kml = simplekml.Kml()"
   ],
   "metadata": {
    "collapsed": false,
    "pycharm": {
     "name": "#%%\n"
    }
   }
  },
  {
   "cell_type": "code",
   "execution_count": null,
   "outputs": [],
   "source": [
    "df_cis_pipe = df_cis.iloc[:, [False, False, False, False, True, True, False]].copy()\n",
    "df_cis_pipe['Potential (V)'] = 0"
   ],
   "metadata": {
    "collapsed": false,
    "pycharm": {
     "name": "#%%\n"
    }
   }
  },
  {
   "cell_type": "code",
   "execution_count": null,
   "outputs": [],
   "source": [
    "# Counters\n",
    "i = 0                                    # Row\n",
    "z = 282                                  # Max iterations\n",
    "\n",
    "while i < z:\n",
    "    ls = kml.newlinestring()\n",
    "    ls.style.balloonstyle.text = 'Ground'\n",
    "    ls.coords = [(df_cis_pipe.loc[i, 'LONGITUDE'], df_cis_pipe.loc[i, 'LATITUDE'], df_cis_pipe.loc[i, 'Potential (V)']),\n",
    "                 (df_cis_pipe.loc[i+1, 'LONGITUDE'], df_cis_pipe.loc[i+1, 'LATITUDE'], df_cis_pipe.loc[i+1, 'Potential (V)'])]\n",
    "\n",
    "    # Style\n",
    "    ls.style.linestyle.width = 5\n",
    "    ls.style.linestyle.color = simplekml.Color.rgb(255, 255, 255, 175)\n",
    "\n",
    "    i += 1\n",
    "\n",
    "kml.save(root_path + r'\\Output/' + 'Ground - ' + project_name + '.kml')"
   ],
   "metadata": {
    "collapsed": false,
    "pycharm": {
     "name": "#%%\n"
    }
   }
  },
  {
   "cell_type": "markdown",
   "source": [
    "## Comments"
   ],
   "metadata": {
    "collapsed": false,
    "pycharm": {
     "name": "#%% md\n"
    }
   }
  },
  {
   "cell_type": "code",
   "execution_count": null,
   "outputs": [],
   "source": [
    "kml = simplekml.Kml()"
   ],
   "metadata": {
    "collapsed": false,
    "pycharm": {
     "name": "#%%\n"
    }
   }
  },
  {
   "cell_type": "code",
   "execution_count": null,
   "outputs": [],
   "source": [
    "df_cis_comments = df_cis.iloc[:, [False, False, False, True, True, True, False]].copy()"
   ],
   "metadata": {
    "collapsed": false,
    "pycharm": {
     "name": "#%%\n"
    }
   }
  },
  {
   "cell_type": "code",
   "execution_count": null,
   "outputs": [],
   "source": [
    "# Counters\n",
    "i = 0                                  # Row\n",
    "z = df_cis_comments.last_valid_index()       # Max iterations\n",
    "\n",
    "while i < z:\n",
    "    # noinspection SpellCheckingInspection\n",
    "    if pd.isna(df_cis_comments.loc[i, 'COMMENTS']):\n",
    "        i += 1\n",
    "\n",
    "    else:\n",
    "        pnt = kml.newpoint(name=df_cis_comments.loc[i, 'COMMENTS'])\n",
    "        pnt.coords = [(df_cis_comments.loc[i, 'LONGITUDE'], df_cis_comments.loc[i, 'LATITUDE'], 0)]\n",
    "\n",
    "        pnt.altitudemode = simplekml.AltitudeMode.relativetoground\n",
    "\n",
    "        # Style\n",
    "        pnt.style.iconstyle.icon.href = 'https://maps.google.com/mapfiles/kml/paddle/ltblu-blank.png'\n",
    "        pnt.style.iconstyle.scale = icon_scale*0.05\n",
    "        #pnt.style.labelstyle.scale = 0\n",
    "\n",
    "        i += 1\n",
    "\n",
    "kml.save(root_path + r'\\Output/' + 'Comments - ' + project_name + '.kml')"
   ],
   "metadata": {
    "collapsed": false,
    "pycharm": {
     "name": "#%%\n"
    }
   }
  }
 ],
 "metadata": {
  "kernelspec": {
   "display_name": "Python 3 (ipykernel)",
   "language": "python",
   "name": "python3"
  },
  "language_info": {
   "codemirror_mode": {
    "name": "ipython",
    "version": 3
   },
   "file_extension": ".py",
   "mimetype": "text/x-python",
   "name": "python",
   "nbconvert_exporter": "python",
   "pygments_lexer": "ipython3",
   "version": "3.9.7"
  }
 },
 "nbformat": 4,
 "nbformat_minor": 5
}