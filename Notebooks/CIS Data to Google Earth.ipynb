{
 "cells": [
  {
   "cell_type": "code",
   "execution_count": 60,
   "id": "62e1d373-17ea-422d-be12-b6ab9de0371c",
   "metadata": {
    "pycharm": {
     "name": "#%%\n"
    }
   },
   "outputs": [],
   "source": [
    "import math\n",
    "import time\n",
    "import pandas as pd\n",
    "import simplekml\n",
    "import matplotlib.pyplot as plt\n",
    "from sys import platform\n",
    "\n",
    "#pd.set_option('mode.chained_assignment', None)\n",
    "\n",
    "# Measuring execution time\n",
    "start_time = time.time()"
   ]
  },
  {
   "cell_type": "code",
   "execution_count": 61,
   "id": "493ec722-9351-4e2e-9315-d53b309875dc",
   "metadata": {
    "pycharm": {
     "name": "#%%\n"
    }
   },
   "outputs": [],
   "source": [
    "# Checks what operating system the user is using\n",
    "if platform == 'win32':\n",
    "    root_path = r'C:\\Users\\Stefanos\\DeLasCasas CP, LLc\\Ro De Las Casas - ' \\\n",
    "                r'DLC2P Server\\AA Stefanos\\Data Science\\Python Projects\\CIS ' \\\n",
    "                r'Data to Google Earth'\n",
    "elif platform == 'darwin':\n",
    "    root_path = r'/Users/Stefanos/Library/CloudStorage/' \\\n",
    "                r'OneDrive-SharedLibraries-DeLasCasasCP,LLc/Ro De Las Casas ' \\\n",
    "                r'- DLC2P Server/AA Stefanos/Data Science/Python Projects/' \\\n",
    "                r'CIS Data to Google Earth'"
   ]
  },
  {
   "cell_type": "code",
   "execution_count": 62,
   "id": "29e6a802-246a-4a74-9be6-2eb32ef53684",
   "metadata": {
    "pycharm": {
     "name": "#%%\n"
    }
   },
   "outputs": [],
   "source": [
    "# Create dataframe\n",
    "df_cis = pd.read_csv(root_path + r'\\Data\\Data.csv')"
   ]
  },
  {
   "cell_type": "markdown",
   "id": "a784d0b6-7cf1-4dba-891e-9c13f3d4cedc",
   "metadata": {
    "pycharm": {
     "name": "#%% md\n"
    }
   },
   "source": [
    "# Specify Variables"
   ]
  },
  {
   "cell_type": "code",
   "execution_count": 63,
   "id": "bff0e0f7-4e5e-4fab-8354-b73290b4fb41",
   "metadata": {
    "pycharm": {
     "name": "#%%\n"
    }
   },
   "outputs": [],
   "source": [
    "# SPECIFY SCALE FACTOR\n",
    "scale_factor = 20\n",
    "# SPECIFY TRANSPARENCY (0 to 1)\n",
    "transparency = 1\n",
    "# SPECIFY ICON SIZE\n",
    "icon_scale = 0.3\n",
    "# SPECIFY COLOR PALETTE\n",
    "# noinspection SpellCheckingInspection\n",
    "my_cmap = plt.get_cmap('Spectral_r')\n",
    "# SPECIFY LENGTH (ft)\n",
    "distance = 5280\n",
    "# SPECIFY MILES PER GRAPH\n",
    "miles_per_graph = 1\n",
    "# PROJECT NAME\n",
    "project_name = 'XYZ'    #input('\\nPROJECT NAME:')"
   ]
  },
  {
   "cell_type": "markdown",
   "id": "fc58aa57-89ab-4eca-bdbd-c98953de50b7",
   "metadata": {
    "jp-MarkdownHeadingCollapsed": true,
    "tags": [],
    "pycharm": {
     "name": "#%% md\n"
    }
   },
   "source": [
    "# On"
   ]
  },
  {
   "cell_type": "code",
   "execution_count": 64,
   "outputs": [],
   "source": [
    "step = df_cis['STATIONING (ft)'].iloc[2]-df_cis['STATIONING (ft)'].iloc[1]\n",
    "data_points = int(distance/step)"
   ],
   "metadata": {
    "collapsed": false,
    "pycharm": {
     "name": "#%%\n"
    }
   }
  },
  {
   "cell_type": "code",
   "execution_count": 65,
   "id": "08778f45-6310-4f5c-9d3f-056bb7d06b45",
   "metadata": {
    "pycharm": {
     "name": "#%%\n"
    }
   },
   "outputs": [],
   "source": [
    "# Preventing chained assignment\n",
    "df_cis_on = df_cis.copy()\n",
    "#df_cis_on = df_cis[df_cis['PS_ON'] != 0]\n",
    "#df_cis_on = df_cis_on.iloc[:, [False, True, False, False, True, True, False]]\n",
    "df_cis_on = df_cis_on[['LONGITUDE', 'LATITUDE', 'PS_ON']].reset_index(drop=True)\n",
    "df_cis_on['PS_ON'] = df_cis_on['PS_ON']*(-1)\n",
    "total_miles = math.ceil(max(df_cis['STATIONING (ft)'])/distance)"
   ]
  },
  {
   "cell_type": "code",
   "execution_count": 66,
   "id": "2073504c-64b8-4b26-bb66-b19ed717a29a",
   "metadata": {
    "pycharm": {
     "name": "#%%\n"
    }
   },
   "outputs": [],
   "source": [
    "# Counters\n",
    "mile_number = 1\n",
    "starting_point = 0\n",
    "ending_point = starting_point + data_points\n",
    "i = 0                                               # Row\n",
    "\n",
    "while mile_number <= total_miles:\n",
    "    kml = simplekml.Kml()\n",
    "    style = simplekml.Style()\n",
    "    z = df_cis_on.iloc[starting_point:ending_point].last_valid_index()\n",
    "\n",
    "    while i < z:\n",
    "        pnt = kml.newpoint(name=df_cis_on.loc[i, 'PS_ON']*(-1))\n",
    "        pnt.style.balloonstyle.text = 'Potential: -{} V'.format(df_cis_on.loc[i, 'PS_ON'])\n",
    "        pnt.coords = [(df_cis_on.loc[i, 'LONGITUDE'], df_cis_on.loc[i, 'LATITUDE'], df_cis_on.loc[i, 'PS_ON']*scale_factor)]\n",
    "        # noinspection SpellCheckingInspection\n",
    "        pnt.altitudemode = simplekml.AltitudeMode.relativetoground\n",
    "\n",
    "        # Style\n",
    "        pnt.style.iconstyle.icon.href = 'https://maps.google.com/mapfiles/kml/paddle/red-square-lv.png'\n",
    "        pnt.style.iconstyle.scale = icon_scale\n",
    "        pnt.style.labelstyle.scale = 0\n",
    "        pnt.extrude = 1\n",
    "\n",
    "        i += 1\n",
    "\n",
    "    mile_number += miles_per_graph\n",
    "    starting_point = ending_point\n",
    "    ending_point += data_points\n",
    "    i = 0\n",
    "\n",
    "    kml.save(root_path + r'\\Output/' + project_name + ' - ON (Mile ' + (mile_number-1).__str__() + ')' + '.kml')"
   ]
  },
  {
   "cell_type": "markdown",
   "id": "5afbba51-071d-40f8-a4a7-5fb3f5b9e5e6",
   "metadata": {
    "jp-MarkdownHeadingCollapsed": true,
    "tags": [],
    "pycharm": {
     "name": "#%% md\n"
    }
   },
   "source": [
    "# Off"
   ]
  },
  {
   "cell_type": "code",
   "execution_count": 34,
   "outputs": [],
   "source": [
    "kml = simplekml.Kml()"
   ],
   "metadata": {
    "collapsed": false,
    "pycharm": {
     "name": "#%%\n"
    }
   }
  },
  {
   "cell_type": "code",
   "execution_count": 35,
   "id": "545b2f37-c13a-4076-af7b-5a9e64d4ca16",
   "metadata": {
    "pycharm": {
     "name": "#%%\n"
    }
   },
   "outputs": [],
   "source": [
    "df_cis_off = df_cis[df_cis['PS_OFF'] != 0]\n",
    "df_cis_off = df_cis_off.iloc[:, [False, False, True, False, True, True, False]]\n",
    "df_cis_off = df_cis_off[['LONGITUDE', 'LATITUDE', 'PS_OFF']].reset_index(drop=True)\n",
    "df_cis_off = df_cis_off.iloc[:2112, :]\n",
    "df_cis_off['PS_OFF'] = df_cis_off['PS_OFF'] * -1"
   ]
  },
  {
   "cell_type": "code",
   "execution_count": 36,
   "id": "867e796d-7b4a-4ffc-b0e7-ee40f73c008c",
   "metadata": {
    "pycharm": {
     "name": "#%%\n"
    }
   },
   "outputs": [],
   "source": [
    "# Counters\n",
    "i = 0                                   # Row\n",
    "z = df_cis_off.last_valid_index()       # Max iterations\n",
    "\n",
    "while i < z:\n",
    "    pnt = kml.newpoint(name=df_cis_off.loc[i, 'PS_OFF']*-1)\n",
    "    pnt.style.balloonstyle.text = 'Potential: -{} V'.format(df_cis_off.loc[i, 'PS_OFF'])\n",
    "    pnt.coords = [(df_cis_off.loc[i, 'LONGITUDE'], df_cis_off.loc[i, 'LATITUDE'], df_cis_off.loc[i, 'PS_OFF']*scale_factor)]\n",
    "\n",
    "    # noinspection SpellCheckingInspection\n",
    "    pnt.altitudemode = simplekml.AltitudeMode.relativetoground\n",
    "\n",
    "    # Style\n",
    "    pnt.style.iconstyle.icon.href = 'https://maps.google.com/mapfiles/kml/paddle/red-blank.png'\n",
    "    pnt.style.iconstyle.scale = icon_scale\n",
    "    pnt.style.labelstyle.scale = 0\n",
    "\n",
    "    i += 1\n",
    "\n",
    "kml.save(root_path + r'\\Output/' + 'OFF - ' + project_name + '.kml')"
   ]
  },
  {
   "cell_type": "markdown",
   "id": "251e8544-5af6-44b1-86fd-873f81c75eba",
   "metadata": {
    "jp-MarkdownHeadingCollapsed": true,
    "tags": [],
    "pycharm": {
     "name": "#%% md\n"
    }
   },
   "source": [
    "# Pipe"
   ]
  },
  {
   "cell_type": "code",
   "execution_count": 37,
   "outputs": [],
   "source": [
    "kml = simplekml.Kml()"
   ],
   "metadata": {
    "collapsed": false,
    "pycharm": {
     "name": "#%%\n"
    }
   }
  },
  {
   "cell_type": "code",
   "execution_count": 38,
   "id": "13dcf391-e65f-480e-a52b-59521abe2860",
   "metadata": {
    "pycharm": {
     "name": "#%%\n"
    }
   },
   "outputs": [],
   "source": [
    "df_cis_pipe = df_cis.iloc[:, [False, False, False, False, True, True, False]].copy()\n",
    "df_cis_pipe['Potential (V)'] = 0"
   ]
  },
  {
   "cell_type": "code",
   "execution_count": 39,
   "id": "d78ef827-34e1-406f-8a6e-fdea6b7bb559",
   "metadata": {
    "pycharm": {
     "name": "#%%\n"
    }
   },
   "outputs": [],
   "source": [
    "# Counters\n",
    "i = 0                                    # Row\n",
    "z = 282                                  # Max iterations\n",
    "\n",
    "while i < z:\n",
    "    ls = kml.newlinestring()\n",
    "    ls.style.balloonstyle.text = 'Ground'\n",
    "    ls.coords = [(df_cis_pipe.loc[i, 'LONGITUDE'], df_cis_pipe.loc[i, 'LATITUDE'], df_cis_pipe.loc[i, 'Potential (V)']),\n",
    "                 (df_cis_pipe.loc[i+1, 'LONGITUDE'], df_cis_pipe.loc[i+1, 'LATITUDE'], df_cis_pipe.loc[i+1, 'Potential (V)'])]\n",
    "\n",
    "    # Style\n",
    "    ls.style.linestyle.width = 5\n",
    "    ls.style.linestyle.color = simplekml.Color.rgb(255, 255, 255, 175)\n",
    "\n",
    "    i += 1\n",
    "\n",
    "kml.save(root_path + r'\\Output/' + 'Ground - ' + project_name + '.kml')"
   ]
  },
  {
   "cell_type": "markdown",
   "id": "c36dc3c9-97c6-4547-a2a6-a9497958fd3b",
   "metadata": {
    "jp-MarkdownHeadingCollapsed": true,
    "tags": [],
    "pycharm": {
     "name": "#%% md\n"
    }
   },
   "source": [
    "# 1200"
   ]
  },
  {
   "cell_type": "code",
   "execution_count": 40,
   "outputs": [],
   "source": [
    "kml = simplekml.Kml()"
   ],
   "metadata": {
    "collapsed": false,
    "pycharm": {
     "name": "#%%\n"
    }
   }
  },
  {
   "cell_type": "code",
   "execution_count": 41,
   "id": "982c98e3-b5a7-49b0-a447-0ec4f775b529",
   "metadata": {
    "pycharm": {
     "name": "#%%\n"
    }
   },
   "outputs": [],
   "source": [
    "df_cis_1200 = df_cis.iloc[:, [False, False, False, False, True, True, False]].copy()\n",
    "df_cis_1200['Potential (V)'] = 1.200"
   ]
  },
  {
   "cell_type": "code",
   "execution_count": 42,
   "id": "bd1cd08e-a9d9-4411-bc20-64f8c0aa45a2",
   "metadata": {
    "pycharm": {
     "name": "#%%\n"
    }
   },
   "outputs": [],
   "source": [
    "# Counters\n",
    "i = 0                                    # Row\n",
    "z = 282                                  # Max iterations\n",
    "\n",
    "while i < z:\n",
    "    ls = kml.newlinestring()\n",
    "    ls.style.balloonstyle.text = 'Potential: -{} V'.format(df_cis_1200.loc[i, 'Potential (V)'])\n",
    "    ls.coords = [(df_cis_1200.loc[i, 'LONGITUDE'], df_cis_1200.loc[i, 'LATITUDE'], df_cis_1200.loc[i, 'Potential (V)']*scale_factor),\n",
    "                 (df_cis_1200.loc[i+1, 'LONGITUDE'], df_cis_1200.loc[i+1, 'LATITUDE'], df_cis_1200.loc[i+1, 'Potential (V)']*scale_factor)] \n",
    "    ls.altitudemode = simplekml.AltitudeMode.relativetoground\n",
    "\n",
    "    # Style\n",
    "    ls.style.linestyle.width = 5\n",
    "    ls.style.linestyle.color = simplekml.Color.rgb(175, 175, 175, 255)\n",
    "\n",
    "    i += 1\n",
    "\n",
    "kml.save(root_path + r'\\Output/' + '1.2 V - ' + project_name + '.kml')"
   ]
  },
  {
   "cell_type": "markdown",
   "id": "fa92ef61-3026-4252-9bad-ed7f27299fb8",
   "metadata": {
    "jp-MarkdownHeadingCollapsed": true,
    "tags": [],
    "pycharm": {
     "name": "#%% md\n"
    }
   },
   "source": [
    "# 850"
   ]
  },
  {
   "cell_type": "code",
   "execution_count": 43,
   "outputs": [],
   "source": [
    "kml = simplekml.Kml()"
   ],
   "metadata": {
    "collapsed": false,
    "pycharm": {
     "name": "#%%\n"
    }
   }
  },
  {
   "cell_type": "code",
   "execution_count": 44,
   "id": "4550c108-b02f-4b1a-bcee-0ef0808a927c",
   "metadata": {
    "pycharm": {
     "name": "#%%\n"
    }
   },
   "outputs": [],
   "source": [
    "df_cis_850 = df_cis.iloc[:, [False, False, False, False, True, True, False]].copy()\n",
    "df_cis_850['Potential (V)'] = 0.850"
   ]
  },
  {
   "cell_type": "code",
   "execution_count": 45,
   "id": "7d93f190-5b5a-4e6c-b655-2de94ab3dad8",
   "metadata": {
    "pycharm": {
     "name": "#%%\n"
    }
   },
   "outputs": [],
   "source": [
    "i = 0                                    # Row\n",
    "z = 282                                  # Max iterations\n",
    "\n",
    "while i < z:\n",
    "    ls = kml.newlinestring()\n",
    "    ls.style.balloonstyle.text = 'Potential: {} V'.format(df_cis_850.loc[i, 'Potential (V)'])\n",
    "    ls.coords = [(df_cis_850.loc[i, 'LONGITUDE'], df_cis_850.loc[i, 'LATITUDE'], df_cis_850.loc[i, 'Potential (V)']*scale_factor),\n",
    "                 (df_cis_850.loc[i+1, 'LONGITUDE'], df_cis_850.loc[i+1, 'LATITUDE'], df_cis_850.loc[i+1, 'Potential (V)']*scale_factor)]\n",
    "    ls.altitudemode = simplekml.AltitudeMode.relativetoground\n",
    "\n",
    "    # Style\n",
    "    ls.style.linestyle.width = 5\n",
    "    ls.style.linestyle.color = simplekml.Color.rgb(175, 175, 175, 255)\n",
    "\n",
    "    i += 1\n",
    "\n",
    "kml.save(root_path + r'\\Output/' + '0.85 V - ' + project_name + '.kml')"
   ]
  },
  {
   "cell_type": "markdown",
   "id": "c67190e0-0ec8-4f4e-9c62-b2c0338713c3",
   "metadata": {
    "jp-MarkdownHeadingCollapsed": true,
    "tags": [],
    "pycharm": {
     "name": "#%% md\n"
    }
   },
   "source": [
    "# Comments"
   ]
  },
  {
   "cell_type": "code",
   "execution_count": 46,
   "outputs": [],
   "source": [
    "kml = simplekml.Kml()"
   ],
   "metadata": {
    "collapsed": false,
    "pycharm": {
     "name": "#%%\n"
    }
   }
  },
  {
   "cell_type": "code",
   "execution_count": 47,
   "outputs": [],
   "source": [
    "df_cis_comments = df_cis.iloc[:, [False, False, False, True, True, True, False]].copy()"
   ],
   "metadata": {
    "collapsed": false,
    "pycharm": {
     "name": "#%%\n"
    }
   }
  },
  {
   "cell_type": "code",
   "execution_count": 48,
   "outputs": [],
   "source": [
    "# Counters\n",
    "i = 0                                  # Row\n",
    "z = df_cis_comments.last_valid_index()       # Max iterations\n",
    "\n",
    "while i < z:\n",
    "    # noinspection SpellCheckingInspection\n",
    "    if pd.isna(df_cis_comments.loc[i, 'COMMENTS']):\n",
    "        i += 1\n",
    "\n",
    "    else:\n",
    "        pnt = kml.newpoint(name=df_cis_comments.loc[i, 'COMMENTS'])\n",
    "        pnt.coords = [(df_cis_comments.loc[i, 'LONGITUDE'], df_cis_comments.loc[i, 'LATITUDE'], 0)]\n",
    "\n",
    "        pnt.altitudemode = simplekml.AltitudeMode.relativetoground\n",
    "\n",
    "        # Style\n",
    "        pnt.style.iconstyle.icon.href = 'https://maps.google.com/mapfiles/kml/paddle/ltblu-blank.png'\n",
    "        pnt.style.iconstyle.scale = icon_scale*0.05\n",
    "        #pnt.style.labelstyle.scale = 0\n",
    "\n",
    "        i += 1\n",
    "\n",
    "kml.save(root_path + r'\\Output/' + 'Comments - ' + project_name + '.kml')"
   ],
   "metadata": {
    "collapsed": false,
    "pycharm": {
     "name": "#%%\n"
    }
   }
  }
 ],
 "metadata": {
  "kernelspec": {
   "display_name": "Python 3 (ipykernel)",
   "language": "python",
   "name": "python3"
  },
  "language_info": {
   "codemirror_mode": {
    "name": "ipython",
    "version": 3
   },
   "file_extension": ".py",
   "mimetype": "text/x-python",
   "name": "python",
   "nbconvert_exporter": "python",
   "pygments_lexer": "ipython3",
   "version": "3.9.7"
  }
 },
 "nbformat": 4,
 "nbformat_minor": 5
}