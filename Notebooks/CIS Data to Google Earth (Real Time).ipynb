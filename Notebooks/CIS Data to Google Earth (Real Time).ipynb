{
 "cells": [
  {
   "cell_type": "code",
   "execution_count": 1,
   "id": "62e1d373-17ea-422d-be12-b6ab9de0371c",
   "metadata": {},
   "outputs": [],
   "source": [
    "import os\n",
    "import time\n",
    "import pandas as pd\n",
    "import simplekml\n",
    "import shutil\n",
    "import numpy as np\n",
    "from sys import platform\n",
    "from pathlib import Path\n",
    "\n",
    "# For Vincenty Formula\n",
    "from math import atan\n",
    "from math import atan2\n",
    "from math import cos\n",
    "from math import radians\n",
    "from math import sin\n",
    "from math import sqrt\n",
    "from math import tan\n",
    "\n",
    "pd.options.mode.chained_assignment = None\n",
    "\n",
    "# Measuring execution time\n",
    "start_time = time.time()"
   ]
  },
  {
   "cell_type": "markdown",
   "source": [
    "# Specify Root Path"
   ],
   "metadata": {
    "collapsed": false
   }
  },
  {
   "cell_type": "code",
   "execution_count": 2,
   "outputs": [],
   "source": [
    "# Checks what operating system the user is using\n",
    "if platform == 'win32':\n",
    "    root_path = r'C:\\Users\\Stefanos\\DeLasCasas CP, LLc\\Ro De Las Casas - ' \\\n",
    "                r'DLC2P Server\\AA Stefanos\\Data Science\\Python Projects\\CIS ' \\\n",
    "                r'Data to Google Earth (Real Time)'\n",
    "elif platform == 'darwin':\n",
    "    root_path = r'/Users/Stefanos/Library/CloudStorage/' \\\n",
    "                r'OneDrive-SharedLibraries-DeLasCasasCP,LLc/Ro De Las Casas ' \\\n",
    "                r'- DLC2P Server/AA Stefanos/Data Science/Python Projects/' \\\n",
    "                r'CIS Data to Google Earth (Real Time)'"
   ],
   "metadata": {
    "collapsed": false
   }
  },
  {
   "cell_type": "markdown",
   "source": [
    "# Specify Variables"
   ],
   "metadata": {
    "collapsed": false
   }
  },
  {
   "cell_type": "code",
   "execution_count": 3,
   "outputs": [],
   "source": [
    "# SPECIFY ICONS\n",
    "icon_on = 'https://img.icons8.com/material-sharp/24/1ff08a/give-way--v1.png'\n",
    "icon_off = 'https://img.icons8.com/material-sharp/24/7950F2/give-way--v1.png'\n",
    "icon_comments = 'https://img.icons8.com/ultraviolet/80/000000/comments.png'\n",
    "icon_1200 = 'https://img.icons8.com/ios-filled/50/22C3E6/360-degrees.png'\n",
    "icon_850 = 'https://img.icons8.com/ios-filled/50/F25081/360-degrees.png'\n",
    "# SPECIFY SCALE FACTOR\n",
    "scale_factor = 175\n",
    "# SPECIFY TRANSPARENCY (0 to 1)\n",
    "transparency = 1\n",
    "# SPECIFY ICON SCALE\n",
    "icon_scale = 0.2\n",
    "# PROJECT NAME\n",
    "project_name = 'XYZ'    #input('\\nPROJECT NAME:')"
   ],
   "metadata": {
    "collapsed": false
   }
  },
  {
   "cell_type": "markdown",
   "source": [
    "# Vincenty Formula"
   ],
   "metadata": {
    "collapsed": false
   }
  },
  {
   "cell_type": "code",
   "execution_count": 4,
   "outputs": [],
   "source": [
    "class VincentyInverse:\n",
    "    def __init__(self, coord1, coord2, maxiter=200, tol=10**-12):\n",
    "\n",
    "        #--- CONSTANTS ------------------------------------+\n",
    "\n",
    "        a = 6378137.0                    # radius at equator in meters (WGS-84)\n",
    "        f = 1/298.257223563              # flattening of the ellipsoid (WGS-84)\n",
    "        b = (1-f)*a\n",
    "\n",
    "        phi_1, lon_1, = coord1                      # (lat=L_?,lon=phi_?)\n",
    "        phi_2, lon_2, = coord2\n",
    "\n",
    "        u_1 = atan((1-f)*tan(radians(phi_1)))\n",
    "        u_2 = atan((1-f)*tan(radians(phi_2)))\n",
    "\n",
    "        L = radians(lon_2-lon_1)\n",
    "\n",
    "        Lambda = L                           # set initial value of lambda to L\n",
    "\n",
    "        sin_u1 = sin(u_1)\n",
    "        cos_u1 = cos(u_1)\n",
    "        sin_u2 = sin(u_2)\n",
    "        cos_u2 = cos(u_2)\n",
    "\n",
    "        #--- BEGIN ITERATIONS -----------------------------+\n",
    "        self.iters = 0\n",
    "        for i in range(0, maxiter):\n",
    "            self.iters += 1\n",
    "\n",
    "            cos_lambda = cos(Lambda)\n",
    "            sin_lambda = sin(Lambda)\n",
    "            sin_sigma = sqrt((cos_u2*sin(Lambda))**2+\n",
    "                             (cos_u1*sin_u2-sin_u1*cos_u2*cos_lambda)**2)\n",
    "            cos_sigma = sin_u1*sin_u2+cos_u1*cos_u2*cos_lambda\n",
    "            sigma = atan2(sin_sigma,cos_sigma)\n",
    "            sin_alpha = (cos_u1*cos_u2*sin_lambda)/sin_sigma\n",
    "            cos_sq_alpha = 1-sin_alpha**2\n",
    "            cos2_sigma_m = cos_sigma-((2*sin_u1*sin_u2)/cos_sq_alpha)\n",
    "            C = (f/16)*cos_sq_alpha*(4+f*(4-3*cos_sq_alpha))\n",
    "            Lambda_prev = Lambda\n",
    "            Lambda = L+(1-C)*f*sin_alpha*(sigma+C*sin_sigma*\n",
    "                                          (cos2_sigma_m+C*cos_sigma*\n",
    "                                           (-1+2*cos2_sigma_m**2)))\n",
    "\n",
    "            # Successful convergence\n",
    "            diff = abs(Lambda_prev-Lambda)\n",
    "            if diff <= tol:\n",
    "                break\n",
    "\n",
    "        u_sq = cos_sq_alpha*((a**2-b**2)/b**2)\n",
    "        A = 1+(u_sq/16384)*(4096+u_sq*(-768+u_sq*(320-175*u_sq)))\n",
    "        B = (u_sq/1024)*(256+u_sq*(-128+u_sq*(74-47*u_sq)))\n",
    "        delta_sig = B*sin_sigma*(cos2_sigma_m+0.25*B*\n",
    "                                 (cos_sigma*(-1+2*cos2_sigma_m**2)-\n",
    "                                  (1/6)*B*cos2_sigma_m*(-3+4*sin_sigma**2)*\n",
    "                                  (-3+4*cos2_sigma_m**2)))\n",
    "\n",
    "        self.m = b*A*(sigma-delta_sig)         # output distance in meters\n",
    "        #self.km = self.m/1000                 # output distance in kilometers\n",
    "        #self.mm = self.m*1000                 # output distance in millimeters\n",
    "        self.miles = self.m*0.000621371        # output distance in miles\n",
    "        self.ft = self.miles*5280              # output distance in feet\n",
    "        #self.inches = self.ft*12              # output distance in inches\n",
    "        #self.yards = self.ft/3                # output distance in yards\n",
    "\n",
    "# if __name__ == \"__VincentyInverse__\":\n",
    "#     main()"
   ],
   "metadata": {
    "collapsed": false
   }
  },
  {
   "cell_type": "markdown",
   "source": [
    "# Data Cleaning"
   ],
   "metadata": {
    "collapsed": false
   }
  },
  {
   "cell_type": "code",
   "execution_count": 5,
   "outputs": [],
   "source": [
    "# Creates a list of files in data folder\n",
    "\n",
    "# Checks what operating system the user is using\n",
    "if platform == 'win32':\n",
    "    raw_data_list = os.listdir(r'/Users/Stefanos/'\n",
    "                           r'DeLasCasas CP, LLc/'\n",
    "                           r'Ro De Las Casas - DLC2P Server/AA Stefanos/'\n",
    "                           r'Data Science/Python Projects/'\n",
    "                           r'CIS Data to Google Earth (Real Time)/'\n",
    "                           r'Original Data')\n",
    "elif platform == 'darwin':\n",
    "    raw_data_list = os.listdir(r'/Users/Stefanos/Library/CloudStorage/'\n",
    "                           r'OneDrive-SharedLibraries-DeLasCasasCP,LLc/'\n",
    "                           r'Ro De Las Casas - DLC2P Server/AA Stefanos/'\n",
    "                           r'Data Science/Python Projects/'\n",
    "                           r'CIS Data to Google Earth (Real Time)/'\n",
    "                           r'Original Data')"
   ],
   "metadata": {
    "collapsed": false
   }
  },
  {
   "cell_type": "code",
   "execution_count": 6,
   "outputs": [],
   "source": [
    "# Create an empty list to exclude certain files\n",
    "filtered_data_list = []\n",
    "# Current list index\n",
    "i = 0\n",
    "\n",
    "# Filters the folder and excludes files that start with '.'\n",
    "while i < len(raw_data_list):\n",
    "    if not raw_data_list[i][0] == '.':\n",
    "        filtered_data_list.append(raw_data_list[i])\n",
    "    i += 1"
   ],
   "metadata": {
    "collapsed": false
   }
  },
  {
   "cell_type": "code",
   "execution_count": 7,
   "outputs": [],
   "source": [
    "# Remove log file if it exists\n",
    "if os.path.exists(root_path + r'\\Log.txt'):\n",
    "    os.remove(root_path + r'\\Log.txt')\n",
    "# Creates a log file to track specified information\n",
    "with open(root_path + r'\\Log.txt', 'a') as f:\n",
    "    f.write('Rows dropped with missing GPS points:')\n",
    "    f.write('\\n')"
   ],
   "metadata": {
    "collapsed": false
   }
  },
  {
   "cell_type": "code",
   "execution_count": 8,
   "outputs": [],
   "source": [
    "# Creates an empty list to place the total miles\n",
    "total_miles_list = []\n",
    "total_rows_dropped = []\n",
    "# Current list index\n",
    "i = 0\n",
    "j = 0\n",
    "\n",
    "# Goes through all the files in the list\n",
    "while j < len(filtered_data_list):\n",
    "    # Create dataframe from a csv file\n",
    "    df_cis = pd.read_csv(root_path +\n",
    "                         str(Path(r'/Original Data/' +\n",
    "                                  filtered_data_list[j])))\n",
    "    # Drops elevation and PDOP columns\n",
    "    df_cis = df_cis.iloc[:, :6]\n",
    "    # Delete rows that CIS was skipped\n",
    "    df_cis = df_cis.loc[df_cis['On Potential'] != 'SKIP'].reset_index(drop=True)\n",
    "    # Convert object columns to numbers\n",
    "    df_cis[['On Potential', 'Off Potential']] = \\\n",
    "                            df_cis[['On Potential', 'Off Potential']]\\\n",
    "                            .apply(pd.to_numeric, errors='coerce', axis=1)\n",
    "    df_cis[['On Potential', 'Off Potential']] /= 1000\n",
    "    # Trim white space\n",
    "    df_cis['Comments'] = df_cis['Comments'].str.strip()\n",
    "    df_cis['Distance (ft)'] = 0\n",
    "    last_index2 = df_cis.last_valid_index()\n",
    "    # Drop rows that don't have GPS coordinates\n",
    "    df_cis['Latitude'].replace('', np.nan, inplace=True)\n",
    "    df_cis.dropna(subset=['Latitude'], inplace=True)\n",
    "    df_cis.reset_index(drop=True, inplace=True)\n",
    "    last_index = df_cis.last_valid_index()\n",
    "    total_rows_dropped.append(last_index2-last_index)\n",
    "    # Write log file\n",
    "    with open(root_path + r'\\Log.txt', 'a') as f:\n",
    "        f.write('- {} ({})'.format(filtered_data_list[j],\n",
    "                                  total_rows_dropped[j]))\n",
    "        f.write('\\n')\n",
    "    # Calculates distance between GPS coordinates\n",
    "    while i < last_index:\n",
    "        try:\n",
    "            df_cis['Distance (ft)'][i+1] = \\\n",
    "            VincentyInverse([df_cis['Latitude'][i],\n",
    "                             df_cis['Longitude'][i]],\n",
    "                            [df_cis['Latitude'][i+1],\n",
    "                             df_cis['Longitude'][i+1]]).ft\n",
    "        except ZeroDivisionError:\n",
    "            df_cis['Distance (ft)'][i+1] = 0\n",
    "        i += 1\n",
    "    # Records total miles in a list\n",
    "    total_miles_list.append(round(max(df_cis['Station'])/5280, 2))\n",
    "    df_cis.to_csv(root_path +\n",
    "                  str(Path(r'/Data/' +\n",
    "                           filtered_data_list[j])), index=False)\n",
    "    i = 0\n",
    "    j += 1"
   ],
   "metadata": {
    "collapsed": false
   }
  },
  {
   "cell_type": "markdown",
   "source": [
    "# Create Google Earth Folders"
   ],
   "metadata": {
    "collapsed": false
   }
  },
  {
   "cell_type": "code",
   "execution_count": 9,
   "outputs": [],
   "source": [
    "# Replaces output folder with an empty one\n",
    "if os.path.exists(root_path + r'/Output/'):\n",
    "    shutil.rmtree(root_path + r'/Output/')\n",
    "    os.makedirs(root_path + r'/Output/')\n",
    "if not os.path.exists(root_path + r'/Output/'):\n",
    "    os.makedirs(root_path + r'/Output/')"
   ],
   "metadata": {
    "collapsed": false
   }
  },
  {
   "cell_type": "code",
   "execution_count": 10,
   "outputs": [],
   "source": [
    "cis_kml =[]\n",
    "type_folders = []\n",
    "current_mile = 1\n",
    "k = 0\n",
    "j = 0       # List counter for CIS Survey '.kml' files\n",
    "i = 0       # List counter for mile folders"
   ],
   "metadata": {
    "collapsed": false
   }
  },
  {
   "cell_type": "code",
   "execution_count": 11,
   "outputs": [],
   "source": [
    "# Create CIS survey '.kml' files per mile #\n",
    "while j < len(total_miles_list):\n",
    "    miles_remaining = total_miles_list[j]\n",
    "    # Create type folders\n",
    "    while miles_remaining > 0:\n",
    "        cis_kml.append(filtered_data_list[j].split('.DAT', 1)[0] +\n",
    "                       ' (Mile ' + current_mile.__str__() + ')')\n",
    "        cis_kml[i] = simplekml.Kml()\n",
    "        type_folders.append(filtered_data_list[j].split('.DAT', 1)[0] +\n",
    "                            ' (Mile ' + current_mile.__str__() + ')(On)')\n",
    "        type_folders.append(filtered_data_list[j].split('.DAT', 1)[0] +\n",
    "                            ' (Mile ' + current_mile.__str__() + ')(Off)')\n",
    "        type_folders.append(filtered_data_list[j].split('.DAT', 1)[0] +\n",
    "                            ' (Mile ' + current_mile.__str__() + ')(Comments)')\n",
    "        type_folders.append(filtered_data_list[j].split('.DAT', 1)[0] +\n",
    "                            ' (Mile ' + current_mile.__str__() + ')(-1.2 V)')\n",
    "        type_folders.append(filtered_data_list[j].split('.DAT', 1)[0] +\n",
    "                            ' (Mile ' + current_mile.__str__() + ')(-0.85 V)')\n",
    "        type_folders[k] = cis_kml[i].newfolder(name='On')\n",
    "        type_folders[k+1] = cis_kml[i].newfolder(name='Off')\n",
    "        type_folders[k+2] = cis_kml[i].newfolder(name='Comments')\n",
    "        type_folders[k+3] = cis_kml[i].newfolder(name='-1.2 V')\n",
    "        type_folders[k+4] = cis_kml[i].newfolder(name='-0.85 V')\n",
    "        cis_kml[i].savekmz(root_path + r'/Output/' +\n",
    "                           filtered_data_list[j].split('.DAT', 1)[0] +\n",
    "                           ' (Mile ' + current_mile.__str__() + ').kmz')\n",
    "        current_mile += 1\n",
    "        miles_remaining -= 1\n",
    "        if 0 < miles_remaining < 1:\n",
    "            current_mile = total_miles_list[j]\n",
    "        i += 1\n",
    "        k += 5\n",
    "    j += 1\n",
    "    current_mile = 1"
   ],
   "metadata": {
    "collapsed": false
   }
  },
  {
   "cell_type": "code",
   "execution_count": 13,
   "outputs": [],
   "source": [
    "# Duplicated GPS coordinates\n",
    "#df = df_cis_on[df_cis_on.duplicated(subset=['Longitude', 'Latitude'],\n",
    "                                    #keep=False)]"
   ],
   "metadata": {
    "collapsed": false
   }
  },
  {
   "cell_type": "markdown",
   "source": [
    "# CIS Data"
   ],
   "metadata": {
    "collapsed": false
   }
  },
  {
   "cell_type": "markdown",
   "source": [
    "## On"
   ],
   "metadata": {
    "collapsed": false
   }
  },
  {
   "cell_type": "code",
   "execution_count": 14,
   "outputs": [],
   "source": [
    "feet_counter = 5280\n",
    "style = simplekml.Style()\n",
    "i = 0       # Row for data points\n",
    "j = 0       # Row for CIS surveys\n",
    "k = 0       # Counter for type folders (0 = 'On')\n",
    "kml_file = 0\n",
    "\n",
    "# Goes through all CIS survey files\n",
    "while j < len(filtered_data_list):\n",
    "    df_cis_on = pd.read_csv(root_path + r'/Data/' + filtered_data_list[j])\n",
    "    df_cis_on = df_cis_on[df_cis_on['On Potential'] != 0]\n",
    "    df_cis_on = df_cis_on[['Station', 'Longitude', 'Latitude', 'On Potential']]\\\n",
    "        .reset_index(drop=True)\n",
    "    df_cis_on['On Potential'] = df_cis_on['On Potential']*(-1)\n",
    "    last_index = df_cis_on.last_valid_index()\n",
    "    miles_remaining = total_miles_list[j]\n",
    "    # Create '.kml' files for each mile #\n",
    "    while miles_remaining > 0:\n",
    "        # Create 3D data points\n",
    "        while i <= last_index and df_cis_on.loc[i, 'Station'] < feet_counter:\n",
    "            pnt = type_folders[k]\\\n",
    "                .newpoint(name=df_cis_on.loc[i, 'On Potential']*(-1),\n",
    "                          visibility=0)\n",
    "            pnt.style.balloonstyle.text = \\\n",
    "                'Potential: -{} V\\nLongitude: {}\\nLatitude: {}\\nStation: {} ft'\\\n",
    "                    .format(df_cis_on.loc[i, 'On Potential'],\n",
    "                            df_cis_on.loc[i, 'Longitude'],\n",
    "                            df_cis_on.loc[i, 'Latitude'],\n",
    "                            df_cis_on.loc[i, 'Station'])\n",
    "            pnt.coords = [(df_cis_on.loc[i, 'Longitude'],\n",
    "                           df_cis_on.loc[i, 'Latitude'],\n",
    "                           df_cis_on.loc[i, 'On Potential']*scale_factor)]\n",
    "            pnt.altitudemode = simplekml.AltitudeMode.relativetoground\n",
    "            pnt.style.iconstyle.icon.href = icon_on\n",
    "            pnt.style.iconstyle.scale = icon_scale\n",
    "            pnt.style.labelstyle.scale = 0\n",
    "            pnt.extrude = 0\n",
    "            i += 1\n",
    "        cis_kml[kml_file].savekmz(root_path + r'/Output/' +\n",
    "                           filtered_data_list[j].split('.DAT', 1)[0] +\n",
    "                           ' (Mile ' + current_mile.__str__() + ').kmz')\n",
    "        current_mile += 1\n",
    "        miles_remaining -= 1\n",
    "        if 0 < miles_remaining < 1:\n",
    "            current_mile = total_miles_list[j]\n",
    "        feet_counter += 5280\n",
    "        k += 5\n",
    "        kml_file += 1\n",
    "    # Reset variables for next CIS survey\n",
    "    feet_counter = 5280\n",
    "    current_mile = 1\n",
    "    i = 0\n",
    "    j += 1\n",
    "j = 0\n",
    "kml_file = 0"
   ],
   "metadata": {
    "collapsed": false
   }
  },
  {
   "cell_type": "markdown",
   "source": [
    "## Off"
   ],
   "metadata": {
    "collapsed": false
   }
  },
  {
   "cell_type": "code",
   "execution_count": 15,
   "outputs": [],
   "source": [
    "k = 1       # Counter for type folders (1 = 'Off')\n",
    "\n",
    "# Goes through all CIS survey files\n",
    "while j < len(filtered_data_list):\n",
    "    df_cis_off = pd.read_csv(root_path + r'/Data/' + filtered_data_list[j])\n",
    "    df_cis_off = df_cis_off[df_cis_off['Off Potential'] != 0]\n",
    "    df_cis_off = df_cis_off[['Station', 'Longitude', 'Latitude',\n",
    "                           'Off Potential']].reset_index(drop=True)\n",
    "    df_cis_off['Off Potential'] = df_cis_off['Off Potential']*(-1)\n",
    "    last_index = df_cis_off.last_valid_index()\n",
    "    miles_remaining = total_miles_list[j]\n",
    "    # Create '.kml' files for each mile #\n",
    "    while miles_remaining > 0:\n",
    "        # Create 3D data points\n",
    "        while i <= last_index and df_cis_off.loc[i, 'Station'] < feet_counter:\n",
    "            pnt = type_folders[k]\\\n",
    "                .newpoint(name=df_cis_off.loc[i, 'Off Potential']*(-1),\n",
    "                          visibility=0)\n",
    "            pnt.style.balloonstyle.text = \\\n",
    "                'Potential: -{} V\\nLongitude: {}\\nLatitude: {}\\nStation: {} ft'\\\n",
    "                    .format(df_cis_off.loc[i, 'Off Potential'],\n",
    "                            df_cis_off.loc[i, 'Longitude'],\n",
    "                            df_cis_off.loc[i, 'Latitude'],\n",
    "                            df_cis_off.loc[i, 'Station'])\n",
    "            pnt.coords = [(df_cis_off.loc[i, 'Longitude'],\n",
    "                           df_cis_off.loc[i, 'Latitude'],\n",
    "                           df_cis_off.loc[i, 'Off Potential']*scale_factor)]\n",
    "            pnt.altitudemode = simplekml.AltitudeMode.relativetoground\n",
    "            pnt.style.iconstyle.icon.href = icon_off\n",
    "            pnt.style.iconstyle.scale = icon_scale\n",
    "            pnt.style.labelstyle.scale = 0\n",
    "            pnt.extrude = 0\n",
    "            i += 1\n",
    "        cis_kml[kml_file].savekmz(root_path + r'/Output/' +\n",
    "                           filtered_data_list[j].split('.DAT', 1)[0] +\n",
    "                           ' (Mile ' + current_mile.__str__() + ').kmz')\n",
    "        current_mile += 1\n",
    "        miles_remaining -= 1\n",
    "        if 0 < miles_remaining < 1:\n",
    "            current_mile = total_miles_list[j]\n",
    "        feet_counter += 5280\n",
    "        k += 5\n",
    "        kml_file += 1\n",
    "    # Reset variables for next CIS survey\n",
    "    feet_counter = 5280\n",
    "    current_mile = 1\n",
    "    i = 0\n",
    "    j += 1\n",
    "j = 0\n",
    "kml_file = 0"
   ],
   "metadata": {
    "collapsed": false
   }
  },
  {
   "cell_type": "markdown",
   "source": [
    "## Comments"
   ],
   "metadata": {
    "collapsed": false
   }
  },
  {
   "cell_type": "code",
   "execution_count": 16,
   "outputs": [],
   "source": [
    "k = 2       # Counter for type folders (2 = 'Comments')\n",
    "\n",
    "# Goes through all CIS survey files\n",
    "while j < len(filtered_data_list):\n",
    "    df_cis_comments = pd.read_csv(root_path + r'/Data/' + filtered_data_list[j])\n",
    "    df_cis_comments.dropna(inplace=True)\n",
    "    df_cis_comments.reset_index(drop=True, inplace=True)\n",
    "    last_index = df_cis_comments.last_valid_index()\n",
    "    miles_remaining = total_miles_list[j]\n",
    "    # Create '.kml' files for each mile #\n",
    "    while miles_remaining > 0:\n",
    "        # Create 3D data points\n",
    "        while i <= last_index and df_cis_comments.loc[i, 'Station'] < \\\n",
    "                feet_counter:\n",
    "            pnt = type_folders[k]\\\n",
    "                .newpoint(name=df_cis_comments.loc[i,'Comments'], visibility=0)\n",
    "            if df_cis_comments.loc[i, 'On Potential'] == 0:\n",
    "                potential = df_cis_comments.loc[i, 'Off Potential'].__str__()\\\n",
    "                            + ' V (Off)'\n",
    "            else:\n",
    "                potential = df_cis_comments.loc[i, 'On Potential'].__str__() \\\n",
    "                            + ' V (On)'\n",
    "            pnt.style.balloonstyle.text = \\\n",
    "                'Potential: {}\\nLongitude: {}\\nLatitude: {}\\n' \\\n",
    "                'Station: {} ft\\nComment: {}'\\\n",
    "                    .format(potential,\n",
    "                            df_cis_comments.loc[i, 'Longitude'],\n",
    "                            df_cis_comments.loc[i, 'Latitude'],\n",
    "                            df_cis_comments.loc[i, 'Station'],\n",
    "                            df_cis_comments.loc[i, 'Comments'])\n",
    "            pnt.coords = [(df_cis_comments.loc[i, 'Longitude'],\n",
    "                           df_cis_comments.loc[i, 'Latitude'],\n",
    "                           0)]\n",
    "            pnt.altitudemode = simplekml.AltitudeMode.relativetoground\n",
    "            pnt.style.iconstyle.icon.href = icon_comments\n",
    "            pnt.style.iconstyle.scale = icon_scale*1.5\n",
    "            pnt.style.labelstyle.scale = 0.5\n",
    "            #pnt.extrude = 0\n",
    "            i += 1\n",
    "        cis_kml[kml_file].savekmz(root_path + r'/Output/' +\n",
    "                           filtered_data_list[j].split('.DAT', 1)[0] +\n",
    "                           ' (Mile ' + current_mile.__str__() + ').kmz')\n",
    "        current_mile += 1\n",
    "        miles_remaining -= 1\n",
    "        if 0 < miles_remaining < 1:\n",
    "            current_mile = total_miles_list[j]\n",
    "        feet_counter += 5280\n",
    "        k += 5\n",
    "        kml_file += 1\n",
    "    # Reset variables for next CIS survey\n",
    "    feet_counter = 5280\n",
    "    current_mile = 1\n",
    "    i = 0\n",
    "    j += 1\n",
    "j = 0\n",
    "kml_file = 0"
   ],
   "metadata": {
    "collapsed": false
   }
  },
  {
   "cell_type": "markdown",
   "source": [
    "## -1.2 V"
   ],
   "metadata": {
    "collapsed": false
   }
  },
  {
   "cell_type": "code",
   "execution_count": 17,
   "outputs": [],
   "source": [
    "k = 3       # Counter for type folders (3 = '-1.2 V')\n",
    "\n",
    "# Goes through all CIS survey files\n",
    "while j < len(filtered_data_list):\n",
    "    df_cis_1200 = pd.read_csv(root_path + r'/Data/' + filtered_data_list[j])\n",
    "    last_index = df_cis_1200.last_valid_index()\n",
    "    miles_remaining = total_miles_list[j]\n",
    "    # Create '.kml' files for each mile #\n",
    "    while miles_remaining > 0:\n",
    "        # Create 3D data points\n",
    "        while i <= last_index and df_cis_1200.loc[i, 'Station'] < \\\n",
    "                feet_counter:\n",
    "            pnt = type_folders[k].newpoint(name='-1.200', visibility=0)\n",
    "            pnt.style.balloonstyle.text = 'Potential: -1.2 V'\n",
    "            pnt.coords = [(df_cis_1200.loc[i, 'Longitude'],\n",
    "                           df_cis_1200.loc[i, 'Latitude'],\n",
    "                           1.2*scale_factor)]\n",
    "            pnt.altitudemode = simplekml.AltitudeMode.relativetoground\n",
    "            pnt.style.iconstyle.icon.href = icon_1200\n",
    "            pnt.style.iconstyle.scale = icon_scale\n",
    "            pnt.style.labelstyle.scale = 0\n",
    "            pnt.extrude = 0\n",
    "            i += 1\n",
    "        cis_kml[kml_file].savekmz(root_path + r'/Output/' +\n",
    "                           filtered_data_list[j].split('.DAT', 1)[0] +\n",
    "                           ' (Mile ' + current_mile.__str__() + ').kmz')\n",
    "        current_mile += 1\n",
    "        miles_remaining -= 1\n",
    "        if 0 < miles_remaining < 1:\n",
    "            current_mile = total_miles_list[j]\n",
    "        feet_counter += 5280\n",
    "        k += 5\n",
    "        kml_file += 1\n",
    "    # Reset variables for next CIS survey\n",
    "    feet_counter = 5280\n",
    "    current_mile = 1\n",
    "    i = 0\n",
    "    j += 1\n",
    "j = 0\n",
    "kml_file = 0"
   ],
   "metadata": {
    "collapsed": false
   }
  },
  {
   "cell_type": "markdown",
   "source": [
    "## -0.85 V"
   ],
   "metadata": {
    "collapsed": false
   }
  },
  {
   "cell_type": "code",
   "execution_count": 18,
   "outputs": [],
   "source": [
    "k = 4       #Counter for type folders (4 = '-0.85 V')\n",
    "\n",
    "# Goes through all CIS survey files\n",
    "while j < len(filtered_data_list):\n",
    "    df_cis_850 = pd.read_csv(root_path + r'/Data/' + filtered_data_list[j])\n",
    "    last_index = df_cis_850.last_valid_index()\n",
    "    miles_remaining = total_miles_list[j]\n",
    "    # Create '.kml' files for each mile #\n",
    "    while miles_remaining > 0:\n",
    "        # Create 3D data points\n",
    "        while i <= last_index and df_cis_850.loc[i, 'Station'] < \\\n",
    "                feet_counter:\n",
    "            pnt = type_folders[k].newpoint(name='-0.850', visibility=0)\n",
    "            pnt.style.balloonstyle.text = 'Potential: -0.85 V'\n",
    "            pnt.coords = [(df_cis_850.loc[i, 'Longitude'],\n",
    "                           df_cis_850.loc[i, 'Latitude'],\n",
    "                           0.85*scale_factor)]\n",
    "            pnt.altitudemode = simplekml.AltitudeMode.relativetoground\n",
    "            pnt.style.iconstyle.icon.href = icon_850\n",
    "            pnt.style.iconstyle.scale = icon_scale\n",
    "            pnt.style.labelstyle.scale = 0\n",
    "            pnt.extrude = 0\n",
    "            i += 1\n",
    "        cis_kml[kml_file].savekmz(root_path + r'/Output/' +\n",
    "                           filtered_data_list[j].split('.DAT', 1)[0] +\n",
    "                           ' (Mile ' + current_mile.__str__() + ').kmz')\n",
    "        current_mile += 1\n",
    "        miles_remaining -= 1\n",
    "        if 0 < miles_remaining < 1:\n",
    "            current_mile = total_miles_list[j]\n",
    "        feet_counter += 5280\n",
    "        k += 5\n",
    "        kml_file += 1\n",
    "    # Reset variables for next CIS survey\n",
    "    feet_counter = 5280\n",
    "    current_mile = 1\n",
    "    i = 0\n",
    "    j += 1\n",
    "j = 0\n",
    "kml_file = 0"
   ],
   "metadata": {
    "collapsed": false
   }
  },
  {
   "cell_type": "code",
   "execution_count": null,
   "outputs": [],
   "source": [
    "with open(root_path + r'\\Log.txt', 'a') as f:\n",
    "    f.write('Execution Time = {} seconds'.format(round(time.time()-start_time)))"
   ],
   "metadata": {
    "collapsed": false
   }
  },
  {
   "cell_type": "markdown",
   "source": [
    "## Pipe"
   ],
   "metadata": {
    "collapsed": false
   }
  },
  {
   "cell_type": "code",
   "execution_count": 21,
   "outputs": [],
   "source": [
    "# kml = simplekml.Kml()"
   ],
   "metadata": {
    "collapsed": false
   }
  },
  {
   "cell_type": "code",
   "execution_count": 22,
   "outputs": [],
   "source": [
    "# df_cis_pipe = df_cis.iloc[:, [False, False, False, False, True, True, False]].copy()\n",
    "# df_cis_pipe['Potential (V)'] = 0"
   ],
   "metadata": {
    "collapsed": false
   }
  },
  {
   "cell_type": "code",
   "execution_count": 23,
   "outputs": [],
   "source": [
    "# z = 282                                  # Max iterations\n",
    "#\n",
    "# while i < z:\n",
    "#     ls = kml.newlinestring()\n",
    "#     ls.style.balloonstyle.text = 'Ground'\n",
    "#     ls.coords = [(df_cis_pipe.loc[i, 'LONGITUDE'], df_cis_pipe.loc[i, 'LATITUDE'], df_cis_pipe.loc[i, 'Potential (V)']),\n",
    "#                  (df_cis_pipe.loc[i+1, 'LONGITUDE'], df_cis_pipe.loc[i+1, 'LATITUDE'], df_cis_pipe.loc[i+1, 'Potential (V)'])]\n",
    "#\n",
    "#     # Style\n",
    "#     ls.style.linestyle.width = 5\n",
    "#     ls.style.linestyle.color = simplekml.Color.rgb(255, 255, 255, 175)\n",
    "#\n",
    "#     i += 1\n",
    "#\n",
    "# kml.save(root_path + r'\\Output/' + 'Ground - ' + project_name + '.kml')"
   ],
   "metadata": {
    "collapsed": false
   }
  }
 ],
 "metadata": {
  "kernelspec": {
   "display_name": "Python 3 (ipykernel)",
   "language": "python",
   "name": "python3"
  },
  "language_info": {
   "codemirror_mode": {
    "name": "ipython",
    "version": 3
   },
   "file_extension": ".py",
   "mimetype": "text/x-python",
   "name": "python",
   "nbconvert_exporter": "python",
   "pygments_lexer": "ipython3",
   "version": "3.9.7"
  }
 },
 "nbformat": 4,
 "nbformat_minor": 5
}
