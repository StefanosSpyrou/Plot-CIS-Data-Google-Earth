{
 "cells": [
  {
   "cell_type": "code",
   "execution_count": 34,
   "id": "62e1d373-17ea-422d-be12-b6ab9de0371c",
   "metadata": {
    "pycharm": {
     "name": "#%%\n"
    }
   },
   "outputs": [],
   "source": [
    "import os\n",
    "import time\n",
    "import pandas as pd\n",
    "import simplekml\n",
    "import shutil\n",
    "from sys import platform\n",
    "from pathlib import Path\n",
    "pd.options.mode.chained_assignment = None\n",
    "\n",
    "# Measuring execution time\n",
    "start_time = time.time()"
   ]
  },
  {
   "cell_type": "code",
   "execution_count": 35,
   "outputs": [],
   "source": [
    "# Checks what operating system the user is using\n",
    "if platform == 'win32':\n",
    "    root_path = r'C:\\Users\\Stefanos\\DeLasCasas CP, LLc\\Ro De Las Casas - ' \\\n",
    "                r'DLC2P Server\\AA Stefanos\\Data Science\\Python Projects\\CIS ' \\\n",
    "                r'Data to Google Earth (Real Time)'\n",
    "elif platform == 'darwin':\n",
    "    root_path = r'/Users/Stefanos/Library/CloudStorage/' \\\n",
    "                r'OneDrive-SharedLibraries-DeLasCasasCP,LLc/Ro De Las Casas ' \\\n",
    "                r'- DLC2P Server/AA Stefanos/Data Science/Python Projects/' \\\n",
    "                r'CIS Data to Google Earth (Real Time)'"
   ],
   "metadata": {
    "collapsed": false,
    "pycharm": {
     "name": "#%%\n"
    }
   }
  },
  {
   "cell_type": "markdown",
   "source": [
    "# Specify Variables"
   ],
   "metadata": {
    "collapsed": false,
    "pycharm": {
     "name": "#%% md\n"
    }
   }
  },
  {
   "cell_type": "code",
   "execution_count": 36,
   "outputs": [],
   "source": [
    "# SPECIFY SCALE FACTOR\n",
    "scale_factor = 500\n",
    "# SPECIFY TRANSPARENCY (0 to 1)\n",
    "transparency = 1\n",
    "# SPECIFY ICON SCALE\n",
    "icon_scale = 0.2\n",
    "# SPECIFY COLOR PALETTE\n",
    "#my_cmap = plt.get_cmap('Spectral_r')\n",
    "# PROJECT NAME\n",
    "project_name = 'XYZ'    #input('\\nPROJECT NAME:')"
   ],
   "metadata": {
    "collapsed": false,
    "pycharm": {
     "name": "#%%\n"
    }
   }
  },
  {
   "cell_type": "code",
   "execution_count": 37,
   "outputs": [],
   "source": [
    "from math import atan\n",
    "from math import atan2\n",
    "from math import cos\n",
    "from math import radians\n",
    "from math import sin\n",
    "from math import sqrt\n",
    "from math import tan"
   ],
   "metadata": {
    "collapsed": false,
    "pycharm": {
     "name": "#%%\n"
    }
   }
  },
  {
   "cell_type": "code",
   "execution_count": 38,
   "outputs": [],
   "source": [
    "class VincentyInverse:\n",
    "    def __init__(self, coord1, coord2, maxiter=200, tol=10**-12):\n",
    "\n",
    "        #--- CONSTANTS ------------------------------------+\n",
    "\n",
    "        a = 6378137.0                    # radius at equator in meters (WGS-84)\n",
    "        f = 1/298.257223563              # flattening of the ellipsoid (WGS-84)\n",
    "        b = (1-f)*a\n",
    "\n",
    "        phi_1, lon_1, = coord1                      # (lat=L_?,lon=phi_?)\n",
    "        phi_2, lon_2, = coord2\n",
    "\n",
    "        u_1 = atan((1-f)*tan(radians(phi_1)))\n",
    "        u_2 = atan((1-f)*tan(radians(phi_2)))\n",
    "\n",
    "        L = radians(lon_2-lon_1)\n",
    "\n",
    "        Lambda = L                           # set initial value of lambda to L\n",
    "\n",
    "        sin_u1 = sin(u_1)\n",
    "        cos_u1 = cos(u_1)\n",
    "        sin_u2 = sin(u_2)\n",
    "        cos_u2 = cos(u_2)\n",
    "\n",
    "        #--- BEGIN ITERATIONS -----------------------------+\n",
    "        self.iters = 0\n",
    "        for i in range(0, maxiter):\n",
    "            self.iters += 1\n",
    "\n",
    "            cos_lambda = cos(Lambda)\n",
    "            sin_lambda = sin(Lambda)\n",
    "            sin_sigma = sqrt((cos_u2*sin(Lambda))**2+\n",
    "                             (cos_u1*sin_u2-sin_u1*cos_u2*cos_lambda)**2)\n",
    "            cos_sigma = sin_u1*sin_u2+cos_u1*cos_u2*cos_lambda\n",
    "            sigma = atan2(sin_sigma,cos_sigma)\n",
    "            sin_alpha = (cos_u1*cos_u2*sin_lambda)/sin_sigma\n",
    "            cos_sq_alpha = 1-sin_alpha**2\n",
    "            cos2_sigma_m = cos_sigma-((2*sin_u1*sin_u2)/cos_sq_alpha)\n",
    "            C = (f/16)*cos_sq_alpha*(4+f*(4-3*cos_sq_alpha))\n",
    "            Lambda_prev = Lambda\n",
    "            Lambda = L+(1-C)*f*sin_alpha*(sigma+C*sin_sigma*\n",
    "                                          (cos2_sigma_m+C*cos_sigma*(-1+2*cos2_sigma_m**2)))\n",
    "\n",
    "            # Successful convergence\n",
    "            diff = abs(Lambda_prev-Lambda)\n",
    "            if diff <= tol:\n",
    "                break\n",
    "\n",
    "        u_sq = cos_sq_alpha*((a**2-b**2)/b**2)\n",
    "        A = 1+(u_sq/16384)*(4096+u_sq*(-768+u_sq*(320-175*u_sq)))\n",
    "        B = (u_sq/1024)*(256+u_sq*(-128+u_sq*(74-47*u_sq)))\n",
    "        delta_sig = B*sin_sigma*(cos2_sigma_m+0.25*B*\n",
    "                                 (cos_sigma*(-1+2*cos2_sigma_m**2)-\n",
    "                                  (1/6)*B*cos2_sigma_m*(-3+4*sin_sigma**2)*\n",
    "                                  (-3+4*cos2_sigma_m**2)))\n",
    "\n",
    "        self.m = b*A*(sigma-delta_sig)         # output distance in meters\n",
    "        #self.km = self.m/1000                 # output distance in kilometers\n",
    "        #self.mm = self.m*1000                 # output distance in millimeters\n",
    "        self.miles = self.m*0.000621371        # output distance in miles\n",
    "        self.ft = self.miles*5280              # output distance in feet\n",
    "        #self.inches = self.ft*12              # output distance in inches\n",
    "        #self.yards = self.ft/3                # output distance in yards\n",
    "\n",
    "# if __name__ == \"__VincentyInverse__\":\n",
    "#     main()"
   ],
   "metadata": {
    "collapsed": false,
    "pycharm": {
     "name": "#%%\n"
    }
   }
  },
  {
   "cell_type": "markdown",
   "source": [
    "# Data Cleaning"
   ],
   "metadata": {
    "collapsed": false,
    "pycharm": {
     "name": "#%% md\n"
    }
   }
  },
  {
   "cell_type": "code",
   "execution_count": 39,
   "outputs": [],
   "source": [
    "# Creates a list of files in data folder\n",
    "raw_data_list = os.listdir(r'/Users/Stefanos/Library/CloudStorage/'\n",
    "                           r'OneDrive-SharedLibraries-DeLasCasasCP,LLc/'\n",
    "                           r'Ro De Las Casas - DLC2P Server/AA Stefanos/'\n",
    "                           r'Data Science/Python Projects/'\n",
    "                           r'CIS Data to Google Earth (Real Time)/'\n",
    "                           r'Original Data')"
   ],
   "metadata": {
    "collapsed": false,
    "pycharm": {
     "name": "#%%\n"
    }
   }
  },
  {
   "cell_type": "code",
   "execution_count": 40,
   "outputs": [],
   "source": [
    "# Create an empty list to exclude certain files\n",
    "filtered_data_list = []\n",
    "# Current list index\n",
    "i = 0\n",
    "\n",
    "# Filters the folder and excludes files that start with '.'\n",
    "while i < len(raw_data_list):\n",
    "    if not raw_data_list[i][0] == '.':\n",
    "        filtered_data_list.append(raw_data_list[i])\n",
    "    i += 1"
   ],
   "metadata": {
    "collapsed": false,
    "pycharm": {
     "name": "#%%\n"
    }
   }
  },
  {
   "cell_type": "code",
   "execution_count": 41,
   "outputs": [],
   "source": [
    "# Creates an empty list to place the total miles\n",
    "total_miles_list = []\n",
    "# Current list index\n",
    "i = 0\n",
    "j = 0\n",
    "\n",
    "# Goes through all the files in the list\n",
    "while i < len(filtered_data_list):\n",
    "    # Create dataframe from a csv file\n",
    "    df_cis = pd.read_csv(root_path +\n",
    "                         str(Path(r'/Original Data/' +\n",
    "                                  filtered_data_list[i])))\n",
    "    # Drops elevation and PDOP columns\n",
    "    df_cis = df_cis.iloc[:, :6]\n",
    "    # Delete rows that CIS was skipped\n",
    "    df_cis = df_cis.loc[df_cis['On Potential'] != 'SKIP'].reset_index(drop=True)\n",
    "    # Convert object columns to numbers\n",
    "    df_cis[['On Potential', 'Off Potential']] = \\\n",
    "                            df_cis[['On Potential', 'Off Potential']]\\\n",
    "                            .apply(pd.to_numeric, errors='coerce', axis=1)\n",
    "    df_cis[['On Potential', 'Off Potential']] /= 1000\n",
    "    last_index = df_cis.last_valid_index()\n",
    "    df_cis['Distance (ft)'] = 0\n",
    "    while j < last_index:\n",
    "        try:\n",
    "            df_cis['Distance (ft)'][j+1] = \\\n",
    "            VincentyInverse([df_cis['Latitude'][j],\n",
    "                             df_cis['Longitude'][j]],\n",
    "                            [df_cis['Latitude'][j+1],\n",
    "                             df_cis['Longitude'][j+1]]).ft\n",
    "        except ZeroDivisionError:\n",
    "            df_cis['Distance (ft)'][j+1] = 0\n",
    "\n",
    "        j += 1\n",
    "\n",
    "    # Records total miles in a list\n",
    "    total_miles_list.append(round(max(df_cis['Station'])/5280, 2))\n",
    "    df_cis.to_csv(root_path +\n",
    "                  str(Path(r'/Data/' +\n",
    "                           filtered_data_list[i])), index=False)\n",
    "\n",
    "    i += 1\n",
    "    j = 0"
   ],
   "metadata": {
    "collapsed": false,
    "pycharm": {
     "name": "#%%\n"
    }
   }
  },
  {
   "cell_type": "markdown",
   "source": [
    "# Create Directories (Folders)"
   ],
   "metadata": {
    "collapsed": false,
    "pycharm": {
     "name": "#%% md\n"
    }
   }
  },
  {
   "cell_type": "code",
   "execution_count": 42,
   "outputs": [],
   "source": [
    "# Delete old output folder and create a new one\n",
    "if os.path.exists(root_path + r'/Output/'):\n",
    "    shutil.rmtree(root_path + r'/Output/')\n",
    "    os.makedirs(root_path + r'/Output/')\n",
    "if not os.path.exists(root_path + r'/Output/'):\n",
    "    os.makedirs(root_path + r'/Output/')"
   ],
   "metadata": {
    "collapsed": false,
    "pycharm": {
     "name": "#%%\n"
    }
   }
  },
  {
   "cell_type": "code",
   "execution_count": 43,
   "outputs": [],
   "source": [
    "# import simplekml\n",
    "# kml = simplekml.Kml()\n",
    "# mile_folders = ['Mile 1', 'Mile 2']\n",
    "# mile_folders[0] = kml.newfolder(name=mile_folders[0])\n",
    "# mile_folders[0].newpoint()\n",
    "# kml.save(root_path + '/' + 'Project 1.kml')"
   ],
   "metadata": {
    "collapsed": false,
    "pycharm": {
     "name": "#%%\n"
    }
   }
  },
  {
   "cell_type": "code",
   "execution_count": 46,
   "outputs": [],
   "source": [
    "folder_mile = 1\n",
    "i = 0       # CIS Survey folder\n",
    "j = 0       # Mile # folder\n",
    "\n",
    "# Create CIS survey ',kml' folders\n",
    "while i < len(total_miles_list):\n",
    "    miles_remaining = total_miles_list[i]\n",
    "    mile_folders = []\n",
    "    kml = simplekml.Kml()\n",
    "\n",
    "    # Create mile # '.kml' folders\n",
    "    while miles_remaining > 0:\n",
    "        mile_folders.append(r'Mile ' + folder_mile.__str__())\n",
    "        mile_folders[j] = kml.newfolder(name=mile_folders[j])\n",
    "        folder_mile += 1\n",
    "        miles_remaining -= 1\n",
    "        j += 1\n",
    "\n",
    "        if 0 < miles_remaining < 1:\n",
    "            folder_mile = total_miles_list[i]\n",
    "\n",
    "    kml.save(root_path + r'/Output/' +\n",
    "         filtered_data_list[i].split('.DAT', 1)[0] + '.kml')\n",
    "    i += 1\n",
    "    j = 0\n",
    "    folder_mile = 1"
   ],
   "metadata": {
    "collapsed": false,
    "pycharm": {
     "name": "#%%\n"
    }
   }
  },
  {
   "cell_type": "markdown",
   "source": [
    "# CIS Data"
   ],
   "metadata": {
    "collapsed": false,
    "pycharm": {
     "name": "#%% md\n"
    }
   }
  },
  {
   "cell_type": "markdown",
   "source": [
    "## On"
   ],
   "metadata": {
    "collapsed": false,
    "pycharm": {
     "name": "#%% md\n"
    }
   }
  },
  {
   "cell_type": "code",
   "execution_count": 345,
   "id": "2073504c-64b8-4b26-bb66-b19ed717a29a",
   "metadata": {
    "pycharm": {
     "name": "#%%\n"
    }
   },
   "outputs": [],
   "source": [
    "feet_counter = 5280\n",
    "kml_mile = 1\n",
    "i = 0       # Row for data\n",
    "j = 0       # Row for CIS surveys\n",
    "\n",
    "# Goes through all CIS survey files\n",
    "while j < len(filtered_data_list):\n",
    "    df_cis_on = pd.read_csv(root_path + r'/Data/' + filtered_data_list[j])\n",
    "    df_cis_on = df_cis_on[df_cis_on['On Potential'] != 0]\n",
    "    df_cis_on = df_cis_on[['Station', 'Longitude', 'Latitude', 'On Potential']]\\\n",
    "        .reset_index(drop=True)\n",
    "    df_cis_on['On Potential'] = df_cis_on['On Potential']*(-1)\n",
    "    last_index = df_cis_on.last_valid_index()\n",
    "    miles_remaining = total_miles_list[j]\n",
    "\n",
    "    # Create '.kml' files for each CIS survey\n",
    "    while miles_remaining > 0:\n",
    "        kml = simplekml.Kml()\n",
    "        style = simplekml.Style()\n",
    "        # Create 3D data points\n",
    "        while i <= last_index and df_cis_on.loc[i, 'Station'] < feet_counter:\n",
    "            pnt = kml.newpoint(name=df_cis_on.loc[i, 'On Potential']*(-1))\n",
    "            pnt.style.balloonstyle.text = \\\n",
    "                'Potential: -{} V'.format(df_cis_on.loc[i, 'On Potential'])\n",
    "            pnt.coords = [(df_cis_on.loc[i, 'Longitude'],\n",
    "                           df_cis_on.loc[i, 'Latitude'],\n",
    "                           df_cis_on.loc[i, 'On Potential']*scale_factor)]\n",
    "            pnt.altitudemode = simplekml.AltitudeMode.relativetoground\n",
    "            pnt.style.iconstyle.icon.href = \\\n",
    "                'https://img.icons8.com/material-sharp/24/40C057/give-way--v1.png'\n",
    "            pnt.style.iconstyle.scale = icon_scale\n",
    "            pnt.style.labelstyle.scale = 0\n",
    "            pnt.extrude = 0\n",
    "            i += 1\n",
    "\n",
    "        kml.save(root_path + r'/Output/' +\n",
    "             filtered_data_list[j].split('.DAT', 1)[0] + '/' +\n",
    "             'Mile ' + kml_mile.__str__() + ' - ' + 'On.kml')\n",
    "        kml_mile += 1\n",
    "        miles_remaining -= 1\n",
    "\n",
    "        if 0 < miles_remaining < 1:\n",
    "            kml_mile = total_miles_list[j]\n",
    "\n",
    "        feet_counter += 5280\n",
    "\n",
    "    # Reset variables for next CIS survey\n",
    "    feet_counter = 5280\n",
    "    kml_mile = 1\n",
    "    i = 0\n",
    "    j += 1"
   ]
  },
  {
   "cell_type": "markdown",
   "source": [
    "## Off"
   ],
   "metadata": {
    "collapsed": false,
    "pycharm": {
     "name": "#%% md\n"
    }
   }
  },
  {
   "cell_type": "code",
   "execution_count": 346,
   "outputs": [],
   "source": [
    "#df = df_cis_on[df_cis_on.duplicated(subset=['Longitude', 'Latitude'],\n",
    "                                    #keep=False)]"
   ],
   "metadata": {
    "collapsed": false,
    "pycharm": {
     "name": "#%%\n"
    }
   }
  },
  {
   "cell_type": "code",
   "execution_count": 348,
   "outputs": [],
   "source": [
    "feet_counter = 5280\n",
    "kml_mile = 1\n",
    "i = 0       # Row for data\n",
    "j = 0       # Row for CIS surveys\n",
    "\n",
    "# Goes through all CIS survey files\n",
    "while j < len(filtered_data_list):\n",
    "    df_cis_off = pd.read_csv(root_path + r'/Data/' + filtered_data_list[j])\n",
    "    df_cis_off = df_cis_off[df_cis_off['Off Potential'] != 0]\n",
    "    df_cis_off = df_cis_off[['Station', 'Longitude', 'Latitude',\n",
    "                           'Off Potential']].reset_index(drop=True)\n",
    "    df_cis_off['Off Potential'] = df_cis_off['Off Potential']*(-1)\n",
    "    last_index = df_cis_off.last_valid_index()\n",
    "    miles_remaining = total_miles_list[j]\n",
    "\n",
    "    # Create '.kml' files for each CIS survey\n",
    "    while miles_remaining > 0:\n",
    "        kml = simplekml.Kml()\n",
    "        style = simplekml.Style()\n",
    "        # Create 3D data points\n",
    "        while i <= last_index and df_cis_off.loc[i, 'Station'] < feet_counter:\n",
    "            pnt = kml.newpoint(name=df_cis_off.loc[i, 'Off Potential']*(-1))\n",
    "            pnt.style.balloonstyle.text = \\\n",
    "                'Potential: -{} V'.format(df_cis_off.loc[i, 'Off Potential'])\n",
    "            pnt.coords = [(df_cis_off.loc[i, 'Longitude'],\n",
    "                           df_cis_off.loc[i, 'Latitude'],\n",
    "                           df_cis_off.loc[i, 'Off Potential']*scale_factor)]\n",
    "            pnt.altitudemode = simplekml.AltitudeMode.relativetoground\n",
    "            pnt.style.iconstyle.icon.href = \\\n",
    "                'https://img.icons8.com/material-sharp/24/FA5252/give-way--v1.png'\n",
    "            pnt.style.iconstyle.scale = icon_scale\n",
    "            pnt.style.labelstyle.scale = 0\n",
    "            pnt.extrude = 0\n",
    "            i += 1\n",
    "\n",
    "        kml.save(root_path + r'/Output/' +\n",
    "             filtered_data_list[j].split('.DAT', 1)[0] + '/' +\n",
    "             'Mile ' + kml_mile.__str__() + ' - ' + 'Off.kml')\n",
    "        kml_mile += 1\n",
    "        miles_remaining -= 1\n",
    "\n",
    "        if 0 < miles_remaining < 1:\n",
    "            kml_mile = total_miles_list[j]\n",
    "\n",
    "        feet_counter += 5280\n",
    "\n",
    "    # Reset variables for next CIS survey\n",
    "    feet_counter = 5280\n",
    "    kml_mile = 1\n",
    "    i = 0\n",
    "    j += 1"
   ],
   "metadata": {
    "collapsed": false,
    "pycharm": {
     "name": "#%%\n"
    }
   }
  },
  {
   "cell_type": "markdown",
   "id": "c36dc3c9-97c6-4547-a2a6-a9497958fd3b",
   "metadata": {
    "jp-MarkdownHeadingCollapsed": true,
    "tags": [],
    "pycharm": {
     "name": "#%% md\n"
    }
   },
   "source": [
    "## -1.2 V"
   ]
  },
  {
   "cell_type": "code",
   "execution_count": 352,
   "outputs": [],
   "source": [
    "feet_counter = 5280\n",
    "kml_mile = 1\n",
    "i = 0       # Row for data\n",
    "j = 0       # Row for CIS surveys\n",
    "\n",
    "# Goes through all CIS survey files\n",
    "while j < len(filtered_data_list):\n",
    "    df_cis_1200 = pd.read_csv(root_path + r'/Data/' + filtered_data_list[j])\n",
    "    df_cis_1200['-1.2 V'] = 1.2\n",
    "    last_index = df_cis_1200.last_valid_index()\n",
    "    miles_remaining = total_miles_list[j]\n",
    "\n",
    "    # Create '.kml' files for each CIS survey\n",
    "    while miles_remaining > 0:\n",
    "        kml = simplekml.Kml()\n",
    "        style = simplekml.Style()\n",
    "        # Create 3D data points\n",
    "        while i < last_index and df_cis_1200.loc[i, 'Station'] < feet_counter:\n",
    "            ls = kml.newlinestring()\n",
    "            ls.style.balloonstyle.text = 'Potential: -1.2 V'\n",
    "            ls.coords = [(df_cis_1200.loc[i, 'Longitude'],\n",
    "                          df_cis_1200.loc[i, 'Latitude'],\n",
    "                          df_cis_1200.loc[i, '-1.2 V']*scale_factor),\n",
    "                          (df_cis_1200.loc[i+1, 'Longitude'],\n",
    "                           df_cis_1200.loc[i+1, 'Latitude'],\n",
    "                           df_cis_1200.loc[i+1, '-1.2 V']*scale_factor)]\n",
    "            ls.altitudemode = simplekml.AltitudeMode.relativetoground\n",
    "            ls.style.linestyle.width = 5\n",
    "            ls.style.linestyle.color = simplekml.Color.rgb(175, 175, 175, 255)\n",
    "            i += 1\n",
    "\n",
    "        kml.save(root_path + r'/Output/' +\n",
    "             filtered_data_list[j].split('.DAT', 1)[0] + '/' +\n",
    "             'Mile ' + kml_mile.__str__() + ' - ' + '-1.2 V.kml')\n",
    "        kml_mile += 1\n",
    "        miles_remaining -= 1\n",
    "\n",
    "        if 0 < miles_remaining < 1:\n",
    "            kml_mile = total_miles_list[j]\n",
    "\n",
    "        feet_counter += 5280\n",
    "\n",
    "    # Reset variables for next CIS survey\n",
    "    feet_counter = 5280\n",
    "    kml_mile = 1\n",
    "    i = 0\n",
    "    j += 1"
   ],
   "metadata": {
    "collapsed": false,
    "pycharm": {
     "name": "#%%\n"
    }
   }
  },
  {
   "cell_type": "markdown",
   "id": "fa92ef61-3026-4252-9bad-ed7f27299fb8",
   "metadata": {
    "jp-MarkdownHeadingCollapsed": true,
    "tags": [],
    "pycharm": {
     "name": "#%% md\n"
    }
   },
   "source": [
    "## -0.85 V"
   ]
  },
  {
   "cell_type": "code",
   "execution_count": 353,
   "outputs": [],
   "source": [
    "feet_counter = 5280\n",
    "kml_mile = 1\n",
    "i = 0       # Row for data\n",
    "j = 0       # Row for CIS surveys\n",
    "\n",
    "# Goes through all CIS survey files\n",
    "while j < len(filtered_data_list):\n",
    "    df_cis_850 = pd.read_csv(root_path + r'/Data/' + filtered_data_list[j])\n",
    "    df_cis_850['-0.85 V'] = 0.85\n",
    "    last_index = df_cis_850.last_valid_index()\n",
    "    miles_remaining = total_miles_list[j]\n",
    "\n",
    "    # Create '.kml' files for each CIS survey\n",
    "    while miles_remaining > 0:\n",
    "        kml = simplekml.Kml()\n",
    "        style = simplekml.Style()\n",
    "        # Create 3D data points\n",
    "        while i < last_index and df_cis_850.loc[i, 'Station'] < feet_counter:\n",
    "            ls = kml.newlinestring()\n",
    "            ls.style.balloonstyle.text = 'Potential: -0.85 V'\n",
    "            ls.coords = [(df_cis_850.loc[i, 'Longitude'],\n",
    "                          df_cis_850.loc[i, 'Latitude'],\n",
    "                          df_cis_850.loc[i, '-0.85 V']*scale_factor),\n",
    "                          (df_cis_850.loc[i+1, 'Longitude'],\n",
    "                           df_cis_850.loc[i+1, 'Latitude'],\n",
    "                           df_cis_850.loc[i+1, '-0.85 V']*scale_factor)]\n",
    "            ls.altitudemode = simplekml.AltitudeMode.relativetoground\n",
    "            ls.style.linestyle.width = 5\n",
    "            ls.style.linestyle.color = simplekml.Color.rgb(175, 175, 175, 255)\n",
    "            i += 1\n",
    "\n",
    "        kml.save(root_path + r'/Output/' +\n",
    "             filtered_data_list[j].split('.DAT', 1)[0] + '/' +\n",
    "             'Mile ' + kml_mile.__str__() + ' - ' + '-0.85 V.kml')\n",
    "        kml_mile += 1\n",
    "        miles_remaining -= 1\n",
    "\n",
    "        if 0 < miles_remaining < 1:\n",
    "            kml_mile = total_miles_list[j]\n",
    "\n",
    "        feet_counter += 5280\n",
    "\n",
    "    # Reset variables for next CIS survey\n",
    "    feet_counter = 5280\n",
    "    kml_mile = 1\n",
    "    i = 0\n",
    "    j += 1"
   ],
   "metadata": {
    "collapsed": false,
    "pycharm": {
     "name": "#%%\n"
    }
   }
  },
  {
   "cell_type": "markdown",
   "source": [
    "## Pipe"
   ],
   "metadata": {
    "collapsed": false,
    "pycharm": {
     "name": "#%% md\n"
    }
   }
  },
  {
   "cell_type": "code",
   "execution_count": null,
   "outputs": [],
   "source": [
    "kml = simplekml.Kml()"
   ],
   "metadata": {
    "collapsed": false,
    "pycharm": {
     "name": "#%%\n"
    }
   }
  },
  {
   "cell_type": "code",
   "execution_count": null,
   "outputs": [],
   "source": [
    "df_cis_pipe = df_cis.iloc[:, [False, False, False, False, True, True, False]].copy()\n",
    "df_cis_pipe['Potential (V)'] = 0"
   ],
   "metadata": {
    "collapsed": false,
    "pycharm": {
     "name": "#%%\n"
    }
   }
  },
  {
   "cell_type": "code",
   "execution_count": null,
   "outputs": [],
   "source": [
    "# Counters\n",
    "i = 0                                    # Row\n",
    "z = 282                                  # Max iterations\n",
    "\n",
    "while i < z:\n",
    "    ls = kml.newlinestring()\n",
    "    ls.style.balloonstyle.text = 'Ground'\n",
    "    ls.coords = [(df_cis_pipe.loc[i, 'LONGITUDE'], df_cis_pipe.loc[i, 'LATITUDE'], df_cis_pipe.loc[i, 'Potential (V)']),\n",
    "                 (df_cis_pipe.loc[i+1, 'LONGITUDE'], df_cis_pipe.loc[i+1, 'LATITUDE'], df_cis_pipe.loc[i+1, 'Potential (V)'])]\n",
    "\n",
    "    # Style\n",
    "    ls.style.linestyle.width = 5\n",
    "    ls.style.linestyle.color = simplekml.Color.rgb(255, 255, 255, 175)\n",
    "\n",
    "    i += 1\n",
    "\n",
    "kml.save(root_path + r'\\Output/' + 'Ground - ' + project_name + '.kml')"
   ],
   "metadata": {
    "collapsed": false,
    "pycharm": {
     "name": "#%%\n"
    }
   }
  },
  {
   "cell_type": "markdown",
   "source": [
    "## Comments"
   ],
   "metadata": {
    "collapsed": false,
    "pycharm": {
     "name": "#%% md\n"
    }
   }
  },
  {
   "cell_type": "code",
   "execution_count": null,
   "outputs": [],
   "source": [
    "kml = simplekml.Kml()"
   ],
   "metadata": {
    "collapsed": false,
    "pycharm": {
     "name": "#%%\n"
    }
   }
  },
  {
   "cell_type": "code",
   "execution_count": null,
   "outputs": [],
   "source": [
    "df_cis_comments = df_cis.iloc[:, [False, False, False, True, True, True, False]].copy()"
   ],
   "metadata": {
    "collapsed": false,
    "pycharm": {
     "name": "#%%\n"
    }
   }
  },
  {
   "cell_type": "code",
   "execution_count": null,
   "outputs": [],
   "source": [
    "# Counters\n",
    "i = 0                                  # Row\n",
    "z = df_cis_comments.last_valid_index()       # Max iterations\n",
    "\n",
    "while i < z:\n",
    "    # noinspection SpellCheckingInspection\n",
    "    if pd.isna(df_cis_comments.loc[i, 'COMMENTS']):\n",
    "        i += 1\n",
    "\n",
    "    else:\n",
    "        pnt = kml.newpoint(name=df_cis_comments.loc[i, 'COMMENTS'])\n",
    "        pnt.coords = [(df_cis_comments.loc[i, 'LONGITUDE'], df_cis_comments.loc[i, 'LATITUDE'], 0)]\n",
    "\n",
    "        pnt.altitudemode = simplekml.AltitudeMode.relativetoground\n",
    "\n",
    "        # Style\n",
    "        pnt.style.iconstyle.icon.href = 'https://maps.google.com/mapfiles/kml/paddle/ltblu-blank.png'\n",
    "        pnt.style.iconstyle.scale = icon_scale*0.05\n",
    "        #pnt.style.labelstyle.scale = 0\n",
    "\n",
    "        i += 1\n",
    "\n",
    "kml.save(root_path + r'\\Output/' + 'Comments - ' + project_name + '.kml')"
   ],
   "metadata": {
    "collapsed": false,
    "pycharm": {
     "name": "#%%\n"
    }
   }
  }
 ],
 "metadata": {
  "kernelspec": {
   "display_name": "Python 3 (ipykernel)",
   "language": "python",
   "name": "python3"
  },
  "language_info": {
   "codemirror_mode": {
    "name": "ipython",
    "version": 3
   },
   "file_extension": ".py",
   "mimetype": "text/x-python",
   "name": "python",
   "nbconvert_exporter": "python",
   "pygments_lexer": "ipython3",
   "version": "3.9.7"
  }
 },
 "nbformat": 4,
 "nbformat_minor": 5
}