{
 "cells": [
  {
   "cell_type": "markdown",
   "source": [
    "# CIS Data to Google Earth (Real Time)"
   ],
   "metadata": {
    "collapsed": false
   },
   "id": "a48fe114014d2f27"
  },
  {
   "cell_type": "code",
   "source": "# TODO: Functionality with meters",
   "metadata": {
    "collapsed": false,
    "ExecuteTime": {
     "end_time": "2024-10-10T18:35:36.078430Z",
     "start_time": "2024-10-10T18:35:36.075518Z"
    }
   },
   "id": "c75af61d5de8ba26",
   "outputs": [],
   "execution_count": 710
  },
  {
   "cell_type": "code",
   "source": [
    "# Standard library imports for filesystem and execution time\n",
    "import os\n",
    "import shutil\n",
    "import time\n",
    "import datetime\n",
    "\n",
    "# Standard library import for networking\n",
    "import socket\n",
    "\n",
    "# Standard library imports for mathematical functions\n",
    "import math\n",
    "import scipy.stats as stats\n",
    "from math import atan, atan2, cos, radians, sin, sqrt, tan\n",
    "\n",
    "# Third-party imports for data handling\n",
    "import pandas as pd\n",
    "import numpy as np\n",
    "from natsort import natsorted\n",
    "from collections import OrderedDict\n",
    "\n",
    "# Third-party imports for KML (Keyhole Markup Language) and Excel (`xlsx`) files handling\n",
    "import simplekml\n",
    "from openpyxl import load_workbook\n",
    "from openpyxl.styles import Font, Alignment, Border, Side\n",
    "\n",
    "# Third-party import for filesystem path names pattern matching\n",
    "import glob\n",
    "\n",
    "# Settings for pandas\n",
    "pd.options.mode.chained_assignment = None\n",
    "\n",
    "# Measuring execution time\n",
    "start_time = time.time()"
   ],
   "metadata": {
    "collapsed": false,
    "ExecuteTime": {
     "end_time": "2024-10-10T18:35:36.719087Z",
     "start_time": "2024-10-10T18:35:36.715399Z"
    }
   },
   "id": "97c56b5084f08151",
   "outputs": [],
   "execution_count": 711
  },
  {
   "cell_type": "markdown",
   "source": [
    "## Paths"
   ],
   "metadata": {
    "collapsed": false
   },
   "id": "df94ac81231e9fbc"
  },
  {
   "cell_type": "code",
   "source": [
    "# Folders\n",
    "root_path = os.path.abspath('../')\n",
    "original_data_path = os.path.join(root_path, 'Original Data')\n",
    "data_path = os.path.join(root_path, 'Data')\n",
    "output_path = os.path.join(root_path, 'Output')"
   ],
   "metadata": {
    "collapsed": false,
    "ExecuteTime": {
     "end_time": "2024-10-10T18:35:36.740530Z",
     "start_time": "2024-10-10T18:35:36.737935Z"
    }
   },
   "id": "1c6a6d9c27799d6a",
   "outputs": [],
   "execution_count": 712
  },
  {
   "metadata": {
    "ExecuteTime": {
     "end_time": "2024-10-10T18:35:36.769599Z",
     "start_time": "2024-10-10T18:35:36.767245Z"
    }
   },
   "cell_type": "code",
   "source": [
    "# Files\n",
    "log_path = os.path.join(output_path, 'Log.txt')\n",
    "duplicates_path = os.path.join(output_path, 'Duplicate GPS Pairs.csv')"
   ],
   "id": "cd83600573202df7",
   "outputs": [],
   "execution_count": 713
  },
  {
   "cell_type": "markdown",
   "source": [
    "## Variables"
   ],
   "metadata": {
    "collapsed": false
   },
   "id": "5da945ccb96fe031"
  },
  {
   "cell_type": "code",
   "source": [
    "# CLIENT\n",
    "CLIENT = 'Highridge Corrosion Services'\n",
    "\n",
    "# VARIABLE TO ENABLE 3D PLOTTING (True or False)\n",
    "PLOT_3D = True\n",
    "\n",
    "# REVERSE DATA ROWS (True or False)\n",
    "REVERSE = False\n",
    "\n",
    "# DATA VISIBILITY WHEN OPENING KMZ FILE (True or False)\n",
    "DATA_VISIBILITY = True\n",
    "\n",
    "# DISTANCE (FT) CUTOFFS BETWEEN GPS POINTS TO BE USED FOR STATISTICS\n",
    "LOWER_CUTOFF = 1\n",
    "UPPER_CUTOFF = 3"
   ],
   "metadata": {
    "collapsed": false,
    "ExecuteTime": {
     "end_time": "2024-10-10T18:35:36.866272Z",
     "start_time": "2024-10-10T18:35:36.863845Z"
    }
   },
   "id": "7c1c9a4c1290d02e",
   "outputs": [],
   "execution_count": 714
  },
  {
   "cell_type": "code",
   "source": [
    "# ICONS\n",
    "ICON_ON = 'https://img.icons8.com/ios-filled/50/FC9CFF/filled-circle.png'\n",
    "ICON_OFF = 'https://img.icons8.com/ios-filled/50/00FF00/filled-circle.png'\n",
    "ICON_NATIVE = 'https://img.icons8.com/ios-filled/50/175082/filled-circle.png'\n",
    "ICON_1200 = 'https://img.icons8.com/ios-filled/50/7950F2/filled-circle.png'\n",
    "ICON_850 = 'https://img.icons8.com/ios-filled/50/F25081/filled-circle.png'\n",
    "ICON_COMMENTS = 'https://img.icons8.com/ultraviolet/80/000000/comments.png'\n",
    "ICON_ACVG = 'https://img.icons8.com/material-rounded/50/6BFF00/sine.png'\n",
    "ICON_PCM = 'https://img.icons8.com/ios-filled/50/FFFFFF/lightning-bolt--v1.png'\n",
    "ICON_PCM_PERCENT = 'https://img.icons8.com/fluency-systems-regular/50/FFFFFF/percentage-circle.png'\n",
    "\n",
    "# SCALE FACTOR (Elevation of points for -0.85V to be 100m, Default = 117.64705882352942)\n",
    "SCALE_FACTOR = 1000\n",
    "\n",
    "# PCM SCALE FACTOR (Elevation of points for max value of 3 to be 100m, Default = 100 / 3)\n",
    "SCALE_PCM = 100 / 3\n",
    "\n",
    "# PCM % SCALE FACTOR (Elevation of points for max value of 100% to be 100m, Default = 50)\n",
    "SCALE_PCM_PERCENT = 50\n",
    "\n",
    "# ICON SCALE (Default = 0.3)\n",
    "ICON_SCALE = 0.2"
   ],
   "metadata": {
    "collapsed": false,
    "ExecuteTime": {
     "end_time": "2024-10-10T18:35:36.939284Z",
     "start_time": "2024-10-10T18:35:36.936580Z"
    }
   },
   "id": "c609f9b57d7ab2c4",
   "outputs": [],
   "execution_count": 715
  },
  {
   "cell_type": "markdown",
   "source": [
    "## Vincenty's Formula"
   ],
   "metadata": {
    "collapsed": false
   },
   "id": "6087cd51a3c2120c"
  },
  {
   "cell_type": "code",
   "source": [
    "class VincentyInverse:\n",
    "    def __init__(self, coord1, coord2, maxiter=200, tol=10 ** -12):\n",
    "        # CONSTANTS\n",
    "        a = 6378137.0  # radius at equator in meters (WGS-84)\n",
    "        f = 1 / 298.257223563  # flattening of the ellipsoid (WGS-84)\n",
    "        b = (1 - f) * a\n",
    "        phi_1, lon_1, = coord1  # (lat=L_?,lon=phi_?)\n",
    "        phi_2, lon_2, = coord2\n",
    "        u_1 = atan((1 - f) * tan(radians(phi_1)))\n",
    "        u_2 = atan((1 - f) * tan(radians(phi_2)))\n",
    "        L = radians(lon_2 - lon_1)\n",
    "        lamda = L  # set initial value of lambda to L\n",
    "        sin_u1 = sin(u_1)\n",
    "        cos_u1 = cos(u_1)\n",
    "        sin_u2 = sin(u_2)\n",
    "        cos_u2 = cos(u_2)\n",
    "\n",
    "        # ITERATIONS\n",
    "        self.iters = 0\n",
    "        for i in range(0, maxiter):\n",
    "            self.iters += 1\n",
    "            cos_lambda = cos(lamda)\n",
    "            sin_lambda = sin(lamda)\n",
    "            sin_sigma = sqrt((cos_u2 * sin(lamda)) ** 2 +\n",
    "                             (cos_u1 * sin_u2 - sin_u1 * cos_u2 * cos_lambda) ** 2)\n",
    "            cos_sigma = sin_u1 * sin_u2 + cos_u1 * cos_u2 * cos_lambda\n",
    "            sigma = atan2(sin_sigma, cos_sigma)\n",
    "            sin_alpha = (cos_u1 * cos_u2 * sin_lambda) / sin_sigma\n",
    "            cos_sq_alpha = 1 - sin_alpha ** 2\n",
    "            cos2_sigma_m = cos_sigma - ((2 * sin_u1 * sin_u2) / cos_sq_alpha)\n",
    "            C = (f / 16) * cos_sq_alpha * (4 + f * (4 - 3 * cos_sq_alpha))\n",
    "            Lambda_prev = lamda\n",
    "            lamda = L + (1 - C) * f * sin_alpha * (sigma + C * sin_sigma *\n",
    "                                                   (cos2_sigma_m + C * cos_sigma *\n",
    "                                                    (-1 + 2 * cos2_sigma_m ** 2)))\n",
    "\n",
    "            # Successful convergence\n",
    "            diff = abs(Lambda_prev - lamda)\n",
    "            if diff <= tol:\n",
    "                break\n",
    "\n",
    "        u_sq = cos_sq_alpha * ((a ** 2 - b ** 2) / b ** 2)\n",
    "        A = 1 + (u_sq / 16384) * (4096 + u_sq * (-768 + u_sq * (320 - 175 * u_sq)))\n",
    "        B = (u_sq / 1024) * (256 + u_sq * (-128 + u_sq * (74 - 47 * u_sq)))\n",
    "        delta_sig = B * sin_sigma * (cos2_sigma_m + 0.25 * B *\n",
    "                                     (cos_sigma * (-1 + 2 * cos2_sigma_m ** 2) -\n",
    "                                      (1 / 6) * B * cos2_sigma_m * (-3 + 4 * sin_sigma ** 2) *\n",
    "                                      (-3 + 4 * cos2_sigma_m ** 2)))\n",
    "\n",
    "        self.m = b * A * (sigma - delta_sig)  # Meters\n",
    "        self.miles = self.m * 0.000621371  # Miles\n",
    "        self.ft = self.miles * 5280  # Feet"
   ],
   "metadata": {
    "collapsed": false,
    "ExecuteTime": {
     "end_time": "2024-10-10T18:35:36.971565Z",
     "start_time": "2024-10-10T18:35:36.964548Z"
    }
   },
   "id": "ede29dcf57a782d6",
   "outputs": [],
   "execution_count": 716
  },
  {
   "cell_type": "markdown",
   "source": "# Data Cleaning",
   "metadata": {
    "collapsed": false
   },
   "id": "2d50de70870fd6f8"
  },
  {
   "metadata": {},
   "cell_type": "markdown",
   "source": "## Folder Management",
   "id": "d6d89a2720c333ba"
  },
  {
   "metadata": {
    "ExecuteTime": {
     "end_time": "2024-10-10T18:35:37.008762Z",
     "start_time": "2024-10-10T18:35:37.005642Z"
    }
   },
   "cell_type": "code",
   "source": [
    "# Replaces data folder with an empty one\n",
    "if os.path.exists(data_path):\n",
    "    shutil.rmtree(data_path)\n",
    "\n",
    "os.makedirs(data_path)"
   ],
   "id": "ec492a1b353170fe",
   "outputs": [],
   "execution_count": 717
  },
  {
   "cell_type": "code",
   "source": [
    "# Replaces output folder with an empty one\n",
    "if os.path.exists(output_path):\n",
    "    shutil.rmtree(output_path)\n",
    "\n",
    "os.makedirs(output_path)"
   ],
   "metadata": {
    "collapsed": false,
    "ExecuteTime": {
     "end_time": "2024-10-10T18:35:37.083990Z",
     "start_time": "2024-10-10T18:35:37.080865Z"
    }
   },
   "id": "1765b77ca98037cb",
   "outputs": [],
   "execution_count": 718
  },
  {
   "metadata": {},
   "cell_type": "markdown",
   "source": "## Log File",
   "id": "c6940757b6f2532b"
  },
  {
   "cell_type": "code",
   "source": [
    "# Removes existing log file, if it exists\n",
    "if os.path.exists(log_path):\n",
    "    os.remove(log_path)\n",
    "\n",
    "# Creates a log file to track information of interest\n",
    "with open(log_path, 'a') as f:\n",
    "    f.write(\"Rows dropped with missing GPS points: \")"
   ],
   "metadata": {
    "collapsed": false,
    "ExecuteTime": {
     "end_time": "2024-10-10T18:35:37.140841Z",
     "start_time": "2024-10-10T18:35:37.137489Z"
    }
   },
   "id": "e1f39b54427721c1",
   "outputs": [],
   "execution_count": 719
  },
  {
   "metadata": {},
   "cell_type": "markdown",
   "source": "## Clean Raw Files",
   "id": "aa0da93d53ad1eb2"
  },
  {
   "cell_type": "code",
   "source": [
    "# List of files contained in the original data folder\n",
    "raw_data_list = os.listdir(original_data_path)\n",
    "\n",
    "# List for files excluding ones starting with '.'\n",
    "filtered_data_list = [file for file in raw_data_list if not file.startswith('.')]\n",
    "\n",
    "# Removes '.DAT' string and changes '.CSV' to lower case in any files that have it\n",
    "for idx, name in enumerate(filtered_data_list):\n",
    "    original_name = os.path.join(original_data_path, name)\n",
    "    new_name = os.path.join(original_data_path, name.replace('.DAT', '').replace('.CSV', '.csv'))\n",
    "    os.rename(original_name, new_name)\n",
    "    filtered_data_list[idx] = name.replace('.DAT', '').replace('.CSV', '.csv')"
   ],
   "metadata": {
    "collapsed": false,
    "ExecuteTime": {
     "end_time": "2024-10-10T18:35:37.169804Z",
     "start_time": "2024-10-10T18:35:37.166316Z"
    }
   },
   "id": "f14b0d756d325a17",
   "outputs": [],
   "execution_count": 720
  },
  {
   "metadata": {},
   "cell_type": "markdown",
   "source": "## Dataframe",
   "id": "ce77610a88e5618b"
  },
  {
   "cell_type": "code",
   "source": [
    "total_miles_list = []  # List for total miles per '.csv' file\n",
    "total_rows_dropped = []  # List for total rows dropped that don't have GPS coordinates\n",
    "i = 0  # Loop counter for station numbers\n",
    "j = 0  # List counter for '.csv' files\n",
    "\n",
    "# Goes through each '.csv' in the folder\n",
    "while j < len(filtered_data_list):\n",
    "    # Create dataframe from a csv file\n",
    "    df_cis = pd.read_csv(os.path.join(original_data_path, filtered_data_list[j]))\n",
    "\n",
    "    # Rename columns\n",
    "    rename_dict = {\n",
    "        'records': 'Station',\n",
    "        'milepost': 'Station',\n",
    "        'ps on': 'On Potential',\n",
    "        'structureps': 'On Potential',\n",
    "        'ps off': 'Off Potential',\n",
    "        'structureirf': 'Off Potential',\n",
    "        'comment': 'Comments',\n",
    "        'comments': 'Comments',\n",
    "        'locationdescription': 'Comments',\n",
    "        'latitude': 'Latitude',\n",
    "        'longitude': 'Longitude'\n",
    "    }\n",
    "\n",
    "    # Replace original names to correct format\n",
    "    df_cis.columns = [rename_dict.get(x.lower(), x) for x in df_cis.columns]\n",
    "\n",
    "    # Columns for dataframe\n",
    "    cols = ['Station', 'On Potential', 'Off Potential', 'Native',\n",
    "            'Comments', 'Latitude', 'Longitude',\n",
    "            'ACVG Indication (dB_V)', 'ACVG Notes', 'PCM Data (Amps)', 'PCM % Change']\n",
    "\n",
    "    # Create dataframe from columns that exist\n",
    "    df_cis = df_cis[df_cis.columns.intersection(cols)]\n",
    "\n",
    "    # Reversing rows for flipped SN\n",
    "    if REVERSE:\n",
    "        # Reversing rows\n",
    "        df_cis.iloc[:, :] = df_cis.iloc[:, :].values[::-1]\n",
    "\n",
    "        # Reordering\n",
    "        df_cis['Station'] = abs(max(df_cis['Station']) - df_cis['Station'])\n",
    "\n",
    "    # Desired columns\n",
    "    cols = ['On Potential', 'Off Potential', 'Native']\n",
    "\n",
    "    for col in cols:\n",
    "        if col in df_cis.columns:\n",
    "            # Delete rows that CIS was skipped and reset the index\n",
    "            df_cis = df_cis.loc[df_cis[col] != 'SKIP'].reset_index(drop=True)\n",
    "\n",
    "            # Convert object columns to numbers\n",
    "            df_cis[col] = pd.to_numeric(df_cis[col], errors='coerce')\n",
    "\n",
    "            # Replace empty values with 0\n",
    "            df_cis[col] = df_cis[col].replace(np.nan, 0)\n",
    "\n",
    "            # Convert positive values to negative\n",
    "            df_cis[col] = df_cis[col].abs() * (-1)\n",
    "\n",
    "            # Replace exact values\n",
    "            df_cis[col] = df_cis[col].replace(-0.85, -0.850001)\n",
    "            df_cis[col] = df_cis[col].replace(-1.2, -1.20001)\n",
    "\n",
    "        # Divide by 1000 if needed\n",
    "        if col in df_cis.columns and abs(df_cis[col].mean()) > 100:\n",
    "            df_cis[col] /= 1000\n",
    "\n",
    "    # Trim white space from comments\n",
    "    df_cis['Comments'] = df_cis['Comments'].str.strip()\n",
    "\n",
    "    # Create 'Distance (ft)' column\n",
    "    df_cis['Distance (ft)'] = 0.00\n",
    "\n",
    "    if 'ACVG Indication (dB_V)' in df_cis.columns:\n",
    "        # Convert object columns to numbers\n",
    "        df_cis['ACVG Indication (dB_V)'] = pd.to_numeric(df_cis['ACVG Indication (dB_V)'],\n",
    "                                                         errors='coerce')\n",
    "\n",
    "        # Replace empty values with 0\n",
    "        df_cis['ACVG Indication (dB_V)'] = df_cis['ACVG Indication (dB_V)'].replace(np.nan, 0)\n",
    "\n",
    "        # Trim white space from comments\n",
    "        df_cis['ACVG Notes'] = df_cis['ACVG Notes'].str.strip()\n",
    "\n",
    "    if 'PCM Data (Amps)' in df_cis.columns:\n",
    "        # Convert object columns to numbers\n",
    "        df_cis['PCM Data (Amps)'] = pd.to_numeric(df_cis['PCM Data (Amps)'], errors='coerce')\n",
    "\n",
    "        # Replace empty values with 0\n",
    "        df_cis['PCM Data (Amps)'] = df_cis['PCM Data (Amps)'].replace(np.nan, 0)\n",
    "\n",
    "    if 'PCM % Change' in df_cis.columns:\n",
    "        # Convert object columns to numbers\n",
    "        df_cis['PCM % Change'] = pd.to_numeric(df_cis['PCM % Change'], errors='coerce')\n",
    "\n",
    "        # Replace empty values with 0\n",
    "        df_cis['PCM % Change'] = df_cis['PCM % Change'].replace(np.nan, 0)\n",
    "        \n",
    "        # Absolute value\n",
    "        df_cis['PCM % Change'] = abs(df_cis['PCM % Change'])\n",
    "\n",
    "    # Initial rows \n",
    "    last_index2 = df_cis.last_valid_index()\n",
    "\n",
    "    # Drop rows that don't have GPS coordinates\n",
    "    df_cis['Latitude'] = df_cis['Latitude'].replace('', np.nan)\n",
    "    df_cis.dropna(subset=['Latitude'], inplace=True)\n",
    "    df_cis.reset_index(drop=True, inplace=True)\n",
    "    last_index = df_cis.last_valid_index()\n",
    "    total_rows_dropped.append(last_index2 - last_index)\n",
    "\n",
    "    # Record number of rows dropped for each file\n",
    "    with open(log_path, 'a') as f:\n",
    "        f.write(f\"{total_rows_dropped[j]}\\n\\n\")\n",
    "\n",
    "    #----------------------------------------------------------------------------------------------\n",
    "    # STATION NUMBERS\n",
    "\n",
    "    # Extract starting station number from '.csv' title\n",
    "    starting_stationing = float(filtered_data_list[j].split('SN')[1].split()[0].replace('+', ''))\n",
    "\n",
    "    # Add 'Stationing (ft)' column to hold calculated stationing values\n",
    "    df_cis['Stationing (ft)'] = ''\n",
    "\n",
    "    # Infers actual station number (XX+XX)\n",
    "    while i <= last_index:\n",
    "        current_station = df_cis.at[i, 'Station']\n",
    "        stationing_ft = str(starting_stationing + current_station).split('.')[0]\n",
    "        string_length = len(stationing_ft)\n",
    "\n",
    "        if -100 < (starting_stationing + current_station) < 0:\n",
    "            station_value = stationing_ft.replace('-', '')\n",
    "            df_cis.at[i, 'Stationing (ft)'] = (\n",
    "                f\" -0{station_value[:string_length - 2]}+{station_value[string_length - 2:]}\")\n",
    "\n",
    "        elif 0 <= (starting_stationing + current_station) < 100:\n",
    "            df_cis.at[i, 'Stationing (ft)'] = (\n",
    "                f\" 0{stationing_ft[:string_length - 2]}+{stationing_ft[string_length - 2:]}\")\n",
    "\n",
    "        else:\n",
    "            df_cis.at[i, 'Stationing (ft)'] = (\n",
    "                f\"{stationing_ft[:string_length - 2]}+{stationing_ft[string_length - 2:]}\")\n",
    "\n",
    "        # Last row exception\n",
    "        if i != last_index:\n",
    "            # Calculates distance between GPS coordinates and stationing (ft)\n",
    "            try:\n",
    "                df_cis.at[i + 1, 'Distance (ft)'] = VincentyInverse(\n",
    "                    [df_cis.at[i, 'Latitude'], df_cis.at[i, 'Longitude']],\n",
    "                    [df_cis.at[i + 1, 'Latitude'], df_cis.at[i + 1, 'Longitude']]).ft\n",
    "\n",
    "            except ZeroDivisionError:\n",
    "                df_cis.at[i + 1, 'Distance (ft)'] = 0\n",
    "\n",
    "        # Counters\n",
    "        i += 1\n",
    "\n",
    "    # Copy of dataframe for statistics\n",
    "    df_cis_stats = df_cis.copy()\n",
    "    df_cis_stats = df_cis_stats[(LOWER_CUTOFF < df_cis_stats['Station'].diff().abs()) &\n",
    "                                (df_cis_stats['Station'].diff().abs() <= UPPER_CUTOFF)]\n",
    "\n",
    "    # Calculates mean between GPS coordinates\n",
    "    mean = df_cis_stats['Distance (ft)'][1:].mean()\n",
    "\n",
    "    # Calculates mode between GPS coordinates\n",
    "    mode = df_cis_stats['Distance (ft)'].round(1).mode()\n",
    "\n",
    "    # Calculates standard deviation between GPS coordinates\n",
    "    std = df_cis_stats['Distance (ft)'][1:].std()\n",
    "\n",
    "    # Identify Outliers using Z-score\n",
    "    z_scores = np.abs(stats.zscore(df_cis_stats['Distance (ft)']))\n",
    "    df_cis_stats['z_scores'] = z_scores\n",
    "    df_outliers = df_cis_stats[df_cis_stats['z_scores'] > 2.576][['Stationing (ft)',\n",
    "                                                                  'Distance (ft)']]\n",
    "\n",
    "    # Total count of data within the distance cutoff\n",
    "    total_count = df_cis_stats['Distance (ft)'].round(1).count()\n",
    "\n",
    "    # Count of data that have the same value as the mode\n",
    "    cutoff_count = df_cis_stats[(LOWER_CUTOFF < df_cis_stats['Distance (ft)']) &\n",
    "                                (df_cis_stats['Distance (ft)'] <= UPPER_CUTOFF)].count().iat[0]\n",
    "\n",
    "    # Records total miles in a list\n",
    "    total_miles_list.append(max(df_cis['Station']) / 5280)\n",
    "\n",
    "    # Export to '.csv'\n",
    "    df_cis.to_csv(os.path.join(data_path, filtered_data_list[j]), index=False)\n",
    "    df_outliers.to_csv(os.path.join(output_path, 'GPS Outliers.csv'), index=False)\n",
    "\n",
    "    # Counters\n",
    "    i = 0\n",
    "    j += 1"
   ],
   "metadata": {
    "collapsed": false,
    "ExecuteTime": {
     "end_time": "2024-10-10T18:35:37.287515Z",
     "start_time": "2024-10-10T18:35:37.259437Z"
    }
   },
   "id": "ca8cc75b0f341d29",
   "outputs": [],
   "execution_count": 721
  },
  {
   "cell_type": "markdown",
   "source": [
    "## Create Google Earth Folders"
   ],
   "metadata": {
    "collapsed": false
   },
   "id": "90d0bb4d93df8728"
  },
  {
   "cell_type": "code",
   "source": [
    "cis_kmz = []  # List for '.kmz' files\n",
    "type_folders = []  # List for folders\n",
    "total_folders = 9\n",
    "current_mile = 1\n",
    "k = 0  # List counter for type folders\n",
    "j = 0  # List counter for '.csv' files\n",
    "i = 0  # List counter for '.kmz' files based on miles\n",
    "\n",
    "# Create CIS survey '.kmz' files per mile #\n",
    "while j < len(total_miles_list):\n",
    "    miles_remaining = round(total_miles_list[j], 2)\n",
    "\n",
    "    # Create type folders\n",
    "    while miles_remaining > 0:\n",
    "        # Separate folders by mile\n",
    "        cis_kmz.append(f\"{filtered_data_list[j].split('.csv', 1)[0]} (Mile {current_mile})\")\n",
    "        cis_kmz[i] = simplekml.Kml()\n",
    "\n",
    "        # Create list placeholders for folders\n",
    "        for l in range(total_folders):\n",
    "            type_folders.append('')\n",
    "\n",
    "        type_folders[k + 0] = cis_kmz[i].newfolder(name='On')\n",
    "        type_folders[k + 1] = cis_kmz[i].newfolder(name='Off')\n",
    "\n",
    "        if 'Native' in df_cis.columns:\n",
    "            type_folders[k + 2] = cis_kmz[i].newfolder(name='Native')\n",
    "\n",
    "        type_folders[k + 3] = cis_kmz[i].newfolder(name='Comments')\n",
    "        type_folders[k + 4] = cis_kmz[i].newfolder(name='-1.2 V')\n",
    "        type_folders[k + 5] = cis_kmz[i].newfolder(name='-0.85 V')\n",
    "\n",
    "        if 'ACVG Indication (dB_V)' in df_cis.columns:\n",
    "            type_folders[k + 6] = cis_kmz[i].newfolder(name='ACVG Indication')\n",
    "\n",
    "        if 'PCM Data (Amps)' in df_cis.columns:\n",
    "            type_folders[k + 7] = cis_kmz[i].newfolder(name='PCM (Amps)')\n",
    "\n",
    "        if 'PCM % Change' in df_cis.columns:\n",
    "            type_folders[k + 8] = cis_kmz[i].newfolder(name='PCM (%)')\n",
    "\n",
    "        # Save to '.kmz'\n",
    "        kmz_name = f\"{filtered_data_list[j].split('.csv', 1)[0]} (Mile {current_mile}).kmz\"\n",
    "        cis_kmz[i].savekmz(os.path.join(root_path, 'Output', kmz_name))\n",
    "\n",
    "        # Counters\n",
    "        current_mile += 1\n",
    "        miles_remaining -= 1\n",
    "\n",
    "        if 0 < miles_remaining < 1:\n",
    "            current_mile = round(total_miles_list[j], 2)\n",
    "\n",
    "        i += 1\n",
    "        k += total_folders\n",
    "\n",
    "    # Counters\n",
    "    j += 1\n",
    "    current_mile = 1"
   ],
   "metadata": {
    "collapsed": false,
    "ExecuteTime": {
     "end_time": "2024-10-10T18:35:37.296266Z",
     "start_time": "2024-10-10T18:35:37.288714Z"
    }
   },
   "id": "484295ba24e627d6",
   "outputs": [],
   "execution_count": 722
  },
  {
   "cell_type": "markdown",
   "source": [
    "# CIS Data"
   ],
   "metadata": {
    "collapsed": false
   },
   "id": "6acce1af236c8190"
  },
  {
   "cell_type": "markdown",
   "source": [
    "## On"
   ],
   "metadata": {
    "collapsed": false
   },
   "id": "19940d4e9c4dc1d4"
  },
  {
   "cell_type": "code",
   "source": [
    "feet_counter = 5280\n",
    "style = simplekml.Style()\n",
    "i = 0  # Loop counter for rows\n",
    "j = 0  # Loop counter for '.csv' files\n",
    "k = 0  # Loop counter for type folders (0 = 'On')\n",
    "kmz_file = 0\n",
    "\n",
    "# Goes through all '.csv' files\n",
    "while j < len(filtered_data_list) and 'On Potential' in df_cis.columns and PLOT_3D:\n",
    "    df_cis_on = pd.read_csv(os.path.join(data_path, filtered_data_list[j]))\n",
    "    df_cis_on = df_cis_on[df_cis_on['On Potential'] != 0]\n",
    "    df_cis_on = df_cis_on[['Station', 'Stationing (ft)', 'Comments', 'Longitude',\n",
    "                           'Latitude', 'On Potential']].reset_index(drop=True)\n",
    "    df_cis_on['On Potential'] = df_cis_on['On Potential'] * (-1)\n",
    "    last_index = df_cis_on.last_valid_index()\n",
    "    on_measurements = last_index + 1\n",
    "    miles_remaining = round(total_miles_list[j], 2)\n",
    "\n",
    "    # Create '.kmz' files for each mile #\n",
    "    while miles_remaining > 0:\n",
    "        # Create 3D data points\n",
    "        while i <= last_index and df_cis_on.at[i, 'Station'] < feet_counter:\n",
    "            # Break loop if there are no 'On' potentials\n",
    "            if df_cis_on.shape[0] == 0:\n",
    "                break\n",
    "\n",
    "            pnt = type_folders[k].newpoint(name=df_cis_on.at[i, 'On Potential'] * (-1),\n",
    "                                           visibility=DATA_VISIBILITY)\n",
    "            pnt.style.balloonstyle.text = (\n",
    "                f\"Potential (On): -{df_cis_on.at[i, 'On Potential'] * 1000} mV\\n\"\n",
    "                f\"Longitude: {df_cis_on.at[i, 'Longitude']}\\n\"\n",
    "                f\"Latitude: {df_cis_on.at[i, 'Latitude']}\\n\")\n",
    "                # f\"Station (ft): {df_cis_on.at[i, 'Stationing (ft)']}\")\n",
    "            pnt.coords = [(df_cis_on.at[i, 'Longitude'], df_cis_on.at[i, 'Latitude'],\n",
    "                           df_cis_on.at[i, 'On Potential'] * SCALE_FACTOR)]\n",
    "            pnt.altitudemode = simplekml.AltitudeMode.relativetoground\n",
    "            pnt.style.iconstyle.icon.href = ICON_ON\n",
    "            pnt.style.linestyle.width = 0.01\n",
    "            pnt.style.linestyle.color = simplekml.Color.rgb(255, 255, 255, round(255 * 0.15))\n",
    "            pnt.style.iconstyle.scale = ICON_SCALE\n",
    "            pnt.style.labelstyle.scale = 0\n",
    "            pnt.extrude = 1\n",
    "\n",
    "            # Counters\n",
    "            i += 1\n",
    "\n",
    "        # Save to '.kmz'\n",
    "        kmz_name = f\"{filtered_data_list[j].split('.csv', 1)[0]} (Mile {current_mile}).kmz\"\n",
    "        cis_kmz[kmz_file].savekmz(os.path.join(output_path, kmz_name))\n",
    "\n",
    "        # Counters\n",
    "        current_mile += 1\n",
    "        miles_remaining -= 1\n",
    "\n",
    "        if 0 < miles_remaining < 1:\n",
    "            current_mile = round(total_miles_list[j], 2)\n",
    "\n",
    "        feet_counter += 5280\n",
    "        kmz_file += 1\n",
    "        k += total_folders\n",
    "\n",
    "    # Counters\n",
    "    feet_counter = 5280\n",
    "    current_mile = 1\n",
    "    i = 0\n",
    "    j += 1\n",
    "\n",
    "# Counters\n",
    "j = 0\n",
    "kmz_file = 0"
   ],
   "metadata": {
    "collapsed": false,
    "ExecuteTime": {
     "end_time": "2024-10-10T18:35:37.362Z",
     "start_time": "2024-10-10T18:35:37.339289Z"
    }
   },
   "id": "f5518baf9b8f1cb3",
   "outputs": [],
   "execution_count": 723
  },
  {
   "cell_type": "code",
   "source": [
    "# Record duplicate GPS coordinates in a '.csv' file\n",
    "if PLOT_3D:\n",
    "    df_duplicates = df_cis_on[df_cis_on.duplicated(subset=['Longitude', 'Latitude'], keep=False)]\n",
    "    df_duplicates.to_csv(duplicates_path, index=False)"
   ],
   "metadata": {
    "collapsed": false,
    "ExecuteTime": {
     "end_time": "2024-10-10T18:35:37.415992Z",
     "start_time": "2024-10-10T18:35:37.411994Z"
    }
   },
   "id": "540a6a3c2da351d",
   "outputs": [],
   "execution_count": 724
  },
  {
   "cell_type": "markdown",
   "source": [
    "## Off"
   ],
   "metadata": {
    "collapsed": false
   },
   "id": "f8ab0b3f4442f8e7"
  },
  {
   "cell_type": "code",
   "source": [
    "k = 1  # Loop counter for type folders (1 = 'Off')\n",
    "off_measurements = 0\n",
    "\n",
    "# Goes through all '.csv' files\n",
    "while j < len(filtered_data_list) and 'Off Potential' in df_cis.columns and PLOT_3D:\n",
    "    df_cis_off = pd.read_csv(os.path.join(data_path, filtered_data_list[j]))\n",
    "    df_cis_off = df_cis_off[df_cis_off['Off Potential'] != 0]\n",
    "    df_cis_off = df_cis_off[['Station', 'Stationing (ft)', 'Longitude', 'Latitude',\n",
    "                             'Off Potential']].reset_index(drop=True)\n",
    "    df_cis_off['Off Potential'] = df_cis_off['Off Potential'] * (-1)\n",
    "    last_index = df_cis_off.last_valid_index()\n",
    "    off_measurements = last_index + 1\n",
    "    miles_remaining = round(total_miles_list[j], 2)\n",
    "\n",
    "    # Create '.kmz' files for each mile #\n",
    "    while miles_remaining > 0:\n",
    "        # Create 3D data points\n",
    "        while i <= last_index and df_cis_off.at[i, 'Station'] < feet_counter:\n",
    "            # Break loop if there are no 'Off' potentials\n",
    "            if df_cis_off.shape[0] == 0:\n",
    "                break\n",
    "\n",
    "            pnt = type_folders[k].newpoint(name=df_cis_off.at[i, 'Off Potential'] * (-1),\n",
    "                                           visibility=DATA_VISIBILITY)\n",
    "            pnt.style.balloonstyle.text = (\n",
    "                f\"Potential (Off): -{df_cis_off.at[i, 'Off Potential']} V\\n\"\n",
    "                f\"Longitude: {df_cis_off.at[i, 'Longitude']}\\n\"\n",
    "                f\"Latitude: {df_cis_off.at[i, 'Latitude']}\\n\"\n",
    "                f\"Station (ft): {df_cis_off.at[i, 'Stationing (ft)']}\")\n",
    "            pnt.coords = [(df_cis_off.at[i, 'Longitude'], df_cis_off.at[i, 'Latitude'],\n",
    "                           df_cis_off.at[i, 'Off Potential'] * SCALE_FACTOR)]\n",
    "            pnt.altitudemode = simplekml.AltitudeMode.relativetoground\n",
    "            pnt.style.iconstyle.icon.href = ICON_OFF\n",
    "            pnt.style.iconstyle.scale = ICON_SCALE\n",
    "            pnt.style.linestyle.width = 0.01\n",
    "            pnt.style.linestyle.color = simplekml.Color.rgb(255, 255, 255, round(255 * 0.15))\n",
    "            pnt.style.labelstyle.scale = 0\n",
    "            pnt.extrude = 1\n",
    "\n",
    "            # Counters\n",
    "            i += 1\n",
    "\n",
    "        # Save to '.kmz'\n",
    "        kmz_name = f\"{filtered_data_list[j].split('.csv', 1)[0]} (Mile {current_mile}).kmz\"\n",
    "        cis_kmz[kmz_file].savekmz(os.path.join(output_path, kmz_name))\n",
    "\n",
    "        # Counters\n",
    "        current_mile += 1\n",
    "        miles_remaining -= 1\n",
    "\n",
    "        if 0 < miles_remaining < 1:\n",
    "            current_mile = round(total_miles_list[j], 2)\n",
    "\n",
    "        feet_counter += 5280\n",
    "        kmz_file += 1\n",
    "        k += total_folders\n",
    "\n",
    "    # Counters\n",
    "    feet_counter = 5280\n",
    "    current_mile = 1\n",
    "    i = 0\n",
    "    j += 1\n",
    "\n",
    "# Counters\n",
    "j = 0\n",
    "kmz_file = 0"
   ],
   "metadata": {
    "collapsed": false,
    "ExecuteTime": {
     "end_time": "2024-10-10T18:35:37.502115Z",
     "start_time": "2024-10-10T18:35:37.495352Z"
    }
   },
   "id": "1156516e922065ef",
   "outputs": [],
   "execution_count": 725
  },
  {
   "metadata": {},
   "cell_type": "markdown",
   "source": "## Native",
   "id": "da7136d675f79c86"
  },
  {
   "metadata": {
    "ExecuteTime": {
     "end_time": "2024-10-10T18:35:37.549962Z",
     "start_time": "2024-10-10T18:35:37.543521Z"
    }
   },
   "cell_type": "code",
   "source": [
    "k = 2  # Loop counter for type folders (2 = 'Native')\n",
    "\n",
    "# Goes through all '.csv' files\n",
    "while j < len(filtered_data_list) and 'Native' in df_cis.columns and PLOT_3D:\n",
    "    df_cis_native = pd.read_csv(os.path.join(data_path, filtered_data_list[j]))\n",
    "    df_cis_native = df_cis_native[df_cis_native['Native'] != 0]\n",
    "    df_cis_native = df_cis_native[['Station', 'Stationing (ft)', 'Longitude', 'Latitude',\n",
    "                                   'Native']].reset_index(drop=True)\n",
    "    df_cis_native['Native'] = df_cis_native['Native'] * (-1)\n",
    "    last_index = df_cis_native.last_valid_index()\n",
    "    off_measurements = last_index + 1\n",
    "    miles_remaining = round(total_miles_list[j], 2)\n",
    "\n",
    "    # Create '.kmz' files for each mile #\n",
    "    while miles_remaining > 0:\n",
    "        # Create 3D data points\n",
    "        while i <= last_index and df_cis_native.at[i, 'Station'] < feet_counter:\n",
    "            # Break loop if there are no 'Native' potentials\n",
    "            if df_cis_native.shape[0] == 0:\n",
    "                break\n",
    "\n",
    "            pnt = type_folders[k].newpoint(name=df_cis_native.at[i, 'Native'] * (-1),\n",
    "                                           visibility=DATA_VISIBILITY)\n",
    "            pnt.style.balloonstyle.text = (\n",
    "                f\"Potential (Native): -{df_cis_native.at[i, 'Native']} V\\n\"\n",
    "                f\"Longitude: {df_cis_native.at[i, 'Longitude']}\\n\"\n",
    "                f\"Latitude: {df_cis_native.at[i, 'Latitude']}\\n\"\n",
    "                f\"Station (ft): {df_cis_native.at[i, 'Stationing (ft)']}\")\n",
    "            pnt.coords = [(df_cis_native.at[i, 'Longitude'], df_cis_native.at[i, 'Latitude'],\n",
    "                           df_cis_native.at[i, 'Native'] * SCALE_FACTOR)]\n",
    "            pnt.altitudemode = simplekml.AltitudeMode.relativetoground\n",
    "            pnt.style.iconstyle.icon.href = ICON_NATIVE\n",
    "            pnt.style.iconstyle.scale = ICON_SCALE\n",
    "            pnt.style.labelstyle.scale = 0\n",
    "            pnt.extrude = 0\n",
    "\n",
    "            # Counters\n",
    "            i += 1\n",
    "\n",
    "        # Save to '.kmz'\n",
    "        kmz_name = f\"{filtered_data_list[j].split('.csv', 1)[0]} (Mile {current_mile}).kmz\"\n",
    "        cis_kmz[kmz_file].savekmz(os.path.join(output_path, kmz_name))\n",
    "\n",
    "        # Counters\n",
    "        current_mile += 1\n",
    "        miles_remaining -= 1\n",
    "\n",
    "        if 0 < miles_remaining < 1:\n",
    "            current_mile = round(total_miles_list[j], 2)\n",
    "\n",
    "        feet_counter += 5280\n",
    "        kmz_file += 1\n",
    "        k += total_folders\n",
    "\n",
    "    # Counters\n",
    "    feet_counter = 5280\n",
    "    current_mile = 1\n",
    "    i = 0\n",
    "    j += 1\n",
    "\n",
    "# Counters\n",
    "j = 0\n",
    "kmz_file = 0"
   ],
   "id": "ace636848f9dce50",
   "outputs": [],
   "execution_count": 726
  },
  {
   "cell_type": "markdown",
   "source": [
    "## Comments"
   ],
   "metadata": {
    "collapsed": false
   },
   "id": "818a6aadca1f7a72"
  },
  {
   "cell_type": "code",
   "source": [
    "k = 3  # Loop counter for type folders (3 = 'Comments')\n",
    "\n",
    "# Goes through all '.csv' files\n",
    "while j < len(filtered_data_list) and 'Comments' in df_cis.columns and PLOT_3D:\n",
    "    df_cis_comments = pd.read_csv(os.path.join(data_path, filtered_data_list[j]))\n",
    "    df_cis_comments.dropna(subset=['Comments'], inplace=True)\n",
    "    df_cis_comments.reset_index(drop=True, inplace=True)\n",
    "    last_index = df_cis_comments.last_valid_index()\n",
    "    miles_remaining = round(total_miles_list[j], 2)\n",
    "\n",
    "    # Create '.kmz' files for each mile #\n",
    "    while miles_remaining > 0:\n",
    "        # Create 3D data points\n",
    "        while i <= last_index and df_cis_comments.at[i, 'Station'] < feet_counter:\n",
    "            # Break loop if there are no comments\n",
    "            if df_cis_comments.shape[0] == 0:\n",
    "                break\n",
    "\n",
    "            pnt = type_folders[k].newpoint(name=df_cis_comments.at[i, 'Comments'],\n",
    "                                           visibility=DATA_VISIBILITY)\n",
    "            pnt.style.balloonstyle.text = ''\n",
    "\n",
    "            if 'On Potential' in df_cis.columns:\n",
    "                potential_on = df_cis_comments.at[i, 'On Potential'].__str__() + ' V'\n",
    "                pnt.style.balloonstyle.text += f\"Potential (On): {potential_on}\\n\"\n",
    "\n",
    "            if 'Off Potential' in df_cis.columns:\n",
    "                potential_off = df_cis_comments.at[i, 'Off Potential'].__str__() + ' V'\n",
    "                pnt.style.balloonstyle.text += f\"Potential (Off): {potential_off}\\n\"\n",
    "\n",
    "            if 'Native' in df_cis.columns:\n",
    "                potential_native = df_cis_comments.at[i, 'Native'].__str__() + ' V'\n",
    "                pnt.style.balloonstyle.text += f\"Potential (Native): {potential_native}\\n\"\n",
    "\n",
    "            pnt.style.balloonstyle.text += (\n",
    "                f\"Longitude: {df_cis_comments.at[i, 'Longitude']}\\n\"\n",
    "                f\"Latitude: {df_cis_comments.at[i, 'Latitude']}\\n\"\n",
    "                f\"Station (ft): {df_cis_comments.at[i, 'Stationing (ft)']}\\n\"\n",
    "                f\"Comment: {df_cis_comments.at[i, 'Comments']}\")\n",
    "\n",
    "            pnt.coords = [(df_cis_comments.at[i, 'Longitude'],\n",
    "                           df_cis_comments.at[i, 'Latitude'], 0)]\n",
    "            pnt.altitudemode = simplekml.AltitudeMode.relativetoground\n",
    "            pnt.style.iconstyle.icon.href = ICON_COMMENTS\n",
    "            pnt.style.iconstyle.scale = ICON_SCALE * 1.5\n",
    "            pnt.style.labelstyle.scale = 0.5\n",
    "\n",
    "            # Counters\n",
    "            i += 1\n",
    "\n",
    "        # Export to '.kmz'\n",
    "        kmz_name = f\"{filtered_data_list[j].split('.csv', 1)[0]} (Mile {current_mile}).kmz\"\n",
    "        cis_kmz[kmz_file].savekmz(os.path.join(output_path, kmz_name))\n",
    "\n",
    "        # Counters\n",
    "        current_mile += 1\n",
    "        miles_remaining -= 1\n",
    "\n",
    "        if 0 < miles_remaining < 1:\n",
    "            current_mile = round(total_miles_list[j], 2)\n",
    "\n",
    "        feet_counter += 5280\n",
    "        kmz_file += 1\n",
    "        k += total_folders\n",
    "\n",
    "    # Counters\n",
    "    feet_counter = 5280\n",
    "    current_mile = 1\n",
    "    i = 0\n",
    "    j += 1\n",
    "\n",
    "# Counters\n",
    "j = 0\n",
    "kmz_file = 0"
   ],
   "metadata": {
    "collapsed": false,
    "ExecuteTime": {
     "end_time": "2024-10-10T18:35:37.594775Z",
     "start_time": "2024-10-10T18:35:37.573689Z"
    }
   },
   "id": "abdf3743777de556",
   "outputs": [],
   "execution_count": 727
  },
  {
   "cell_type": "markdown",
   "source": [
    "## -1.2 V"
   ],
   "metadata": {
    "collapsed": false
   },
   "id": "1a1751bc186d5651"
  },
  {
   "cell_type": "code",
   "source": [
    "k = 4  # Loop counter for type folders (4 = '-1.2 V')\n",
    "\n",
    "# Goes through all '.csv' files\n",
    "while j < len(filtered_data_list) and PLOT_3D:\n",
    "    df_cis_1200 = pd.read_csv(os.path.join(data_path, filtered_data_list[j]))\n",
    "    last_index = df_cis_1200.last_valid_index()\n",
    "    miles_remaining = round(total_miles_list[j], 2)\n",
    "\n",
    "    # Create '.kmz' files for each mile #\n",
    "    while miles_remaining > 0:\n",
    "        # Create 3D data points\n",
    "        while i <= last_index and df_cis_1200.at[i, 'Station'] < feet_counter:\n",
    "            pnt = type_folders[k].newpoint(name='-1.200', visibility=DATA_VISIBILITY)\n",
    "            pnt.style.balloonstyle.text = 'Potential: -1.2 V'\n",
    "            pnt.coords = [(df_cis_1200.at[i, 'Longitude'], df_cis_1200.at[i, 'Latitude'],\n",
    "                           1.2 * SCALE_FACTOR)]\n",
    "            pnt.altitudemode = simplekml.AltitudeMode.relativetoground\n",
    "            pnt.style.iconstyle.icon.href = ICON_1200\n",
    "            pnt.style.iconstyle.scale = ICON_SCALE\n",
    "            pnt.style.labelstyle.scale = 0\n",
    "            pnt.extrude = 0\n",
    "\n",
    "            # Counters\n",
    "            i += 1\n",
    "\n",
    "        # Save to '.kmz'\n",
    "        kmz_name = f\"{filtered_data_list[j].split('.csv', 1)[0]} (Mile {current_mile}).kmz\"\n",
    "        cis_kmz[kmz_file].savekmz(os.path.join(output_path, kmz_name))\n",
    "\n",
    "        # Counters\n",
    "        current_mile += 1\n",
    "        miles_remaining -= 1\n",
    "\n",
    "        if 0 < miles_remaining < 1:\n",
    "            current_mile = round(total_miles_list[j], 2)\n",
    "\n",
    "        feet_counter += 5280\n",
    "        kmz_file += 1\n",
    "        k += total_folders\n",
    "\n",
    "    # Counters\n",
    "    feet_counter = 5280\n",
    "    current_mile = 1\n",
    "    i = 0\n",
    "    j += 1\n",
    "\n",
    "# Counters\n",
    "j = 0\n",
    "kmz_file = 0"
   ],
   "metadata": {
    "collapsed": false,
    "ExecuteTime": {
     "end_time": "2024-10-10T18:35:37.663276Z",
     "start_time": "2024-10-10T18:35:37.635011Z"
    }
   },
   "id": "5cde780ff8eff497",
   "outputs": [],
   "execution_count": 728
  },
  {
   "cell_type": "markdown",
   "source": [
    "## -0.85 V"
   ],
   "metadata": {
    "collapsed": false
   },
   "id": "58de2af4e8e215a3"
  },
  {
   "cell_type": "code",
   "source": [
    "k = 5  # Loop counter for type folders (5 = '-0.85 V')\n",
    "\n",
    "# Goes through all '.csv' files\n",
    "while j < len(filtered_data_list) and PLOT_3D:\n",
    "    df_cis_850 = pd.read_csv(os.path.join(data_path, filtered_data_list[j]))\n",
    "    last_index = df_cis_850.last_valid_index()\n",
    "    miles_remaining = round(total_miles_list[j], 2)\n",
    "\n",
    "    # Create '.kmz' files for each mile #\n",
    "    while miles_remaining > 0:\n",
    "        # Create 3D data points\n",
    "        while i <= last_index and df_cis_850.at[i, 'Station'] < feet_counter:\n",
    "            pnt = type_folders[k].newpoint(name='-0.850', visibility=DATA_VISIBILITY)\n",
    "            pnt.style.balloonstyle.text = 'Potential: -0.85 V'\n",
    "            pnt.coords = [(df_cis_850.at[i, 'Longitude'], df_cis_850.at[i, 'Latitude'],\n",
    "                           0.85 * SCALE_FACTOR)]\n",
    "            pnt.altitudemode = simplekml.AltitudeMode.relativetoground\n",
    "            pnt.style.iconstyle.icon.href = ICON_850\n",
    "            pnt.style.iconstyle.scale = ICON_SCALE\n",
    "            pnt.style.labelstyle.scale = 0\n",
    "            pnt.extrude = 0\n",
    "            pnt.style.linestyle.width = 0.01\n",
    "            pnt.style.linestyle.color = simplekml.Color.rgb(255, 255, 255, round(255 * 0.15))\n",
    "\n",
    "            # Counters\n",
    "            i += 1\n",
    "\n",
    "        # Save to '.kmz'\n",
    "        kmz_name = f\"{filtered_data_list[j].split('.csv', 1)[0]} (Mile {current_mile}).kmz\"\n",
    "        cis_kmz[kmz_file].savekmz(os.path.join(output_path, kmz_name))\n",
    "\n",
    "        # Counters\n",
    "        current_mile += 1\n",
    "        miles_remaining -= 1\n",
    "\n",
    "        if 0 < miles_remaining < 1:\n",
    "            current_mile = round(total_miles_list[j], 2)\n",
    "\n",
    "        feet_counter += 5280\n",
    "        kmz_file += 1\n",
    "        k += total_folders\n",
    "\n",
    "    # Counters\n",
    "    feet_counter = 5280\n",
    "    current_mile = 1\n",
    "    i = 0\n",
    "    j += 1\n",
    "\n",
    "# Counters\n",
    "j = 0\n",
    "kmz_file = 0"
   ],
   "metadata": {
    "collapsed": false,
    "ExecuteTime": {
     "end_time": "2024-10-10T18:35:37.707900Z",
     "start_time": "2024-10-10T18:35:37.669132Z"
    }
   },
   "id": "7898ce1607c10d0b",
   "outputs": [],
   "execution_count": 729
  },
  {
   "metadata": {},
   "cell_type": "markdown",
   "source": "## ACVG",
   "id": "b3ffc53c1f6b5a0e"
  },
  {
   "metadata": {
    "ExecuteTime": {
     "end_time": "2024-10-10T18:35:37.767862Z",
     "start_time": "2024-10-10T18:35:37.760978Z"
    }
   },
   "cell_type": "code",
   "source": [
    "k = 6  # Loop counter for type folders (6 = \"ACVG Indication (dB_V)\")\n",
    "\n",
    "# Goes through all '.csv' files\n",
    "while j < len(filtered_data_list) and 'ACVG Indication (dB_V)' in df_cis.columns and PLOT_3D:\n",
    "    df_cis_acvg = pd.read_csv(os.path.join(data_path, filtered_data_list[j]))\n",
    "    df_cis_acvg = df_cis_acvg[df_cis_acvg['ACVG Indication (dB_V)'] != 0]\n",
    "    df_cis_acvg = df_cis_acvg[['Station', 'Stationing (ft)', 'Longitude', 'Latitude',\n",
    "                               'On Potential', 'Off Potential',\n",
    "                               'ACVG Indication (dB_V)', 'ACVG Notes']].reset_index(drop=True)\n",
    "    last_index = df_cis_acvg.last_valid_index()\n",
    "    miles_remaining = round(total_miles_list[j], 2)\n",
    "\n",
    "    # Create '.kmz' files for each mile #\n",
    "    while miles_remaining > 0:\n",
    "        # Create 3D data points\n",
    "        while i <= last_index and df_cis_acvg.at[i, 'Station'] < feet_counter:\n",
    "            # Break loop if there are no ACVG values\n",
    "            if df_cis_acvg.shape[0] == 0:\n",
    "                break\n",
    "\n",
    "            pnt = type_folders[k].newpoint(name=df_cis_acvg.at[i, 'ACVG Indication (dB_V)'],\n",
    "                                           visibility=DATA_VISIBILITY)\n",
    "\n",
    "            if pd.isnull(df_cis_acvg.at[i, 'ACVG Notes']):\n",
    "                pnt.style.balloonstyle.text = (\n",
    "                    f\"ACVG Indication: {df_cis_acvg.at[i, 'ACVG Indication (dB_V)']} dB/V\\n\"\n",
    "                    f\"ID: {df_cis_acvg.index[i] + 1}\\n\"\n",
    "                    f\"Longitude: {df_cis_acvg.at[i, 'Longitude']}\\n\"\n",
    "                    f\"Latitude: {df_cis_acvg.at[i, 'Latitude']}\\n\"\n",
    "                    f\"Station (ft): {df_cis_acvg.at[i, 'Stationing (ft)']}\")\n",
    "\n",
    "            else:\n",
    "                pnt.style.balloonstyle.text = (\n",
    "                    f\"ACVG Indication: {df_cis_acvg.at[i, 'ACVG Indication (dB_V)']} dB/V\\n\"\n",
    "                    f\"ID: {df_cis_acvg.index[i] + 1}\\n\"\n",
    "                    f\"Longitude: {df_cis_acvg.at[i, 'Longitude']}\\n\"\n",
    "                    f\"Latitude: {df_cis_acvg.at[i, 'Latitude']}\\n\"\n",
    "                    f\"Station (ft): {df_cis_acvg.at[i, 'Stationing (ft)']}\\n\"\n",
    "                    f\"Comment: {df_cis_acvg.at[i, 'ACVG Notes']}\")\n",
    "\n",
    "            pnt.coords = [(df_cis_acvg.at[i, 'Longitude'], df_cis_acvg.at[i, 'Latitude'],\n",
    "                           df_cis_acvg.at[i, 'ACVG Indication (dB_V)'])]\n",
    "            pnt.altitudemode = simplekml.AltitudeMode.relativetoground\n",
    "            pnt.style.iconstyle.icon.href = ICON_ACVG\n",
    "            pnt.style.iconstyle.scale = ICON_SCALE + 0.5\n",
    "            pnt.style.labelstyle.scale = 0\n",
    "\n",
    "            # Counters\n",
    "            i += 1\n",
    "\n",
    "        # Save to '.kmz'\n",
    "        kmz_name = f\"{filtered_data_list[j].split('.csv', 1)[0]} (Mile {current_mile}).kmz\"\n",
    "        cis_kmz[kmz_file].savekmz(os.path.join(output_path, kmz_name))\n",
    "\n",
    "        # Counters\n",
    "        current_mile += 1\n",
    "        miles_remaining -= 1\n",
    "\n",
    "        if 0 < miles_remaining < 1:\n",
    "            current_mile = round(total_miles_list[j], 2)\n",
    "\n",
    "        feet_counter += 5280\n",
    "        kmz_file += 1\n",
    "        k += total_folders\n",
    "\n",
    "    # Counters\n",
    "    feet_counter = 5280\n",
    "    current_mile = 1\n",
    "    i = 0\n",
    "    j += 1\n",
    "\n",
    "# Counters\n",
    "j = 0\n",
    "kmz_file = 0"
   ],
   "id": "4ed772af7638b85a",
   "outputs": [],
   "execution_count": 730
  },
  {
   "metadata": {},
   "cell_type": "markdown",
   "source": "## PCM (Amps)",
   "id": "edf4dcefe0f0e6d3"
  },
  {
   "metadata": {
    "ExecuteTime": {
     "end_time": "2024-10-10T18:35:37.841261Z",
     "start_time": "2024-10-10T18:35:37.835281Z"
    }
   },
   "cell_type": "code",
   "source": [
    "k = 7  # Loop counter for type folders (7 = 'PCM Data (Amps)')\n",
    "\n",
    "# Goes through all '.csv' files\n",
    "while j < len(filtered_data_list) and 'PCM Data (Amps)' in df_cis.columns and PLOT_3D:\n",
    "    df_cis_pcm_amps = pd.read_csv(os.path.join(data_path, filtered_data_list[j]))\n",
    "    df_cis_pcm_amps = df_cis_pcm_amps[df_cis_pcm_amps['PCM Data (Amps)'] != 0]\n",
    "    df_cis_pcm_amps = df_cis_pcm_amps[['Station', 'Stationing (ft)', 'Longitude', 'Latitude',\n",
    "                                       'PCM Data (Amps)']].reset_index(drop=True)\n",
    "    last_index = df_cis_pcm_amps.last_valid_index()\n",
    "    miles_remaining = round(total_miles_list[j], 2)\n",
    "\n",
    "    # Create '.kmz' files for each mile #\n",
    "    while miles_remaining > 0:\n",
    "        # Create 3D data points\n",
    "        while i <= last_index and df_cis_pcm_amps.at[i, 'Station'] < feet_counter:\n",
    "            # Break loop if there are no PCM (Amps) values\n",
    "            if df_cis_pcm_amps.shape[0] == 0:\n",
    "                break\n",
    "\n",
    "            pnt = type_folders[k].newpoint(name=df_cis_pcm_amps.at[i, 'PCM Data (Amps)'],\n",
    "                                           visibility=DATA_VISIBILITY)\n",
    "            pnt.style.balloonstyle.text = (\n",
    "                f\"PCM: {df_cis_pcm_amps.at[i, 'PCM Data (Amps)']} Amps\\n\"\n",
    "                f\"Longitude: {df_cis_pcm_amps.at[i, 'Longitude']}\\n\"\n",
    "                f\"Latitude: {df_cis_pcm_amps.at[i, 'Latitude']}\\n\"\n",
    "                f\"Station (ft): {df_cis_pcm_amps.at[i, 'Stationing (ft)']}\")\n",
    "            pnt.coords = [(df_cis_pcm_amps.at[i, 'Longitude'], df_cis_pcm_amps.at[i, 'Latitude'],\n",
    "                           df_cis_pcm_amps.at[i, 'PCM Data (Amps)'] * SCALE_PCM)]\n",
    "            pnt.altitudemode = simplekml.AltitudeMode.relativetoground\n",
    "            pnt.style.iconstyle.icon.href = ICON_PCM\n",
    "            pnt.style.iconstyle.scale = ICON_SCALE + 0.5\n",
    "            pnt.style.labelstyle.scale = 0\n",
    "\n",
    "            # Counters\n",
    "            i += 1\n",
    "\n",
    "        # Save to '.kmz'\n",
    "        kmz_name = f\"{filtered_data_list[j].split('.csv', 1)[0]} (Mile {current_mile}).kmz\"\n",
    "        cis_kmz[kmz_file].savekmz(os.path.join(output_path, kmz_name))\n",
    "\n",
    "        # Counters\n",
    "        current_mile += 1\n",
    "        miles_remaining -= 1\n",
    "\n",
    "        if 0 < miles_remaining < 1:\n",
    "            current_mile = round(total_miles_list[j], 2)\n",
    "\n",
    "        feet_counter += 5280\n",
    "        kmz_file += 1\n",
    "        k += total_folders\n",
    "\n",
    "    # Counters\n",
    "    feet_counter = 5280\n",
    "    current_mile = 1\n",
    "    i = 0\n",
    "    j += 1\n",
    "\n",
    "# Counters\n",
    "j = 0\n",
    "kmz_file = 0"
   ],
   "id": "8b55bd64a095b6cd",
   "outputs": [],
   "execution_count": 731
  },
  {
   "metadata": {},
   "cell_type": "markdown",
   "source": "## PCM (%)",
   "id": "b18db3e305eef57f"
  },
  {
   "metadata": {
    "ExecuteTime": {
     "end_time": "2024-10-10T18:35:37.868498Z",
     "start_time": "2024-10-10T18:35:37.862311Z"
    }
   },
   "cell_type": "code",
   "source": [
    "k = 8  # Loop counter for type folders (8 = 'PCM % Change')\n",
    "\n",
    "# Goes through all '.csv' files\n",
    "while j < len(filtered_data_list) and 'PCM % Change' in df_cis.columns and PLOT_3D:\n",
    "    df_cis_pcm_percent = pd.read_csv(os.path.join(data_path, filtered_data_list[j]))\n",
    "    df_cis_pcm_percent = df_cis_pcm_percent[df_cis_pcm_percent['PCM % Change'] != 0]\n",
    "    df_cis_pcm_percent = df_cis_pcm_percent[['Station', 'Stationing (ft)', 'Longitude', 'Latitude',\n",
    "                                             'PCM % Change']].reset_index(drop=True)\n",
    "    last_index = df_cis_pcm_percent.last_valid_index()\n",
    "    miles_remaining = round(total_miles_list[j], 2)\n",
    "\n",
    "    # Create '.kmz' files for each mile #\n",
    "    while miles_remaining > 0:\n",
    "        # Create 3D data points\n",
    "        while i <= last_index and df_cis_pcm_percent.at[i, 'Station'] < feet_counter:\n",
    "            # Break loop if there are no PCM (%) values\n",
    "            if df_cis_pcm_percent.shape[0] == 0:\n",
    "                break\n",
    "\n",
    "            pnt = type_folders[k].newpoint(name=df_cis_pcm_percent.at[i, 'PCM % Change'],\n",
    "                                           visibility=DATA_VISIBILITY)\n",
    "            pnt.style.balloonstyle.text = (\n",
    "                f\"PCM: {df_cis_pcm_percent.at[i, 'PCM % Change']} %\\n\"\n",
    "                f\"Longitude: {df_cis_pcm_percent.at[i, 'Longitude']}\\n\"\n",
    "                f\"Latitude: {df_cis_pcm_percent.at[i, 'Latitude']}\\n\"\n",
    "                f\"Station (ft): {df_cis_pcm_percent.at[i, 'Stationing (ft)']}\")\n",
    "            pnt.coords = [(df_cis_pcm_percent.at[i, 'Longitude'],\n",
    "                           df_cis_pcm_percent.at[i, 'Latitude'],\n",
    "                           SCALE_PCM_PERCENT + df_cis_pcm_percent.at[i, 'PCM % Change'] * 0.5)]\n",
    "            pnt.altitudemode = simplekml.AltitudeMode.relativetoground\n",
    "            pnt.style.iconstyle.icon.href = ICON_PCM_PERCENT\n",
    "            pnt.style.iconstyle.scale = ICON_SCALE + 0.5\n",
    "            pnt.style.labelstyle.scale = 0\n",
    "\n",
    "            # Counters\n",
    "            i += 1\n",
    "\n",
    "        # Save to '.kmz'\n",
    "        kmz_name = f\"{filtered_data_list[j].split('.csv', 1)[0]} (Mile {current_mile}).kmz\"\n",
    "        cis_kmz[kmz_file].savekmz(os.path.join(output_path, kmz_name))\n",
    "\n",
    "        # Counters\n",
    "        current_mile += 1\n",
    "        miles_remaining -= 1\n",
    "\n",
    "        if 0 < miles_remaining < 1:\n",
    "            current_mile = round(total_miles_list[j], 2)\n",
    "\n",
    "        feet_counter += 5280\n",
    "        kmz_file += 1\n",
    "        k += total_folders\n",
    "\n",
    "    # Counters\n",
    "    feet_counter = 5280\n",
    "    current_mile = 1\n",
    "    i = 0\n",
    "    j += 1\n",
    "\n",
    "# Counters\n",
    "j = 0\n",
    "kmz_file = 0"
   ],
   "id": "ae4149442513f61c",
   "outputs": [],
   "execution_count": 732
  },
  {
   "cell_type": "markdown",
   "source": "## Assign Station Numbers to KMZs",
   "metadata": {
    "collapsed": false
   },
   "id": "29f0433ee3d1e227"
  },
  {
   "cell_type": "code",
   "source": [
    "# List of SNXXXX+XX ranges\n",
    "sn_list = [''] * (math.ceil(total_miles_list[0]) * 2)\n",
    "\n",
    "# Last index\n",
    "last_index_sn = len(sn_list) - 1\n",
    "\n",
    "# List of '.kmz' file names ((math.ceil(total_miles_list[0]) + 1???)\n",
    "name_list = [''] * (math.ceil(total_miles_list[0]))\n",
    "\n",
    "# List of stations as a nummber\n",
    "station_list = np.arange(0, math.ceil(total_miles_list[0]) + 1)\n",
    "\n",
    "# Last index\n",
    "last_index_station = len(station_list) - 1\n",
    "\n",
    "# First SN (number)\n",
    "station_list[0] = starting_stationing"
   ],
   "metadata": {
    "collapsed": false,
    "ExecuteTime": {
     "end_time": "2024-10-10T18:35:37.924580Z",
     "start_time": "2024-10-10T18:35:37.921555Z"
    }
   },
   "id": "f0230805d7c09f0",
   "outputs": [],
   "execution_count": 733
  },
  {
   "cell_type": "code",
   "source": [
    "# Assign a value of mile (ft) per element\n",
    "for i in range(1, last_index_station + 1):\n",
    "    station_list[i] = station_list[i - 1] + 5280\n",
    "\n",
    "# Last SN (number)\n",
    "station_list[last_index_station] = math.ceil(\n",
    "    ((total_miles_list[0] - math.floor(total_miles_list[0])) * 5280 +\n",
    "     station_list[last_index_station - 1]))"
   ],
   "metadata": {
    "collapsed": false,
    "ExecuteTime": {
     "end_time": "2024-10-10T18:35:37.970262Z",
     "start_time": "2024-10-10T18:35:37.967523Z"
    }
   },
   "id": "ee938f4f2e3ec7b9",
   "outputs": [],
   "execution_count": 734
  },
  {
   "cell_type": "code",
   "source": [
    "# First SN\n",
    "closest_index = (df_cis['Station'] + starting_stationing - station_list[0]).abs().argmin()\n",
    "sn_list[0] = f\"SN{df_cis['Stationing (ft)'].loc[closest_index]}\".replace(' ', '')"
   ],
   "metadata": {
    "collapsed": false,
    "ExecuteTime": {
     "end_time": "2024-10-10T18:35:38.045623Z",
     "start_time": "2024-10-10T18:35:38.042621Z"
    }
   },
   "id": "d72bec8f2fface08",
   "outputs": [],
   "execution_count": 735
  },
  {
   "cell_type": "code",
   "source": [
    "j = 1  # station_list counter\n",
    "i = 1  # sn_list counter\n",
    "\n",
    "# In between SN\n",
    "while i < last_index_sn:\n",
    "    closest_index = (df_cis['Station'] + starting_stationing - station_list[j]).abs().argmin()\n",
    "\n",
    "    if df_cis['Station'].loc[closest_index] - station_list[j] >= 0:\n",
    "        # Below closest index\n",
    "        sn_list[i] = f\"SN{df_cis['Stationing (ft)'].loc[closest_index - 1]}\".replace(' ', '')\n",
    "        sn_list[i + 1] = f\"SN{df_cis['Stationing (ft)'].loc[closest_index]}\".replace(' ', '')\n",
    "\n",
    "    else:\n",
    "        # Above closest index\n",
    "        sn_list[i] = f\"SN{df_cis['Stationing (ft)'].loc[closest_index]}\".replace(' ', '')\n",
    "        sn_list[i + 1] = f\"SN{df_cis['Stationing (ft)'].loc[closest_index + 1]}\".replace(' ', '')\n",
    "\n",
    "    # Counters\n",
    "    j += 1\n",
    "    i += 2"
   ],
   "metadata": {
    "collapsed": false,
    "ExecuteTime": {
     "end_time": "2024-10-10T18:35:38.093225Z",
     "start_time": "2024-10-10T18:35:38.088936Z"
    }
   },
   "id": "889f994c08ec6784",
   "outputs": [],
   "execution_count": 736
  },
  {
   "metadata": {
    "ExecuteTime": {
     "end_time": "2024-10-10T18:35:38.164351Z",
     "start_time": "2024-10-10T18:35:38.161217Z"
    }
   },
   "cell_type": "code",
   "source": [
    "# Last SN\n",
    "closest_index = (df_cis['Station'] + starting_stationing -\n",
    "                 station_list[last_index_station]).abs().argmin()\n",
    "sn_list[last_index_sn] = f\"SN{df_cis['Stationing (ft)'].loc[closest_index]}\".replace(' ', '')"
   ],
   "id": "1296daf934907408",
   "outputs": [],
   "execution_count": 737
  },
  {
   "metadata": {
    "ExecuteTime": {
     "end_time": "2024-10-10T18:35:38.192441Z",
     "start_time": "2024-10-10T18:35:38.188896Z"
    }
   },
   "cell_type": "code",
   "source": [
    "# Log\n",
    "with open(log_path, 'a') as f:\n",
    "    f.write(\"Removed files:\")\n",
    "\n",
    "# Remove files below certain byte size\n",
    "for filename in os.listdir(output_path):\n",
    "    file_path = os.path.join(output_path, filename)\n",
    "\n",
    "    # Get file size in bytes\n",
    "    size = os.path.getsize(file_path)\n",
    "\n",
    "    # Remove files\n",
    "    if size < 50 and filename != 'Log.txt':\n",
    "        os.remove(file_path)\n",
    "        with open(log_path, 'a') as f:\n",
    "            f.write(f'\\n- {filename}')"
   ],
   "id": "9f5e5cc99b52a6a8",
   "outputs": [],
   "execution_count": 738
  },
  {
   "metadata": {
    "ExecuteTime": {
     "end_time": "2024-10-10T18:35:38.244645Z",
     "start_time": "2024-10-10T18:35:38.242181Z"
    }
   },
   "cell_type": "code",
   "source": [
    "# Remove duplicate SNs\n",
    "sn_list = list(OrderedDict.fromkeys(sn_list))\n",
    "\n",
    "# Get new index\n",
    "last_index_sn = len(sn_list) - 1"
   ],
   "id": "4c16c1a610c07eca",
   "outputs": [],
   "execution_count": 739
  },
  {
   "metadata": {
    "ExecuteTime": {
     "end_time": "2024-10-10T18:35:38.277549Z",
     "start_time": "2024-10-10T18:35:38.274620Z"
    }
   },
   "cell_type": "code",
   "source": [
    "# Sort kmz files\n",
    "kmz_files = glob.glob(os.path.join(output_path, '*.kmz'))\n",
    "kmz_files = [os.path.basename(file) for file in kmz_files]\n",
    "kmz_files = natsorted(kmz_files)"
   ],
   "id": "64438f649dc8814a",
   "outputs": [],
   "execution_count": 740
  },
  {
   "cell_type": "code",
   "source": [
    "j = 0  # sn_list counter\n",
    "\n",
    "# Name station number ranges\n",
    "for i in range(0, last_index_station):\n",
    "    name_list[i] = (f\"{filtered_data_list[0].split('SN')[0][:-1]} \"\n",
    "                    f\"({sn_list[j]} TO {sn_list[j + 1]}).kmz\")\n",
    "\n",
    "    # Counter\n",
    "    j += 2\n",
    "\n",
    "# Rename '.kmz' files\n",
    "for i in range(0, last_index_station):\n",
    "    os.rename(os.path.join(output_path, kmz_files[i]), os.path.join(output_path, name_list[i]))"
   ],
   "metadata": {
    "collapsed": false,
    "ExecuteTime": {
     "end_time": "2024-10-10T18:35:38.360525Z",
     "start_time": "2024-10-10T18:35:38.356853Z"
    }
   },
   "id": "741627bad1267d71",
   "outputs": [],
   "execution_count": 741
  },
  {
   "cell_type": "markdown",
   "source": "# Exception Report",
   "metadata": {
    "collapsed": false
   },
   "id": "dddd93b34554179"
  },
  {
   "metadata": {
    "ExecuteTime": {
     "end_time": "2024-10-10T18:35:38.389895Z",
     "start_time": "2024-10-10T18:35:38.388057Z"
    }
   },
   "cell_type": "code",
   "source": [
    "# TODO: Add to exception report when Off is more negative than On\n",
    "# TODO: Add to exception report where skips exist\n",
    "# TODO: Add to exception report between TS"
   ],
   "id": "f10fb009cc63b265",
   "outputs": [],
   "execution_count": 742
  },
  {
   "cell_type": "markdown",
   "source": [
    "## Less Negative than -0.85V \"On\""
   ],
   "metadata": {
    "collapsed": false
   },
   "id": "d7ded736fc7c9708"
  },
  {
   "cell_type": "code",
   "source": [
    "# Combines all '.csv' files in folder\n",
    "df_cis_filtered = pd.concat(\n",
    "    (pd.read_csv(f) for f in glob.glob(os.path.join(data_path, r'*.csv'))), ignore_index=True)\n",
    "df_cis_filtered = df_cis_filtered[df_cis_filtered['On Potential'] != 0]\n",
    "df_cis_filtered = (df_cis_filtered[df_cis_filtered.columns.intersection(\n",
    "    ['Station', 'Stationing (ft)', 'Longitude', 'Latitude', 'On Potential',\n",
    "     'ACVG Indication (dB_V)'])].reset_index(drop=True))\n",
    "df_cis_filtered['Crossing Point'] = ''\n",
    "last_index = df_cis_filtered.last_valid_index()"
   ],
   "metadata": {
    "collapsed": false,
    "ExecuteTime": {
     "end_time": "2024-10-10T18:35:38.437476Z",
     "start_time": "2024-10-10T18:35:38.431187Z"
    }
   },
   "id": "d201b6c3f7a23dec",
   "outputs": [],
   "execution_count": 743
  },
  {
   "cell_type": "code",
   "source": [
    "i = 1  # Loop counter for rows\n",
    "\n",
    "if df_cis_filtered.shape[0] != 0:\n",
    "    # Finds crossing points\n",
    "    while i < last_index:\n",
    "        # First data point\n",
    "        if i == 1 and df_cis_filtered.at[0, 'On Potential'] >= -0.85:\n",
    "            df_cis_filtered.at[0, 'Crossing Point'] = 'X'\n",
    "\n",
    "        # Second data point\n",
    "        elif i == 2 and df_cis_filtered.at[1, 'On Potential'] >= -0.85:\n",
    "            df_cis_filtered.at[0, 'Crossing Point'] = 'X'\n",
    "\n",
    "        # Last data point\n",
    "        elif (i == last_index - 1 and\n",
    "              df_cis_filtered.at[last_index, 'On Potential'] >= -0.85):\n",
    "            df_cis_filtered.at[last_index, 'Crossing Point'] = 'X'\n",
    "\n",
    "        # _'_\n",
    "        elif ((df_cis_filtered.at[i - 1, 'On Potential'] > -0.85) and\n",
    "              (df_cis_filtered.at[i, 'On Potential'] <= -0.85) and\n",
    "              (df_cis_filtered.at[i + 1, 'On Potential'] > -0.85) and\n",
    "              i >= 1):\n",
    "            df_cis_filtered.at[i, 'Crossing Point'] = 'XX'\n",
    "\n",
    "        # '_\n",
    "        elif ((df_cis_filtered.at[i + 1, 'On Potential'] > -0.85) and\n",
    "              (df_cis_filtered.at[i, 'On Potential'] <= -0.85)):\n",
    "            df_cis_filtered.at[i, 'Crossing Point'] = 'X'\n",
    "\n",
    "        # _'\n",
    "        elif ((df_cis_filtered.at[i + 1, 'On Potential'] < -0.85) and\n",
    "              (df_cis_filtered.at[i, 'On Potential'] >= -0.85)):\n",
    "            df_cis_filtered.at[i + 1, 'Crossing Point'] = 'X'\n",
    "\n",
    "        # Counters\n",
    "        i += 1\n",
    "\n",
    "    # Drops rows that are empty\n",
    "    df_cis_filtered = (df_cis_filtered[df_cis_filtered['Crossing Point'] != '']\n",
    "                       .reset_index(drop=True))"
   ],
   "metadata": {
    "collapsed": false,
    "ExecuteTime": {
     "end_time": "2024-10-10T18:35:39.666003Z",
     "start_time": "2024-10-10T18:35:39.659297Z"
    }
   },
   "id": "c6e2d556a270a090",
   "outputs": [],
   "execution_count": 744
  },
  {
   "cell_type": "code",
   "source": [
    "if df_cis_filtered.shape[0] != 0:\n",
    "    # Replicates rows that have 'XX'\n",
    "    df_cis_filtered = df_cis_filtered.loc[df_cis_filtered.index\n",
    "    .repeat(df_cis_filtered['Crossing Point'].isin(['XX']).add(1))].reset_index(drop=True)\n",
    "    last_index = int((df_cis_filtered.last_valid_index() + 1) / 2)\n",
    "\n",
    "    # Create report dataframe\n",
    "    df_cis_report = pd.DataFrame(\n",
    "        index=np.arange(last_index),\n",
    "        columns=['Station', 'Station Number', 'Latitude', 'Longitude',\n",
    "                 'Station', 'Station Number', 'Latitude', 'Longitude'])\n",
    "    df_cis_report['Length (ft)'] = 0.0\n",
    "\n",
    "    if 'ACVG Indication (dB_V)' in df_cis.columns:\n",
    "        df_cis_report['ACVG Max (dB/V)'] = 0.0\n",
    "\n",
    "    else:\n",
    "        df_cis_report['ACVG Max (dB/V)'] = ''\n",
    "\n",
    "    df_cis_report['Comments'] = ''\n",
    "\n",
    "    # Counters\n",
    "    i = 0\n",
    "    j = 0\n",
    "\n",
    "    # Structure data\n",
    "    while j < int((df_cis_filtered.last_valid_index() + 1) / 2):\n",
    "        # Start\n",
    "        df_cis_report.iat[j, 0] = df_cis_filtered.at[i, 'Station']\n",
    "        df_cis_report.iat[j, 1] = df_cis_filtered.at[i, 'Stationing (ft)']\n",
    "        df_cis_report.iat[j, 2] = df_cis_filtered.at[i, 'Latitude']\n",
    "        df_cis_report.iat[j, 3] = df_cis_filtered.at[i, 'Longitude']\n",
    "\n",
    "        # End\n",
    "        df_cis_report.iat[j, 4] = df_cis_filtered.at[i + 1, 'Station']\n",
    "        df_cis_report.iat[j, 5] = df_cis_filtered.at[i + 1, 'Stationing (ft)']\n",
    "        df_cis_report.iat[j, 6] = df_cis_filtered.at[i + 1, 'Latitude']\n",
    "        df_cis_report.iat[j, 7] = df_cis_filtered.at[i + 1, 'Longitude']\n",
    "\n",
    "        # Length\n",
    "        df_cis_report.iat[j, 8] = df_cis_report.iat[j, 4] - df_cis_report.iat[j, 0]\n",
    "\n",
    "        # ACVG\n",
    "        if 'ACVG Indication (dB_V)' in df_cis.columns:\n",
    "            mask = ((df_cis['Station'] >= df_cis_filtered.at[i, 'Station']) &\n",
    "                    (df_cis['Station'] <= df_cis_filtered.at[i + 1, 'Station']) &\n",
    "                    (df_cis['ACVG Indication (dB_V)'] >= 45))\n",
    "\n",
    "            df_cis_report.iat[j, 9] = df_cis.loc[mask, 'ACVG Indication (dB_V)'].max()\n",
    "\n",
    "        # Counters\n",
    "        j += 1\n",
    "        i += 2\n",
    "\n",
    "    # Deletes station columns\n",
    "    df_cis_report = df_cis_report.drop(df_cis_report.iloc[:, [0, 4]], axis=1)\n",
    "\n",
    "    # Save to excel\n",
    "    exception_excel = f\"CIS Exception Report ({filtered_data_list[0].split('.csv')[0]}).xlsx\"\n",
    "    with pd.ExcelWriter(os.path.join(output_path, exception_excel),\n",
    "                        mode='w', engine='openpyxl') as writer:\n",
    "        df_cis_report.to_excel(writer, startrow=4, sheet_name='Less Negative than -0.85V (On)',\n",
    "                               index=False)"
   ],
   "metadata": {
    "collapsed": false,
    "ExecuteTime": {
     "end_time": "2024-10-10T18:35:39.745712Z",
     "start_time": "2024-10-10T18:35:39.728152Z"
    }
   },
   "id": "831f659f626c5ada",
   "outputs": [],
   "execution_count": 745
  },
  {
   "cell_type": "code",
   "source": [
    "if df_cis_filtered.shape[0] != 0:\n",
    "    wb = load_workbook(os.path.join(output_path, exception_excel))\n",
    "    sheet = wb['Less Negative than -0.85V (On)']\n",
    "\n",
    "    # Company name with pipeline ID\n",
    "    sheet.cell(1, 1).value = f\"{CLIENT} ({filtered_data_list[0].split('SN')[0][:-1]})\"\n",
    "\n",
    "    # Station numbers surveyed\n",
    "    sheet.cell(2, 1).value = (\n",
    "        f\"{filtered_data_list[0].split('SN')[1].split()[0]} to \"\n",
    "        f\"{filtered_data_list[0].split('SN')[2].split('.')[0]}\")\n",
    "\n",
    "    # Start\n",
    "    sheet.cell(4, 1).value = 'Start'\n",
    "\n",
    "    # End\n",
    "    sheet.cell(4, 4).value = 'End'\n",
    "\n",
    "    # Total pipeline distance with issues\n",
    "    total_feet = round(sum(total_miles_list * 5280))\n",
    "    total_miles = round(sum(total_miles_list), 2)\n",
    "    sheet.cell(last_index + 7, 1).value = (\n",
    "        f\"Total pipeline distance surveyed = {total_feet} feet or {total_miles} miles\")\n",
    "    total_length = round(df_cis_report['Length (ft)'].sum(), 2)\n",
    "    length_percent = round(total_length / sum(total_miles_list * 5280) * 100, 2)\n",
    "    sheet.cell(last_index + 8, 1).value = (\n",
    "        f\"Total pipeline distance less negative than -0.85V 'On' = \"\n",
    "        f\"{total_length} feet ({length_percent} %)\")"
   ],
   "metadata": {
    "collapsed": false,
    "ExecuteTime": {
     "end_time": "2024-10-10T18:35:39.766593Z",
     "start_time": "2024-10-10T18:35:39.756313Z"
    }
   },
   "id": "252a3e0e42c540f6",
   "outputs": [],
   "execution_count": 746
  },
  {
   "cell_type": "code",
   "source": [
    "if df_cis_filtered.shape[0] != 0:\n",
    "    # Font\n",
    "    sheet.cell(1, 1).font = Font(size=14, bold=True)\n",
    "    sheet.cell(2, 1).font = Font(italic=True)\n",
    "    sheet.cell(4, 1).font = Font(bold=True)\n",
    "    sheet.cell(4, 4).font = Font(bold=True)\n",
    "    sheet.cell(4, 7).font = Font(bold=True)\n",
    "    sheet.cell(4, 8).font = Font(bold=True)\n",
    "    sheet.cell(4, 9).font = Font(bold=True)\n",
    "    sheet.cell(last_index + 7, 1).font = Font(bold=True)\n",
    "    sheet.cell(last_index + 8, 1).font = Font(bold=True)\n",
    "\n",
    "    # Merging\n",
    "    sheet.merge_cells('A1:I1')\n",
    "    sheet.merge_cells('A2:I2')\n",
    "    sheet.merge_cells('A4:C4')\n",
    "    sheet.merge_cells('D4:F4')\n",
    "    sheet.cell(4, 7).value = sheet.cell(5, 7).value\n",
    "    sheet.merge_cells('G4:G5')\n",
    "    sheet.cell(4, 8).value = sheet.cell(5, 8).value\n",
    "    sheet.merge_cells('H4:H5')\n",
    "    sheet.cell(4, 9).value = sheet.cell(5, 9).value\n",
    "    sheet.merge_cells('I4:I5')\n",
    "\n",
    "    # Alignment\n",
    "    i = 0\n",
    "\n",
    "    while i < (last_index + 5):\n",
    "        for c in sheet['A1:I' + str(last_index + 5)][i]:\n",
    "            c.alignment = Alignment(horizontal='center', vertical='center')\n",
    "\n",
    "        # Counters\n",
    "        i += 1\n",
    "\n",
    "    # Borders\n",
    "    i = 0\n",
    "    thin = Side(border_style='thin', color='000000')\n",
    "    white_border = Side(border_style='thin', color='FFFFFF')\n",
    "\n",
    "    while i < (last_index + 5):\n",
    "        # 3rd row\n",
    "        if i == 2:\n",
    "            for c in sheet['A1:I' + str(last_index + 5)][i]:\n",
    "                c.border = Border(left=white_border, right=white_border)\n",
    "\n",
    "            # Counters\n",
    "            i += 1\n",
    "\n",
    "        for c in sheet['A1:I' + str(last_index + 5)][i]:\n",
    "            c.border = Border(top=thin, left=thin, right=thin, bottom=thin)\n",
    "\n",
    "        # Counters\n",
    "        i += 1\n",
    "\n",
    "    # Column widths\n",
    "    for col in 'ABCDEFGH':\n",
    "        sheet.column_dimensions[col].width = 15\n",
    "\n",
    "    sheet.column_dimensions['I'].width = 50"
   ],
   "metadata": {
    "collapsed": false,
    "ExecuteTime": {
     "end_time": "2024-10-10T18:35:39.841682Z",
     "start_time": "2024-10-10T18:35:39.827262Z"
    }
   },
   "id": "a965671e30ee65eb",
   "outputs": [],
   "execution_count": 747
  },
  {
   "cell_type": "code",
   "source": [
    "# Save to excel\n",
    "if df_cis_filtered.shape[0] != 0:\n",
    "    wb.save(os.path.join(output_path, exception_excel))"
   ],
   "metadata": {
    "collapsed": false,
    "ExecuteTime": {
     "end_time": "2024-10-10T18:35:39.905660Z",
     "start_time": "2024-10-10T18:35:39.897783Z"
    }
   },
   "id": "c8c043b006ffe978",
   "outputs": [],
   "execution_count": 748
  },
  {
   "cell_type": "markdown",
   "source": [
    "## Less Negative than -0.85V \"Off\""
   ],
   "metadata": {
    "collapsed": false
   },
   "id": "44fcf58163fa0d80"
  },
  {
   "cell_type": "code",
   "source": [
    "# Combines all '.csv' files at specified folder\n",
    "df_cis_filtered = pd.concat(\n",
    "    (pd.read_csv(f) for f in glob.glob(os.path.join(data_path, r'*.csv'))), ignore_index=True)\n",
    "df_cis_filtered = df_cis_filtered[df_cis_filtered['Off Potential'] != 0]\n",
    "df_cis_filtered = (df_cis_filtered[df_cis_filtered.columns.intersection(\n",
    "    ['Station', 'Stationing (ft)', 'Longitude', 'Latitude', 'Off Potential',\n",
    "     'ACVG Indication (dB_V)'])].reset_index(drop=True))\n",
    "df_cis_filtered['Crossing Point'] = ''\n",
    "last_index = df_cis_filtered.last_valid_index()"
   ],
   "metadata": {
    "collapsed": false,
    "ExecuteTime": {
     "end_time": "2024-10-10T18:35:39.979116Z",
     "start_time": "2024-10-10T18:35:39.934105Z"
    }
   },
   "id": "57b67e8b22be019e",
   "outputs": [
    {
     "ename": "KeyError",
     "evalue": "'Off Potential'",
     "output_type": "error",
     "traceback": [
      "\u001B[0;31m---------------------------------------------------------------------------\u001B[0m",
      "\u001B[0;31mKeyError\u001B[0m                                  Traceback (most recent call last)",
      "File \u001B[0;32m~/opt/anaconda3/lib/python3.10/site-packages/pandas/core/indexes/base.py:3805\u001B[0m, in \u001B[0;36mIndex.get_loc\u001B[0;34m(self, key)\u001B[0m\n\u001B[1;32m   3804\u001B[0m \u001B[38;5;28;01mtry\u001B[39;00m:\n\u001B[0;32m-> 3805\u001B[0m     \u001B[38;5;28;01mreturn\u001B[39;00m \u001B[38;5;28;43mself\u001B[39;49m\u001B[38;5;241;43m.\u001B[39;49m\u001B[43m_engine\u001B[49m\u001B[38;5;241;43m.\u001B[39;49m\u001B[43mget_loc\u001B[49m\u001B[43m(\u001B[49m\u001B[43mcasted_key\u001B[49m\u001B[43m)\u001B[49m\n\u001B[1;32m   3806\u001B[0m \u001B[38;5;28;01mexcept\u001B[39;00m \u001B[38;5;167;01mKeyError\u001B[39;00m \u001B[38;5;28;01mas\u001B[39;00m err:\n",
      "File \u001B[0;32mindex.pyx:167\u001B[0m, in \u001B[0;36mpandas._libs.index.IndexEngine.get_loc\u001B[0;34m()\u001B[0m\n",
      "File \u001B[0;32mindex.pyx:196\u001B[0m, in \u001B[0;36mpandas._libs.index.IndexEngine.get_loc\u001B[0;34m()\u001B[0m\n",
      "File \u001B[0;32mpandas/_libs/hashtable_class_helper.pxi:7081\u001B[0m, in \u001B[0;36mpandas._libs.hashtable.PyObjectHashTable.get_item\u001B[0;34m()\u001B[0m\n",
      "File \u001B[0;32mpandas/_libs/hashtable_class_helper.pxi:7089\u001B[0m, in \u001B[0;36mpandas._libs.hashtable.PyObjectHashTable.get_item\u001B[0;34m()\u001B[0m\n",
      "\u001B[0;31mKeyError\u001B[0m: 'Off Potential'",
      "\nThe above exception was the direct cause of the following exception:\n",
      "\u001B[0;31mKeyError\u001B[0m                                  Traceback (most recent call last)",
      "Cell \u001B[0;32mIn[749], line 4\u001B[0m\n\u001B[1;32m      1\u001B[0m \u001B[38;5;66;03m# Combines all '.csv' files at specified folder\u001B[39;00m\n\u001B[1;32m      2\u001B[0m df_cis_filtered \u001B[38;5;241m=\u001B[39m pd\u001B[38;5;241m.\u001B[39mconcat(\n\u001B[1;32m      3\u001B[0m     (pd\u001B[38;5;241m.\u001B[39mread_csv(f) \u001B[38;5;28;01mfor\u001B[39;00m f \u001B[38;5;129;01min\u001B[39;00m glob\u001B[38;5;241m.\u001B[39mglob(os\u001B[38;5;241m.\u001B[39mpath\u001B[38;5;241m.\u001B[39mjoin(data_path, \u001B[38;5;124mr\u001B[39m\u001B[38;5;124m'\u001B[39m\u001B[38;5;124m*.csv\u001B[39m\u001B[38;5;124m'\u001B[39m))), ignore_index\u001B[38;5;241m=\u001B[39m\u001B[38;5;28;01mTrue\u001B[39;00m)\n\u001B[0;32m----> 4\u001B[0m df_cis_filtered \u001B[38;5;241m=\u001B[39m df_cis_filtered[\u001B[43mdf_cis_filtered\u001B[49m\u001B[43m[\u001B[49m\u001B[38;5;124;43m'\u001B[39;49m\u001B[38;5;124;43mOff Potential\u001B[39;49m\u001B[38;5;124;43m'\u001B[39;49m\u001B[43m]\u001B[49m \u001B[38;5;241m!=\u001B[39m \u001B[38;5;241m0\u001B[39m]\n\u001B[1;32m      5\u001B[0m df_cis_filtered \u001B[38;5;241m=\u001B[39m (df_cis_filtered[df_cis_filtered\u001B[38;5;241m.\u001B[39mcolumns\u001B[38;5;241m.\u001B[39mintersection(\n\u001B[1;32m      6\u001B[0m     [\u001B[38;5;124m'\u001B[39m\u001B[38;5;124mStation\u001B[39m\u001B[38;5;124m'\u001B[39m, \u001B[38;5;124m'\u001B[39m\u001B[38;5;124mStationing (ft)\u001B[39m\u001B[38;5;124m'\u001B[39m, \u001B[38;5;124m'\u001B[39m\u001B[38;5;124mLongitude\u001B[39m\u001B[38;5;124m'\u001B[39m, \u001B[38;5;124m'\u001B[39m\u001B[38;5;124mLatitude\u001B[39m\u001B[38;5;124m'\u001B[39m, \u001B[38;5;124m'\u001B[39m\u001B[38;5;124mOff Potential\u001B[39m\u001B[38;5;124m'\u001B[39m,\n\u001B[1;32m      7\u001B[0m      \u001B[38;5;124m'\u001B[39m\u001B[38;5;124mACVG Indication (dB_V)\u001B[39m\u001B[38;5;124m'\u001B[39m])]\u001B[38;5;241m.\u001B[39mreset_index(drop\u001B[38;5;241m=\u001B[39m\u001B[38;5;28;01mTrue\u001B[39;00m))\n\u001B[1;32m      8\u001B[0m df_cis_filtered[\u001B[38;5;124m'\u001B[39m\u001B[38;5;124mCrossing Point\u001B[39m\u001B[38;5;124m'\u001B[39m] \u001B[38;5;241m=\u001B[39m \u001B[38;5;124m'\u001B[39m\u001B[38;5;124m'\u001B[39m\n",
      "File \u001B[0;32m~/opt/anaconda3/lib/python3.10/site-packages/pandas/core/frame.py:4102\u001B[0m, in \u001B[0;36mDataFrame.__getitem__\u001B[0;34m(self, key)\u001B[0m\n\u001B[1;32m   4100\u001B[0m \u001B[38;5;28;01mif\u001B[39;00m \u001B[38;5;28mself\u001B[39m\u001B[38;5;241m.\u001B[39mcolumns\u001B[38;5;241m.\u001B[39mnlevels \u001B[38;5;241m>\u001B[39m \u001B[38;5;241m1\u001B[39m:\n\u001B[1;32m   4101\u001B[0m     \u001B[38;5;28;01mreturn\u001B[39;00m \u001B[38;5;28mself\u001B[39m\u001B[38;5;241m.\u001B[39m_getitem_multilevel(key)\n\u001B[0;32m-> 4102\u001B[0m indexer \u001B[38;5;241m=\u001B[39m \u001B[38;5;28;43mself\u001B[39;49m\u001B[38;5;241;43m.\u001B[39;49m\u001B[43mcolumns\u001B[49m\u001B[38;5;241;43m.\u001B[39;49m\u001B[43mget_loc\u001B[49m\u001B[43m(\u001B[49m\u001B[43mkey\u001B[49m\u001B[43m)\u001B[49m\n\u001B[1;32m   4103\u001B[0m \u001B[38;5;28;01mif\u001B[39;00m is_integer(indexer):\n\u001B[1;32m   4104\u001B[0m     indexer \u001B[38;5;241m=\u001B[39m [indexer]\n",
      "File \u001B[0;32m~/opt/anaconda3/lib/python3.10/site-packages/pandas/core/indexes/base.py:3812\u001B[0m, in \u001B[0;36mIndex.get_loc\u001B[0;34m(self, key)\u001B[0m\n\u001B[1;32m   3807\u001B[0m     \u001B[38;5;28;01mif\u001B[39;00m \u001B[38;5;28misinstance\u001B[39m(casted_key, \u001B[38;5;28mslice\u001B[39m) \u001B[38;5;129;01mor\u001B[39;00m (\n\u001B[1;32m   3808\u001B[0m         \u001B[38;5;28misinstance\u001B[39m(casted_key, abc\u001B[38;5;241m.\u001B[39mIterable)\n\u001B[1;32m   3809\u001B[0m         \u001B[38;5;129;01mand\u001B[39;00m \u001B[38;5;28many\u001B[39m(\u001B[38;5;28misinstance\u001B[39m(x, \u001B[38;5;28mslice\u001B[39m) \u001B[38;5;28;01mfor\u001B[39;00m x \u001B[38;5;129;01min\u001B[39;00m casted_key)\n\u001B[1;32m   3810\u001B[0m     ):\n\u001B[1;32m   3811\u001B[0m         \u001B[38;5;28;01mraise\u001B[39;00m InvalidIndexError(key)\n\u001B[0;32m-> 3812\u001B[0m     \u001B[38;5;28;01mraise\u001B[39;00m \u001B[38;5;167;01mKeyError\u001B[39;00m(key) \u001B[38;5;28;01mfrom\u001B[39;00m \u001B[38;5;21;01merr\u001B[39;00m\n\u001B[1;32m   3813\u001B[0m \u001B[38;5;28;01mexcept\u001B[39;00m \u001B[38;5;167;01mTypeError\u001B[39;00m:\n\u001B[1;32m   3814\u001B[0m     \u001B[38;5;66;03m# If we have a listlike key, _check_indexing_error will raise\u001B[39;00m\n\u001B[1;32m   3815\u001B[0m     \u001B[38;5;66;03m#  InvalidIndexError. Otherwise we fall through and re-raise\u001B[39;00m\n\u001B[1;32m   3816\u001B[0m     \u001B[38;5;66;03m#  the TypeError.\u001B[39;00m\n\u001B[1;32m   3817\u001B[0m     \u001B[38;5;28mself\u001B[39m\u001B[38;5;241m.\u001B[39m_check_indexing_error(key)\n",
      "\u001B[0;31mKeyError\u001B[0m: 'Off Potential'"
     ]
    }
   ],
   "execution_count": 749
  },
  {
   "cell_type": "code",
   "source": [
    "i = 1  # Loop counter for rows\n",
    "\n",
    "if df_cis_filtered.shape[0] != 0:\n",
    "    # Finds crossing points\n",
    "    while i < last_index:\n",
    "        # First data point\n",
    "        if i == 1 and df_cis_filtered.at[0, 'Off Potential'] >= -0.85:\n",
    "            df_cis_filtered.at[0, 'Crossing Point'] = 'X'\n",
    "\n",
    "        # Second data point\n",
    "        elif i == 2 and df_cis_filtered.at[1, 'Off Potential'] >= -0.85:\n",
    "            df_cis_filtered.at[0, 'Crossing Point'] = 'X'\n",
    "\n",
    "        # Last data point\n",
    "        elif (i == last_index - 1 and\n",
    "              df_cis_filtered.at[last_index, 'Off Potential'] >= -0.85):\n",
    "            df_cis_filtered.at[last_index, 'Crossing Point'] = 'X'\n",
    "\n",
    "        # _'_\n",
    "        elif ((df_cis_filtered.at[i - 1, 'Off Potential'] > -0.85) and\n",
    "              (df_cis_filtered.at[i, 'Off Potential'] <= -0.85) and\n",
    "              (df_cis_filtered.at[i + 1, 'Off Potential'] > -0.85) and\n",
    "              i >= 1):\n",
    "            df_cis_filtered.at[i, 'Crossing Point'] = 'XX'\n",
    "\n",
    "        # '_\n",
    "        elif ((df_cis_filtered.at[i + 1, 'Off Potential'] > -0.85) and\n",
    "              (df_cis_filtered.at[i, 'Off Potential'] <= -0.85)):\n",
    "            df_cis_filtered.at[i, 'Crossing Point'] = 'X'\n",
    "\n",
    "        # _'\n",
    "        elif ((df_cis_filtered.at[i + 1, 'Off Potential'] < -0.85) and\n",
    "              (df_cis_filtered.at[i, 'Off Potential'] >= -0.85)):\n",
    "            df_cis_filtered.at[i + 1, 'Crossing Point'] = 'X'\n",
    "\n",
    "        # Counters\n",
    "        i += 1\n",
    "\n",
    "    df_cis_filtered = (df_cis_filtered[df_cis_filtered['Crossing Point'] != '']\n",
    "                       .reset_index(drop=True))"
   ],
   "metadata": {
    "collapsed": false,
    "ExecuteTime": {
     "end_time": "2024-10-10T18:35:40.061464Z",
     "start_time": "2024-10-10T18:35:40.010989Z"
    }
   },
   "id": "5eb86beaea52d12e",
   "outputs": [
    {
     "ename": "KeyError",
     "evalue": "'Crossing Point'",
     "output_type": "error",
     "traceback": [
      "\u001B[0;31m---------------------------------------------------------------------------\u001B[0m",
      "\u001B[0;31mKeyError\u001B[0m                                  Traceback (most recent call last)",
      "File \u001B[0;32m~/opt/anaconda3/lib/python3.10/site-packages/pandas/core/indexes/base.py:3805\u001B[0m, in \u001B[0;36mIndex.get_loc\u001B[0;34m(self, key)\u001B[0m\n\u001B[1;32m   3804\u001B[0m \u001B[38;5;28;01mtry\u001B[39;00m:\n\u001B[0;32m-> 3805\u001B[0m     \u001B[38;5;28;01mreturn\u001B[39;00m \u001B[38;5;28;43mself\u001B[39;49m\u001B[38;5;241;43m.\u001B[39;49m\u001B[43m_engine\u001B[49m\u001B[38;5;241;43m.\u001B[39;49m\u001B[43mget_loc\u001B[49m\u001B[43m(\u001B[49m\u001B[43mcasted_key\u001B[49m\u001B[43m)\u001B[49m\n\u001B[1;32m   3806\u001B[0m \u001B[38;5;28;01mexcept\u001B[39;00m \u001B[38;5;167;01mKeyError\u001B[39;00m \u001B[38;5;28;01mas\u001B[39;00m err:\n",
      "File \u001B[0;32mindex.pyx:167\u001B[0m, in \u001B[0;36mpandas._libs.index.IndexEngine.get_loc\u001B[0;34m()\u001B[0m\n",
      "File \u001B[0;32mindex.pyx:196\u001B[0m, in \u001B[0;36mpandas._libs.index.IndexEngine.get_loc\u001B[0;34m()\u001B[0m\n",
      "File \u001B[0;32mpandas/_libs/hashtable_class_helper.pxi:7081\u001B[0m, in \u001B[0;36mpandas._libs.hashtable.PyObjectHashTable.get_item\u001B[0;34m()\u001B[0m\n",
      "File \u001B[0;32mpandas/_libs/hashtable_class_helper.pxi:7089\u001B[0m, in \u001B[0;36mpandas._libs.hashtable.PyObjectHashTable.get_item\u001B[0;34m()\u001B[0m\n",
      "\u001B[0;31mKeyError\u001B[0m: 'Crossing Point'",
      "\nThe above exception was the direct cause of the following exception:\n",
      "\u001B[0;31mKeyError\u001B[0m                                  Traceback (most recent call last)",
      "Cell \u001B[0;32mIn[750], line 39\u001B[0m\n\u001B[1;32m     36\u001B[0m     \u001B[38;5;66;03m# Counters\u001B[39;00m\n\u001B[1;32m     37\u001B[0m     i \u001B[38;5;241m+\u001B[39m\u001B[38;5;241m=\u001B[39m \u001B[38;5;241m1\u001B[39m\n\u001B[0;32m---> 39\u001B[0m df_cis_filtered \u001B[38;5;241m=\u001B[39m (df_cis_filtered[\u001B[43mdf_cis_filtered\u001B[49m\u001B[43m[\u001B[49m\u001B[38;5;124;43m'\u001B[39;49m\u001B[38;5;124;43mCrossing Point\u001B[39;49m\u001B[38;5;124;43m'\u001B[39;49m\u001B[43m]\u001B[49m \u001B[38;5;241m!=\u001B[39m \u001B[38;5;124m'\u001B[39m\u001B[38;5;124m'\u001B[39m]\n\u001B[1;32m     40\u001B[0m                    \u001B[38;5;241m.\u001B[39mreset_index(drop\u001B[38;5;241m=\u001B[39m\u001B[38;5;28;01mTrue\u001B[39;00m))\n",
      "File \u001B[0;32m~/opt/anaconda3/lib/python3.10/site-packages/pandas/core/frame.py:4102\u001B[0m, in \u001B[0;36mDataFrame.__getitem__\u001B[0;34m(self, key)\u001B[0m\n\u001B[1;32m   4100\u001B[0m \u001B[38;5;28;01mif\u001B[39;00m \u001B[38;5;28mself\u001B[39m\u001B[38;5;241m.\u001B[39mcolumns\u001B[38;5;241m.\u001B[39mnlevels \u001B[38;5;241m>\u001B[39m \u001B[38;5;241m1\u001B[39m:\n\u001B[1;32m   4101\u001B[0m     \u001B[38;5;28;01mreturn\u001B[39;00m \u001B[38;5;28mself\u001B[39m\u001B[38;5;241m.\u001B[39m_getitem_multilevel(key)\n\u001B[0;32m-> 4102\u001B[0m indexer \u001B[38;5;241m=\u001B[39m \u001B[38;5;28;43mself\u001B[39;49m\u001B[38;5;241;43m.\u001B[39;49m\u001B[43mcolumns\u001B[49m\u001B[38;5;241;43m.\u001B[39;49m\u001B[43mget_loc\u001B[49m\u001B[43m(\u001B[49m\u001B[43mkey\u001B[49m\u001B[43m)\u001B[49m\n\u001B[1;32m   4103\u001B[0m \u001B[38;5;28;01mif\u001B[39;00m is_integer(indexer):\n\u001B[1;32m   4104\u001B[0m     indexer \u001B[38;5;241m=\u001B[39m [indexer]\n",
      "File \u001B[0;32m~/opt/anaconda3/lib/python3.10/site-packages/pandas/core/indexes/base.py:3812\u001B[0m, in \u001B[0;36mIndex.get_loc\u001B[0;34m(self, key)\u001B[0m\n\u001B[1;32m   3807\u001B[0m     \u001B[38;5;28;01mif\u001B[39;00m \u001B[38;5;28misinstance\u001B[39m(casted_key, \u001B[38;5;28mslice\u001B[39m) \u001B[38;5;129;01mor\u001B[39;00m (\n\u001B[1;32m   3808\u001B[0m         \u001B[38;5;28misinstance\u001B[39m(casted_key, abc\u001B[38;5;241m.\u001B[39mIterable)\n\u001B[1;32m   3809\u001B[0m         \u001B[38;5;129;01mand\u001B[39;00m \u001B[38;5;28many\u001B[39m(\u001B[38;5;28misinstance\u001B[39m(x, \u001B[38;5;28mslice\u001B[39m) \u001B[38;5;28;01mfor\u001B[39;00m x \u001B[38;5;129;01min\u001B[39;00m casted_key)\n\u001B[1;32m   3810\u001B[0m     ):\n\u001B[1;32m   3811\u001B[0m         \u001B[38;5;28;01mraise\u001B[39;00m InvalidIndexError(key)\n\u001B[0;32m-> 3812\u001B[0m     \u001B[38;5;28;01mraise\u001B[39;00m \u001B[38;5;167;01mKeyError\u001B[39;00m(key) \u001B[38;5;28;01mfrom\u001B[39;00m \u001B[38;5;21;01merr\u001B[39;00m\n\u001B[1;32m   3813\u001B[0m \u001B[38;5;28;01mexcept\u001B[39;00m \u001B[38;5;167;01mTypeError\u001B[39;00m:\n\u001B[1;32m   3814\u001B[0m     \u001B[38;5;66;03m# If we have a listlike key, _check_indexing_error will raise\u001B[39;00m\n\u001B[1;32m   3815\u001B[0m     \u001B[38;5;66;03m#  InvalidIndexError. Otherwise we fall through and re-raise\u001B[39;00m\n\u001B[1;32m   3816\u001B[0m     \u001B[38;5;66;03m#  the TypeError.\u001B[39;00m\n\u001B[1;32m   3817\u001B[0m     \u001B[38;5;28mself\u001B[39m\u001B[38;5;241m.\u001B[39m_check_indexing_error(key)\n",
      "\u001B[0;31mKeyError\u001B[0m: 'Crossing Point'"
     ]
    }
   ],
   "execution_count": 750
  },
  {
   "cell_type": "code",
   "source": [
    "if df_cis_filtered.shape[0] != 0:\n",
    "    # Replicates rows that have 'XX'\n",
    "    df_cis_filtered = df_cis_filtered.loc[df_cis_filtered.index\n",
    "    .repeat(df_cis_filtered['Crossing Point'].isin(['XX']).add(1))].reset_index(drop=True)\n",
    "    last_index = int((df_cis_filtered.last_valid_index() + 1) / 2)\n",
    "\n",
    "    # Create report dataframe\n",
    "    df_cis_report = pd.DataFrame(\n",
    "        index=np.arange(last_index),\n",
    "        columns=['Station', 'Station Number', 'Latitude', 'Longitude',\n",
    "                 'Station', 'Station Number', 'Latitude', 'Longitude']\n",
    "    )\n",
    "    df_cis_report['Length (ft)'] = 0.0\n",
    "\n",
    "    if 'ACVG Indication (dB_V)' in df_cis.columns:\n",
    "        df_cis_report['ACVG Max (dB/V)'] = 0.0\n",
    "\n",
    "    else:\n",
    "        df_cis_report['ACVG Max (dB/V)'] = ''\n",
    "\n",
    "    df_cis_report['Comments'] = ''\n",
    "\n",
    "    # Counters\n",
    "    i = 0\n",
    "    j = 0\n",
    "\n",
    "    # Structure data\n",
    "    while j < int((df_cis_filtered.last_valid_index() + 1) / 2):\n",
    "        # Start\n",
    "        df_cis_report.iat[j, 0] = df_cis_filtered.at[i, 'Station']\n",
    "        df_cis_report.iat[j, 1] = df_cis_filtered.at[i, 'Stationing (ft)']\n",
    "        df_cis_report.iat[j, 2] = df_cis_filtered.at[i, 'Latitude']\n",
    "        df_cis_report.iat[j, 3] = df_cis_filtered.at[i, 'Longitude']\n",
    "\n",
    "        # End\n",
    "        df_cis_report.iat[j, 4] = df_cis_filtered.at[i + 1, 'Station']\n",
    "        df_cis_report.iat[j, 5] = df_cis_filtered.at[i + 1, 'Stationing (ft)']\n",
    "        df_cis_report.iat[j, 6] = df_cis_filtered.at[i + 1, 'Latitude']\n",
    "        df_cis_report.iat[j, 7] = df_cis_filtered.at[i + 1, 'Longitude']\n",
    "\n",
    "        # Length\n",
    "        df_cis_report.iat[j, 8] = df_cis_report.iat[j, 4] - df_cis_report.iat[j, 0]\n",
    "\n",
    "        # ACVG\n",
    "        if 'ACVG Indication (dB_V)' in df_cis.columns:\n",
    "            mask = ((df_cis['Station'] >= df_cis_filtered.at[i, 'Station']) &\n",
    "                    (df_cis['Station'] <= df_cis_filtered.at[i + 1, 'Station']) &\n",
    "                    (df_cis['ACVG Indication (dB_V)'] >= 45))\n",
    "\n",
    "            df_cis_report.iat[j, 9] = df_cis.loc[mask, 'ACVG Indication (dB_V)'].max()\n",
    "\n",
    "        # Counters\n",
    "        j += 1\n",
    "        i += 2\n",
    "\n",
    "    # Deletes station columns\n",
    "    df_cis_report = df_cis_report.drop(df_cis_report.iloc[:, [0, 4]], axis=1)\n",
    "\n",
    "    # Save to file\n",
    "    exception_excel = f\"CIS Exception Report ({filtered_data_list[0].split('.csv')[0]}).xlsx\"\n",
    "    writing_mode = 'w'\n",
    "\n",
    "    if os.path.exists(os.path.join(output_path, exception_excel)):\n",
    "        writing_mode = 'a'\n",
    "\n",
    "    with pd.ExcelWriter(os.path.join(output_path, exception_excel),\n",
    "                        mode=writing_mode, engine='openpyxl') as writer:\n",
    "        df_cis_report.to_excel(writer, startrow=4, sheet_name='Less Negative than -0.85V (Off)',\n",
    "                               index=False)"
   ],
   "metadata": {
    "collapsed": false,
    "ExecuteTime": {
     "end_time": "2024-10-10T18:35:40.062894Z",
     "start_time": "2024-10-10T18:35:40.062650Z"
    }
   },
   "id": "5d6edcd7a3629a55",
   "outputs": [],
   "execution_count": null
  },
  {
   "cell_type": "code",
   "source": [
    "if df_cis_filtered.shape[0] != 0:\n",
    "    wb = load_workbook(os.path.join(output_path, exception_excel))\n",
    "    sheet = wb['Less Negative than -0.85V (Off)']\n",
    "\n",
    "    # Company name with pipeline ID\n",
    "    sheet.cell(1, 1).value = f\"{CLIENT} ({filtered_data_list[0].split('SN')[0][:-1]})\"\n",
    "\n",
    "    # Station numbers surveyed\n",
    "    sheet.cell(2, 1).value = (\n",
    "        f\"{filtered_data_list[0].split('SN')[1].split()[0]} to \"\n",
    "        f\"{filtered_data_list[0].split('SN')[2].split('.')[0]}\"\n",
    "    )\n",
    "\n",
    "    # Start\n",
    "    sheet.cell(4, 1).value = 'Start'\n",
    "\n",
    "    # End\n",
    "    sheet.cell(4, 4).value = 'End'\n",
    "\n",
    "    # Total pipeline distance with issues\n",
    "    total_feet = round(sum(total_miles_list * 5280))\n",
    "    total_miles = round(sum(total_miles_list), 2)\n",
    "    sheet.cell(last_index + 7, 1).value = (\n",
    "        f\"Total pipeline distance surveyed = {total_feet} feet or {total_miles} miles\"\n",
    "    )\n",
    "    total_length = round(df_cis_report['Length (ft)'].sum(), 2)\n",
    "    length_percent = round(total_length / sum(total_miles_list * 5280) * 100, 2)\n",
    "    sheet.cell(last_index + 8, 1).value = (\n",
    "        f\"Total pipeline distance less negative than -0.85V 'Off' = \"\n",
    "        f\"{total_length} feet ({length_percent} %)\"\n",
    "    )"
   ],
   "metadata": {
    "collapsed": false,
    "ExecuteTime": {
     "end_time": "2024-10-10T18:35:40.344157Z",
     "start_time": "2024-10-10T18:35:40.311104Z"
    }
   },
   "id": "fbe019e2b01a1d30",
   "outputs": [
    {
     "ename": "KeyError",
     "evalue": "'Worksheet Less Negative than -0.85V (Off) does not exist.'",
     "output_type": "error",
     "traceback": [
      "\u001B[0;31m---------------------------------------------------------------------------\u001B[0m",
      "\u001B[0;31mKeyError\u001B[0m                                  Traceback (most recent call last)",
      "Cell \u001B[0;32mIn[751], line 3\u001B[0m\n\u001B[1;32m      1\u001B[0m \u001B[38;5;28;01mif\u001B[39;00m df_cis_filtered\u001B[38;5;241m.\u001B[39mshape[\u001B[38;5;241m0\u001B[39m] \u001B[38;5;241m!=\u001B[39m \u001B[38;5;241m0\u001B[39m:\n\u001B[1;32m      2\u001B[0m     wb \u001B[38;5;241m=\u001B[39m load_workbook(os\u001B[38;5;241m.\u001B[39mpath\u001B[38;5;241m.\u001B[39mjoin(output_path, exception_excel))\n\u001B[0;32m----> 3\u001B[0m     sheet \u001B[38;5;241m=\u001B[39m \u001B[43mwb\u001B[49m\u001B[43m[\u001B[49m\u001B[38;5;124;43m'\u001B[39;49m\u001B[38;5;124;43mLess Negative than -0.85V (Off)\u001B[39;49m\u001B[38;5;124;43m'\u001B[39;49m\u001B[43m]\u001B[49m\n\u001B[1;32m      5\u001B[0m     \u001B[38;5;66;03m# Company name with pipeline ID\u001B[39;00m\n\u001B[1;32m      6\u001B[0m     sheet\u001B[38;5;241m.\u001B[39mcell(\u001B[38;5;241m1\u001B[39m, \u001B[38;5;241m1\u001B[39m)\u001B[38;5;241m.\u001B[39mvalue \u001B[38;5;241m=\u001B[39m \u001B[38;5;124mf\u001B[39m\u001B[38;5;124m\"\u001B[39m\u001B[38;5;132;01m{\u001B[39;00mCLIENT\u001B[38;5;132;01m}\u001B[39;00m\u001B[38;5;124m (\u001B[39m\u001B[38;5;132;01m{\u001B[39;00mfiltered_data_list[\u001B[38;5;241m0\u001B[39m]\u001B[38;5;241m.\u001B[39msplit(\u001B[38;5;124m'\u001B[39m\u001B[38;5;124mSN\u001B[39m\u001B[38;5;124m'\u001B[39m)[\u001B[38;5;241m0\u001B[39m][:\u001B[38;5;241m-\u001B[39m\u001B[38;5;241m1\u001B[39m]\u001B[38;5;132;01m}\u001B[39;00m\u001B[38;5;124m)\u001B[39m\u001B[38;5;124m\"\u001B[39m\n",
      "File \u001B[0;32m~/opt/anaconda3/lib/python3.10/site-packages/openpyxl/workbook/workbook.py:287\u001B[0m, in \u001B[0;36mWorkbook.__getitem__\u001B[0;34m(self, key)\u001B[0m\n\u001B[1;32m    285\u001B[0m     \u001B[38;5;28;01mif\u001B[39;00m sheet\u001B[38;5;241m.\u001B[39mtitle \u001B[38;5;241m==\u001B[39m key:\n\u001B[1;32m    286\u001B[0m         \u001B[38;5;28;01mreturn\u001B[39;00m sheet\n\u001B[0;32m--> 287\u001B[0m \u001B[38;5;28;01mraise\u001B[39;00m \u001B[38;5;167;01mKeyError\u001B[39;00m(\u001B[38;5;124m\"\u001B[39m\u001B[38;5;124mWorksheet \u001B[39m\u001B[38;5;132;01m{0}\u001B[39;00m\u001B[38;5;124m does not exist.\u001B[39m\u001B[38;5;124m\"\u001B[39m\u001B[38;5;241m.\u001B[39mformat(key))\n",
      "\u001B[0;31mKeyError\u001B[0m: 'Worksheet Less Negative than -0.85V (Off) does not exist.'"
     ]
    }
   ],
   "execution_count": 751
  },
  {
   "cell_type": "code",
   "source": [
    "if df_cis_filtered.shape[0] != 0:\n",
    "    # Font\n",
    "    sheet.cell(1, 1).font = Font(size=14, bold=True)\n",
    "    sheet.cell(2, 1).font = Font(italic=True)\n",
    "    sheet.cell(4, 1).font = Font(bold=True)\n",
    "    sheet.cell(4, 4).font = Font(bold=True)\n",
    "    sheet.cell(4, 7).font = Font(bold=True)\n",
    "    sheet.cell(4, 8).font = Font(bold=True)\n",
    "    sheet.cell(4, 9).font = Font(bold=True)\n",
    "    sheet.cell(last_index + 7, 1).font = Font(bold=True)\n",
    "    sheet.cell(last_index + 8, 1).font = Font(bold=True)\n",
    "\n",
    "    # Merging\n",
    "    sheet.merge_cells('A1:I1')\n",
    "    sheet.merge_cells('A2:I2')\n",
    "    sheet.merge_cells('A4:C4')\n",
    "    sheet.merge_cells('D4:F4')\n",
    "    sheet.cell(4, 7).value = sheet.cell(5, 7).value\n",
    "    sheet.merge_cells('G4:G5')\n",
    "    sheet.cell(4, 8).value = sheet.cell(5, 8).value\n",
    "    sheet.merge_cells('H4:H5')\n",
    "    sheet.cell(4, 9).value = sheet.cell(5, 9).value\n",
    "    sheet.merge_cells('I4:I5')\n",
    "\n",
    "    # Alignment\n",
    "    i = 0\n",
    "\n",
    "    while i < (last_index + 5):\n",
    "        for c in sheet['A1:I' + str(last_index + 5)][i]:\n",
    "            c.alignment = Alignment(horizontal='center', vertical='center')\n",
    "\n",
    "        # Counters\n",
    "        i += 1\n",
    "\n",
    "    # Borders\n",
    "    i = 0\n",
    "    thin = Side(border_style='thin', color='000000')\n",
    "    white_border = Side(border_style='thin', color='FFFFFF')\n",
    "\n",
    "    while i < (last_index + 5):\n",
    "        # 3rd row\n",
    "        if i == 2:\n",
    "            for c in sheet['A1:I' + str(last_index + 5)][i]:\n",
    "                c.border = Border(left=white_border, right=white_border)\n",
    "\n",
    "            # Counters\n",
    "            i += 1\n",
    "\n",
    "        for c in sheet['A1:I' + str(last_index + 5)][i]:\n",
    "            c.border = Border(top=thin, left=thin, right=thin, bottom=thin)\n",
    "\n",
    "        # Counters\n",
    "        i += 1\n",
    "\n",
    "    # Column widths\n",
    "    for col in 'ABCDEFGH':\n",
    "        sheet.column_dimensions[col].width = 15\n",
    "\n",
    "    sheet.column_dimensions['I'].width = 50"
   ],
   "metadata": {
    "collapsed": false,
    "ExecuteTime": {
     "end_time": "2024-10-10T18:35:40.345475Z",
     "start_time": "2024-10-10T18:35:40.345216Z"
    }
   },
   "id": "dac95354c3e1d9f2",
   "outputs": [],
   "execution_count": null
  },
  {
   "cell_type": "code",
   "source": [
    "# Save to excel\n",
    "if df_cis_filtered.shape[0] != 0:\n",
    "    wb.save(os.path.join(output_path, exception_excel))"
   ],
   "metadata": {
    "collapsed": false,
    "ExecuteTime": {
     "end_time": "2024-10-10T18:35:40.387431Z",
     "start_time": "2024-10-10T18:35:40.378663Z"
    }
   },
   "id": "55842f4fe929e5f9",
   "outputs": [],
   "execution_count": 752
  },
  {
   "cell_type": "markdown",
   "source": [
    "## More Negative than -1.2V \"Off\""
   ],
   "metadata": {
    "collapsed": false
   },
   "id": "6d534a06aab892b"
  },
  {
   "cell_type": "code",
   "source": [
    "# Combines all '.csv' files at specified folder\n",
    "df_cis_filtered = pd.concat(\n",
    "    (pd.read_csv(f) for f in glob.glob(os.path.join(data_path, r'*.csv'))),\n",
    "    ignore_index=True\n",
    ")\n",
    "df_cis_filtered = df_cis_filtered[df_cis_filtered['Off Potential'] != 0]\n",
    "df_cis_filtered = df_cis_filtered[['Station', 'Stationing (ft)', 'Longitude', 'Latitude',\n",
    "                                   'Off Potential']].reset_index(drop=True)\n",
    "df_cis_filtered['Crossing Point'] = ''\n",
    "last_index = df_cis_filtered.last_valid_index()"
   ],
   "metadata": {
    "collapsed": false,
    "ExecuteTime": {
     "end_time": "2024-10-10T18:35:40.471296Z",
     "start_time": "2024-10-10T18:35:40.427716Z"
    }
   },
   "id": "7beee1bd54415c20",
   "outputs": [
    {
     "ename": "KeyError",
     "evalue": "'Off Potential'",
     "output_type": "error",
     "traceback": [
      "\u001B[0;31m---------------------------------------------------------------------------\u001B[0m",
      "\u001B[0;31mKeyError\u001B[0m                                  Traceback (most recent call last)",
      "File \u001B[0;32m~/opt/anaconda3/lib/python3.10/site-packages/pandas/core/indexes/base.py:3805\u001B[0m, in \u001B[0;36mIndex.get_loc\u001B[0;34m(self, key)\u001B[0m\n\u001B[1;32m   3804\u001B[0m \u001B[38;5;28;01mtry\u001B[39;00m:\n\u001B[0;32m-> 3805\u001B[0m     \u001B[38;5;28;01mreturn\u001B[39;00m \u001B[38;5;28;43mself\u001B[39;49m\u001B[38;5;241;43m.\u001B[39;49m\u001B[43m_engine\u001B[49m\u001B[38;5;241;43m.\u001B[39;49m\u001B[43mget_loc\u001B[49m\u001B[43m(\u001B[49m\u001B[43mcasted_key\u001B[49m\u001B[43m)\u001B[49m\n\u001B[1;32m   3806\u001B[0m \u001B[38;5;28;01mexcept\u001B[39;00m \u001B[38;5;167;01mKeyError\u001B[39;00m \u001B[38;5;28;01mas\u001B[39;00m err:\n",
      "File \u001B[0;32mindex.pyx:167\u001B[0m, in \u001B[0;36mpandas._libs.index.IndexEngine.get_loc\u001B[0;34m()\u001B[0m\n",
      "File \u001B[0;32mindex.pyx:196\u001B[0m, in \u001B[0;36mpandas._libs.index.IndexEngine.get_loc\u001B[0;34m()\u001B[0m\n",
      "File \u001B[0;32mpandas/_libs/hashtable_class_helper.pxi:7081\u001B[0m, in \u001B[0;36mpandas._libs.hashtable.PyObjectHashTable.get_item\u001B[0;34m()\u001B[0m\n",
      "File \u001B[0;32mpandas/_libs/hashtable_class_helper.pxi:7089\u001B[0m, in \u001B[0;36mpandas._libs.hashtable.PyObjectHashTable.get_item\u001B[0;34m()\u001B[0m\n",
      "\u001B[0;31mKeyError\u001B[0m: 'Off Potential'",
      "\nThe above exception was the direct cause of the following exception:\n",
      "\u001B[0;31mKeyError\u001B[0m                                  Traceback (most recent call last)",
      "Cell \u001B[0;32mIn[753], line 6\u001B[0m\n\u001B[1;32m      1\u001B[0m \u001B[38;5;66;03m# Combines all '.csv' files at specified folder\u001B[39;00m\n\u001B[1;32m      2\u001B[0m df_cis_filtered \u001B[38;5;241m=\u001B[39m pd\u001B[38;5;241m.\u001B[39mconcat(\n\u001B[1;32m      3\u001B[0m     (pd\u001B[38;5;241m.\u001B[39mread_csv(f) \u001B[38;5;28;01mfor\u001B[39;00m f \u001B[38;5;129;01min\u001B[39;00m glob\u001B[38;5;241m.\u001B[39mglob(os\u001B[38;5;241m.\u001B[39mpath\u001B[38;5;241m.\u001B[39mjoin(data_path, \u001B[38;5;124mr\u001B[39m\u001B[38;5;124m'\u001B[39m\u001B[38;5;124m*.csv\u001B[39m\u001B[38;5;124m'\u001B[39m))),\n\u001B[1;32m      4\u001B[0m     ignore_index\u001B[38;5;241m=\u001B[39m\u001B[38;5;28;01mTrue\u001B[39;00m\n\u001B[1;32m      5\u001B[0m )\n\u001B[0;32m----> 6\u001B[0m df_cis_filtered \u001B[38;5;241m=\u001B[39m df_cis_filtered[\u001B[43mdf_cis_filtered\u001B[49m\u001B[43m[\u001B[49m\u001B[38;5;124;43m'\u001B[39;49m\u001B[38;5;124;43mOff Potential\u001B[39;49m\u001B[38;5;124;43m'\u001B[39;49m\u001B[43m]\u001B[49m \u001B[38;5;241m!=\u001B[39m \u001B[38;5;241m0\u001B[39m]\n\u001B[1;32m      7\u001B[0m df_cis_filtered \u001B[38;5;241m=\u001B[39m df_cis_filtered[[\u001B[38;5;124m'\u001B[39m\u001B[38;5;124mStation\u001B[39m\u001B[38;5;124m'\u001B[39m, \u001B[38;5;124m'\u001B[39m\u001B[38;5;124mStationing (ft)\u001B[39m\u001B[38;5;124m'\u001B[39m, \u001B[38;5;124m'\u001B[39m\u001B[38;5;124mLongitude\u001B[39m\u001B[38;5;124m'\u001B[39m, \u001B[38;5;124m'\u001B[39m\u001B[38;5;124mLatitude\u001B[39m\u001B[38;5;124m'\u001B[39m,\n\u001B[1;32m      8\u001B[0m                                    \u001B[38;5;124m'\u001B[39m\u001B[38;5;124mOff Potential\u001B[39m\u001B[38;5;124m'\u001B[39m]]\u001B[38;5;241m.\u001B[39mreset_index(drop\u001B[38;5;241m=\u001B[39m\u001B[38;5;28;01mTrue\u001B[39;00m)\n\u001B[1;32m      9\u001B[0m df_cis_filtered[\u001B[38;5;124m'\u001B[39m\u001B[38;5;124mCrossing Point\u001B[39m\u001B[38;5;124m'\u001B[39m] \u001B[38;5;241m=\u001B[39m \u001B[38;5;124m'\u001B[39m\u001B[38;5;124m'\u001B[39m\n",
      "File \u001B[0;32m~/opt/anaconda3/lib/python3.10/site-packages/pandas/core/frame.py:4102\u001B[0m, in \u001B[0;36mDataFrame.__getitem__\u001B[0;34m(self, key)\u001B[0m\n\u001B[1;32m   4100\u001B[0m \u001B[38;5;28;01mif\u001B[39;00m \u001B[38;5;28mself\u001B[39m\u001B[38;5;241m.\u001B[39mcolumns\u001B[38;5;241m.\u001B[39mnlevels \u001B[38;5;241m>\u001B[39m \u001B[38;5;241m1\u001B[39m:\n\u001B[1;32m   4101\u001B[0m     \u001B[38;5;28;01mreturn\u001B[39;00m \u001B[38;5;28mself\u001B[39m\u001B[38;5;241m.\u001B[39m_getitem_multilevel(key)\n\u001B[0;32m-> 4102\u001B[0m indexer \u001B[38;5;241m=\u001B[39m \u001B[38;5;28;43mself\u001B[39;49m\u001B[38;5;241;43m.\u001B[39;49m\u001B[43mcolumns\u001B[49m\u001B[38;5;241;43m.\u001B[39;49m\u001B[43mget_loc\u001B[49m\u001B[43m(\u001B[49m\u001B[43mkey\u001B[49m\u001B[43m)\u001B[49m\n\u001B[1;32m   4103\u001B[0m \u001B[38;5;28;01mif\u001B[39;00m is_integer(indexer):\n\u001B[1;32m   4104\u001B[0m     indexer \u001B[38;5;241m=\u001B[39m [indexer]\n",
      "File \u001B[0;32m~/opt/anaconda3/lib/python3.10/site-packages/pandas/core/indexes/base.py:3812\u001B[0m, in \u001B[0;36mIndex.get_loc\u001B[0;34m(self, key)\u001B[0m\n\u001B[1;32m   3807\u001B[0m     \u001B[38;5;28;01mif\u001B[39;00m \u001B[38;5;28misinstance\u001B[39m(casted_key, \u001B[38;5;28mslice\u001B[39m) \u001B[38;5;129;01mor\u001B[39;00m (\n\u001B[1;32m   3808\u001B[0m         \u001B[38;5;28misinstance\u001B[39m(casted_key, abc\u001B[38;5;241m.\u001B[39mIterable)\n\u001B[1;32m   3809\u001B[0m         \u001B[38;5;129;01mand\u001B[39;00m \u001B[38;5;28many\u001B[39m(\u001B[38;5;28misinstance\u001B[39m(x, \u001B[38;5;28mslice\u001B[39m) \u001B[38;5;28;01mfor\u001B[39;00m x \u001B[38;5;129;01min\u001B[39;00m casted_key)\n\u001B[1;32m   3810\u001B[0m     ):\n\u001B[1;32m   3811\u001B[0m         \u001B[38;5;28;01mraise\u001B[39;00m InvalidIndexError(key)\n\u001B[0;32m-> 3812\u001B[0m     \u001B[38;5;28;01mraise\u001B[39;00m \u001B[38;5;167;01mKeyError\u001B[39;00m(key) \u001B[38;5;28;01mfrom\u001B[39;00m \u001B[38;5;21;01merr\u001B[39;00m\n\u001B[1;32m   3813\u001B[0m \u001B[38;5;28;01mexcept\u001B[39;00m \u001B[38;5;167;01mTypeError\u001B[39;00m:\n\u001B[1;32m   3814\u001B[0m     \u001B[38;5;66;03m# If we have a listlike key, _check_indexing_error will raise\u001B[39;00m\n\u001B[1;32m   3815\u001B[0m     \u001B[38;5;66;03m#  InvalidIndexError. Otherwise we fall through and re-raise\u001B[39;00m\n\u001B[1;32m   3816\u001B[0m     \u001B[38;5;66;03m#  the TypeError.\u001B[39;00m\n\u001B[1;32m   3817\u001B[0m     \u001B[38;5;28mself\u001B[39m\u001B[38;5;241m.\u001B[39m_check_indexing_error(key)\n",
      "\u001B[0;31mKeyError\u001B[0m: 'Off Potential'"
     ]
    }
   ],
   "execution_count": 753
  },
  {
   "cell_type": "code",
   "source": [
    "i = 1  # Loop counter for rows\n",
    "\n",
    "# Finds crossing points\n",
    "if df_cis_filtered.shape[0] != 0:\n",
    "    while i < last_index:\n",
    "        # First data point\n",
    "        if i == 1 and df_cis_filtered.at[0, 'Off Potential'] <= -1.2:\n",
    "            df_cis_filtered.at[0, 'Crossing Point'] = 'X'\n",
    "\n",
    "        # Second data point\n",
    "        elif i == 2 and df_cis_filtered.at[1, 'Off Potential'] <= -1.2:\n",
    "            df_cis_filtered.at[0, 'Crossing Point'] = 'X'\n",
    "\n",
    "        # Last data point\n",
    "        elif (i == last_index - 1 and\n",
    "              df_cis_filtered.at[last_index, 'Off Potential'] <= -1.2):\n",
    "            df_cis_filtered.at[last_index, 'Crossing Point'] = 'X'\n",
    "\n",
    "        # '_'\n",
    "        elif ((df_cis_filtered.at[i - 1, 'Off Potential'] < -1.2) and\n",
    "              (df_cis_filtered.at[i, 'Off Potential'] >= -1.2) and\n",
    "              (df_cis_filtered.at[i + 1, 'Off Potential'] < -1.2) and\n",
    "              i >= 1):\n",
    "            df_cis_filtered.at[i, 'Crossing Point'] = 'XX'\n",
    "\n",
    "        # '_\n",
    "        elif ((df_cis_filtered.at[i + 1, 'Off Potential'] > -1.2) and\n",
    "              (df_cis_filtered.at[i, 'Off Potential'] <= -1.2)):\n",
    "            df_cis_filtered.at[i + 1, 'Crossing Point'] = 'X'\n",
    "\n",
    "        # _'\n",
    "        elif ((df_cis_filtered.at[i + 1, 'Off Potential'] < -1.2) and\n",
    "              (df_cis_filtered.at[i, 'Off Potential'] >= -1.2)):\n",
    "            df_cis_filtered.at[i, 'Crossing Point'] = 'X'\n",
    "\n",
    "        # Counters\n",
    "        i += 1\n",
    "\n",
    "    df_cis_filtered = (df_cis_filtered[df_cis_filtered['Crossing Point'] != '']\n",
    "                       .reset_index(drop=True))"
   ],
   "metadata": {
    "collapsed": false,
    "ExecuteTime": {
     "end_time": "2024-10-10T18:35:40.540848Z",
     "start_time": "2024-10-10T18:35:40.489938Z"
    }
   },
   "id": "6c297ce98da79212",
   "outputs": [
    {
     "ename": "KeyError",
     "evalue": "'Crossing Point'",
     "output_type": "error",
     "traceback": [
      "\u001B[0;31m---------------------------------------------------------------------------\u001B[0m",
      "\u001B[0;31mKeyError\u001B[0m                                  Traceback (most recent call last)",
      "File \u001B[0;32m~/opt/anaconda3/lib/python3.10/site-packages/pandas/core/indexes/base.py:3805\u001B[0m, in \u001B[0;36mIndex.get_loc\u001B[0;34m(self, key)\u001B[0m\n\u001B[1;32m   3804\u001B[0m \u001B[38;5;28;01mtry\u001B[39;00m:\n\u001B[0;32m-> 3805\u001B[0m     \u001B[38;5;28;01mreturn\u001B[39;00m \u001B[38;5;28;43mself\u001B[39;49m\u001B[38;5;241;43m.\u001B[39;49m\u001B[43m_engine\u001B[49m\u001B[38;5;241;43m.\u001B[39;49m\u001B[43mget_loc\u001B[49m\u001B[43m(\u001B[49m\u001B[43mcasted_key\u001B[49m\u001B[43m)\u001B[49m\n\u001B[1;32m   3806\u001B[0m \u001B[38;5;28;01mexcept\u001B[39;00m \u001B[38;5;167;01mKeyError\u001B[39;00m \u001B[38;5;28;01mas\u001B[39;00m err:\n",
      "File \u001B[0;32mindex.pyx:167\u001B[0m, in \u001B[0;36mpandas._libs.index.IndexEngine.get_loc\u001B[0;34m()\u001B[0m\n",
      "File \u001B[0;32mindex.pyx:196\u001B[0m, in \u001B[0;36mpandas._libs.index.IndexEngine.get_loc\u001B[0;34m()\u001B[0m\n",
      "File \u001B[0;32mpandas/_libs/hashtable_class_helper.pxi:7081\u001B[0m, in \u001B[0;36mpandas._libs.hashtable.PyObjectHashTable.get_item\u001B[0;34m()\u001B[0m\n",
      "File \u001B[0;32mpandas/_libs/hashtable_class_helper.pxi:7089\u001B[0m, in \u001B[0;36mpandas._libs.hashtable.PyObjectHashTable.get_item\u001B[0;34m()\u001B[0m\n",
      "\u001B[0;31mKeyError\u001B[0m: 'Crossing Point'",
      "\nThe above exception was the direct cause of the following exception:\n",
      "\u001B[0;31mKeyError\u001B[0m                                  Traceback (most recent call last)",
      "Cell \u001B[0;32mIn[754], line 39\u001B[0m\n\u001B[1;32m     36\u001B[0m     \u001B[38;5;66;03m# Counters\u001B[39;00m\n\u001B[1;32m     37\u001B[0m     i \u001B[38;5;241m+\u001B[39m\u001B[38;5;241m=\u001B[39m \u001B[38;5;241m1\u001B[39m\n\u001B[0;32m---> 39\u001B[0m df_cis_filtered \u001B[38;5;241m=\u001B[39m (df_cis_filtered[\u001B[43mdf_cis_filtered\u001B[49m\u001B[43m[\u001B[49m\u001B[38;5;124;43m'\u001B[39;49m\u001B[38;5;124;43mCrossing Point\u001B[39;49m\u001B[38;5;124;43m'\u001B[39;49m\u001B[43m]\u001B[49m \u001B[38;5;241m!=\u001B[39m \u001B[38;5;124m'\u001B[39m\u001B[38;5;124m'\u001B[39m]\n\u001B[1;32m     40\u001B[0m                    \u001B[38;5;241m.\u001B[39mreset_index(drop\u001B[38;5;241m=\u001B[39m\u001B[38;5;28;01mTrue\u001B[39;00m))\n",
      "File \u001B[0;32m~/opt/anaconda3/lib/python3.10/site-packages/pandas/core/frame.py:4102\u001B[0m, in \u001B[0;36mDataFrame.__getitem__\u001B[0;34m(self, key)\u001B[0m\n\u001B[1;32m   4100\u001B[0m \u001B[38;5;28;01mif\u001B[39;00m \u001B[38;5;28mself\u001B[39m\u001B[38;5;241m.\u001B[39mcolumns\u001B[38;5;241m.\u001B[39mnlevels \u001B[38;5;241m>\u001B[39m \u001B[38;5;241m1\u001B[39m:\n\u001B[1;32m   4101\u001B[0m     \u001B[38;5;28;01mreturn\u001B[39;00m \u001B[38;5;28mself\u001B[39m\u001B[38;5;241m.\u001B[39m_getitem_multilevel(key)\n\u001B[0;32m-> 4102\u001B[0m indexer \u001B[38;5;241m=\u001B[39m \u001B[38;5;28;43mself\u001B[39;49m\u001B[38;5;241;43m.\u001B[39;49m\u001B[43mcolumns\u001B[49m\u001B[38;5;241;43m.\u001B[39;49m\u001B[43mget_loc\u001B[49m\u001B[43m(\u001B[49m\u001B[43mkey\u001B[49m\u001B[43m)\u001B[49m\n\u001B[1;32m   4103\u001B[0m \u001B[38;5;28;01mif\u001B[39;00m is_integer(indexer):\n\u001B[1;32m   4104\u001B[0m     indexer \u001B[38;5;241m=\u001B[39m [indexer]\n",
      "File \u001B[0;32m~/opt/anaconda3/lib/python3.10/site-packages/pandas/core/indexes/base.py:3812\u001B[0m, in \u001B[0;36mIndex.get_loc\u001B[0;34m(self, key)\u001B[0m\n\u001B[1;32m   3807\u001B[0m     \u001B[38;5;28;01mif\u001B[39;00m \u001B[38;5;28misinstance\u001B[39m(casted_key, \u001B[38;5;28mslice\u001B[39m) \u001B[38;5;129;01mor\u001B[39;00m (\n\u001B[1;32m   3808\u001B[0m         \u001B[38;5;28misinstance\u001B[39m(casted_key, abc\u001B[38;5;241m.\u001B[39mIterable)\n\u001B[1;32m   3809\u001B[0m         \u001B[38;5;129;01mand\u001B[39;00m \u001B[38;5;28many\u001B[39m(\u001B[38;5;28misinstance\u001B[39m(x, \u001B[38;5;28mslice\u001B[39m) \u001B[38;5;28;01mfor\u001B[39;00m x \u001B[38;5;129;01min\u001B[39;00m casted_key)\n\u001B[1;32m   3810\u001B[0m     ):\n\u001B[1;32m   3811\u001B[0m         \u001B[38;5;28;01mraise\u001B[39;00m InvalidIndexError(key)\n\u001B[0;32m-> 3812\u001B[0m     \u001B[38;5;28;01mraise\u001B[39;00m \u001B[38;5;167;01mKeyError\u001B[39;00m(key) \u001B[38;5;28;01mfrom\u001B[39;00m \u001B[38;5;21;01merr\u001B[39;00m\n\u001B[1;32m   3813\u001B[0m \u001B[38;5;28;01mexcept\u001B[39;00m \u001B[38;5;167;01mTypeError\u001B[39;00m:\n\u001B[1;32m   3814\u001B[0m     \u001B[38;5;66;03m# If we have a listlike key, _check_indexing_error will raise\u001B[39;00m\n\u001B[1;32m   3815\u001B[0m     \u001B[38;5;66;03m#  InvalidIndexError. Otherwise we fall through and re-raise\u001B[39;00m\n\u001B[1;32m   3816\u001B[0m     \u001B[38;5;66;03m#  the TypeError.\u001B[39;00m\n\u001B[1;32m   3817\u001B[0m     \u001B[38;5;28mself\u001B[39m\u001B[38;5;241m.\u001B[39m_check_indexing_error(key)\n",
      "\u001B[0;31mKeyError\u001B[0m: 'Crossing Point'"
     ]
    }
   ],
   "execution_count": 754
  },
  {
   "cell_type": "code",
   "source": [
    "if df_cis_filtered.shape[0] != 0:\n",
    "    # Replicates rows that have 'XX'\n",
    "    df_cis_filtered = df_cis_filtered.loc[df_cis_filtered.index\n",
    "    .repeat(df_cis_filtered['Crossing Point'].isin(['XX']).add(1))].reset_index(drop=True)\n",
    "    last_index = int((df_cis_filtered.last_valid_index() + 1) / 2)\n",
    "\n",
    "    # Create report dataframe\n",
    "    df_cis_report = pd.DataFrame(\n",
    "        index=np.arange(last_index),\n",
    "        columns=['Station', 'Station Number', 'Latitude', 'Longitude',\n",
    "                 'Station', 'Station Number', 'Latitude', 'Longitude']\n",
    "    )\n",
    "    df_cis_report['Length (ft)'] = 0.0\n",
    "    df_cis_report['Comments'] = ''\n",
    "\n",
    "    # Counters\n",
    "    i = 0\n",
    "    j = 0\n",
    "\n",
    "    # Structure data\n",
    "    while j < int((df_cis_filtered.last_valid_index() + 1) / 2):\n",
    "        # Start\n",
    "        df_cis_report.iat[j, 0] = df_cis_filtered.at[i, 'Station']\n",
    "        df_cis_report.iat[j, 1] = df_cis_filtered.at[i, 'Stationing (ft)']\n",
    "        df_cis_report.iat[j, 2] = df_cis_filtered.at[i, 'Latitude']\n",
    "        df_cis_report.iat[j, 3] = df_cis_filtered.at[i, 'Longitude']\n",
    "\n",
    "        # End\n",
    "        df_cis_report.iat[j, 4] = df_cis_filtered.at[i + 1, 'Station']\n",
    "        df_cis_report.iat[j, 5] = df_cis_filtered.at[i + 1, 'Stationing (ft)']\n",
    "        df_cis_report.iat[j, 6] = df_cis_filtered.at[i + 1, 'Latitude']\n",
    "        df_cis_report.iat[j, 7] = df_cis_filtered.at[i + 1, 'Longitude']\n",
    "\n",
    "        # Length\n",
    "        df_cis_report.iat[j, 8] = df_cis_report.iat[j, 4] - df_cis_report.iat[j, 0]\n",
    "\n",
    "        # Counters\n",
    "        j += 1\n",
    "        i += 2\n",
    "\n",
    "    # Deletes station columns\n",
    "    df_cis_report = df_cis_report.drop(df_cis_report.iloc[:, [0, 4]], axis=1)\n",
    "\n",
    "    # Save to file\n",
    "    exception_excel = f\"CIS Exception Report ({filtered_data_list[0].split('.csv')[0]}).xlsx\"\n",
    "    writing_mode = 'w'\n",
    "\n",
    "    if os.path.exists(os.path.join(output_path, exception_excel)):\n",
    "        writing_mode = 'a'\n",
    "\n",
    "    with pd.ExcelWriter(os.path.join(output_path, exception_excel),\n",
    "                        mode=writing_mode, engine='openpyxl') as writer:\n",
    "        df_cis_report.to_excel(writer, startrow=4, sheet_name='More Negative than -1.2V (Off)',\n",
    "                               index=False)"
   ],
   "metadata": {
    "collapsed": false,
    "ExecuteTime": {
     "end_time": "2024-10-10T18:35:40.609675Z",
     "start_time": "2024-10-10T18:35:40.556291Z"
    }
   },
   "id": "cef9c6f64e96e6d8",
   "outputs": [
    {
     "ename": "KeyError",
     "evalue": "'Crossing Point'",
     "output_type": "error",
     "traceback": [
      "\u001B[0;31m---------------------------------------------------------------------------\u001B[0m",
      "\u001B[0;31mKeyError\u001B[0m                                  Traceback (most recent call last)",
      "File \u001B[0;32m~/opt/anaconda3/lib/python3.10/site-packages/pandas/core/indexes/base.py:3805\u001B[0m, in \u001B[0;36mIndex.get_loc\u001B[0;34m(self, key)\u001B[0m\n\u001B[1;32m   3804\u001B[0m \u001B[38;5;28;01mtry\u001B[39;00m:\n\u001B[0;32m-> 3805\u001B[0m     \u001B[38;5;28;01mreturn\u001B[39;00m \u001B[38;5;28;43mself\u001B[39;49m\u001B[38;5;241;43m.\u001B[39;49m\u001B[43m_engine\u001B[49m\u001B[38;5;241;43m.\u001B[39;49m\u001B[43mget_loc\u001B[49m\u001B[43m(\u001B[49m\u001B[43mcasted_key\u001B[49m\u001B[43m)\u001B[49m\n\u001B[1;32m   3806\u001B[0m \u001B[38;5;28;01mexcept\u001B[39;00m \u001B[38;5;167;01mKeyError\u001B[39;00m \u001B[38;5;28;01mas\u001B[39;00m err:\n",
      "File \u001B[0;32mindex.pyx:167\u001B[0m, in \u001B[0;36mpandas._libs.index.IndexEngine.get_loc\u001B[0;34m()\u001B[0m\n",
      "File \u001B[0;32mindex.pyx:196\u001B[0m, in \u001B[0;36mpandas._libs.index.IndexEngine.get_loc\u001B[0;34m()\u001B[0m\n",
      "File \u001B[0;32mpandas/_libs/hashtable_class_helper.pxi:7081\u001B[0m, in \u001B[0;36mpandas._libs.hashtable.PyObjectHashTable.get_item\u001B[0;34m()\u001B[0m\n",
      "File \u001B[0;32mpandas/_libs/hashtable_class_helper.pxi:7089\u001B[0m, in \u001B[0;36mpandas._libs.hashtable.PyObjectHashTable.get_item\u001B[0;34m()\u001B[0m\n",
      "\u001B[0;31mKeyError\u001B[0m: 'Crossing Point'",
      "\nThe above exception was the direct cause of the following exception:\n",
      "\u001B[0;31mKeyError\u001B[0m                                  Traceback (most recent call last)",
      "Cell \u001B[0;32mIn[755], line 4\u001B[0m\n\u001B[1;32m      1\u001B[0m \u001B[38;5;28;01mif\u001B[39;00m df_cis_filtered\u001B[38;5;241m.\u001B[39mshape[\u001B[38;5;241m0\u001B[39m] \u001B[38;5;241m!=\u001B[39m \u001B[38;5;241m0\u001B[39m:\n\u001B[1;32m      2\u001B[0m     \u001B[38;5;66;03m# Replicates rows that have 'XX'\u001B[39;00m\n\u001B[1;32m      3\u001B[0m     df_cis_filtered \u001B[38;5;241m=\u001B[39m df_cis_filtered\u001B[38;5;241m.\u001B[39mloc[df_cis_filtered\u001B[38;5;241m.\u001B[39mindex\n\u001B[0;32m----> 4\u001B[0m     \u001B[38;5;241m.\u001B[39mrepeat(\u001B[43mdf_cis_filtered\u001B[49m\u001B[43m[\u001B[49m\u001B[38;5;124;43m'\u001B[39;49m\u001B[38;5;124;43mCrossing Point\u001B[39;49m\u001B[38;5;124;43m'\u001B[39;49m\u001B[43m]\u001B[49m\u001B[38;5;241m.\u001B[39misin([\u001B[38;5;124m'\u001B[39m\u001B[38;5;124mXX\u001B[39m\u001B[38;5;124m'\u001B[39m])\u001B[38;5;241m.\u001B[39madd(\u001B[38;5;241m1\u001B[39m))]\u001B[38;5;241m.\u001B[39mreset_index(drop\u001B[38;5;241m=\u001B[39m\u001B[38;5;28;01mTrue\u001B[39;00m)\n\u001B[1;32m      5\u001B[0m     last_index \u001B[38;5;241m=\u001B[39m \u001B[38;5;28mint\u001B[39m((df_cis_filtered\u001B[38;5;241m.\u001B[39mlast_valid_index() \u001B[38;5;241m+\u001B[39m \u001B[38;5;241m1\u001B[39m) \u001B[38;5;241m/\u001B[39m \u001B[38;5;241m2\u001B[39m)\n\u001B[1;32m      7\u001B[0m     \u001B[38;5;66;03m# Create report dataframe\u001B[39;00m\n",
      "File \u001B[0;32m~/opt/anaconda3/lib/python3.10/site-packages/pandas/core/frame.py:4102\u001B[0m, in \u001B[0;36mDataFrame.__getitem__\u001B[0;34m(self, key)\u001B[0m\n\u001B[1;32m   4100\u001B[0m \u001B[38;5;28;01mif\u001B[39;00m \u001B[38;5;28mself\u001B[39m\u001B[38;5;241m.\u001B[39mcolumns\u001B[38;5;241m.\u001B[39mnlevels \u001B[38;5;241m>\u001B[39m \u001B[38;5;241m1\u001B[39m:\n\u001B[1;32m   4101\u001B[0m     \u001B[38;5;28;01mreturn\u001B[39;00m \u001B[38;5;28mself\u001B[39m\u001B[38;5;241m.\u001B[39m_getitem_multilevel(key)\n\u001B[0;32m-> 4102\u001B[0m indexer \u001B[38;5;241m=\u001B[39m \u001B[38;5;28;43mself\u001B[39;49m\u001B[38;5;241;43m.\u001B[39;49m\u001B[43mcolumns\u001B[49m\u001B[38;5;241;43m.\u001B[39;49m\u001B[43mget_loc\u001B[49m\u001B[43m(\u001B[49m\u001B[43mkey\u001B[49m\u001B[43m)\u001B[49m\n\u001B[1;32m   4103\u001B[0m \u001B[38;5;28;01mif\u001B[39;00m is_integer(indexer):\n\u001B[1;32m   4104\u001B[0m     indexer \u001B[38;5;241m=\u001B[39m [indexer]\n",
      "File \u001B[0;32m~/opt/anaconda3/lib/python3.10/site-packages/pandas/core/indexes/base.py:3812\u001B[0m, in \u001B[0;36mIndex.get_loc\u001B[0;34m(self, key)\u001B[0m\n\u001B[1;32m   3807\u001B[0m     \u001B[38;5;28;01mif\u001B[39;00m \u001B[38;5;28misinstance\u001B[39m(casted_key, \u001B[38;5;28mslice\u001B[39m) \u001B[38;5;129;01mor\u001B[39;00m (\n\u001B[1;32m   3808\u001B[0m         \u001B[38;5;28misinstance\u001B[39m(casted_key, abc\u001B[38;5;241m.\u001B[39mIterable)\n\u001B[1;32m   3809\u001B[0m         \u001B[38;5;129;01mand\u001B[39;00m \u001B[38;5;28many\u001B[39m(\u001B[38;5;28misinstance\u001B[39m(x, \u001B[38;5;28mslice\u001B[39m) \u001B[38;5;28;01mfor\u001B[39;00m x \u001B[38;5;129;01min\u001B[39;00m casted_key)\n\u001B[1;32m   3810\u001B[0m     ):\n\u001B[1;32m   3811\u001B[0m         \u001B[38;5;28;01mraise\u001B[39;00m InvalidIndexError(key)\n\u001B[0;32m-> 3812\u001B[0m     \u001B[38;5;28;01mraise\u001B[39;00m \u001B[38;5;167;01mKeyError\u001B[39;00m(key) \u001B[38;5;28;01mfrom\u001B[39;00m \u001B[38;5;21;01merr\u001B[39;00m\n\u001B[1;32m   3813\u001B[0m \u001B[38;5;28;01mexcept\u001B[39;00m \u001B[38;5;167;01mTypeError\u001B[39;00m:\n\u001B[1;32m   3814\u001B[0m     \u001B[38;5;66;03m# If we have a listlike key, _check_indexing_error will raise\u001B[39;00m\n\u001B[1;32m   3815\u001B[0m     \u001B[38;5;66;03m#  InvalidIndexError. Otherwise we fall through and re-raise\u001B[39;00m\n\u001B[1;32m   3816\u001B[0m     \u001B[38;5;66;03m#  the TypeError.\u001B[39;00m\n\u001B[1;32m   3817\u001B[0m     \u001B[38;5;28mself\u001B[39m\u001B[38;5;241m.\u001B[39m_check_indexing_error(key)\n",
      "\u001B[0;31mKeyError\u001B[0m: 'Crossing Point'"
     ]
    }
   ],
   "execution_count": 755
  },
  {
   "cell_type": "code",
   "source": [
    "if df_cis_filtered.shape[0] != 0:\n",
    "    wb = load_workbook(os.path.join(output_path, exception_excel))\n",
    "    sheet = wb['More Negative than -1.2V (Off)']\n",
    "\n",
    "    # Company name with pipeline ID\n",
    "    sheet.cell(1, 1).value = f\"{CLIENT} ({filtered_data_list[0].split('SN')[0][:-1]})\"\n",
    "\n",
    "    # Station numbers surveyed\n",
    "    sheet.cell(2, 1).value = (\n",
    "        f\"{filtered_data_list[0].split('SN')[1].split()[0]} to \"\n",
    "        f\"{filtered_data_list[0].split('SN')[2].split('.')[0]}\"\n",
    "    )\n",
    "\n",
    "    # Start\n",
    "    sheet.cell(4, 1).value = 'Start'\n",
    "\n",
    "    # End\n",
    "    sheet.cell(4, 4).value = 'End'\n",
    "\n",
    "    # Total pipeline distance with issues\n",
    "    total_feet = round(sum(total_miles_list * 5280))\n",
    "    total_miles = round(sum(total_miles_list), 2)\n",
    "    sheet.cell(last_index + 7, 1).value = (\n",
    "        f\"Total pipeline distance surveyed = {total_feet} feet or {total_miles} miles\"\n",
    "    )\n",
    "    total_length = round(df_cis_report['Length (ft)'].sum(), 2)\n",
    "    length_percent = round(total_length / sum(total_miles_list * 5280) * 100, 2)\n",
    "    sheet.cell(last_index + 8, 1).value = (\n",
    "        f\"Total pipeline distance more negative than -1.2V 'Off' = \"\n",
    "        f\"{total_length} feet ({length_percent} %)\"\n",
    "    )"
   ],
   "metadata": {
    "collapsed": false,
    "ExecuteTime": {
     "end_time": "2024-10-10T18:35:40.656623Z",
     "start_time": "2024-10-10T18:35:40.622261Z"
    }
   },
   "id": "4212f3b28057fe92",
   "outputs": [
    {
     "ename": "KeyError",
     "evalue": "'Worksheet More Negative than -1.2V (Off) does not exist.'",
     "output_type": "error",
     "traceback": [
      "\u001B[0;31m---------------------------------------------------------------------------\u001B[0m",
      "\u001B[0;31mKeyError\u001B[0m                                  Traceback (most recent call last)",
      "Cell \u001B[0;32mIn[756], line 3\u001B[0m\n\u001B[1;32m      1\u001B[0m \u001B[38;5;28;01mif\u001B[39;00m df_cis_filtered\u001B[38;5;241m.\u001B[39mshape[\u001B[38;5;241m0\u001B[39m] \u001B[38;5;241m!=\u001B[39m \u001B[38;5;241m0\u001B[39m:\n\u001B[1;32m      2\u001B[0m     wb \u001B[38;5;241m=\u001B[39m load_workbook(os\u001B[38;5;241m.\u001B[39mpath\u001B[38;5;241m.\u001B[39mjoin(output_path, exception_excel))\n\u001B[0;32m----> 3\u001B[0m     sheet \u001B[38;5;241m=\u001B[39m \u001B[43mwb\u001B[49m\u001B[43m[\u001B[49m\u001B[38;5;124;43m'\u001B[39;49m\u001B[38;5;124;43mMore Negative than -1.2V (Off)\u001B[39;49m\u001B[38;5;124;43m'\u001B[39;49m\u001B[43m]\u001B[49m\n\u001B[1;32m      5\u001B[0m     \u001B[38;5;66;03m# Company name with pipeline ID\u001B[39;00m\n\u001B[1;32m      6\u001B[0m     sheet\u001B[38;5;241m.\u001B[39mcell(\u001B[38;5;241m1\u001B[39m, \u001B[38;5;241m1\u001B[39m)\u001B[38;5;241m.\u001B[39mvalue \u001B[38;5;241m=\u001B[39m \u001B[38;5;124mf\u001B[39m\u001B[38;5;124m\"\u001B[39m\u001B[38;5;132;01m{\u001B[39;00mCLIENT\u001B[38;5;132;01m}\u001B[39;00m\u001B[38;5;124m (\u001B[39m\u001B[38;5;132;01m{\u001B[39;00mfiltered_data_list[\u001B[38;5;241m0\u001B[39m]\u001B[38;5;241m.\u001B[39msplit(\u001B[38;5;124m'\u001B[39m\u001B[38;5;124mSN\u001B[39m\u001B[38;5;124m'\u001B[39m)[\u001B[38;5;241m0\u001B[39m][:\u001B[38;5;241m-\u001B[39m\u001B[38;5;241m1\u001B[39m]\u001B[38;5;132;01m}\u001B[39;00m\u001B[38;5;124m)\u001B[39m\u001B[38;5;124m\"\u001B[39m\n",
      "File \u001B[0;32m~/opt/anaconda3/lib/python3.10/site-packages/openpyxl/workbook/workbook.py:287\u001B[0m, in \u001B[0;36mWorkbook.__getitem__\u001B[0;34m(self, key)\u001B[0m\n\u001B[1;32m    285\u001B[0m     \u001B[38;5;28;01mif\u001B[39;00m sheet\u001B[38;5;241m.\u001B[39mtitle \u001B[38;5;241m==\u001B[39m key:\n\u001B[1;32m    286\u001B[0m         \u001B[38;5;28;01mreturn\u001B[39;00m sheet\n\u001B[0;32m--> 287\u001B[0m \u001B[38;5;28;01mraise\u001B[39;00m \u001B[38;5;167;01mKeyError\u001B[39;00m(\u001B[38;5;124m\"\u001B[39m\u001B[38;5;124mWorksheet \u001B[39m\u001B[38;5;132;01m{0}\u001B[39;00m\u001B[38;5;124m does not exist.\u001B[39m\u001B[38;5;124m\"\u001B[39m\u001B[38;5;241m.\u001B[39mformat(key))\n",
      "\u001B[0;31mKeyError\u001B[0m: 'Worksheet More Negative than -1.2V (Off) does not exist.'"
     ]
    }
   ],
   "execution_count": 756
  },
  {
   "cell_type": "code",
   "source": [
    "if df_cis_filtered.shape[0] != 0:\n",
    "    # Font\n",
    "    sheet.cell(1, 1).font = Font(size=14, bold=True)\n",
    "    sheet.cell(2, 1).font = Font(italic=True)\n",
    "    sheet.cell(4, 1).font = Font(bold=True)\n",
    "    sheet.cell(4, 4).font = Font(bold=True)\n",
    "    sheet.cell(4, 7).font = Font(bold=True)\n",
    "    sheet.cell(4, 8).font = Font(bold=True)\n",
    "    sheet.cell(last_index + 7, 1).font = Font(bold=True)\n",
    "    sheet.cell(last_index + 8, 1).font = Font(bold=True)\n",
    "\n",
    "    # Merging\n",
    "    sheet.merge_cells('A1:H1')\n",
    "    sheet.merge_cells('A2:H2')\n",
    "    sheet.merge_cells('A4:C4')\n",
    "    sheet.merge_cells('D4:F4')\n",
    "    sheet.cell(4, 7).value = sheet.cell(5, 7).value\n",
    "    sheet.merge_cells('G4:G5')\n",
    "    sheet.cell(4, 8).value = sheet.cell(5, 8).value\n",
    "    sheet.merge_cells('H4:H5')\n",
    "\n",
    "    # Alignment\n",
    "    i = 0\n",
    "\n",
    "    while i < (last_index + 5):\n",
    "        for c in sheet['A1:H' + str(last_index + 5)][i]:\n",
    "            c.alignment = Alignment(horizontal='center', vertical='center')\n",
    "\n",
    "        # Counters\n",
    "        i += 1\n",
    "\n",
    "    # Borders\n",
    "    i = 0\n",
    "    thin = Side(border_style='thin', color='000000')\n",
    "    white_border = Side(border_style='thin', color='FFFFFF')\n",
    "\n",
    "    while i < (last_index + 5):\n",
    "        # 3rd row\n",
    "        if i == 2:\n",
    "            for c in sheet['A1:H' + str(last_index + 5)][i]:\n",
    "                c.border = Border(left=white_border, right=white_border)\n",
    "\n",
    "            # Counters\n",
    "            i += 1\n",
    "\n",
    "        for c in sheet['A1:H' + str(last_index + 5)][i]:\n",
    "            c.border = Border(top=thin, left=thin, right=thin, bottom=thin)\n",
    "\n",
    "        # Counters\n",
    "        i += 1\n",
    "\n",
    "    # Column widths\n",
    "    for col in 'ABCDEFG':\n",
    "        sheet.column_dimensions[col].width = 15\n",
    "\n",
    "    sheet.column_dimensions['H'].width = 50"
   ],
   "metadata": {
    "collapsed": false,
    "ExecuteTime": {
     "end_time": "2024-10-10T18:35:40.688020Z",
     "start_time": "2024-10-10T18:35:40.670462Z"
    }
   },
   "id": "724e5853ee71508a",
   "outputs": [],
   "execution_count": 757
  },
  {
   "cell_type": "code",
   "source": [
    "# Save to excel\n",
    "if df_cis_filtered.shape[0] != 0:\n",
    "    wb.save(os.path.join(output_path, exception_excel))"
   ],
   "metadata": {
    "collapsed": false,
    "ExecuteTime": {
     "end_time": "2024-10-10T18:35:40.758697Z",
     "start_time": "2024-10-10T18:35:40.751065Z"
    }
   },
   "id": "e4abc32eac968e75",
   "outputs": [],
   "execution_count": 758
  },
  {
   "metadata": {},
   "cell_type": "markdown",
   "source": "# ACVG Report",
   "id": "531d53becd0e2fd3"
  },
  {
   "metadata": {
    "ExecuteTime": {
     "end_time": "2024-10-10T18:35:40.816681Z",
     "start_time": "2024-10-10T18:35:40.813639Z"
    }
   },
   "cell_type": "code",
   "source": [
    "if not PLOT_3D:\n",
    "    # Dataframe\n",
    "    df_cis_acvg = pd.read_csv(os.path.join(data_path, filtered_data_list[0]))\n",
    "    df_cis_acvg = df_cis_acvg[df_cis_acvg['ACVG Indication (dB_V)'] != 0]\n",
    "    df_cis_acvg = df_cis_acvg[['Station', 'Stationing (ft)', 'Longitude', 'Latitude',\n",
    "                               'On Potential', 'Off Potential',\n",
    "                               'ACVG Indication (dB_V)', 'ACVG Notes']].reset_index(drop=True)"
   ],
   "id": "dd01451260a6954d",
   "outputs": [],
   "execution_count": 759
  },
  {
   "metadata": {
    "ExecuteTime": {
     "end_time": "2024-10-10T18:35:40.864021Z",
     "start_time": "2024-10-10T18:35:40.856480Z"
    }
   },
   "cell_type": "code",
   "source": [
    "# Borders\n",
    "thin = Side(border_style='thin', color='000000')\n",
    "white_border = Side(border_style='thin', color='FFFFFF')"
   ],
   "id": "fb5a931a462f084c",
   "outputs": [],
   "execution_count": 760
  },
  {
   "metadata": {},
   "cell_type": "markdown",
   "source": "## -0.85V \"On\" (ACVG >= 45)",
   "id": "c1522bf6e4b156ac"
  },
  {
   "metadata": {
    "ExecuteTime": {
     "end_time": "2024-10-10T18:35:40.944822Z",
     "start_time": "2024-10-10T18:35:40.938615Z"
    }
   },
   "cell_type": "code",
   "source": [
    "if 'ACVG Indication (dB_V)' in df_cis.columns:\n",
    "    # Dataframe\n",
    "    df_cis_acvg_on_45 = df_cis_acvg.copy()\n",
    "    df_cis_acvg_on_45 = df_cis_acvg_on_45[(df_cis_acvg_on_45['On Potential'] >= -0.85) &\n",
    "                                          (df_cis_acvg_on_45['ACVG Indication (dB_V)'] >= 45.0)]\n",
    "    df_cis_acvg_on_45 = df_cis_acvg_on_45.drop(columns='Station')\n",
    "    last_index = df_cis_acvg_on_45.reset_index().last_valid_index()\n",
    "\n",
    "    # Save to excel\n",
    "    acvg_excel = f\"ACVG Report ({filtered_data_list[0].split('.csv')[0]}).xlsx\"\n",
    "    with pd.ExcelWriter(os.path.join(output_path, acvg_excel), mode='w',\n",
    "                        engine='openpyxl') as writer:\n",
    "        df_cis_acvg_on_45.to_excel(writer, sheet_name='-0.85V (On)(ACVG 45)', index_label='ID')\n",
    "\n",
    "    # Modify sheet\n",
    "    wb = load_workbook(os.path.join(output_path, acvg_excel))\n",
    "    sheet = wb['-0.85V (On)(ACVG 45)']\n",
    "\n",
    "    # Rename ACVG column\n",
    "    sheet.cell(1, 7).value = 'ACVG (dB/V)'\n",
    "\n",
    "    # Formatting\n",
    "    i = 0\n",
    "\n",
    "    while i < last_index + 2:\n",
    "        for c in sheet['A1:H' + str(last_index + 2)][i]:\n",
    "            c.alignment = Alignment(horizontal='center', vertical='center')\n",
    "            c.font = Font(bold=False)\n",
    "            c.border = Border(top=thin, left=thin, right=thin, bottom=thin)\n",
    "\n",
    "        # Counters\n",
    "        i += 1\n",
    "\n",
    "    # Header\n",
    "    for i in range(1, 9):\n",
    "        sheet.cell(1, i).font = Font(bold=True)\n",
    "\n",
    "    # Column widths\n",
    "    for col in 'ABCDEFG':\n",
    "        sheet.column_dimensions[col].width = 15\n",
    "\n",
    "    sheet.column_dimensions['H'].width = 50\n",
    "\n",
    "    # Save to excel\n",
    "    wb.save(os.path.join(output_path, acvg_excel))"
   ],
   "id": "f0123f4de1586ce0",
   "outputs": [],
   "execution_count": 761
  },
  {
   "metadata": {},
   "cell_type": "markdown",
   "source": "## -0.85V \"On\" (ACVG >= 60)",
   "id": "f478113dbec326d2"
  },
  {
   "metadata": {
    "ExecuteTime": {
     "end_time": "2024-10-10T18:35:40.968689Z",
     "start_time": "2024-10-10T18:35:40.963508Z"
    }
   },
   "cell_type": "code",
   "source": [
    "if 'ACVG Indication (dB_V)' in df_cis.columns:\n",
    "    # Dataframe\n",
    "    df_cis_acvg_on_60 = df_cis_acvg.copy()\n",
    "    df_cis_acvg_on_60 = df_cis_acvg_on_60[(df_cis_acvg_on_60['On Potential'] >= -0.85) &\n",
    "                                          (df_cis_acvg_on_60['ACVG Indication (dB_V)'] >= 60.0)]\n",
    "    df_cis_acvg_on_60 = df_cis_acvg_on_60.drop(columns='Station')\n",
    "    last_index = df_cis_acvg_on_60.reset_index().last_valid_index()\n",
    "\n",
    "    # Save to excel\n",
    "    with pd.ExcelWriter(os.path.join(output_path, acvg_excel), mode='a',\n",
    "                        engine='openpyxl') as writer:\n",
    "        df_cis_acvg_on_60.to_excel(writer, sheet_name='-0.85V (On)(ACVG 60)', index_label='ID')\n",
    "\n",
    "    # Modify sheet\n",
    "    wb = load_workbook(os.path.join(output_path, acvg_excel))\n",
    "    sheet = wb['-0.85V (On)(ACVG 60)']\n",
    "\n",
    "    # Rename ACVG column\n",
    "    sheet.cell(1, 7).value = 'ACVG (dB/V)'\n",
    "\n",
    "    # Formatting\n",
    "    i = 0\n",
    "\n",
    "    while i < last_index + 2:\n",
    "        for c in sheet['A1:H' + str(last_index + 2)][i]:\n",
    "            c.alignment = Alignment(horizontal='center', vertical='center')\n",
    "            c.font = Font(bold=False)\n",
    "            c.border = Border(top=thin, left=thin, right=thin, bottom=thin)\n",
    "\n",
    "        # Counters\n",
    "        i += 1\n",
    "\n",
    "    # Header\n",
    "    for i in range(1, 9):\n",
    "        sheet.cell(1, i).font = Font(bold=True)\n",
    "\n",
    "    # Column widths\n",
    "    for col in 'ABCDEFG':\n",
    "        sheet.column_dimensions[col].width = 15\n",
    "\n",
    "    sheet.column_dimensions['H'].width = 50\n",
    "\n",
    "    # Save to excel\n",
    "    wb.save(os.path.join(output_path, acvg_excel))"
   ],
   "id": "69d14b5067b8646f",
   "outputs": [],
   "execution_count": 762
  },
  {
   "metadata": {},
   "cell_type": "markdown",
   "source": "## -0.85V \"Off\" (ACVG >= 45)",
   "id": "d3586c8aeea4378"
  },
  {
   "metadata": {
    "ExecuteTime": {
     "end_time": "2024-10-10T18:35:41.032010Z",
     "start_time": "2024-10-10T18:35:41.026858Z"
    }
   },
   "cell_type": "code",
   "source": [
    "if 'ACVG Indication (dB_V)' in df_cis.columns:\n",
    "    # Dataframe\n",
    "    df_cis_acvg_off_45 = df_cis_acvg.copy()\n",
    "    df_cis_acvg_off_45 = df_cis_acvg_off_45[(df_cis_acvg_off_45['Off Potential'] >= -0.85) &\n",
    "                                            (df_cis_acvg_off_45['ACVG Indication (dB_V)'] >= 45.0)]\n",
    "    df_cis_acvg_off_45 = df_cis_acvg_off_45.drop(columns='Station')\n",
    "    last_index = df_cis_acvg_off_45.reset_index().last_valid_index()\n",
    "\n",
    "    # Save to excel\n",
    "    with pd.ExcelWriter(os.path.join(output_path, acvg_excel), mode='a',\n",
    "                        engine='openpyxl') as writer:\n",
    "        df_cis_acvg_off_45.to_excel(writer, sheet_name='-0.85V (Off)(ACVG 45)', index_label='ID')\n",
    "\n",
    "    # Modify sheet\n",
    "    wb = load_workbook(os.path.join(output_path, acvg_excel))\n",
    "    sheet = wb['-0.85V (Off)(ACVG 45)']\n",
    "\n",
    "    # Rename ACVG column\n",
    "    sheet.cell(1, 7).value = 'ACVG (dB/V)'\n",
    "\n",
    "    # Formatting\n",
    "    i = 0\n",
    "\n",
    "    while i < last_index + 2:\n",
    "        for c in sheet['A1:H' + str(last_index + 2)][i]:\n",
    "            c.alignment = Alignment(horizontal='center', vertical='center')\n",
    "            c.font = Font(bold=False)\n",
    "            c.border = Border(top=thin, left=thin, right=thin, bottom=thin)\n",
    "\n",
    "        # Counters\n",
    "        i += 1\n",
    "\n",
    "    # Header\n",
    "    for i in range(1, 9):\n",
    "        sheet.cell(1, i).font = Font(bold=True)\n",
    "\n",
    "    # Column widths\n",
    "    for col in 'ABCDEFG':\n",
    "        sheet.column_dimensions[col].width = 15\n",
    "\n",
    "    sheet.column_dimensions['H'].width = 50\n",
    "\n",
    "    # Save to excel\n",
    "    wb.save(os.path.join(output_path, acvg_excel))"
   ],
   "id": "e7592bffab933f2f",
   "outputs": [],
   "execution_count": 763
  },
  {
   "metadata": {},
   "cell_type": "markdown",
   "source": "## -0.85V \"Off\" (ACVG >= 60)",
   "id": "cb7460d7360e74a1"
  },
  {
   "metadata": {
    "ExecuteTime": {
     "end_time": "2024-10-10T18:35:41.060717Z",
     "start_time": "2024-10-10T18:35:41.055024Z"
    }
   },
   "cell_type": "code",
   "source": [
    "if 'ACVG Indication (dB_V)' in df_cis.columns:\n",
    "    # Dataframe\n",
    "    df_cis_acvg_off_60 = df_cis_acvg.copy()\n",
    "    df_cis_acvg_off_60 = df_cis_acvg_off_60[(df_cis_acvg_off_60['Off Potential'] >= -0.85) &\n",
    "                                            (df_cis_acvg_off_60['ACVG Indication (dB_V)'] >= 60.0)]\n",
    "    df_cis_acvg_off_60 = df_cis_acvg_off_60.drop(columns='Station')\n",
    "    last_index = df_cis_acvg_off_60.reset_index().last_valid_index()\n",
    "\n",
    "    # Save to excel\n",
    "    with pd.ExcelWriter(os.path.join(output_path, acvg_excel), mode='a',\n",
    "                        engine='openpyxl') as writer:\n",
    "        df_cis_acvg_off_60.to_excel(writer, sheet_name='-0.85V (Off)(ACVG 60)', index_label='ID')\n",
    "\n",
    "    # Modify sheet\n",
    "    wb = load_workbook(os.path.join(output_path, acvg_excel))\n",
    "    sheet = wb['-0.85V (Off)(ACVG 60)']\n",
    "\n",
    "    # Rename ACVG column\n",
    "    sheet.cell(1, 7).value = 'ACVG (dB/V)'\n",
    "\n",
    "    # Formatting\n",
    "    i = 0\n",
    "\n",
    "    while i < last_index + 2:\n",
    "        for c in sheet['A1:H' + str(last_index + 2)][i]:\n",
    "            c.alignment = Alignment(horizontal='center', vertical='center')\n",
    "            c.font = Font(bold=False)\n",
    "            c.border = Border(top=thin, left=thin, right=thin, bottom=thin)\n",
    "\n",
    "        # Counters\n",
    "        i += 1\n",
    "\n",
    "    # Header\n",
    "    for i in range(1, 9):\n",
    "        sheet.cell(1, i).font = Font(bold=True)\n",
    "\n",
    "    # Column widths\n",
    "    for col in 'ABCDEFG':\n",
    "        sheet.column_dimensions[col].width = 15\n",
    "\n",
    "    sheet.column_dimensions['H'].width = 50\n",
    "\n",
    "    # Save to excel\n",
    "    wb.save(os.path.join(output_path, acvg_excel))"
   ],
   "id": "25b0f9a73938cd79",
   "outputs": [],
   "execution_count": 764
  },
  {
   "metadata": {},
   "cell_type": "markdown",
   "source": "# Severity Matrix",
   "id": "d41b4ea051b9e63f"
  },
  {
   "metadata": {
    "ExecuteTime": {
     "end_time": "2024-10-10T18:35:41.140507Z",
     "start_time": "2024-10-10T18:35:41.107545Z"
    }
   },
   "cell_type": "code",
   "source": [
    "# Dataframe\n",
    "df_cis_matrix = df_cis.copy()\n",
    "df_cis_matrix = df_cis_matrix[['Station', 'Stationing (ft)', 'On Potential', 'Off Potential',\n",
    "                               'Comments', 'Longitude', 'Latitude',\n",
    "                               'ACVG Indication (dB_V)', 'ACVG Notes',\n",
    "                               'PCM Data (Amps)', 'PCM % Change']].reset_index(drop=True)\n",
    "df_cis_matrix['ACVG Severity'] = 0\n",
    "df_cis_matrix['PCM Severity'] = 0\n",
    "df_cis_matrix['Total Severity'] = 0"
   ],
   "id": "a933d7103ecb9f7e",
   "outputs": [
    {
     "ename": "KeyError",
     "evalue": "\"['Off Potential', 'ACVG Indication (dB_V)', 'ACVG Notes', 'PCM Data (Amps)', 'PCM % Change'] not in index\"",
     "output_type": "error",
     "traceback": [
      "\u001B[0;31m---------------------------------------------------------------------------\u001B[0m",
      "\u001B[0;31mKeyError\u001B[0m                                  Traceback (most recent call last)",
      "Cell \u001B[0;32mIn[765], line 3\u001B[0m\n\u001B[1;32m      1\u001B[0m \u001B[38;5;66;03m# Dataframe\u001B[39;00m\n\u001B[1;32m      2\u001B[0m df_cis_matrix \u001B[38;5;241m=\u001B[39m df_cis\u001B[38;5;241m.\u001B[39mcopy()\n\u001B[0;32m----> 3\u001B[0m df_cis_matrix \u001B[38;5;241m=\u001B[39m \u001B[43mdf_cis_matrix\u001B[49m\u001B[43m[\u001B[49m\u001B[43m[\u001B[49m\u001B[38;5;124;43m'\u001B[39;49m\u001B[38;5;124;43mStation\u001B[39;49m\u001B[38;5;124;43m'\u001B[39;49m\u001B[43m,\u001B[49m\u001B[43m \u001B[49m\u001B[38;5;124;43m'\u001B[39;49m\u001B[38;5;124;43mStationing (ft)\u001B[39;49m\u001B[38;5;124;43m'\u001B[39;49m\u001B[43m,\u001B[49m\u001B[43m \u001B[49m\u001B[38;5;124;43m'\u001B[39;49m\u001B[38;5;124;43mOn Potential\u001B[39;49m\u001B[38;5;124;43m'\u001B[39;49m\u001B[43m,\u001B[49m\u001B[43m \u001B[49m\u001B[38;5;124;43m'\u001B[39;49m\u001B[38;5;124;43mOff Potential\u001B[39;49m\u001B[38;5;124;43m'\u001B[39;49m\u001B[43m,\u001B[49m\n\u001B[1;32m      4\u001B[0m \u001B[43m                               \u001B[49m\u001B[38;5;124;43m'\u001B[39;49m\u001B[38;5;124;43mComments\u001B[39;49m\u001B[38;5;124;43m'\u001B[39;49m\u001B[43m,\u001B[49m\u001B[43m \u001B[49m\u001B[38;5;124;43m'\u001B[39;49m\u001B[38;5;124;43mLongitude\u001B[39;49m\u001B[38;5;124;43m'\u001B[39;49m\u001B[43m,\u001B[49m\u001B[43m \u001B[49m\u001B[38;5;124;43m'\u001B[39;49m\u001B[38;5;124;43mLatitude\u001B[39;49m\u001B[38;5;124;43m'\u001B[39;49m\u001B[43m,\u001B[49m\n\u001B[1;32m      5\u001B[0m \u001B[43m                               \u001B[49m\u001B[38;5;124;43m'\u001B[39;49m\u001B[38;5;124;43mACVG Indication (dB_V)\u001B[39;49m\u001B[38;5;124;43m'\u001B[39;49m\u001B[43m,\u001B[49m\u001B[43m \u001B[49m\u001B[38;5;124;43m'\u001B[39;49m\u001B[38;5;124;43mACVG Notes\u001B[39;49m\u001B[38;5;124;43m'\u001B[39;49m\u001B[43m,\u001B[49m\n\u001B[1;32m      6\u001B[0m \u001B[43m                               \u001B[49m\u001B[38;5;124;43m'\u001B[39;49m\u001B[38;5;124;43mPCM Data (Amps)\u001B[39;49m\u001B[38;5;124;43m'\u001B[39;49m\u001B[43m,\u001B[49m\u001B[43m \u001B[49m\u001B[38;5;124;43m'\u001B[39;49m\u001B[38;5;124;43mPCM \u001B[39;49m\u001B[38;5;124;43m%\u001B[39;49m\u001B[38;5;124;43m Change\u001B[39;49m\u001B[38;5;124;43m'\u001B[39;49m\u001B[43m]\u001B[49m\u001B[43m]\u001B[49m\u001B[38;5;241m.\u001B[39mreset_index(drop\u001B[38;5;241m=\u001B[39m\u001B[38;5;28;01mTrue\u001B[39;00m)\n\u001B[1;32m      7\u001B[0m df_cis_matrix[\u001B[38;5;124m'\u001B[39m\u001B[38;5;124mACVG Severity\u001B[39m\u001B[38;5;124m'\u001B[39m] \u001B[38;5;241m=\u001B[39m \u001B[38;5;241m0\u001B[39m\n\u001B[1;32m      8\u001B[0m df_cis_matrix[\u001B[38;5;124m'\u001B[39m\u001B[38;5;124mPCM Severity\u001B[39m\u001B[38;5;124m'\u001B[39m] \u001B[38;5;241m=\u001B[39m \u001B[38;5;241m0\u001B[39m\n",
      "File \u001B[0;32m~/opt/anaconda3/lib/python3.10/site-packages/pandas/core/frame.py:4108\u001B[0m, in \u001B[0;36mDataFrame.__getitem__\u001B[0;34m(self, key)\u001B[0m\n\u001B[1;32m   4106\u001B[0m     \u001B[38;5;28;01mif\u001B[39;00m is_iterator(key):\n\u001B[1;32m   4107\u001B[0m         key \u001B[38;5;241m=\u001B[39m \u001B[38;5;28mlist\u001B[39m(key)\n\u001B[0;32m-> 4108\u001B[0m     indexer \u001B[38;5;241m=\u001B[39m \u001B[38;5;28;43mself\u001B[39;49m\u001B[38;5;241;43m.\u001B[39;49m\u001B[43mcolumns\u001B[49m\u001B[38;5;241;43m.\u001B[39;49m\u001B[43m_get_indexer_strict\u001B[49m\u001B[43m(\u001B[49m\u001B[43mkey\u001B[49m\u001B[43m,\u001B[49m\u001B[43m \u001B[49m\u001B[38;5;124;43m\"\u001B[39;49m\u001B[38;5;124;43mcolumns\u001B[39;49m\u001B[38;5;124;43m\"\u001B[39;49m\u001B[43m)\u001B[49m[\u001B[38;5;241m1\u001B[39m]\n\u001B[1;32m   4110\u001B[0m \u001B[38;5;66;03m# take() does not accept boolean indexers\u001B[39;00m\n\u001B[1;32m   4111\u001B[0m \u001B[38;5;28;01mif\u001B[39;00m \u001B[38;5;28mgetattr\u001B[39m(indexer, \u001B[38;5;124m\"\u001B[39m\u001B[38;5;124mdtype\u001B[39m\u001B[38;5;124m\"\u001B[39m, \u001B[38;5;28;01mNone\u001B[39;00m) \u001B[38;5;241m==\u001B[39m \u001B[38;5;28mbool\u001B[39m:\n",
      "File \u001B[0;32m~/opt/anaconda3/lib/python3.10/site-packages/pandas/core/indexes/base.py:6200\u001B[0m, in \u001B[0;36mIndex._get_indexer_strict\u001B[0;34m(self, key, axis_name)\u001B[0m\n\u001B[1;32m   6197\u001B[0m \u001B[38;5;28;01melse\u001B[39;00m:\n\u001B[1;32m   6198\u001B[0m     keyarr, indexer, new_indexer \u001B[38;5;241m=\u001B[39m \u001B[38;5;28mself\u001B[39m\u001B[38;5;241m.\u001B[39m_reindex_non_unique(keyarr)\n\u001B[0;32m-> 6200\u001B[0m \u001B[38;5;28;43mself\u001B[39;49m\u001B[38;5;241;43m.\u001B[39;49m\u001B[43m_raise_if_missing\u001B[49m\u001B[43m(\u001B[49m\u001B[43mkeyarr\u001B[49m\u001B[43m,\u001B[49m\u001B[43m \u001B[49m\u001B[43mindexer\u001B[49m\u001B[43m,\u001B[49m\u001B[43m \u001B[49m\u001B[43maxis_name\u001B[49m\u001B[43m)\u001B[49m\n\u001B[1;32m   6202\u001B[0m keyarr \u001B[38;5;241m=\u001B[39m \u001B[38;5;28mself\u001B[39m\u001B[38;5;241m.\u001B[39mtake(indexer)\n\u001B[1;32m   6203\u001B[0m \u001B[38;5;28;01mif\u001B[39;00m \u001B[38;5;28misinstance\u001B[39m(key, Index):\n\u001B[1;32m   6204\u001B[0m     \u001B[38;5;66;03m# GH 42790 - Preserve name from an Index\u001B[39;00m\n",
      "File \u001B[0;32m~/opt/anaconda3/lib/python3.10/site-packages/pandas/core/indexes/base.py:6252\u001B[0m, in \u001B[0;36mIndex._raise_if_missing\u001B[0;34m(self, key, indexer, axis_name)\u001B[0m\n\u001B[1;32m   6249\u001B[0m     \u001B[38;5;28;01mraise\u001B[39;00m \u001B[38;5;167;01mKeyError\u001B[39;00m(\u001B[38;5;124mf\u001B[39m\u001B[38;5;124m\"\u001B[39m\u001B[38;5;124mNone of [\u001B[39m\u001B[38;5;132;01m{\u001B[39;00mkey\u001B[38;5;132;01m}\u001B[39;00m\u001B[38;5;124m] are in the [\u001B[39m\u001B[38;5;132;01m{\u001B[39;00maxis_name\u001B[38;5;132;01m}\u001B[39;00m\u001B[38;5;124m]\u001B[39m\u001B[38;5;124m\"\u001B[39m)\n\u001B[1;32m   6251\u001B[0m not_found \u001B[38;5;241m=\u001B[39m \u001B[38;5;28mlist\u001B[39m(ensure_index(key)[missing_mask\u001B[38;5;241m.\u001B[39mnonzero()[\u001B[38;5;241m0\u001B[39m]]\u001B[38;5;241m.\u001B[39munique())\n\u001B[0;32m-> 6252\u001B[0m \u001B[38;5;28;01mraise\u001B[39;00m \u001B[38;5;167;01mKeyError\u001B[39;00m(\u001B[38;5;124mf\u001B[39m\u001B[38;5;124m\"\u001B[39m\u001B[38;5;132;01m{\u001B[39;00mnot_found\u001B[38;5;132;01m}\u001B[39;00m\u001B[38;5;124m not in index\u001B[39m\u001B[38;5;124m\"\u001B[39m)\n",
      "\u001B[0;31mKeyError\u001B[0m: \"['Off Potential', 'ACVG Indication (dB_V)', 'ACVG Notes', 'PCM Data (Amps)', 'PCM % Change'] not in index\""
     ]
    }
   ],
   "execution_count": 765
  },
  {
   "metadata": {
    "ExecuteTime": {
     "end_time": "2024-10-10T18:35:41.205242Z",
     "start_time": "2024-10-10T18:35:41.164098Z"
    }
   },
   "cell_type": "code",
   "source": [
    "# ACVG\n",
    "df_cis_matrix.loc[(df_cis_matrix['ACVG Indication (dB_V)'] < 50), 'ACVG Severity'] = 0\n",
    "df_cis_matrix.loc[(df_cis_matrix['ACVG Indication (dB_V)'] >= 50) & (\n",
    "        df_cis_matrix['ACVG Indication (dB_V)'] < 66), 'ACVG Severity'] = 1\n",
    "df_cis_matrix.loc[(df_cis_matrix['ACVG Indication (dB_V)'] >= 66) & (\n",
    "        df_cis_matrix['ACVG Indication (dB_V)'] < 81), 'ACVG Severity'] = 4\n",
    "df_cis_matrix.loc[(df_cis_matrix['ACVG Indication (dB_V)'] >= 81), 'ACVG Severity'] = 6\n",
    "# df_cis_matrix = df_cis_matrix[df_cis_matrix['ACVG Indication (dB_V)'] != 0]"
   ],
   "id": "f8f4ea9d080a7f24",
   "outputs": [
    {
     "ename": "KeyError",
     "evalue": "'ACVG Indication (dB_V)'",
     "output_type": "error",
     "traceback": [
      "\u001B[0;31m---------------------------------------------------------------------------\u001B[0m",
      "\u001B[0;31mKeyError\u001B[0m                                  Traceback (most recent call last)",
      "File \u001B[0;32m~/opt/anaconda3/lib/python3.10/site-packages/pandas/core/indexes/base.py:3805\u001B[0m, in \u001B[0;36mIndex.get_loc\u001B[0;34m(self, key)\u001B[0m\n\u001B[1;32m   3804\u001B[0m \u001B[38;5;28;01mtry\u001B[39;00m:\n\u001B[0;32m-> 3805\u001B[0m     \u001B[38;5;28;01mreturn\u001B[39;00m \u001B[38;5;28;43mself\u001B[39;49m\u001B[38;5;241;43m.\u001B[39;49m\u001B[43m_engine\u001B[49m\u001B[38;5;241;43m.\u001B[39;49m\u001B[43mget_loc\u001B[49m\u001B[43m(\u001B[49m\u001B[43mcasted_key\u001B[49m\u001B[43m)\u001B[49m\n\u001B[1;32m   3806\u001B[0m \u001B[38;5;28;01mexcept\u001B[39;00m \u001B[38;5;167;01mKeyError\u001B[39;00m \u001B[38;5;28;01mas\u001B[39;00m err:\n",
      "File \u001B[0;32mindex.pyx:167\u001B[0m, in \u001B[0;36mpandas._libs.index.IndexEngine.get_loc\u001B[0;34m()\u001B[0m\n",
      "File \u001B[0;32mindex.pyx:196\u001B[0m, in \u001B[0;36mpandas._libs.index.IndexEngine.get_loc\u001B[0;34m()\u001B[0m\n",
      "File \u001B[0;32mpandas/_libs/hashtable_class_helper.pxi:7081\u001B[0m, in \u001B[0;36mpandas._libs.hashtable.PyObjectHashTable.get_item\u001B[0;34m()\u001B[0m\n",
      "File \u001B[0;32mpandas/_libs/hashtable_class_helper.pxi:7089\u001B[0m, in \u001B[0;36mpandas._libs.hashtable.PyObjectHashTable.get_item\u001B[0;34m()\u001B[0m\n",
      "\u001B[0;31mKeyError\u001B[0m: 'ACVG Indication (dB_V)'",
      "\nThe above exception was the direct cause of the following exception:\n",
      "\u001B[0;31mKeyError\u001B[0m                                  Traceback (most recent call last)",
      "Cell \u001B[0;32mIn[766], line 2\u001B[0m\n\u001B[1;32m      1\u001B[0m \u001B[38;5;66;03m# ACVG\u001B[39;00m\n\u001B[0;32m----> 2\u001B[0m df_cis_matrix\u001B[38;5;241m.\u001B[39mloc[(\u001B[43mdf_cis_matrix\u001B[49m\u001B[43m[\u001B[49m\u001B[38;5;124;43m'\u001B[39;49m\u001B[38;5;124;43mACVG Indication (dB_V)\u001B[39;49m\u001B[38;5;124;43m'\u001B[39;49m\u001B[43m]\u001B[49m \u001B[38;5;241m<\u001B[39m \u001B[38;5;241m50\u001B[39m), \u001B[38;5;124m'\u001B[39m\u001B[38;5;124mACVG Severity\u001B[39m\u001B[38;5;124m'\u001B[39m] \u001B[38;5;241m=\u001B[39m \u001B[38;5;241m0\u001B[39m\n\u001B[1;32m      3\u001B[0m df_cis_matrix\u001B[38;5;241m.\u001B[39mloc[(df_cis_matrix[\u001B[38;5;124m'\u001B[39m\u001B[38;5;124mACVG Indication (dB_V)\u001B[39m\u001B[38;5;124m'\u001B[39m] \u001B[38;5;241m>\u001B[39m\u001B[38;5;241m=\u001B[39m \u001B[38;5;241m50\u001B[39m) \u001B[38;5;241m&\u001B[39m (\n\u001B[1;32m      4\u001B[0m         df_cis_matrix[\u001B[38;5;124m'\u001B[39m\u001B[38;5;124mACVG Indication (dB_V)\u001B[39m\u001B[38;5;124m'\u001B[39m] \u001B[38;5;241m<\u001B[39m \u001B[38;5;241m66\u001B[39m), \u001B[38;5;124m'\u001B[39m\u001B[38;5;124mACVG Severity\u001B[39m\u001B[38;5;124m'\u001B[39m] \u001B[38;5;241m=\u001B[39m \u001B[38;5;241m1\u001B[39m\n\u001B[1;32m      5\u001B[0m df_cis_matrix\u001B[38;5;241m.\u001B[39mloc[(df_cis_matrix[\u001B[38;5;124m'\u001B[39m\u001B[38;5;124mACVG Indication (dB_V)\u001B[39m\u001B[38;5;124m'\u001B[39m] \u001B[38;5;241m>\u001B[39m\u001B[38;5;241m=\u001B[39m \u001B[38;5;241m66\u001B[39m) \u001B[38;5;241m&\u001B[39m (\n\u001B[1;32m      6\u001B[0m         df_cis_matrix[\u001B[38;5;124m'\u001B[39m\u001B[38;5;124mACVG Indication (dB_V)\u001B[39m\u001B[38;5;124m'\u001B[39m] \u001B[38;5;241m<\u001B[39m \u001B[38;5;241m81\u001B[39m), \u001B[38;5;124m'\u001B[39m\u001B[38;5;124mACVG Severity\u001B[39m\u001B[38;5;124m'\u001B[39m] \u001B[38;5;241m=\u001B[39m \u001B[38;5;241m4\u001B[39m\n",
      "File \u001B[0;32m~/opt/anaconda3/lib/python3.10/site-packages/pandas/core/frame.py:4102\u001B[0m, in \u001B[0;36mDataFrame.__getitem__\u001B[0;34m(self, key)\u001B[0m\n\u001B[1;32m   4100\u001B[0m \u001B[38;5;28;01mif\u001B[39;00m \u001B[38;5;28mself\u001B[39m\u001B[38;5;241m.\u001B[39mcolumns\u001B[38;5;241m.\u001B[39mnlevels \u001B[38;5;241m>\u001B[39m \u001B[38;5;241m1\u001B[39m:\n\u001B[1;32m   4101\u001B[0m     \u001B[38;5;28;01mreturn\u001B[39;00m \u001B[38;5;28mself\u001B[39m\u001B[38;5;241m.\u001B[39m_getitem_multilevel(key)\n\u001B[0;32m-> 4102\u001B[0m indexer \u001B[38;5;241m=\u001B[39m \u001B[38;5;28;43mself\u001B[39;49m\u001B[38;5;241;43m.\u001B[39;49m\u001B[43mcolumns\u001B[49m\u001B[38;5;241;43m.\u001B[39;49m\u001B[43mget_loc\u001B[49m\u001B[43m(\u001B[49m\u001B[43mkey\u001B[49m\u001B[43m)\u001B[49m\n\u001B[1;32m   4103\u001B[0m \u001B[38;5;28;01mif\u001B[39;00m is_integer(indexer):\n\u001B[1;32m   4104\u001B[0m     indexer \u001B[38;5;241m=\u001B[39m [indexer]\n",
      "File \u001B[0;32m~/opt/anaconda3/lib/python3.10/site-packages/pandas/core/indexes/base.py:3812\u001B[0m, in \u001B[0;36mIndex.get_loc\u001B[0;34m(self, key)\u001B[0m\n\u001B[1;32m   3807\u001B[0m     \u001B[38;5;28;01mif\u001B[39;00m \u001B[38;5;28misinstance\u001B[39m(casted_key, \u001B[38;5;28mslice\u001B[39m) \u001B[38;5;129;01mor\u001B[39;00m (\n\u001B[1;32m   3808\u001B[0m         \u001B[38;5;28misinstance\u001B[39m(casted_key, abc\u001B[38;5;241m.\u001B[39mIterable)\n\u001B[1;32m   3809\u001B[0m         \u001B[38;5;129;01mand\u001B[39;00m \u001B[38;5;28many\u001B[39m(\u001B[38;5;28misinstance\u001B[39m(x, \u001B[38;5;28mslice\u001B[39m) \u001B[38;5;28;01mfor\u001B[39;00m x \u001B[38;5;129;01min\u001B[39;00m casted_key)\n\u001B[1;32m   3810\u001B[0m     ):\n\u001B[1;32m   3811\u001B[0m         \u001B[38;5;28;01mraise\u001B[39;00m InvalidIndexError(key)\n\u001B[0;32m-> 3812\u001B[0m     \u001B[38;5;28;01mraise\u001B[39;00m \u001B[38;5;167;01mKeyError\u001B[39;00m(key) \u001B[38;5;28;01mfrom\u001B[39;00m \u001B[38;5;21;01merr\u001B[39;00m\n\u001B[1;32m   3813\u001B[0m \u001B[38;5;28;01mexcept\u001B[39;00m \u001B[38;5;167;01mTypeError\u001B[39;00m:\n\u001B[1;32m   3814\u001B[0m     \u001B[38;5;66;03m# If we have a listlike key, _check_indexing_error will raise\u001B[39;00m\n\u001B[1;32m   3815\u001B[0m     \u001B[38;5;66;03m#  InvalidIndexError. Otherwise we fall through and re-raise\u001B[39;00m\n\u001B[1;32m   3816\u001B[0m     \u001B[38;5;66;03m#  the TypeError.\u001B[39;00m\n\u001B[1;32m   3817\u001B[0m     \u001B[38;5;28mself\u001B[39m\u001B[38;5;241m.\u001B[39m_check_indexing_error(key)\n",
      "\u001B[0;31mKeyError\u001B[0m: 'ACVG Indication (dB_V)'"
     ]
    }
   ],
   "execution_count": 766
  },
  {
   "metadata": {
    "ExecuteTime": {
     "end_time": "2024-10-10T18:35:41.273500Z",
     "start_time": "2024-10-10T18:35:41.230950Z"
    }
   },
   "cell_type": "code",
   "source": [
    "# PCM\n",
    "df_cis_matrix.loc[(df_cis_matrix['PCM % Change'] >= 0) & (\n",
    "        df_cis_matrix['PCM % Change'] < 10), 'PCM Severity'] = 1\n",
    "df_cis_matrix.loc[(df_cis_matrix['PCM % Change'] >= 10) & (\n",
    "        df_cis_matrix['PCM % Change'] < 20), 'PCM Severity'] = 2\n",
    "df_cis_matrix.loc[(df_cis_matrix['PCM % Change'] >= 20), 'PCM Severity'] = 3\n",
    "# df_cis_matrix = df_cis_matrix[df_cis_matrix['PCM % Change'] != 0]"
   ],
   "id": "40b53d6ee8743486",
   "outputs": [
    {
     "ename": "KeyError",
     "evalue": "'PCM % Change'",
     "output_type": "error",
     "traceback": [
      "\u001B[0;31m---------------------------------------------------------------------------\u001B[0m",
      "\u001B[0;31mKeyError\u001B[0m                                  Traceback (most recent call last)",
      "File \u001B[0;32m~/opt/anaconda3/lib/python3.10/site-packages/pandas/core/indexes/base.py:3805\u001B[0m, in \u001B[0;36mIndex.get_loc\u001B[0;34m(self, key)\u001B[0m\n\u001B[1;32m   3804\u001B[0m \u001B[38;5;28;01mtry\u001B[39;00m:\n\u001B[0;32m-> 3805\u001B[0m     \u001B[38;5;28;01mreturn\u001B[39;00m \u001B[38;5;28;43mself\u001B[39;49m\u001B[38;5;241;43m.\u001B[39;49m\u001B[43m_engine\u001B[49m\u001B[38;5;241;43m.\u001B[39;49m\u001B[43mget_loc\u001B[49m\u001B[43m(\u001B[49m\u001B[43mcasted_key\u001B[49m\u001B[43m)\u001B[49m\n\u001B[1;32m   3806\u001B[0m \u001B[38;5;28;01mexcept\u001B[39;00m \u001B[38;5;167;01mKeyError\u001B[39;00m \u001B[38;5;28;01mas\u001B[39;00m err:\n",
      "File \u001B[0;32mindex.pyx:167\u001B[0m, in \u001B[0;36mpandas._libs.index.IndexEngine.get_loc\u001B[0;34m()\u001B[0m\n",
      "File \u001B[0;32mindex.pyx:196\u001B[0m, in \u001B[0;36mpandas._libs.index.IndexEngine.get_loc\u001B[0;34m()\u001B[0m\n",
      "File \u001B[0;32mpandas/_libs/hashtable_class_helper.pxi:7081\u001B[0m, in \u001B[0;36mpandas._libs.hashtable.PyObjectHashTable.get_item\u001B[0;34m()\u001B[0m\n",
      "File \u001B[0;32mpandas/_libs/hashtable_class_helper.pxi:7089\u001B[0m, in \u001B[0;36mpandas._libs.hashtable.PyObjectHashTable.get_item\u001B[0;34m()\u001B[0m\n",
      "\u001B[0;31mKeyError\u001B[0m: 'PCM % Change'",
      "\nThe above exception was the direct cause of the following exception:\n",
      "\u001B[0;31mKeyError\u001B[0m                                  Traceback (most recent call last)",
      "Cell \u001B[0;32mIn[767], line 2\u001B[0m\n\u001B[1;32m      1\u001B[0m \u001B[38;5;66;03m# PCM\u001B[39;00m\n\u001B[0;32m----> 2\u001B[0m df_cis_matrix\u001B[38;5;241m.\u001B[39mloc[(\u001B[43mdf_cis_matrix\u001B[49m\u001B[43m[\u001B[49m\u001B[38;5;124;43m'\u001B[39;49m\u001B[38;5;124;43mPCM \u001B[39;49m\u001B[38;5;124;43m%\u001B[39;49m\u001B[38;5;124;43m Change\u001B[39;49m\u001B[38;5;124;43m'\u001B[39;49m\u001B[43m]\u001B[49m \u001B[38;5;241m>\u001B[39m\u001B[38;5;241m=\u001B[39m \u001B[38;5;241m0\u001B[39m) \u001B[38;5;241m&\u001B[39m (\n\u001B[1;32m      3\u001B[0m         df_cis_matrix[\u001B[38;5;124m'\u001B[39m\u001B[38;5;124mPCM \u001B[39m\u001B[38;5;124m%\u001B[39m\u001B[38;5;124m Change\u001B[39m\u001B[38;5;124m'\u001B[39m] \u001B[38;5;241m<\u001B[39m \u001B[38;5;241m10\u001B[39m), \u001B[38;5;124m'\u001B[39m\u001B[38;5;124mPCM Severity\u001B[39m\u001B[38;5;124m'\u001B[39m] \u001B[38;5;241m=\u001B[39m \u001B[38;5;241m1\u001B[39m\n\u001B[1;32m      4\u001B[0m df_cis_matrix\u001B[38;5;241m.\u001B[39mloc[(df_cis_matrix[\u001B[38;5;124m'\u001B[39m\u001B[38;5;124mPCM \u001B[39m\u001B[38;5;124m%\u001B[39m\u001B[38;5;124m Change\u001B[39m\u001B[38;5;124m'\u001B[39m] \u001B[38;5;241m>\u001B[39m\u001B[38;5;241m=\u001B[39m \u001B[38;5;241m10\u001B[39m) \u001B[38;5;241m&\u001B[39m (\n\u001B[1;32m      5\u001B[0m         df_cis_matrix[\u001B[38;5;124m'\u001B[39m\u001B[38;5;124mPCM \u001B[39m\u001B[38;5;124m%\u001B[39m\u001B[38;5;124m Change\u001B[39m\u001B[38;5;124m'\u001B[39m] \u001B[38;5;241m<\u001B[39m \u001B[38;5;241m20\u001B[39m), \u001B[38;5;124m'\u001B[39m\u001B[38;5;124mPCM Severity\u001B[39m\u001B[38;5;124m'\u001B[39m] \u001B[38;5;241m=\u001B[39m \u001B[38;5;241m2\u001B[39m\n\u001B[1;32m      6\u001B[0m df_cis_matrix\u001B[38;5;241m.\u001B[39mloc[(df_cis_matrix[\u001B[38;5;124m'\u001B[39m\u001B[38;5;124mPCM \u001B[39m\u001B[38;5;124m%\u001B[39m\u001B[38;5;124m Change\u001B[39m\u001B[38;5;124m'\u001B[39m] \u001B[38;5;241m>\u001B[39m\u001B[38;5;241m=\u001B[39m \u001B[38;5;241m20\u001B[39m), \u001B[38;5;124m'\u001B[39m\u001B[38;5;124mPCM Severity\u001B[39m\u001B[38;5;124m'\u001B[39m] \u001B[38;5;241m=\u001B[39m \u001B[38;5;241m3\u001B[39m\n",
      "File \u001B[0;32m~/opt/anaconda3/lib/python3.10/site-packages/pandas/core/frame.py:4102\u001B[0m, in \u001B[0;36mDataFrame.__getitem__\u001B[0;34m(self, key)\u001B[0m\n\u001B[1;32m   4100\u001B[0m \u001B[38;5;28;01mif\u001B[39;00m \u001B[38;5;28mself\u001B[39m\u001B[38;5;241m.\u001B[39mcolumns\u001B[38;5;241m.\u001B[39mnlevels \u001B[38;5;241m>\u001B[39m \u001B[38;5;241m1\u001B[39m:\n\u001B[1;32m   4101\u001B[0m     \u001B[38;5;28;01mreturn\u001B[39;00m \u001B[38;5;28mself\u001B[39m\u001B[38;5;241m.\u001B[39m_getitem_multilevel(key)\n\u001B[0;32m-> 4102\u001B[0m indexer \u001B[38;5;241m=\u001B[39m \u001B[38;5;28;43mself\u001B[39;49m\u001B[38;5;241;43m.\u001B[39;49m\u001B[43mcolumns\u001B[49m\u001B[38;5;241;43m.\u001B[39;49m\u001B[43mget_loc\u001B[49m\u001B[43m(\u001B[49m\u001B[43mkey\u001B[49m\u001B[43m)\u001B[49m\n\u001B[1;32m   4103\u001B[0m \u001B[38;5;28;01mif\u001B[39;00m is_integer(indexer):\n\u001B[1;32m   4104\u001B[0m     indexer \u001B[38;5;241m=\u001B[39m [indexer]\n",
      "File \u001B[0;32m~/opt/anaconda3/lib/python3.10/site-packages/pandas/core/indexes/base.py:3812\u001B[0m, in \u001B[0;36mIndex.get_loc\u001B[0;34m(self, key)\u001B[0m\n\u001B[1;32m   3807\u001B[0m     \u001B[38;5;28;01mif\u001B[39;00m \u001B[38;5;28misinstance\u001B[39m(casted_key, \u001B[38;5;28mslice\u001B[39m) \u001B[38;5;129;01mor\u001B[39;00m (\n\u001B[1;32m   3808\u001B[0m         \u001B[38;5;28misinstance\u001B[39m(casted_key, abc\u001B[38;5;241m.\u001B[39mIterable)\n\u001B[1;32m   3809\u001B[0m         \u001B[38;5;129;01mand\u001B[39;00m \u001B[38;5;28many\u001B[39m(\u001B[38;5;28misinstance\u001B[39m(x, \u001B[38;5;28mslice\u001B[39m) \u001B[38;5;28;01mfor\u001B[39;00m x \u001B[38;5;129;01min\u001B[39;00m casted_key)\n\u001B[1;32m   3810\u001B[0m     ):\n\u001B[1;32m   3811\u001B[0m         \u001B[38;5;28;01mraise\u001B[39;00m InvalidIndexError(key)\n\u001B[0;32m-> 3812\u001B[0m     \u001B[38;5;28;01mraise\u001B[39;00m \u001B[38;5;167;01mKeyError\u001B[39;00m(key) \u001B[38;5;28;01mfrom\u001B[39;00m \u001B[38;5;21;01merr\u001B[39;00m\n\u001B[1;32m   3813\u001B[0m \u001B[38;5;28;01mexcept\u001B[39;00m \u001B[38;5;167;01mTypeError\u001B[39;00m:\n\u001B[1;32m   3814\u001B[0m     \u001B[38;5;66;03m# If we have a listlike key, _check_indexing_error will raise\u001B[39;00m\n\u001B[1;32m   3815\u001B[0m     \u001B[38;5;66;03m#  InvalidIndexError. Otherwise we fall through and re-raise\u001B[39;00m\n\u001B[1;32m   3816\u001B[0m     \u001B[38;5;66;03m#  the TypeError.\u001B[39;00m\n\u001B[1;32m   3817\u001B[0m     \u001B[38;5;28mself\u001B[39m\u001B[38;5;241m.\u001B[39m_check_indexing_error(key)\n",
      "\u001B[0;31mKeyError\u001B[0m: 'PCM % Change'"
     ]
    }
   ],
   "execution_count": 767
  },
  {
   "metadata": {
    "ExecuteTime": {
     "end_time": "2024-10-10T18:35:41.275116Z",
     "start_time": "2024-10-10T18:35:41.274899Z"
    }
   },
   "cell_type": "code",
   "source": "",
   "id": "c61a27b898dd357e",
   "outputs": [],
   "execution_count": null
  },
  {
   "metadata": {
    "ExecuteTime": {
     "end_time": "2024-10-10T18:35:41.324804Z",
     "start_time": "2024-10-10T18:35:41.323151Z"
    }
   },
   "cell_type": "code",
   "source": "",
   "id": "6518a40575362c38",
   "outputs": [],
   "execution_count": 767
  },
  {
   "metadata": {},
   "cell_type": "markdown",
   "source": "# Log File",
   "id": "bc95f5599cb93eb3"
  },
  {
   "cell_type": "code",
   "source": [
    "# Current date and time\n",
    "e = datetime.datetime.now()\n",
    "execution_time = time.time() - start_time\n",
    "minutes, seconds = divmod(execution_time, 60)\n",
    "\n",
    "# Modify log file with information of interest\n",
    "with open(log_path, 'a') as f:\n",
    "    f.write(f\"\\n\\nGPS Accuracy {LOWER_CUTOFF}ft to {UPPER_CUTOFF}ft:\\n\")\n",
    "    f.write(f\"   - Count: {total_count}\\n\")\n",
    "    f.write(f\"   - Cutoff Count: {total_count - cutoff_count}\\n\")\n",
    "    f.write(f\"   - Consistency: {round(cutoff_count / total_count * 100, 1)}%\\n\")\n",
    "    f.write(f\"   - Mean: {round(mean, 3)}\\n\")\n",
    "    f.write(f\"   - Mode: {mode[0]}\\n\")\n",
    "    f.write(f\"   - Standard Deviation: {round(std, 3)}\\n\")\n",
    "\n",
    "    if mean - std * 2.576 <= 0:\n",
    "        f.write(f\"   - 99% Confidence Interval: {0} to {round(mean + std * 2.576, 3)}\\n\")\n",
    "\n",
    "    else:\n",
    "        f.write(f\"   - 99% Confidence Interval: {round(mean - std * 2.576, 3)} to \"\n",
    "                f\"{round(mean + std * 2.576, 3)}\\n\")\n",
    "\n",
    "    f.write(f\"   - Outliers: {df_outliers['Distance (ft)'].count()}\\n\")\n",
    "\n",
    "    if PLOT_3D:\n",
    "        f.write(f\"   - Duplicated GPS Pairs: {df_duplicates['Station'].value_counts().sum()}\\n\\n\")\n",
    "\n",
    "    if PLOT_3D:\n",
    "        f.write(f\"Measurements:\\n\")\n",
    "        f.write(f\"   - On: {on_measurements}\\n\")\n",
    "        f.write(f\"   - Off: {off_measurements}\\n\")\n",
    "        f.write(f\"   - Ratio (On/Off): {round(on_measurements / off_measurements, 3)}\\n\\n\")\n",
    "\n",
    "    f.write(f\"User: {socket.gethostname()}\\n\")\n",
    "    f.write(f'{e.strftime(\"%b, %d, %Y\")}, {e.hour:02d}:{e.minute:02d}:{e.second:02d}')\n",
    "    f.write('\\n')\n",
    "    f.write(f\"Execution Time ({int(minutes)}:{int(seconds)})\")"
   ],
   "metadata": {
    "collapsed": false,
    "ExecuteTime": {
     "end_time": "2024-10-10T18:35:41.373257Z",
     "start_time": "2024-10-10T18:35:41.352203Z"
    }
   },
   "id": "97a06a50780ee69b",
   "outputs": [
    {
     "ename": "ZeroDivisionError",
     "evalue": "division by zero",
     "output_type": "error",
     "traceback": [
      "\u001B[0;31m---------------------------------------------------------------------------\u001B[0m",
      "\u001B[0;31mZeroDivisionError\u001B[0m                         Traceback (most recent call last)",
      "Cell \u001B[0;32mIn[768], line 32\u001B[0m\n\u001B[1;32m     30\u001B[0m     f\u001B[38;5;241m.\u001B[39mwrite(\u001B[38;5;124mf\u001B[39m\u001B[38;5;124m\"\u001B[39m\u001B[38;5;124m   - On: \u001B[39m\u001B[38;5;132;01m{\u001B[39;00mon_measurements\u001B[38;5;132;01m}\u001B[39;00m\u001B[38;5;130;01m\\n\u001B[39;00m\u001B[38;5;124m\"\u001B[39m)\n\u001B[1;32m     31\u001B[0m     f\u001B[38;5;241m.\u001B[39mwrite(\u001B[38;5;124mf\u001B[39m\u001B[38;5;124m\"\u001B[39m\u001B[38;5;124m   - Off: \u001B[39m\u001B[38;5;132;01m{\u001B[39;00moff_measurements\u001B[38;5;132;01m}\u001B[39;00m\u001B[38;5;130;01m\\n\u001B[39;00m\u001B[38;5;124m\"\u001B[39m)\n\u001B[0;32m---> 32\u001B[0m     f\u001B[38;5;241m.\u001B[39mwrite(\u001B[38;5;124mf\u001B[39m\u001B[38;5;124m\"\u001B[39m\u001B[38;5;124m   - Ratio (On/Off): \u001B[39m\u001B[38;5;132;01m{\u001B[39;00m\u001B[38;5;28mround\u001B[39m(on_measurements\u001B[38;5;250m \u001B[39m\u001B[38;5;241m/\u001B[39m\u001B[38;5;250m \u001B[39moff_measurements,\u001B[38;5;250m \u001B[39m\u001B[38;5;241m3\u001B[39m)\u001B[38;5;132;01m}\u001B[39;00m\u001B[38;5;130;01m\\n\u001B[39;00m\u001B[38;5;130;01m\\n\u001B[39;00m\u001B[38;5;124m\"\u001B[39m)\n\u001B[1;32m     34\u001B[0m f\u001B[38;5;241m.\u001B[39mwrite(\u001B[38;5;124mf\u001B[39m\u001B[38;5;124m\"\u001B[39m\u001B[38;5;124mUser: \u001B[39m\u001B[38;5;132;01m{\u001B[39;00msocket\u001B[38;5;241m.\u001B[39mgethostname()\u001B[38;5;132;01m}\u001B[39;00m\u001B[38;5;130;01m\\n\u001B[39;00m\u001B[38;5;124m\"\u001B[39m)\n\u001B[1;32m     35\u001B[0m f\u001B[38;5;241m.\u001B[39mwrite(\u001B[38;5;124mf\u001B[39m\u001B[38;5;124m'\u001B[39m\u001B[38;5;132;01m{\u001B[39;00me\u001B[38;5;241m.\u001B[39mstrftime(\u001B[38;5;124m\"\u001B[39m\u001B[38;5;124m%\u001B[39m\u001B[38;5;124mb, \u001B[39m\u001B[38;5;132;01m%d\u001B[39;00m\u001B[38;5;124m, \u001B[39m\u001B[38;5;124m%\u001B[39m\u001B[38;5;124mY\u001B[39m\u001B[38;5;124m\"\u001B[39m)\u001B[38;5;132;01m}\u001B[39;00m\u001B[38;5;124m, \u001B[39m\u001B[38;5;132;01m{\u001B[39;00me\u001B[38;5;241m.\u001B[39mhour\u001B[38;5;132;01m:\u001B[39;00m\u001B[38;5;124m02d\u001B[39m\u001B[38;5;132;01m}\u001B[39;00m\u001B[38;5;124m:\u001B[39m\u001B[38;5;132;01m{\u001B[39;00me\u001B[38;5;241m.\u001B[39mminute\u001B[38;5;132;01m:\u001B[39;00m\u001B[38;5;124m02d\u001B[39m\u001B[38;5;132;01m}\u001B[39;00m\u001B[38;5;124m:\u001B[39m\u001B[38;5;132;01m{\u001B[39;00me\u001B[38;5;241m.\u001B[39msecond\u001B[38;5;132;01m:\u001B[39;00m\u001B[38;5;124m02d\u001B[39m\u001B[38;5;132;01m}\u001B[39;00m\u001B[38;5;124m'\u001B[39m)\n",
      "\u001B[0;31mZeroDivisionError\u001B[0m: division by zero"
     ]
    }
   ],
   "execution_count": 768
  },
  {
   "metadata": {
    "ExecuteTime": {
     "end_time": "2024-10-10T18:35:41.423958Z",
     "start_time": "2024-10-10T18:35:41.420602Z"
    }
   },
   "cell_type": "code",
   "source": [
    "# Log\n",
    "os.rename(log_path, os.path.join(output_path, 'Log (' +\n",
    "                                 filtered_data_list[0].split('.csv')[0] + ').txt'))\n",
    "\n",
    "if PLOT_3D and df_duplicates.shape[0] > 0:\n",
    "    # Duplicated GPS\n",
    "    os.rename(duplicates_path, os.path.join(output_path, 'Duplicate GPS Pairs (' +\n",
    "                                            filtered_data_list[0].split('.csv')[0] + ').csv'))"
   ],
   "id": "e29cffc075706fa6",
   "outputs": [],
   "execution_count": 769
  },
  {
   "metadata": {
    "ExecuteTime": {
     "end_time": "2024-10-10T18:35:41.485567Z",
     "start_time": "2024-10-10T18:35:41.483909Z"
    }
   },
   "cell_type": "code",
   "source": "",
   "id": "207389f0058946e3",
   "outputs": [],
   "execution_count": 769
  }
 ],
 "metadata": {
  "kernelspec": {
   "display_name": "Python 3 (ipykernel)",
   "language": "python",
   "name": "python3"
  },
  "language_info": {
   "codemirror_mode": {
    "name": "ipython",
    "version": 3
   },
   "file_extension": ".py",
   "mimetype": "text/x-python",
   "name": "python",
   "nbconvert_exporter": "python",
   "pygments_lexer": "ipython3",
   "version": "3.9.7"
  }
 },
 "nbformat": 4,
 "nbformat_minor": 5
}
