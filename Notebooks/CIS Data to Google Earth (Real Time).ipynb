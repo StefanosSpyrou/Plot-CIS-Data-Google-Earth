{
 "cells": [
  {
   "cell_type": "code",
   "execution_count": 34,
   "id": "62e1d373-17ea-422d-be12-b6ab9de0371c",
   "metadata": {
    "pycharm": {
     "name": "#%%\n"
    }
   },
   "outputs": [],
   "source": [
    "import os\n",
    "import math\n",
    "import time\n",
    "import pandas as pd\n",
    "import simplekml\n",
    "import shutil\n",
    "from sys import platform\n",
    "from pathlib import Path\n",
    "\n",
    "# Measuring execution time\n",
    "start_time = time.time()"
   ]
  },
  {
   "cell_type": "code",
   "execution_count": 35,
   "outputs": [],
   "source": [
    "# Checks what operating system the user is using\n",
    "if platform == 'win32':\n",
    "    root_path = r'C:\\Users\\Stefanos\\DeLasCasas CP, LLc\\Ro De Las Casas - ' \\\n",
    "                r'DLC2P Server\\AA Stefanos\\Data Science\\Python Projects\\CIS ' \\\n",
    "                r'Data to Google Earth (Real Time)'\n",
    "elif platform == 'darwin':\n",
    "    root_path = r'/Users/Stefanos/Library/CloudStorage/' \\\n",
    "                r'OneDrive-SharedLibraries-DeLasCasasCP,LLc/Ro De Las Casas ' \\\n",
    "                r'- DLC2P Server/AA Stefanos/Data Science/Python Projects/' \\\n",
    "                r'CIS Data to Google Earth (Real Time)'"
   ],
   "metadata": {
    "collapsed": false,
    "pycharm": {
     "name": "#%%\n"
    }
   }
  },
  {
   "cell_type": "markdown",
   "source": [
    "# Specify Variables"
   ],
   "metadata": {
    "collapsed": false,
    "pycharm": {
     "name": "#%% md\n"
    }
   }
  },
  {
   "cell_type": "code",
   "execution_count": 36,
   "outputs": [],
   "source": [
    "# SPECIFY SCALE FACTOR\n",
    "scale_factor = 5\n",
    "# SPECIFY TRANSPARENCY (0 to 1)\n",
    "transparency = 1\n",
    "# SPECIFY ICON SCALE\n",
    "icon_scale = 0.3\n",
    "# SPECIFY COLOR PALETTE\n",
    "#my_cmap = plt.get_cmap('Spectral_r')\n",
    "# PROJECT NAME\n",
    "project_name = 'XYZ'    #input('\\nPROJECT NAME:')"
   ],
   "metadata": {
    "collapsed": false,
    "pycharm": {
     "name": "#%%\n"
    }
   }
  },
  {
   "cell_type": "code",
   "execution_count": 37,
   "outputs": [],
   "source": [
    "# Distance between points\n",
    "#step_feet = df_cis['On Potential'].iloc[2]-df_cis['On Potential'].iloc[1]"
   ],
   "metadata": {
    "collapsed": false,
    "pycharm": {
     "name": "#%%\n"
    }
   }
  },
  {
   "cell_type": "code",
   "execution_count": 38,
   "outputs": [],
   "source": [
    "#Convert miles to feet\n",
    "#distance_feet = miles_per_kml*5280\n",
    "# Number of data points\n",
    "#data_points = int(distance_feet/step_feet)\n",
    "# Total miles in the CIS survey (rounded up)"
   ],
   "metadata": {
    "collapsed": false,
    "pycharm": {
     "name": "#%%\n"
    }
   }
  },
  {
   "cell_type": "markdown",
   "source": [
    "# Data Cleaning"
   ],
   "metadata": {
    "collapsed": false,
    "pycharm": {
     "name": "#%% md\n"
    }
   }
  },
  {
   "cell_type": "code",
   "execution_count": 39,
   "outputs": [],
   "source": [
    "# Creates a list of files in data folder\n",
    "raw_data_list = os.listdir(r'/Users/Stefanos/Library/CloudStorage/'\n",
    "                           r'OneDrive-SharedLibraries-DeLasCasasCP,LLc/'\n",
    "                           r'Ro De Las Casas - DLC2P Server/AA Stefanos/'\n",
    "                           r'Data Science/Python Projects/'\n",
    "                           r'CIS Data to Google Earth (Real Time)/'\n",
    "                           r'Original Data')"
   ],
   "metadata": {
    "collapsed": false,
    "pycharm": {
     "name": "#%%\n"
    }
   }
  },
  {
   "cell_type": "code",
   "execution_count": 40,
   "outputs": [],
   "source": [
    "# Create an empty list to exclude certain files\n",
    "filtered_data_list = []\n",
    "# Current list index\n",
    "i = 0\n",
    "\n",
    "# Filters the folder and excludes files that start with '.'\n",
    "while i < len(raw_data_list):\n",
    "    if not raw_data_list[i][0] == '.':\n",
    "        filtered_data_list.append(raw_data_list[i])\n",
    "    i += 1"
   ],
   "metadata": {
    "collapsed": false,
    "pycharm": {
     "name": "#%%\n"
    }
   }
  },
  {
   "cell_type": "code",
   "execution_count": 41,
   "outputs": [],
   "source": [
    "# Creates an empty list to place the total miles\n",
    "total_miles_list = []\n",
    "# Current list index\n",
    "i = 0\n",
    "\n",
    "# Goes through all the files in the list\n",
    "while i < len(filtered_data_list):\n",
    "    # Create dataframe from a csv file\n",
    "    df_cis = pd.read_csv(root_path +\n",
    "                         str(Path(r'/Original Data/' +\n",
    "                                  filtered_data_list[i])))\n",
    "    # Drops elevation and PDOP columns\n",
    "    df_cis = df_cis.iloc[:, :6]\n",
    "    # Delete rows that CIS was skipped\n",
    "    df_cis = df_cis.loc[df_cis['On Potential'] != 'SKIP']\n",
    "    # Convert object columns to numbers\n",
    "    df_cis[['On Potential', 'Off Potential']] = \\\n",
    "                            df_cis[['On Potential', 'Off Potential']]\\\n",
    "                            .apply(pd.to_numeric, errors='coerce', axis=1)\n",
    "    #\n",
    "    total_miles_list.append(round(max(df_cis['Station'])/5280, 2))\n",
    "    df_cis.to_csv(root_path +\n",
    "                  str(Path(r'/Data/' +\n",
    "                           filtered_data_list[i])), index=False)\n",
    "\n",
    "    i += 1"
   ],
   "metadata": {
    "collapsed": false,
    "pycharm": {
     "name": "#%%\n"
    }
   }
  },
  {
   "cell_type": "markdown",
   "source": [
    "# Create Directories (Folders)"
   ],
   "metadata": {
    "collapsed": false,
    "pycharm": {
     "name": "#%% md\n"
    }
   }
  },
  {
   "cell_type": "code",
   "execution_count": 42,
   "outputs": [],
   "source": [
    "# Delete old output folder and create a new one\n",
    "if os.path.exists(root_path + r'/Output/'):\n",
    "    shutil.rmtree(root_path + r'/Output/')\n",
    "    os.makedirs(root_path + r'/Output/')\n",
    "if not os.path.exists(root_path + r'/Output/'):\n",
    "    os.makedirs(root_path + r'/Output/')"
   ],
   "metadata": {
    "collapsed": false,
    "pycharm": {
     "name": "#%%\n"
    }
   }
  },
  {
   "cell_type": "code",
   "execution_count": 43,
   "outputs": [],
   "source": [
    "folder_mile = 1\n",
    "i = 0\n",
    "\n",
    "# Create CIS survey folders\n",
    "while i < len(total_miles_list):\n",
    "    # miles_remaining = total_miles_list[i]\n",
    "\n",
    "    # while miles_remaining > 0:\n",
    "    os.makedirs(root_path + r'/Output/' +\n",
    "                filtered_data_list[i].split('.DAT', 1)[0] + '/')\n",
    "        # folder_mile += 1\n",
    "        # miles_remaining -= 1\n",
    "        #\n",
    "        # if 0 < miles_remaining < 1:\n",
    "        #     folder_mile = total_miles_list[i]\n",
    "\n",
    "    i += 1\n",
    "    #folder_mile = 1"
   ],
   "metadata": {
    "collapsed": false,
    "pycharm": {
     "name": "#%%\n"
    }
   }
  },
  {
   "cell_type": "markdown",
   "source": [
    "# CIS Data"
   ],
   "metadata": {
    "collapsed": false,
    "pycharm": {
     "name": "#%% md\n"
    }
   }
  },
  {
   "cell_type": "markdown",
   "source": [
    "## On"
   ],
   "metadata": {
    "collapsed": false,
    "pycharm": {
     "name": "#%% md\n"
    }
   }
  },
  {
   "cell_type": "code",
   "execution_count": 44,
   "id": "2073504c-64b8-4b26-bb66-b19ed717a29a",
   "metadata": {
    "pycharm": {
     "name": "#%%\n"
    }
   },
   "outputs": [],
   "source": [
    "feet_counter = 5280\n",
    "kml_mile = 1\n",
    "i = 0       # Row for data\n",
    "j = 0       # Row for CIS surveys\n",
    "\n",
    "while j < len(filtered_data_list):\n",
    "    # Goes through all CIS survey files\n",
    "    df_cis_on = pd.read_csv(root_path + r'/Data/' + filtered_data_list[j])\n",
    "    df_cis_on = df_cis_on[df_cis_on['On Potential'] != 0]\n",
    "    df_cis_on = df_cis_on[['Station', 'Longitude', 'Latitude', 'On Potential']]\\\n",
    "        .reset_index(drop=True)\n",
    "    df_cis_on['On Potential'] = df_cis_on['On Potential']*(-1)\n",
    "    last_index = df_cis_on.last_valid_index()\n",
    "    miles_remaining = total_miles_list[j]\n",
    "\n",
    "    # Create '.kml' files for each CIS survey\n",
    "    while miles_remaining > 0:\n",
    "        kml = simplekml.Kml()\n",
    "        style = simplekml.Style()\n",
    "        # Create 3D data points\n",
    "        while i <= last_index and df_cis_on.loc[i, 'Station'] < feet_counter:\n",
    "            pnt = kml.newpoint(name=df_cis_on.loc[i, 'On Potential']*(-1))\n",
    "            pnt.style.balloonstyle.text = \\\n",
    "                'Potential: -{} V'.format(df_cis_on.loc[i, 'On Potential'])\n",
    "            pnt.coords = [(df_cis_on.loc[i, 'Longitude'],\n",
    "                           df_cis_on.loc[i, 'Latitude'],\n",
    "                           df_cis_on.loc[i, 'On Potential']*scale_factor)]\n",
    "            pnt.altitudemode = simplekml.AltitudeMode.relativetoground\n",
    "            pnt.style.iconstyle.icon.href = \\\n",
    "                'https://maps.google.com/mapfiles/kml/paddle/red-square-lv.png'\n",
    "            pnt.style.iconstyle.scale = icon_scale\n",
    "            pnt.style.labelstyle.scale = 0\n",
    "            pnt.extrude = 1\n",
    "            i += 1\n",
    "\n",
    "        kml.save(root_path + r'/Output/' +\n",
    "             filtered_data_list[j].split('.DAT', 1)[0] + '/' +\n",
    "             'Mile ' + kml_mile.__str__() + ' - ' + 'On.kml')\n",
    "        kml_mile += 1\n",
    "        miles_remaining -= 1\n",
    "\n",
    "        if 0 < miles_remaining < 1:\n",
    "            kml_mile = total_miles_list[j]\n",
    "\n",
    "        feet_counter += 5280\n",
    "\n",
    "    # Reset values for next CIS survey\n",
    "    feet_counter = 5280\n",
    "    kml_mile = 1\n",
    "    j += 1"
   ]
  },
  {
   "cell_type": "markdown",
   "source": [
    "## Off"
   ],
   "metadata": {
    "collapsed": false,
    "pycharm": {
     "name": "#%% md\n"
    }
   }
  },
  {
   "cell_type": "code",
   "execution_count": 74,
   "outputs": [],
   "source": [
    "kml = simplekml.Kml()"
   ],
   "metadata": {
    "collapsed": false,
    "pycharm": {
     "name": "#%%\n"
    }
   }
  },
  {
   "cell_type": "code",
   "execution_count": 75,
   "id": "545b2f37-c13a-4076-af7b-5a9e64d4ca16",
   "metadata": {
    "pycharm": {
     "name": "#%%\n"
    }
   },
   "outputs": [
    {
     "ename": "IndexError",
     "evalue": "Boolean index has wrong length: 7 instead of 6",
     "output_type": "error",
     "traceback": [
      "\u001B[0;31m---------------------------------------------------------------------------\u001B[0m",
      "\u001B[0;31mIndexError\u001B[0m                                Traceback (most recent call last)",
      "Input \u001B[0;32mIn [75]\u001B[0m, in \u001B[0;36m<cell line: 2>\u001B[0;34m()\u001B[0m\n\u001B[1;32m      1\u001B[0m df_cis_off \u001B[38;5;241m=\u001B[39m df_cis[df_cis[\u001B[38;5;124m'\u001B[39m\u001B[38;5;124mPS_OFF\u001B[39m\u001B[38;5;124m'\u001B[39m] \u001B[38;5;241m!=\u001B[39m \u001B[38;5;241m0\u001B[39m]\n\u001B[0;32m----> 2\u001B[0m df_cis_off \u001B[38;5;241m=\u001B[39m \u001B[43mdf_cis_off\u001B[49m\u001B[38;5;241;43m.\u001B[39;49m\u001B[43miloc\u001B[49m\u001B[43m[\u001B[49m\u001B[43m:\u001B[49m\u001B[43m,\u001B[49m\u001B[43m \u001B[49m\u001B[43m[\u001B[49m\u001B[38;5;28;43;01mFalse\u001B[39;49;00m\u001B[43m,\u001B[49m\u001B[43m \u001B[49m\u001B[38;5;28;43;01mFalse\u001B[39;49;00m\u001B[43m,\u001B[49m\u001B[43m \u001B[49m\u001B[38;5;28;43;01mTrue\u001B[39;49;00m\u001B[43m,\u001B[49m\u001B[43m \u001B[49m\u001B[38;5;28;43;01mFalse\u001B[39;49;00m\u001B[43m,\u001B[49m\u001B[43m \u001B[49m\u001B[38;5;28;43;01mTrue\u001B[39;49;00m\u001B[43m,\u001B[49m\u001B[43m \u001B[49m\u001B[38;5;28;43;01mTrue\u001B[39;49;00m\u001B[43m,\u001B[49m\u001B[43m \u001B[49m\u001B[38;5;28;43;01mFalse\u001B[39;49;00m\u001B[43m]\u001B[49m\u001B[43m]\u001B[49m\n\u001B[1;32m      3\u001B[0m df_cis_off \u001B[38;5;241m=\u001B[39m df_cis_off[[\u001B[38;5;124m'\u001B[39m\u001B[38;5;124mLONGITUDE\u001B[39m\u001B[38;5;124m'\u001B[39m, \u001B[38;5;124m'\u001B[39m\u001B[38;5;124mLATITUDE\u001B[39m\u001B[38;5;124m'\u001B[39m, \u001B[38;5;124m'\u001B[39m\u001B[38;5;124mPS_OFF\u001B[39m\u001B[38;5;124m'\u001B[39m]]\u001B[38;5;241m.\u001B[39mreset_index(drop\u001B[38;5;241m=\u001B[39m\u001B[38;5;28;01mTrue\u001B[39;00m)\n\u001B[1;32m      4\u001B[0m df_cis_off \u001B[38;5;241m=\u001B[39m df_cis_off\u001B[38;5;241m.\u001B[39miloc[:\u001B[38;5;241m2112\u001B[39m, :]\n",
      "File \u001B[0;32m/Users/stefanos/opt/anaconda3/lib/python3.10/site-packages/pandas/core/indexing.py:961\u001B[0m, in \u001B[0;36m_LocationIndexer.__getitem__\u001B[0;34m(self, key)\u001B[0m\n\u001B[1;32m    959\u001B[0m     \u001B[38;5;28;01mif\u001B[39;00m \u001B[38;5;28mself\u001B[39m\u001B[38;5;241m.\u001B[39m_is_scalar_access(key):\n\u001B[1;32m    960\u001B[0m         \u001B[38;5;28;01mreturn\u001B[39;00m \u001B[38;5;28mself\u001B[39m\u001B[38;5;241m.\u001B[39mobj\u001B[38;5;241m.\u001B[39m_get_value(\u001B[38;5;241m*\u001B[39mkey, takeable\u001B[38;5;241m=\u001B[39m\u001B[38;5;28mself\u001B[39m\u001B[38;5;241m.\u001B[39m_takeable)\n\u001B[0;32m--> 961\u001B[0m     \u001B[38;5;28;01mreturn\u001B[39;00m \u001B[38;5;28;43mself\u001B[39;49m\u001B[38;5;241;43m.\u001B[39;49m\u001B[43m_getitem_tuple\u001B[49m\u001B[43m(\u001B[49m\u001B[43mkey\u001B[49m\u001B[43m)\u001B[49m\n\u001B[1;32m    962\u001B[0m \u001B[38;5;28;01melse\u001B[39;00m:\n\u001B[1;32m    963\u001B[0m     \u001B[38;5;66;03m# we by definition only have the 0th axis\u001B[39;00m\n\u001B[1;32m    964\u001B[0m     axis \u001B[38;5;241m=\u001B[39m \u001B[38;5;28mself\u001B[39m\u001B[38;5;241m.\u001B[39maxis \u001B[38;5;129;01mor\u001B[39;00m \u001B[38;5;241m0\u001B[39m\n",
      "File \u001B[0;32m/Users/stefanos/opt/anaconda3/lib/python3.10/site-packages/pandas/core/indexing.py:1465\u001B[0m, in \u001B[0;36m_iLocIndexer._getitem_tuple\u001B[0;34m(self, tup)\u001B[0m\n\u001B[1;32m   1462\u001B[0m \u001B[38;5;28;01mwith\u001B[39;00m suppress(IndexingError):\n\u001B[1;32m   1463\u001B[0m     \u001B[38;5;28;01mreturn\u001B[39;00m \u001B[38;5;28mself\u001B[39m\u001B[38;5;241m.\u001B[39m_getitem_lowerdim(tup)\n\u001B[0;32m-> 1465\u001B[0m \u001B[38;5;28;01mreturn\u001B[39;00m \u001B[38;5;28;43mself\u001B[39;49m\u001B[38;5;241;43m.\u001B[39;49m\u001B[43m_getitem_tuple_same_dim\u001B[49m\u001B[43m(\u001B[49m\u001B[43mtup\u001B[49m\u001B[43m)\u001B[49m\n",
      "File \u001B[0;32m/Users/stefanos/opt/anaconda3/lib/python3.10/site-packages/pandas/core/indexing.py:827\u001B[0m, in \u001B[0;36m_LocationIndexer._getitem_tuple_same_dim\u001B[0;34m(self, tup)\u001B[0m\n\u001B[1;32m    824\u001B[0m \u001B[38;5;28;01mif\u001B[39;00m com\u001B[38;5;241m.\u001B[39mis_null_slice(key):\n\u001B[1;32m    825\u001B[0m     \u001B[38;5;28;01mcontinue\u001B[39;00m\n\u001B[0;32m--> 827\u001B[0m retval \u001B[38;5;241m=\u001B[39m \u001B[38;5;28;43mgetattr\u001B[39;49m\u001B[43m(\u001B[49m\u001B[43mretval\u001B[49m\u001B[43m,\u001B[49m\u001B[43m \u001B[49m\u001B[38;5;28;43mself\u001B[39;49m\u001B[38;5;241;43m.\u001B[39;49m\u001B[43mname\u001B[49m\u001B[43m)\u001B[49m\u001B[38;5;241;43m.\u001B[39;49m\u001B[43m_getitem_axis\u001B[49m\u001B[43m(\u001B[49m\u001B[43mkey\u001B[49m\u001B[43m,\u001B[49m\u001B[43m \u001B[49m\u001B[43maxis\u001B[49m\u001B[38;5;241;43m=\u001B[39;49m\u001B[43mi\u001B[49m\u001B[43m)\u001B[49m\n\u001B[1;32m    828\u001B[0m \u001B[38;5;66;03m# We should never have retval.ndim < self.ndim, as that should\u001B[39;00m\n\u001B[1;32m    829\u001B[0m \u001B[38;5;66;03m#  be handled by the _getitem_lowerdim call above.\u001B[39;00m\n\u001B[1;32m    830\u001B[0m \u001B[38;5;28;01massert\u001B[39;00m retval\u001B[38;5;241m.\u001B[39mndim \u001B[38;5;241m==\u001B[39m \u001B[38;5;28mself\u001B[39m\u001B[38;5;241m.\u001B[39mndim\n",
      "File \u001B[0;32m/Users/stefanos/opt/anaconda3/lib/python3.10/site-packages/pandas/core/indexing.py:1510\u001B[0m, in \u001B[0;36m_iLocIndexer._getitem_axis\u001B[0;34m(self, key, axis)\u001B[0m\n\u001B[1;32m   1508\u001B[0m \u001B[38;5;28;01mif\u001B[39;00m com\u001B[38;5;241m.\u001B[39mis_bool_indexer(key):\n\u001B[1;32m   1509\u001B[0m     \u001B[38;5;28mself\u001B[39m\u001B[38;5;241m.\u001B[39m_validate_key(key, axis)\n\u001B[0;32m-> 1510\u001B[0m     \u001B[38;5;28;01mreturn\u001B[39;00m \u001B[38;5;28;43mself\u001B[39;49m\u001B[38;5;241;43m.\u001B[39;49m\u001B[43m_getbool_axis\u001B[49m\u001B[43m(\u001B[49m\u001B[43mkey\u001B[49m\u001B[43m,\u001B[49m\u001B[43m \u001B[49m\u001B[43maxis\u001B[49m\u001B[38;5;241;43m=\u001B[39;49m\u001B[43maxis\u001B[49m\u001B[43m)\u001B[49m\n\u001B[1;32m   1512\u001B[0m \u001B[38;5;66;03m# a list of integers\u001B[39;00m\n\u001B[1;32m   1513\u001B[0m \u001B[38;5;28;01melif\u001B[39;00m is_list_like_indexer(key):\n",
      "File \u001B[0;32m/Users/stefanos/opt/anaconda3/lib/python3.10/site-packages/pandas/core/indexing.py:984\u001B[0m, in \u001B[0;36m_LocationIndexer._getbool_axis\u001B[0;34m(self, key, axis)\u001B[0m\n\u001B[1;32m    981\u001B[0m \u001B[38;5;28;01mdef\u001B[39;00m \u001B[38;5;21m_getbool_axis\u001B[39m(\u001B[38;5;28mself\u001B[39m, key, axis: \u001B[38;5;28mint\u001B[39m):\n\u001B[1;32m    982\u001B[0m     \u001B[38;5;66;03m# caller is responsible for ensuring non-None axis\u001B[39;00m\n\u001B[1;32m    983\u001B[0m     labels \u001B[38;5;241m=\u001B[39m \u001B[38;5;28mself\u001B[39m\u001B[38;5;241m.\u001B[39mobj\u001B[38;5;241m.\u001B[39m_get_axis(axis)\n\u001B[0;32m--> 984\u001B[0m     key \u001B[38;5;241m=\u001B[39m \u001B[43mcheck_bool_indexer\u001B[49m\u001B[43m(\u001B[49m\u001B[43mlabels\u001B[49m\u001B[43m,\u001B[49m\u001B[43m \u001B[49m\u001B[43mkey\u001B[49m\u001B[43m)\u001B[49m\n\u001B[1;32m    985\u001B[0m     inds \u001B[38;5;241m=\u001B[39m key\u001B[38;5;241m.\u001B[39mnonzero()[\u001B[38;5;241m0\u001B[39m]\n\u001B[1;32m    986\u001B[0m     \u001B[38;5;28;01mreturn\u001B[39;00m \u001B[38;5;28mself\u001B[39m\u001B[38;5;241m.\u001B[39mobj\u001B[38;5;241m.\u001B[39m_take_with_is_copy(inds, axis\u001B[38;5;241m=\u001B[39maxis)\n",
      "File \u001B[0;32m/Users/stefanos/opt/anaconda3/lib/python3.10/site-packages/pandas/core/indexing.py:2401\u001B[0m, in \u001B[0;36mcheck_bool_indexer\u001B[0;34m(index, key)\u001B[0m\n\u001B[1;32m   2397\u001B[0m \u001B[38;5;28;01melif\u001B[39;00m \u001B[38;5;129;01mnot\u001B[39;00m is_array_like(result):\n\u001B[1;32m   2398\u001B[0m     \u001B[38;5;66;03m# GH 33924\u001B[39;00m\n\u001B[1;32m   2399\u001B[0m     \u001B[38;5;66;03m# key may contain nan elements, check_array_indexer needs bool array\u001B[39;00m\n\u001B[1;32m   2400\u001B[0m     result \u001B[38;5;241m=\u001B[39m pd_array(result, dtype\u001B[38;5;241m=\u001B[39m\u001B[38;5;28mbool\u001B[39m)\n\u001B[0;32m-> 2401\u001B[0m \u001B[38;5;28;01mreturn\u001B[39;00m \u001B[43mcheck_array_indexer\u001B[49m\u001B[43m(\u001B[49m\u001B[43mindex\u001B[49m\u001B[43m,\u001B[49m\u001B[43m \u001B[49m\u001B[43mresult\u001B[49m\u001B[43m)\u001B[49m\n",
      "File \u001B[0;32m/Users/stefanos/opt/anaconda3/lib/python3.10/site-packages/pandas/core/indexers/utils.py:579\u001B[0m, in \u001B[0;36mcheck_array_indexer\u001B[0;34m(array, indexer)\u001B[0m\n\u001B[1;32m    577\u001B[0m     \u001B[38;5;66;03m# GH26658\u001B[39;00m\n\u001B[1;32m    578\u001B[0m     \u001B[38;5;28;01mif\u001B[39;00m \u001B[38;5;28mlen\u001B[39m(indexer) \u001B[38;5;241m!=\u001B[39m \u001B[38;5;28mlen\u001B[39m(array):\n\u001B[0;32m--> 579\u001B[0m         \u001B[38;5;28;01mraise\u001B[39;00m \u001B[38;5;167;01mIndexError\u001B[39;00m(\n\u001B[1;32m    580\u001B[0m             \u001B[38;5;124mf\u001B[39m\u001B[38;5;124m\"\u001B[39m\u001B[38;5;124mBoolean index has wrong length: \u001B[39m\u001B[38;5;124m\"\u001B[39m\n\u001B[1;32m    581\u001B[0m             \u001B[38;5;124mf\u001B[39m\u001B[38;5;124m\"\u001B[39m\u001B[38;5;132;01m{\u001B[39;00m\u001B[38;5;28mlen\u001B[39m(indexer)\u001B[38;5;132;01m}\u001B[39;00m\u001B[38;5;124m instead of \u001B[39m\u001B[38;5;132;01m{\u001B[39;00m\u001B[38;5;28mlen\u001B[39m(array)\u001B[38;5;132;01m}\u001B[39;00m\u001B[38;5;124m\"\u001B[39m\n\u001B[1;32m    582\u001B[0m         )\n\u001B[1;32m    583\u001B[0m \u001B[38;5;28;01melif\u001B[39;00m is_integer_dtype(dtype):\n\u001B[1;32m    584\u001B[0m     \u001B[38;5;28;01mtry\u001B[39;00m:\n",
      "\u001B[0;31mIndexError\u001B[0m: Boolean index has wrong length: 7 instead of 6"
     ]
    }
   ],
   "source": [
    "df_cis_off = df_cis[df_cis['PS_OFF'] != 0]\n",
    "df_cis_off = df_cis_off.iloc[:, [False, False, True, False, True, True, False]]\n",
    "df_cis_off = df_cis_off[['LONGITUDE', 'LATITUDE', 'PS_OFF']].reset_index(drop=True)\n",
    "df_cis_off = df_cis_off.iloc[:2112, :]\n",
    "df_cis_off['PS_OFF'] = df_cis_off['PS_OFF'] * -1"
   ]
  },
  {
   "cell_type": "code",
   "execution_count": null,
   "id": "867e796d-7b4a-4ffc-b0e7-ee40f73c008c",
   "metadata": {
    "pycharm": {
     "name": "#%%\n"
    }
   },
   "outputs": [],
   "source": [
    "# Counters\n",
    "i = 0                                   # Row\n",
    "z = df_cis_off.last_valid_index()       # Max iterations\n",
    "\n",
    "while i < z:\n",
    "    pnt = kml.newpoint(name=df_cis_off.loc[i, 'PS_OFF']*-1)\n",
    "    pnt.style.balloonstyle.text = 'Potential: -{} V'.format(df_cis_off.loc[i, 'PS_OFF'])\n",
    "    pnt.coords = [(df_cis_off.loc[i, 'LONGITUDE'], df_cis_off.loc[i, 'LATITUDE'], df_cis_off.loc[i, 'PS_OFF']*scale_factor)]\n",
    "\n",
    "    # noinspection SpellCheckingInspection\n",
    "    pnt.altitudemode = simplekml.AltitudeMode.relativetoground\n",
    "\n",
    "    # Style\n",
    "    pnt.style.iconstyle.icon.href = 'https://maps.google.com/mapfiles/kml/paddle/red-blank.png'\n",
    "    pnt.style.iconstyle.scale = icon_scale\n",
    "    pnt.style.labelstyle.scale = 0\n",
    "\n",
    "    i += 1\n",
    "\n",
    "kml.save(root_path + r'\\Output/' + 'OFF - ' + project_name + '.kml')"
   ]
  },
  {
   "cell_type": "markdown",
   "id": "c36dc3c9-97c6-4547-a2a6-a9497958fd3b",
   "metadata": {
    "jp-MarkdownHeadingCollapsed": true,
    "tags": [],
    "pycharm": {
     "name": "#%% md\n"
    }
   },
   "source": [
    "## 1200"
   ]
  },
  {
   "cell_type": "code",
   "execution_count": null,
   "outputs": [],
   "source": [
    "kml = simplekml.Kml()"
   ],
   "metadata": {
    "collapsed": false,
    "pycharm": {
     "name": "#%%\n"
    }
   }
  },
  {
   "cell_type": "code",
   "execution_count": null,
   "id": "982c98e3-b5a7-49b0-a447-0ec4f775b529",
   "metadata": {
    "pycharm": {
     "name": "#%%\n"
    }
   },
   "outputs": [],
   "source": [
    "df_cis_1200 = df_cis.iloc[:, [False, False, False, False, True, True, False]].copy()\n",
    "df_cis_1200['Potential (V)'] = 1.200"
   ]
  },
  {
   "cell_type": "code",
   "execution_count": null,
   "id": "bd1cd08e-a9d9-4411-bc20-64f8c0aa45a2",
   "metadata": {
    "pycharm": {
     "name": "#%%\n"
    }
   },
   "outputs": [],
   "source": [
    "# Counters\n",
    "i = 0                                    # Row\n",
    "z = 282                                  # Max iterations\n",
    "\n",
    "while i < z:\n",
    "    ls = kml.newlinestring()\n",
    "    ls.style.balloonstyle.text = 'Potential: -{} V'.format(df_cis_1200.loc[i, 'Potential (V)'])\n",
    "    ls.coords = [(df_cis_1200.loc[i, 'LONGITUDE'], df_cis_1200.loc[i, 'LATITUDE'], df_cis_1200.loc[i, 'Potential (V)']*scale_factor),\n",
    "                 (df_cis_1200.loc[i+1, 'LONGITUDE'], df_cis_1200.loc[i+1, 'LATITUDE'], df_cis_1200.loc[i+1, 'Potential (V)']*scale_factor)] \n",
    "    ls.altitudemode = simplekml.AltitudeMode.relativetoground\n",
    "\n",
    "    # Style\n",
    "    ls.style.linestyle.width = 5\n",
    "    ls.style.linestyle.color = simplekml.Color.rgb(175, 175, 175, 255)\n",
    "\n",
    "    i += 1\n",
    "\n",
    "kml.save(root_path + r'\\Output/' + '1.2 V - ' + project_name + '.kml')"
   ]
  },
  {
   "cell_type": "markdown",
   "id": "fa92ef61-3026-4252-9bad-ed7f27299fb8",
   "metadata": {
    "jp-MarkdownHeadingCollapsed": true,
    "tags": [],
    "pycharm": {
     "name": "#%% md\n"
    }
   },
   "source": [
    "## 850"
   ]
  },
  {
   "cell_type": "code",
   "execution_count": null,
   "outputs": [],
   "source": [
    "kml = simplekml.Kml()"
   ],
   "metadata": {
    "collapsed": false,
    "pycharm": {
     "name": "#%%\n"
    }
   }
  },
  {
   "cell_type": "code",
   "execution_count": null,
   "id": "4550c108-b02f-4b1a-bcee-0ef0808a927c",
   "metadata": {
    "pycharm": {
     "name": "#%%\n"
    }
   },
   "outputs": [],
   "source": [
    "df_cis_850 = df_cis.iloc[:, [False, False, False, False, True, True, False]].copy()\n",
    "df_cis_850['Potential (V)'] = 0.850"
   ]
  },
  {
   "cell_type": "code",
   "execution_count": null,
   "id": "7d93f190-5b5a-4e6c-b655-2de94ab3dad8",
   "metadata": {
    "pycharm": {
     "name": "#%%\n"
    }
   },
   "outputs": [],
   "source": [
    "i = 0                                    # Row\n",
    "z = 282                                  # Max iterations\n",
    "\n",
    "while i < z:\n",
    "    ls = kml.newlinestring()\n",
    "    ls.style.balloonstyle.text = 'Potential: {} V'.format(df_cis_850.loc[i, 'Potential (V)'])\n",
    "    ls.coords = [(df_cis_850.loc[i, 'LONGITUDE'], df_cis_850.loc[i, 'LATITUDE'], df_cis_850.loc[i, 'Potential (V)']*scale_factor),\n",
    "                 (df_cis_850.loc[i+1, 'LONGITUDE'], df_cis_850.loc[i+1, 'LATITUDE'], df_cis_850.loc[i+1, 'Potential (V)']*scale_factor)]\n",
    "    ls.altitudemode = simplekml.AltitudeMode.relativetoground\n",
    "\n",
    "    # Style\n",
    "    ls.style.linestyle.width = 5\n",
    "    ls.style.linestyle.color = simplekml.Color.rgb(175, 175, 175, 255)\n",
    "\n",
    "    i += 1\n",
    "\n",
    "kml.save(root_path + r'\\Output/' + '0.85 V - ' + project_name + '.kml')"
   ]
  },
  {
   "cell_type": "markdown",
   "source": [
    "## Pipe"
   ],
   "metadata": {
    "collapsed": false,
    "pycharm": {
     "name": "#%% md\n"
    }
   }
  },
  {
   "cell_type": "code",
   "execution_count": null,
   "outputs": [],
   "source": [
    "kml = simplekml.Kml()"
   ],
   "metadata": {
    "collapsed": false,
    "pycharm": {
     "name": "#%%\n"
    }
   }
  },
  {
   "cell_type": "code",
   "execution_count": null,
   "outputs": [],
   "source": [
    "df_cis_pipe = df_cis.iloc[:, [False, False, False, False, True, True, False]].copy()\n",
    "df_cis_pipe['Potential (V)'] = 0"
   ],
   "metadata": {
    "collapsed": false,
    "pycharm": {
     "name": "#%%\n"
    }
   }
  },
  {
   "cell_type": "code",
   "execution_count": null,
   "outputs": [],
   "source": [
    "# Counters\n",
    "i = 0                                    # Row\n",
    "z = 282                                  # Max iterations\n",
    "\n",
    "while i < z:\n",
    "    ls = kml.newlinestring()\n",
    "    ls.style.balloonstyle.text = 'Ground'\n",
    "    ls.coords = [(df_cis_pipe.loc[i, 'LONGITUDE'], df_cis_pipe.loc[i, 'LATITUDE'], df_cis_pipe.loc[i, 'Potential (V)']),\n",
    "                 (df_cis_pipe.loc[i+1, 'LONGITUDE'], df_cis_pipe.loc[i+1, 'LATITUDE'], df_cis_pipe.loc[i+1, 'Potential (V)'])]\n",
    "\n",
    "    # Style\n",
    "    ls.style.linestyle.width = 5\n",
    "    ls.style.linestyle.color = simplekml.Color.rgb(255, 255, 255, 175)\n",
    "\n",
    "    i += 1\n",
    "\n",
    "kml.save(root_path + r'\\Output/' + 'Ground - ' + project_name + '.kml')"
   ],
   "metadata": {
    "collapsed": false,
    "pycharm": {
     "name": "#%%\n"
    }
   }
  },
  {
   "cell_type": "markdown",
   "source": [
    "## Comments"
   ],
   "metadata": {
    "collapsed": false,
    "pycharm": {
     "name": "#%% md\n"
    }
   }
  },
  {
   "cell_type": "code",
   "execution_count": null,
   "outputs": [],
   "source": [
    "kml = simplekml.Kml()"
   ],
   "metadata": {
    "collapsed": false,
    "pycharm": {
     "name": "#%%\n"
    }
   }
  },
  {
   "cell_type": "code",
   "execution_count": null,
   "outputs": [],
   "source": [
    "df_cis_comments = df_cis.iloc[:, [False, False, False, True, True, True, False]].copy()"
   ],
   "metadata": {
    "collapsed": false,
    "pycharm": {
     "name": "#%%\n"
    }
   }
  },
  {
   "cell_type": "code",
   "execution_count": null,
   "outputs": [],
   "source": [
    "# Counters\n",
    "i = 0                                  # Row\n",
    "z = df_cis_comments.last_valid_index()       # Max iterations\n",
    "\n",
    "while i < z:\n",
    "    # noinspection SpellCheckingInspection\n",
    "    if pd.isna(df_cis_comments.loc[i, 'COMMENTS']):\n",
    "        i += 1\n",
    "\n",
    "    else:\n",
    "        pnt = kml.newpoint(name=df_cis_comments.loc[i, 'COMMENTS'])\n",
    "        pnt.coords = [(df_cis_comments.loc[i, 'LONGITUDE'], df_cis_comments.loc[i, 'LATITUDE'], 0)]\n",
    "\n",
    "        pnt.altitudemode = simplekml.AltitudeMode.relativetoground\n",
    "\n",
    "        # Style\n",
    "        pnt.style.iconstyle.icon.href = 'https://maps.google.com/mapfiles/kml/paddle/ltblu-blank.png'\n",
    "        pnt.style.iconstyle.scale = icon_scale*0.05\n",
    "        #pnt.style.labelstyle.scale = 0\n",
    "\n",
    "        i += 1\n",
    "\n",
    "kml.save(root_path + r'\\Output/' + 'Comments - ' + project_name + '.kml')"
   ],
   "metadata": {
    "collapsed": false,
    "pycharm": {
     "name": "#%%\n"
    }
   }
  }
 ],
 "metadata": {
  "kernelspec": {
   "display_name": "Python 3 (ipykernel)",
   "language": "python",
   "name": "python3"
  },
  "language_info": {
   "codemirror_mode": {
    "name": "ipython",
    "version": 3
   },
   "file_extension": ".py",
   "mimetype": "text/x-python",
   "name": "python",
   "nbconvert_exporter": "python",
   "pygments_lexer": "ipython3",
   "version": "3.9.7"
  }
 },
 "nbformat": 4,
 "nbformat_minor": 5
}