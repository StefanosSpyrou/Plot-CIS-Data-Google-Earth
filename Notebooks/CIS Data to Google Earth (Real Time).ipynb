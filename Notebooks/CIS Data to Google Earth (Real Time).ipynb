{
 "cells": [
  {
   "cell_type": "code",
   "execution_count": 88,
   "id": "62e1d373-17ea-422d-be12-b6ab9de0371c",
   "metadata": {
    "pycharm": {
     "name": "#%%\n"
    }
   },
   "outputs": [],
   "source": [
    "import os\n",
    "import time\n",
    "import pandas as pd\n",
    "import simplekml\n",
    "import shutil\n",
    "import numpy as np\n",
    "import socket\n",
    "import datetime\n",
    "from openpyxl.styles import Font\n",
    "from openpyxl.styles import Alignment\n",
    "from openpyxl.styles import Border, Side\n",
    "from openpyxl import load_workbook\n",
    "from sys import platform\n",
    "from pathlib import Path\n",
    "import glob\n",
    "\n",
    "# Vincenty Formula\n",
    "from math import atan\n",
    "from math import atan2\n",
    "from math import cos\n",
    "from math import radians\n",
    "from math import sin\n",
    "from math import sqrt\n",
    "from math import tan\n",
    "\n",
    "pd.options.mode.chained_assignment = None\n",
    "\n",
    "# Measuring execution time\n",
    "start_time = time.time()"
   ]
  },
  {
   "cell_type": "markdown",
   "source": [
    "# Specify Root Path"
   ],
   "metadata": {
    "collapsed": false,
    "pycharm": {
     "name": "#%% md\n"
    }
   }
  },
  {
   "cell_type": "code",
   "execution_count": 89,
   "outputs": [],
   "source": [
    "# Checks what operating system the user is using (Windows or OS)\n",
    "if platform == 'win32':\n",
    "    root_path = r'C:\\Users\\Stefanos\\DeLasCasas CP, LLc\\Ro De Las Casas - ' \\\n",
    "                r'DLC2P Server\\AA Stefanos\\Data Science\\Python Projects\\CIS ' \\\n",
    "                r'Data to Google Earth (Real Time)'\n",
    "elif platform == 'darwin':\n",
    "    root_path = r'/Users/Stefanos/Library/CloudStorage/' \\\n",
    "                r'OneDrive-SharedLibraries-DeLasCasasCP,LLc/Ro De Las Casas ' \\\n",
    "                r'- DLC2P Server/AA Stefanos/Data Science/Python Projects/' \\\n",
    "                r'CIS Data to Google Earth (Real Time)'"
   ],
   "metadata": {
    "collapsed": false,
    "pycharm": {
     "name": "#%%\n"
    }
   }
  },
  {
   "cell_type": "markdown",
   "source": [
    "# Specify Variables"
   ],
   "metadata": {
    "collapsed": false,
    "pycharm": {
     "name": "#%% md\n"
    }
   }
  },
  {
   "cell_type": "code",
   "execution_count": 90,
   "outputs": [],
   "source": [
    "# SPECIFY ICONS\n",
    "icon_on = 'https://img.icons8.com/material-sharp/24/1ff08a/give-way--v1.png'\n",
    "icon_off = 'https://img.icons8.com/material-sharp/24/7950F2/give-way--v1.png'\n",
    "icon_comments = 'https://img.icons8.com/ultraviolet/80/000000/comments.png'\n",
    "icon_1200 = 'https://img.icons8.com/ios-filled/50/22C3E6/360-degrees.png'\n",
    "icon_850 = 'https://img.icons8.com/ios-filled/50/F25081/360-degrees.png'\n",
    "# SPECIFY SCALE FACTOR (Tallness of data points)\n",
    "scale_factor = 175\n",
    "# SPECIFY TRANSPARENCY (0 to 1)\n",
    "transparency = 1\n",
    "# SPECIFY ICON SCALE\n",
    "icon_scale = 0.2\n",
    "# SPECIFY DATA VISIBILITY WHEN OPENING KMZ FILE (True or False)\n",
    "data_visibility = False\n",
    "# SPECIFY COMPANY\n",
    "company_name = 'Kinder Morgan'"
   ],
   "metadata": {
    "collapsed": false,
    "pycharm": {
     "name": "#%%\n"
    }
   }
  },
  {
   "cell_type": "markdown",
   "source": [
    "# Vincenty Formula (0.5 mm Accuracy)"
   ],
   "metadata": {
    "collapsed": false,
    "pycharm": {
     "name": "#%% md\n"
    }
   }
  },
  {
   "cell_type": "code",
   "execution_count": 91,
   "outputs": [],
   "source": [
    "class VincentyInverse:\n",
    "    def __init__(self, coord1, coord2, maxiter=200, tol=10**-12):\n",
    "\n",
    "        #--- CONSTANTS ------------------------------------+\n",
    "\n",
    "        a = 6378137.0                    # radius at equator in meters (WGS-84)\n",
    "        f = 1/298.257223563              # flattening of the ellipsoid (WGS-84)\n",
    "        b = (1-f)*a\n",
    "\n",
    "        phi_1, lon_1, = coord1                      # (lat=L_?,lon=phi_?)\n",
    "        phi_2, lon_2, = coord2\n",
    "\n",
    "        u_1 = atan((1-f)*tan(radians(phi_1)))\n",
    "        u_2 = atan((1-f)*tan(radians(phi_2)))\n",
    "\n",
    "        L = radians(lon_2-lon_1)\n",
    "\n",
    "        Lambda = L                           # set initial value of lambda to L\n",
    "\n",
    "        sin_u1 = sin(u_1)\n",
    "        cos_u1 = cos(u_1)\n",
    "        sin_u2 = sin(u_2)\n",
    "        cos_u2 = cos(u_2)\n",
    "\n",
    "        #--- BEGIN ITERATIONS -----------------------------+\n",
    "        self.iters = 0\n",
    "        for i in range(0, maxiter):\n",
    "            self.iters += 1\n",
    "\n",
    "            cos_lambda = cos(Lambda)\n",
    "            sin_lambda = sin(Lambda)\n",
    "            sin_sigma = sqrt((cos_u2*sin(Lambda))**2+\n",
    "                             (cos_u1*sin_u2-sin_u1*cos_u2*cos_lambda)**2)\n",
    "            cos_sigma = sin_u1*sin_u2+cos_u1*cos_u2*cos_lambda\n",
    "            sigma = atan2(sin_sigma,cos_sigma)\n",
    "            sin_alpha = (cos_u1*cos_u2*sin_lambda)/sin_sigma\n",
    "            cos_sq_alpha = 1-sin_alpha**2\n",
    "            cos2_sigma_m = cos_sigma-((2*sin_u1*sin_u2)/cos_sq_alpha)\n",
    "            C = (f/16)*cos_sq_alpha*(4+f*(4-3*cos_sq_alpha))\n",
    "            Lambda_prev = Lambda\n",
    "            Lambda = L+(1-C)*f*sin_alpha*(sigma+C*sin_sigma*\n",
    "                                          (cos2_sigma_m+C*cos_sigma*\n",
    "                                           (-1+2*cos2_sigma_m**2)))\n",
    "\n",
    "            # Successful convergence\n",
    "            diff = abs(Lambda_prev-Lambda)\n",
    "            if diff <= tol:\n",
    "                break\n",
    "\n",
    "        u_sq = cos_sq_alpha*((a**2-b**2)/b**2)\n",
    "        A = 1+(u_sq/16384)*(4096+u_sq*(-768+u_sq*(320-175*u_sq)))\n",
    "        B = (u_sq/1024)*(256+u_sq*(-128+u_sq*(74-47*u_sq)))\n",
    "        delta_sig = B*sin_sigma*(cos2_sigma_m+0.25*B*\n",
    "                                 (cos_sigma*(-1+2*cos2_sigma_m**2)-\n",
    "                                  (1/6)*B*cos2_sigma_m*(-3+4*sin_sigma**2)*\n",
    "                                  (-3+4*cos2_sigma_m**2)))\n",
    "\n",
    "        self.m = b*A*(sigma-delta_sig)         # output distance in meters\n",
    "        #self.km = self.m/1000                 # output distance in kilometers\n",
    "        #self.mm = self.m*1000                 # output distance in millimeters\n",
    "        self.miles = self.m*0.000621371        # output distance in miles\n",
    "        self.ft = self.miles*5280              # output distance in feet\n",
    "        #self.inches = self.ft*12              # output distance in inches\n",
    "        #self.yards = self.ft/3                # output distance in yards\n",
    "\n",
    "# if __name__ == \"__VincentyInverse__\":\n",
    "#     main()"
   ],
   "metadata": {
    "collapsed": false,
    "pycharm": {
     "name": "#%%\n"
    }
   }
  },
  {
   "cell_type": "markdown",
   "source": [
    "# Data Cleaning"
   ],
   "metadata": {
    "collapsed": false,
    "pycharm": {
     "name": "#%% md\n"
    }
   }
  },
  {
   "cell_type": "code",
   "execution_count": 92,
   "outputs": [],
   "source": [
    "# List of files contained in the original data folder\n",
    "if platform == 'win32':\n",
    "    raw_data_list = os.listdir(r'/Users/Stefanos/'\n",
    "                               r'DeLasCasas CP, LLc/'\n",
    "                               r'Ro De Las Casas - DLC2P Server/AA Stefanos/'\n",
    "                               r'Data Science/Python Projects/'\n",
    "                               r'CIS Data to Google Earth (Real Time)/'\n",
    "                               r'Original Data')\n",
    "elif platform == 'darwin':\n",
    "    raw_data_list = os.listdir(r'/Users/Stefanos/Library/CloudStorage/'\n",
    "                               r'OneDrive-SharedLibraries-DeLasCasasCP,LLc/'\n",
    "                               r'Ro De Las Casas - DLC2P Server/AA Stefanos/'\n",
    "                               r'Data Science/Python Projects/'\n",
    "                               r'CIS Data to Google Earth (Real Time)/'\n",
    "                               r'Original Data')"
   ],
   "metadata": {
    "collapsed": false,
    "pycharm": {
     "name": "#%%\n"
    }
   }
  },
  {
   "cell_type": "code",
   "execution_count": 93,
   "outputs": [],
   "source": [
    "# Replaces data folder with an empty one\n",
    "if os.path.exists(root_path + r'/Data/'):\n",
    "    shutil.rmtree(root_path + r'/Data/')\n",
    "    os.makedirs(root_path + r'/Data/')\n",
    "if not os.path.exists(root_path + r'/Data/'):\n",
    "    os.makedirs(root_path + r'/Data/')"
   ],
   "metadata": {
    "collapsed": false,
    "pycharm": {
     "name": "#%%\n"
    }
   }
  },
  {
   "cell_type": "code",
   "execution_count": 94,
   "outputs": [],
   "source": [
    "# Remove log file if it exists\n",
    "if os.path.exists(root_path + str(Path(r'/Log.txt'))):\n",
    "    os.remove(root_path + str(Path(r'/Log.txt')))\n",
    "# Creates a log file to track information of interest\n",
    "with open(root_path + str(Path(r'/Log.txt')), 'a') as f:\n",
    "    f.write('Rows dropped with missing GPS points:')\n",
    "    f.write('\\n')"
   ],
   "metadata": {
    "collapsed": false,
    "pycharm": {
     "name": "#%%\n"
    }
   }
  },
  {
   "cell_type": "code",
   "execution_count": 95,
   "outputs": [],
   "source": [
    "# List to exclude certain files\n",
    "filtered_data_list = []\n",
    "i = 0       # List counter for files\n",
    "\n",
    "# Filters the folder and excludes files that start with '.'\n",
    "while i < len(raw_data_list):\n",
    "    if not raw_data_list[i][0] == '.':\n",
    "        filtered_data_list.append(raw_data_list[i])\n",
    "    i += 1"
   ],
   "metadata": {
    "collapsed": false,
    "pycharm": {
     "name": "#%%\n"
    }
   }
  },
  {
   "cell_type": "code",
   "execution_count": 96,
   "outputs": [],
   "source": [
    "j = 0       # List counter for '.csv' files\n",
    "\n",
    "# Removes '.DAT' string from any files that have it\n",
    "while j < len(filtered_data_list):\n",
    "    original_name = root_path + str(Path(r'/Original Data/' +\n",
    "                                         filtered_data_list[j]))\n",
    "    filtered_data_list[j] = filtered_data_list[j].replace('.DAT', '')\n",
    "    new_name = root_path + str(Path(r'/Original Data/' + filtered_data_list[j]))\n",
    "    os.rename(original_name, new_name)\n",
    "    j += 1"
   ],
   "metadata": {
    "collapsed": false,
    "pycharm": {
     "name": "#%%\n"
    }
   }
  },
  {
   "cell_type": "code",
   "execution_count": 97,
   "outputs": [],
   "source": [
    "# List for total miles per '.csv' file\n",
    "total_miles_list = []\n",
    "\n",
    "total_rows_dropped = []\n",
    "i = 0       # Loop counter for calculating distance (ft)\n",
    "j = 0       # List counter for csv files\n",
    "\n",
    "# Goes through all the files in the list\n",
    "while j < len(filtered_data_list):\n",
    "    # Create dataframe from a csv file\n",
    "    df_cis = pd.read_csv(root_path +\n",
    "                         str(Path(r'/Original Data/' +\n",
    "                                  filtered_data_list[j])))\n",
    "    # Drops elevation and PDOP columns\n",
    "    df_cis = df_cis.iloc[:, :6]\n",
    "    # Delete rows that CIS was skipped\n",
    "    df_cis = df_cis.loc[df_cis['On Potential'] != 'SKIP'].reset_index(drop=True)\n",
    "    # Extract starting stationing number (ft) from '.csv' title\n",
    "    starting_stationing = float(filtered_data_list[j].split()[1].split('SN')[1]\\\n",
    "        .replace('+',''))\n",
    "    # Create new column\n",
    "    df_cis['Stationing (ft)'] = 0\n",
    "    # Convert object columns to numbers\n",
    "    df_cis[['On Potential', 'Off Potential']] = \\\n",
    "                            df_cis[['On Potential', 'Off Potential']]\\\n",
    "                            .apply(pd.to_numeric, errors='coerce', axis=1)\n",
    "    df_cis[['On Potential', 'Off Potential']] /= 1000\n",
    "    # Trim white space from comments\n",
    "    df_cis['Comments'] = df_cis['Comments'].str.strip()\n",
    "    # Create new column\n",
    "    df_cis['Distance (ft)'] = 0\n",
    "    last_index2 = df_cis.last_valid_index()\n",
    "    # Drop rows that don't have GPS coordinates\n",
    "    df_cis['Latitude'].replace('', np.nan, inplace=True)\n",
    "    df_cis.dropna(subset=['Latitude'], inplace=True)\n",
    "    df_cis.reset_index(drop=True, inplace=True)\n",
    "    last_index = df_cis.last_valid_index()\n",
    "    total_rows_dropped.append(last_index2-last_index)\n",
    "    # Record number of rows dropped for each file\n",
    "    with open(root_path + str(Path(r'/Log.txt')), 'a') as f:\n",
    "        f.write('- {} ({})'.format(filtered_data_list[j],\n",
    "                                  total_rows_dropped[j]))\n",
    "        f.write('\\n')\n",
    "\n",
    "    while i < last_index:\n",
    "        # Infers actual stationing number (xxxx+xx)\n",
    "        df_cis['Stationing (ft)'][i] = starting_stationing+\\\n",
    "                                       df_cis['Station'][i]\n",
    "        df_cis['Stationing (ft)'][i] = str(df_cis['Stationing (ft)'][i])\\\n",
    "            .split('.')[0]\n",
    "        string_length = len(df_cis['Stationing (ft)'][i])\n",
    "        df_cis['Stationing (ft)'][i] = df_cis['Stationing (ft)'][i]\\\n",
    "                                             [:string_length-2] + '+' + \\\n",
    "                                             df_cis['Stationing (ft)'][i]\\\n",
    "                                             [string_length-2:]\n",
    "        # Calculates distance between GPS coordinates and stationing (ft)\n",
    "        try:\n",
    "            df_cis['Distance (ft)'][i+1] = \\\n",
    "            VincentyInverse([df_cis['Latitude'][i],\n",
    "                             df_cis['Longitude'][i]],\n",
    "                            [df_cis['Latitude'][i+1],\n",
    "                             df_cis['Longitude'][i+1]]).ft\n",
    "        except ZeroDivisionError:\n",
    "            df_cis['Distance (ft)'][i+1] = 0\n",
    "        i += 1\n",
    "    # Calculate stationing (ft) value of last row\n",
    "    df_cis['Stationing (ft)'][i] = starting_stationing+\\\n",
    "                                       df_cis['Station'][i]\n",
    "    df_cis['Stationing (ft)'][i] = str(df_cis['Stationing (ft)'][i])\\\n",
    "        .split('.')[0]\n",
    "    string_length = len(df_cis['Stationing (ft)'][i])\n",
    "    df_cis['Stationing (ft)'][i] = df_cis['Stationing (ft)'][i]\\\n",
    "                                         [:string_length-2] + '+' + \\\n",
    "                                         df_cis['Stationing (ft)'][i]\\\n",
    "                                         [string_length-2:]\n",
    "    # Records total miles in a list\n",
    "    total_miles_list.append(max(df_cis['Station'])/5280)\n",
    "    df_cis.to_csv(root_path +\n",
    "                  str(Path(r'/Data/' +\n",
    "                           filtered_data_list[j])), index=False)\n",
    "    i = 0\n",
    "    j += 1"
   ],
   "metadata": {
    "collapsed": false,
    "pycharm": {
     "name": "#%%\n"
    }
   }
  },
  {
   "cell_type": "markdown",
   "source": [
    "# Create Google Earth Folders"
   ],
   "metadata": {
    "collapsed": false,
    "pycharm": {
     "name": "#%% md\n"
    }
   }
  },
  {
   "cell_type": "code",
   "execution_count": 98,
   "outputs": [],
   "source": [
    "# Replaces output folder with an empty one\n",
    "if os.path.exists(root_path + r'/Output/'):\n",
    "    shutil.rmtree(root_path + r'/Output/')\n",
    "    os.makedirs(root_path + r'/Output/')\n",
    "if not os.path.exists(root_path + r'/Output/'):\n",
    "    os.makedirs(root_path + r'/Output/')"
   ],
   "metadata": {
    "collapsed": false,
    "pycharm": {
     "name": "#%%\n"
    }
   }
  },
  {
   "cell_type": "code",
   "execution_count": 99,
   "outputs": [],
   "source": [
    "cis_kml =[]\n",
    "type_folders = []\n",
    "current_mile = 1\n",
    "k = 0       # List counter for type folders\n",
    "j = 0       # List counter for '.csv' files\n",
    "i = 0       # List counter for '.kml' files based on miles"
   ],
   "metadata": {
    "collapsed": false,
    "pycharm": {
     "name": "#%%\n"
    }
   }
  },
  {
   "cell_type": "code",
   "execution_count": 100,
   "outputs": [],
   "source": [
    "# Create CIS survey '.kml' files per mile #\n",
    "while j < len(total_miles_list):\n",
    "    miles_remaining = round(total_miles_list[j], 2)\n",
    "    # Create type folders\n",
    "    while miles_remaining > 0:\n",
    "        cis_kml.append(filtered_data_list[j].split('.csv', 1)[0] +\n",
    "                       ' (Mile ' + current_mile.__str__() + ')')\n",
    "        cis_kml[i] = simplekml.Kml()\n",
    "        type_folders.append(filtered_data_list[j].split('.CSV', 1)[0] +\n",
    "                            ' (Mile ' + current_mile.__str__() + ')(On)')\n",
    "        type_folders.append(filtered_data_list[j].split('.CSV', 1)[0] +\n",
    "                            ' (Mile ' + current_mile.__str__() + ')(Off)')\n",
    "        type_folders.append(filtered_data_list[j].split('.CSV', 1)[0] +\n",
    "                            ' (Mile ' + current_mile.__str__() + ')(Comments)')\n",
    "        type_folders.append(filtered_data_list[j].split('.CSV', 1)[0] +\n",
    "                            ' (Mile ' + current_mile.__str__() + ')(-1.2 V)')\n",
    "        type_folders.append(filtered_data_list[j].split('.CSV', 1)[0] +\n",
    "                            ' (Mile ' + current_mile.__str__() + ')(-0.85 V)')\n",
    "        type_folders[k] = cis_kml[i].newfolder(name='On')\n",
    "        type_folders[k+1] = cis_kml[i].newfolder(name='Off')\n",
    "        type_folders[k+2] = cis_kml[i].newfolder(name='Comments')\n",
    "        type_folders[k+3] = cis_kml[i].newfolder(name='-1.2 V')\n",
    "        type_folders[k+4] = cis_kml[i].newfolder(name='-0.85 V')\n",
    "        cis_kml[i].savekmz(root_path + r'/Output/' +\n",
    "                           filtered_data_list[j].split('.CSV', 1)[0] +\n",
    "                           ' (Mile ' + current_mile.__str__() + ').kmz')\n",
    "        current_mile += 1\n",
    "        miles_remaining -= 1\n",
    "        if 0 < miles_remaining < 1:\n",
    "            current_mile = round(total_miles_list[j], 2)\n",
    "        i += 1\n",
    "        k += 5\n",
    "    j += 1\n",
    "    current_mile = 1"
   ],
   "metadata": {
    "collapsed": false,
    "pycharm": {
     "name": "#%%\n"
    }
   }
  },
  {
   "cell_type": "code",
   "execution_count": 101,
   "outputs": [],
   "source": [
    "# Duplicated GPS coordinates\n",
    "#df = df_cis_on[df_cis_on.duplicated(subset=['Longitude', 'Latitude'],\n",
    "                                    #keep=False)]"
   ],
   "metadata": {
    "collapsed": false,
    "pycharm": {
     "name": "#%%\n"
    }
   }
  },
  {
   "cell_type": "markdown",
   "source": [
    "# CIS Data"
   ],
   "metadata": {
    "collapsed": false,
    "pycharm": {
     "name": "#%% md\n"
    }
   }
  },
  {
   "cell_type": "markdown",
   "source": [
    "## On"
   ],
   "metadata": {
    "collapsed": false,
    "pycharm": {
     "name": "#%% md\n"
    }
   }
  },
  {
   "cell_type": "code",
   "execution_count": 102,
   "outputs": [],
   "source": [
    "feet_counter = 5280\n",
    "style = simplekml.Style()\n",
    "i = 0       # Loop counter for rows\n",
    "j = 0       # Loop counter for '.CSV' files\n",
    "k = 0       # Loop counter for type folders (0 = 'On')\n",
    "kml_file = 0        #\n",
    "\n",
    "# Goes through all '.CSV' files\n",
    "while j < len(filtered_data_list):\n",
    "    df_cis_on = pd.read_csv(root_path + r'/Data/' + filtered_data_list[j])\n",
    "    df_cis_on = df_cis_on[df_cis_on['On Potential'] != 0]\n",
    "    df_cis_on = df_cis_on[['Station', 'Stationing (ft)', 'Longitude',\n",
    "                           'Latitude', 'On Potential']].reset_index(drop=True)\n",
    "    df_cis_on['On Potential'] = df_cis_on['On Potential']*(-1)\n",
    "    last_index = df_cis_on.last_valid_index()\n",
    "    miles_remaining = round(total_miles_list[j], 2)\n",
    "    # Create '.kml' files for each mile #\n",
    "    while miles_remaining > 0:\n",
    "        # Create 3D data points\n",
    "        while i <= last_index and df_cis_on.loc[i, 'Station'] < feet_counter:\n",
    "            pnt = type_folders[k]\\\n",
    "                .newpoint(name=df_cis_on.loc[i, 'On Potential']*(-1),\n",
    "                          visibility=data_visibility)\n",
    "            pnt.style.balloonstyle.text = \\\n",
    "                'Potential: -{} V\\nLongitude: {}\\nLatitude: {}\\n'\\\n",
    "                'Station (ft): {}'\\\n",
    "                    .format(df_cis_on.loc[i, 'On Potential'],\n",
    "                            df_cis_on.loc[i, 'Longitude'],\n",
    "                            df_cis_on.loc[i, 'Latitude'],\n",
    "                            df_cis_on.loc[i, 'Stationing (ft)'])\n",
    "            pnt.coords = [(df_cis_on.loc[i, 'Longitude'],\n",
    "                           df_cis_on.loc[i, 'Latitude'],\n",
    "                           df_cis_on.loc[i, 'On Potential']*scale_factor)]\n",
    "            pnt.altitudemode = simplekml.AltitudeMode.relativetoground\n",
    "            pnt.style.iconstyle.icon.href = icon_on\n",
    "            pnt.style.iconstyle.scale = icon_scale\n",
    "            pnt.style.labelstyle.scale = 0\n",
    "            pnt.extrude = 0\n",
    "            i += 1\n",
    "        cis_kml[kml_file].savekmz(root_path + r'/Output/' +\n",
    "                           filtered_data_list[j].split('.CSV', 1)[0] +\n",
    "                           ' (Mile ' + current_mile.__str__() + ').kmz')\n",
    "        current_mile += 1\n",
    "        miles_remaining -= 1\n",
    "        if 0 < miles_remaining < 1:\n",
    "            current_mile = round(total_miles_list[j], 2)\n",
    "        feet_counter += 5280\n",
    "        k += 5\n",
    "        kml_file += 1\n",
    "    # Reset variables for next CIS survey\n",
    "    feet_counter = 5280\n",
    "    current_mile = 1\n",
    "    i = 0\n",
    "    j += 1\n",
    "j = 0\n",
    "kml_file = 0"
   ],
   "metadata": {
    "collapsed": false,
    "pycharm": {
     "name": "#%%\n"
    }
   }
  },
  {
   "cell_type": "markdown",
   "source": [
    "## Off"
   ],
   "metadata": {
    "collapsed": false,
    "pycharm": {
     "name": "#%% md\n"
    }
   }
  },
  {
   "cell_type": "code",
   "execution_count": 103,
   "outputs": [],
   "source": [
    "k = 1       # Loop counter for type folders (1 = 'Off')\n",
    "\n",
    "# Goes through all '.CSV' files\n",
    "while j < len(filtered_data_list):\n",
    "    df_cis_off = pd.read_csv(root_path + r'/Data/' + filtered_data_list[j])\n",
    "    df_cis_off = df_cis_off[df_cis_off['Off Potential'] != 0]\n",
    "    df_cis_off = df_cis_off[['Station', 'Stationing (ft)',\n",
    "                             'Longitude', 'Latitude',\n",
    "                             'Off Potential']].reset_index(drop=True)\n",
    "    df_cis_off['Off Potential'] = df_cis_off['Off Potential']*(-1)\n",
    "    last_index = df_cis_off.last_valid_index()\n",
    "    miles_remaining = round(total_miles_list[j], 2)\n",
    "    # Create '.kml' files for each mile #\n",
    "    while miles_remaining > 0:\n",
    "        # Create 3D data points\n",
    "        while i <= last_index and df_cis_off.loc[i, 'Station'] < feet_counter:\n",
    "            pnt = type_folders[k]\\\n",
    "                .newpoint(name=df_cis_off.loc[i, 'Off Potential']*(-1),\n",
    "                          visibility=data_visibility)\n",
    "            pnt.style.balloonstyle.text = \\\n",
    "                'Potential: -{} V\\nLongitude: {}\\nLatitude: {}\\n'\\\n",
    "                'Station (ft): {}'\\\n",
    "                    .format(df_cis_off.loc[i, 'Off Potential'],\n",
    "                            df_cis_off.loc[i, 'Longitude'],\n",
    "                            df_cis_off.loc[i, 'Latitude'],\n",
    "                            df_cis_off.loc[i, 'Stationing (ft)'])\n",
    "            pnt.coords = [(df_cis_off.loc[i, 'Longitude'],\n",
    "                           df_cis_off.loc[i, 'Latitude'],\n",
    "                           df_cis_off.loc[i, 'Off Potential']*scale_factor)]\n",
    "            pnt.altitudemode = simplekml.AltitudeMode.relativetoground\n",
    "            pnt.style.iconstyle.icon.href = icon_off\n",
    "            pnt.style.iconstyle.scale = icon_scale\n",
    "            pnt.style.labelstyle.scale = 0\n",
    "            pnt.extrude = 0\n",
    "            i += 1\n",
    "        cis_kml[kml_file].savekmz(root_path + r'/Output/' +\n",
    "                           filtered_data_list[j].split('.CSV', 1)[0] +\n",
    "                           ' (Mile ' + current_mile.__str__() + ').kmz')\n",
    "        current_mile += 1\n",
    "        miles_remaining -= 1\n",
    "        if 0 < miles_remaining < 1:\n",
    "            current_mile = round(total_miles_list[j], 2)\n",
    "        feet_counter += 5280\n",
    "        k += 5\n",
    "        kml_file += 1\n",
    "    # Reset variables for next CIS survey\n",
    "    feet_counter = 5280\n",
    "    current_mile = 1\n",
    "    i = 0\n",
    "    j += 1\n",
    "j = 0\n",
    "kml_file = 0"
   ],
   "metadata": {
    "collapsed": false,
    "pycharm": {
     "name": "#%%\n"
    }
   }
  },
  {
   "cell_type": "markdown",
   "source": [
    "## Comments"
   ],
   "metadata": {
    "collapsed": false,
    "pycharm": {
     "name": "#%% md\n"
    }
   }
  },
  {
   "cell_type": "code",
   "execution_count": 104,
   "outputs": [],
   "source": [
    "k = 2       # Loop counter for type folders (2 = 'Comments')\n",
    "\n",
    "# Goes through all '.CSV' files\n",
    "while j < len(filtered_data_list):\n",
    "    df_cis_comments = pd.read_csv(root_path + r'/Data/' + filtered_data_list[j])\n",
    "    df_cis_comments.dropna(inplace=True)\n",
    "    df_cis_comments.reset_index(drop=True, inplace=True)\n",
    "    last_index = df_cis_comments.last_valid_index()\n",
    "    miles_remaining = round(total_miles_list[j], 2)\n",
    "    # Create '.kml' files for each mile #\n",
    "    while miles_remaining > 0:\n",
    "        # Create 3D data points\n",
    "        while i <= last_index and df_cis_comments.loc[i, 'Station'] < \\\n",
    "                feet_counter:\n",
    "            pnt = type_folders[k]\\\n",
    "                .newpoint(name=df_cis_comments.loc[i,'Comments'],\n",
    "                          visibility=data_visibility)\n",
    "            if df_cis_comments.loc[i, 'On Potential'] == 0:\n",
    "                potential = df_cis_comments.loc[i, 'Off Potential'].__str__()\\\n",
    "                            + ' V (Off)'\n",
    "            else:\n",
    "                potential = df_cis_comments.loc[i, 'On Potential'].__str__() \\\n",
    "                            + ' V (On)'\n",
    "            pnt.style.balloonstyle.text = \\\n",
    "                'Potential: {}\\nLongitude: {}\\nLatitude: {}\\n' \\\n",
    "                'Station (ft): {}\\nComment: {}'\\\n",
    "                    .format(potential,\n",
    "                            df_cis_comments.loc[i, 'Longitude'],\n",
    "                            df_cis_comments.loc[i, 'Latitude'],\n",
    "                            df_cis_comments.loc[i, 'Stationing (ft)'],\n",
    "                            df_cis_comments.loc[i, 'Comments'])\n",
    "            pnt.coords = [(df_cis_comments.loc[i, 'Longitude'],\n",
    "                           df_cis_comments.loc[i, 'Latitude'],\n",
    "                           0)]\n",
    "            pnt.altitudemode = simplekml.AltitudeMode.relativetoground\n",
    "            pnt.style.iconstyle.icon.href = icon_comments\n",
    "            pnt.style.iconstyle.scale = icon_scale*1.5\n",
    "            pnt.style.labelstyle.scale = 0.5\n",
    "            #pnt.extrude = 0\n",
    "            i += 1\n",
    "        cis_kml[kml_file].savekmz(root_path + r'/Output/' +\n",
    "                           filtered_data_list[j].split('.CSV', 1)[0] +\n",
    "                           ' (Mile ' + current_mile.__str__() + ').kmz')\n",
    "        current_mile += 1\n",
    "        miles_remaining -= 1\n",
    "        if 0 < miles_remaining < 1:\n",
    "            current_mile = round(total_miles_list[j], 2)\n",
    "        feet_counter += 5280\n",
    "        k += 5\n",
    "        kml_file += 1\n",
    "    # Reset variables for next CIS survey\n",
    "    feet_counter = 5280\n",
    "    current_mile = 1\n",
    "    i = 0\n",
    "    j += 1\n",
    "j = 0\n",
    "kml_file = 0"
   ],
   "metadata": {
    "collapsed": false,
    "pycharm": {
     "name": "#%%\n"
    }
   }
  },
  {
   "cell_type": "markdown",
   "source": [
    "## -1.2 V"
   ],
   "metadata": {
    "collapsed": false,
    "pycharm": {
     "name": "#%% md\n"
    }
   }
  },
  {
   "cell_type": "code",
   "execution_count": 105,
   "outputs": [],
   "source": [
    "k = 3       # Loop counter for type folders (3 = '-1.2 V')\n",
    "\n",
    "# Goes through all '.CSV' files\n",
    "while j < len(filtered_data_list):\n",
    "    df_cis_1200 = pd.read_csv(root_path + r'/Data/' + filtered_data_list[j])\n",
    "    last_index = df_cis_1200.last_valid_index()\n",
    "    miles_remaining = round(total_miles_list[j], 2)\n",
    "    # Create '.kml' files for each mile #\n",
    "    while miles_remaining > 0:\n",
    "        # Create 3D data points\n",
    "        while i <= last_index and df_cis_1200.loc[i, 'Station'] < \\\n",
    "                feet_counter:\n",
    "            pnt = type_folders[k].newpoint(name='-1.200',\n",
    "                                           visibility=data_visibility)\n",
    "            pnt.style.balloonstyle.text = 'Potential: -1.2 V'\n",
    "            pnt.coords = [(df_cis_1200.loc[i, 'Longitude'],\n",
    "                           df_cis_1200.loc[i, 'Latitude'],\n",
    "                           1.2*scale_factor)]\n",
    "            pnt.altitudemode = simplekml.AltitudeMode.relativetoground\n",
    "            pnt.style.iconstyle.icon.href = icon_1200\n",
    "            pnt.style.iconstyle.scale = icon_scale\n",
    "            pnt.style.labelstyle.scale = 0\n",
    "            pnt.extrude = 0\n",
    "            i += 1\n",
    "        cis_kml[kml_file].savekmz(root_path + r'/Output/' +\n",
    "                           filtered_data_list[j].split('.CSV', 1)[0] +\n",
    "                           ' (Mile ' + current_mile.__str__() + ').kmz')\n",
    "        current_mile += 1\n",
    "        miles_remaining -= 1\n",
    "        if 0 < miles_remaining < 1:\n",
    "            current_mile = round(total_miles_list[j], 2)\n",
    "        feet_counter += 5280\n",
    "        k += 5\n",
    "        kml_file += 1\n",
    "    # Reset variables for next CIS survey\n",
    "    feet_counter = 5280\n",
    "    current_mile = 1\n",
    "    i = 0\n",
    "    j += 1\n",
    "j = 0\n",
    "kml_file = 0"
   ],
   "metadata": {
    "collapsed": false,
    "pycharm": {
     "name": "#%%\n"
    }
   }
  },
  {
   "cell_type": "markdown",
   "source": [
    "## -0.85 V"
   ],
   "metadata": {
    "collapsed": false,
    "pycharm": {
     "name": "#%% md\n"
    }
   }
  },
  {
   "cell_type": "code",
   "execution_count": 106,
   "outputs": [],
   "source": [
    "k = 4       # Loop counter for type folders (4 = '-0.85 V')\n",
    "\n",
    "# Goes through all '.CSV' files\n",
    "while j < len(filtered_data_list):\n",
    "    df_cis_850 = pd.read_csv(root_path + r'/Data/' + filtered_data_list[j])\n",
    "    last_index = df_cis_850.last_valid_index()\n",
    "    miles_remaining = round(total_miles_list[j], 2)\n",
    "    # Create '.kml' files for each mile #\n",
    "    while miles_remaining > 0:\n",
    "        # Create 3D data points\n",
    "        while i <= last_index and df_cis_850.loc[i, 'Station'] < \\\n",
    "                feet_counter:\n",
    "            pnt = type_folders[k].newpoint(name='-0.850',\n",
    "                                           visibility=data_visibility)\n",
    "            pnt.style.balloonstyle.text = 'Potential: -0.85 V'\n",
    "            pnt.coords = [(df_cis_850.loc[i, 'Longitude'],\n",
    "                           df_cis_850.loc[i, 'Latitude'],\n",
    "                           0.85*scale_factor)]\n",
    "            pnt.altitudemode = simplekml.AltitudeMode.relativetoground\n",
    "            pnt.style.iconstyle.icon.href = icon_850\n",
    "            pnt.style.iconstyle.scale = icon_scale\n",
    "            pnt.style.labelstyle.scale = 0\n",
    "            pnt.extrude = 1\n",
    "            pnt.style.linestyle.width = 0.01\n",
    "            pnt.style.linestyle.color = \\\n",
    "                simplekml.Color.rgb(255, 255, 255, round(255*0.15))\n",
    "            i += 1\n",
    "        cis_kml[kml_file].savekmz(root_path + r'/Output/' +\n",
    "                           filtered_data_list[j].split('.CSV', 1)[0] +\n",
    "                           ' (Mile ' + current_mile.__str__() + ').kmz')\n",
    "        current_mile += 1\n",
    "        miles_remaining -= 1\n",
    "        if 0 < miles_remaining < 1:\n",
    "            current_mile = round(total_miles_list[j], 2)\n",
    "        feet_counter += 5280\n",
    "        k += 5\n",
    "        kml_file += 1\n",
    "    # Reset variables for next CIS survey\n",
    "    feet_counter = 5280\n",
    "    current_mile = 1\n",
    "    i = 0\n",
    "    j += 1\n",
    "j = 0\n",
    "kml_file = 0"
   ],
   "metadata": {
    "collapsed": false,
    "pycharm": {
     "name": "#%%\n"
    }
   }
  },
  {
   "cell_type": "markdown",
   "source": [
    "# Areas of Interest"
   ],
   "metadata": {
    "collapsed": false,
    "pycharm": {
     "name": "#%% md\n"
    }
   }
  },
  {
   "cell_type": "markdown",
   "source": [
    "## Less Negative than -0.85V \"On\""
   ],
   "metadata": {
    "collapsed": false,
    "pycharm": {
     "name": "#%% md\n"
    }
   }
  },
  {
   "cell_type": "code",
   "execution_count": 107,
   "outputs": [],
   "source": [
    "# Combines all '.CSV' files at specified folder\n",
    "df_cis_filtered = pd.concat(map(pd.read_csv,\n",
    "                                glob.glob(root_path + r'/Data/*.CSV')),\n",
    "                            ignore_index = True)\n",
    "df_cis_filtered = df_cis_filtered[df_cis_filtered['On Potential'] != 0]\n",
    "df_cis_filtered = df_cis_filtered[['Station', 'Stationing (ft)', 'Longitude',\n",
    "                                   'Latitude',\n",
    "                                   'On Potential']].reset_index(drop=True)\n",
    "df_cis_filtered['Crossing Point'] = ''\n",
    "last_index = df_cis_filtered.last_valid_index()"
   ],
   "metadata": {
    "collapsed": false,
    "pycharm": {
     "name": "#%%\n"
    }
   }
  },
  {
   "cell_type": "code",
   "execution_count": 108,
   "outputs": [],
   "source": [
    "i = 1       # Loop counter for rows\n",
    "\n",
    "# Finds crossing points\n",
    "while i < last_index:\n",
    "    if ((df_cis_filtered.loc[i-1, 'On Potential'] > -0.85) and\n",
    "        (df_cis_filtered.loc[i, 'On Potential'] < -0.85) and\n",
    "        (df_cis_filtered.loc[i+1, 'On Potential'] > -0.85) and\n",
    "        i >= 1):\n",
    "        df_cis_filtered.loc[i, 'Crossing Point'] = 'XX'\n",
    "    elif ((df_cis_filtered.loc[i+1, 'On Potential'] > -0.85) and\n",
    "        (df_cis_filtered.loc[i, 'On Potential'] < -0.85)):\n",
    "        df_cis_filtered.loc[i, 'Crossing Point'] = 'X'\n",
    "    elif ((df_cis_filtered.loc[i+1, 'On Potential'] < -0.85) and\n",
    "          (df_cis_filtered.loc[i, 'On Potential'] > -0.85)):\n",
    "        df_cis_filtered.loc[i+1, 'Crossing Point'] = 'X'\n",
    "    i += 1\n",
    "df_cis_filtered = df_cis_filtered[df_cis_filtered['Crossing Point'] != '']\\\n",
    "    .reset_index(drop=True)"
   ],
   "metadata": {
    "collapsed": false,
    "pycharm": {
     "name": "#%%\n"
    }
   }
  },
  {
   "cell_type": "code",
   "execution_count": 109,
   "outputs": [],
   "source": [
    "if df_cis_filtered.shape[0] != 0:\n",
    "    # Replicates rows that have 'XX'\n",
    "    df_cis_filtered = df_cis_filtered.loc[df_cis_filtered.index\n",
    "        .repeat(df_cis_filtered['Crossing Point']\n",
    "                .isin(['XX']).add(1))].reset_index(drop=True)\n",
    "    last_index = int((df_cis_filtered.last_valid_index()+1)/2)\n",
    "    # Create report dataframe\n",
    "    df_cis_report = pd.DataFrame(index=np.arange(last_index),\n",
    "                                 columns=['Station', 'Station Number',\n",
    "                                          'Latitude', 'Longitude',\n",
    "                                          'Station', 'Station Number',\n",
    "                                          'Latitude', 'Longitude'])\n",
    "    df_cis_report['Length (ft)'] = 0.0\n",
    "    df_cis_report['Comments'] = ''\n",
    "\n",
    "    i = 0       #\n",
    "    j = 0       #\n",
    "\n",
    "    # Structure data\n",
    "    while j < int((df_cis_filtered.last_valid_index()+1)/2):\n",
    "        # Start\n",
    "        df_cis_report.iloc[j, 0] = df_cis_filtered.loc[i, 'Station']\n",
    "        df_cis_report.iloc[j, 1] = df_cis_filtered.loc[i, 'Stationing (ft)']\n",
    "        df_cis_report.iloc[j, 2] = df_cis_filtered.loc[i, 'Latitude']\n",
    "        df_cis_report.iloc[j, 3] = df_cis_filtered.loc[i, 'Longitude']\n",
    "        # End\n",
    "        df_cis_report.iloc[j, 4] = df_cis_filtered.loc[i+1, 'Station']\n",
    "        df_cis_report.iloc[j, 5] = df_cis_filtered.loc[i+1, 'Stationing (ft)']\n",
    "        df_cis_report.iloc[j, 6] = df_cis_filtered.loc[i+1, 'Latitude']\n",
    "        df_cis_report.iloc[j, 7] = df_cis_filtered.loc[i+1, 'Longitude']\n",
    "        # Length\n",
    "        df_cis_report.iloc[j, 8] = df_cis_report.iloc[j, 4] - \\\n",
    "                                   df_cis_report.iloc[j, 0]\n",
    "        j += 1\n",
    "        i += 2\n",
    "\n",
    "    # Deletes station columns\n",
    "    df_cis_report = df_cis_report.drop(df_cis_report.iloc[:, [0, 4]], axis=1)\n",
    "    # Saves to excel\n",
    "    with pd.ExcelWriter(root_path + r'/Output/CIS Exception Report (' +\n",
    "                        filtered_data_list[0].split()[0] + ').xlsx',\n",
    "                        mode='w', engine='openpyxl') as writer:\n",
    "        df_cis_report.to_excel(writer, startrow=4,\n",
    "                               sheet_name='Less Negative than -0.85V (On)',\n",
    "                               index=False)"
   ],
   "metadata": {
    "collapsed": false,
    "pycharm": {
     "name": "#%%\n"
    }
   }
  },
  {
   "cell_type": "code",
   "execution_count": 110,
   "outputs": [],
   "source": [
    "if df_cis_filtered.shape[0] != 0:\n",
    "    wb = load_workbook(root_path + r'/Output/CIS Exception Report (' +\n",
    "                             filtered_data_list[0].split()[0] + ').xlsx')\n",
    "    sheet = wb['Less Negative than -0.85V (On)']\n",
    "    # Company name with pipeline ID\n",
    "    sheet.cell(1, 1).value = company_name + ' (' + \\\n",
    "                             filtered_data_list[0].split()[0] + ')'\n",
    "    # Station numbers surveyed\n",
    "    sheet.cell(2, 1).value = filtered_data_list[0].split()[1] + ' to ' + \\\n",
    "                             filtered_data_list[0].split()[3].split('.CSV')[0]\n",
    "    # Start\n",
    "    sheet.cell(4, 1).value = 'Start'\n",
    "    # End\n",
    "    sheet.cell(4, 4).value = 'End'\n",
    "    # Total pipeline distance with issues\n",
    "    sheet.cell(last_index+7, 1).value = 'Total pipeline distance ' \\\n",
    "                                        'surveyed = ' + \\\n",
    "                                        str(sum(total_miles_list*5280)) + \\\n",
    "                                        ' feet or ' + \\\n",
    "                                        str(round(sum(total_miles_list), 2)) + \\\n",
    "                                        ' miles'\n",
    "    sheet.cell(last_index+8, 1).value = 'Total pipeline distance less ' \\\n",
    "                                        'negative than -0.85V \"On\" = ' + \\\n",
    "                                        str(df_cis_report['Length (ft)']\n",
    "                                            .sum()) + ' feet (' + \\\n",
    "                                        str(round(df_cis_report['Length (ft)']\n",
    "                                                  .sum()/\\\n",
    "                                        sum(total_miles_list*5280), 2)) + ' %)'"
   ],
   "metadata": {
    "collapsed": false,
    "pycharm": {
     "name": "#%%\n"
    }
   }
  },
  {
   "cell_type": "code",
   "execution_count": 111,
   "outputs": [],
   "source": [
    "if df_cis_filtered.shape[0] != 0:\n",
    "    # Font\n",
    "    sheet.cell(1, 1).font = Font(size=14, bold=True)\n",
    "    sheet.cell(2, 1).font = Font(italic=True)\n",
    "    sheet.cell(4, 1).font = Font(bold=True)\n",
    "    sheet.cell(4, 4).font = Font(bold=True)\n",
    "    sheet.cell(4, 7).font = Font(bold=True)\n",
    "    sheet.cell(4, 8).font = Font(bold=True)\n",
    "    sheet.cell(last_index+7, 1).font = Font(bold=True)\n",
    "    sheet.cell(last_index+8, 1).font = Font(bold=True)\n",
    "    # Merging\n",
    "    sheet.merge_cells('A1:H1')\n",
    "    sheet.merge_cells('A2:H2')\n",
    "    sheet.merge_cells('A4:C4')\n",
    "    sheet.merge_cells('D4:F4')\n",
    "    sheet.cell(4, 7).value = sheet.cell(5, 7).value\n",
    "    sheet.merge_cells('G4:G5')\n",
    "    sheet.cell(4, 8).value = sheet.cell(5, 8).value\n",
    "    sheet.merge_cells('H4:H5')\n",
    "    # Alignment\n",
    "    i = 0\n",
    "\n",
    "    while i < (last_index+5):\n",
    "        for c in sheet['A1:H' + str(last_index + 5)][i]:\n",
    "            c.alignment = Alignment(horizontal='center', vertical='center')\n",
    "        i += 1\n",
    "    # Borders\n",
    "    i = 0\n",
    "    thin = Side(border_style='thin', color='000000')\n",
    "    white_border = Side(border_style='thin', color='FFFFFF')\n",
    "\n",
    "    while i < (last_index + 5):\n",
    "        # 3rd row\n",
    "        if i == 2:\n",
    "            for c in sheet['A1:H' + str(last_index + 5)][i]:\n",
    "                c.border = Border(left=white_border, right=white_border)\n",
    "            i += 1\n",
    "        for c in sheet['A1:H' + str(last_index + 5)][i]:\n",
    "            c.border = Border(top=thin, left=thin, right=thin, bottom=thin)\n",
    "        i += 1\n",
    "    # Column widths\n",
    "    sheet.column_dimensions['A'].width = 15\n",
    "    sheet.column_dimensions['B'].width = 15\n",
    "    sheet.column_dimensions['C'].width = 15\n",
    "    sheet.column_dimensions['D'].width = 15\n",
    "    sheet.column_dimensions['E'].width = 15\n",
    "    sheet.column_dimensions['F'].width = 15\n",
    "    sheet.column_dimensions['G'].width = 15\n",
    "    sheet.column_dimensions['H'].width = 50"
   ],
   "metadata": {
    "collapsed": false,
    "pycharm": {
     "name": "#%%\n"
    }
   }
  },
  {
   "cell_type": "code",
   "execution_count": 112,
   "outputs": [],
   "source": [
    "if df_cis_filtered.shape[0] != 0:\n",
    "    wb.save(root_path + r'/Output/CIS Exception Report (' +\n",
    "            filtered_data_list[0].split()[0] + ').xlsx')"
   ],
   "metadata": {
    "collapsed": false,
    "pycharm": {
     "name": "#%%\n"
    }
   }
  },
  {
   "cell_type": "markdown",
   "source": [
    "## Less Negative than -0.85V \"Off\""
   ],
   "metadata": {
    "collapsed": false,
    "pycharm": {
     "name": "#%% md\n"
    }
   }
  },
  {
   "cell_type": "code",
   "execution_count": 113,
   "outputs": [],
   "source": [
    "# Combines all '.CSV' files at specified folder\n",
    "df_cis_filtered = pd.concat(map(pd.read_csv,\n",
    "                                glob.glob(root_path + r'/Data/*.CSV')),\n",
    "                            ignore_index = True)\n",
    "df_cis_filtered = df_cis_filtered[df_cis_filtered['Off Potential'] != 0]\n",
    "df_cis_filtered = df_cis_filtered[['Station', 'Stationing (ft)', 'Longitude',\n",
    "                                   'Latitude',\n",
    "                                   'Off Potential']].reset_index(drop=True)\n",
    "df_cis_filtered['Crossing Point'] = ''\n",
    "last_index = df_cis_filtered.last_valid_index()"
   ],
   "metadata": {
    "collapsed": false,
    "pycharm": {
     "name": "#%%\n"
    }
   }
  },
  {
   "cell_type": "code",
   "execution_count": 114,
   "outputs": [],
   "source": [
    "i = 1       # Loop counter for rows\n",
    "\n",
    "# Finds crossing points\n",
    "while i < last_index:\n",
    "    if ((df_cis_filtered.loc[i-1, 'Off Potential'] > -0.85) and\n",
    "        (df_cis_filtered.loc[i, 'Off Potential'] < -0.85) and\n",
    "        (df_cis_filtered.loc[i+1, 'Off Potential'] > -0.85) and\n",
    "        i >= 1):\n",
    "        df_cis_filtered.loc[i, 'Crossing Point'] = 'XX'\n",
    "    elif ((df_cis_filtered.loc[i+1, 'Off Potential'] > -0.85) and\n",
    "        (df_cis_filtered.loc[i, 'Off Potential'] < -0.85)):\n",
    "        df_cis_filtered.loc[i, 'Crossing Point'] = 'X'\n",
    "    elif ((df_cis_filtered.loc[i+1, 'Off Potential'] < -0.85) and\n",
    "          (df_cis_filtered.loc[i, 'Off Potential'] > -0.85)):\n",
    "        df_cis_filtered.loc[i+1, 'Crossing Point'] = 'X'\n",
    "    i += 1\n",
    "df_cis_filtered = df_cis_filtered[df_cis_filtered['Crossing Point'] != '']\\\n",
    "    .reset_index(drop=True)"
   ],
   "metadata": {
    "collapsed": false,
    "pycharm": {
     "name": "#%%\n"
    }
   }
  },
  {
   "cell_type": "code",
   "execution_count": 115,
   "outputs": [],
   "source": [
    "if df_cis_filtered.shape[0] != 0:\n",
    "    # Replicates rows that have 'XX'\n",
    "    df_cis_filtered = df_cis_filtered.loc[df_cis_filtered.index\n",
    "        .repeat(df_cis_filtered['Crossing Point']\n",
    "                .isin(['XX']).add(1))].reset_index(drop=True)\n",
    "    last_index = int((df_cis_filtered.last_valid_index()+1)/2)\n",
    "    # Create report dataframe\n",
    "    df_cis_report = pd.DataFrame(index=np.arange(last_index),\n",
    "                                 columns=['Station', 'Station Number',\n",
    "                                          'Latitude', 'Longitude',\n",
    "                                          'Station', 'Station Number',\n",
    "                                          'Latitude', 'Longitude'])\n",
    "    df_cis_report['Length (ft)'] = 0.0\n",
    "    df_cis_report['Comments'] = ''\n",
    "\n",
    "    i = 0       #\n",
    "    j = 0       #\n",
    "\n",
    "    # Structure data\n",
    "    while j < int((df_cis_filtered.last_valid_index()+1)/2):\n",
    "        # Start\n",
    "        df_cis_report.iloc[j, 0] = df_cis_filtered.loc[i, 'Station']\n",
    "        df_cis_report.iloc[j, 1] = df_cis_filtered.loc[i, 'Stationing (ft)']\n",
    "        df_cis_report.iloc[j, 2] = df_cis_filtered.loc[i, 'Latitude']\n",
    "        df_cis_report.iloc[j, 3] = df_cis_filtered.loc[i, 'Longitude']\n",
    "        # End\n",
    "        df_cis_report.iloc[j, 4] = df_cis_filtered.loc[i+1, 'Station']\n",
    "        df_cis_report.iloc[j, 5] = df_cis_filtered.loc[i+1, 'Stationing (ft)']\n",
    "        df_cis_report.iloc[j, 6] = df_cis_filtered.loc[i+1, 'Latitude']\n",
    "        df_cis_report.iloc[j, 7] = df_cis_filtered.loc[i+1, 'Longitude']\n",
    "        # Length\n",
    "        df_cis_report.iloc[j, 8] = df_cis_report.iloc[j, 4] - \\\n",
    "                                   df_cis_report.iloc[j, 0]\n",
    "        j += 1\n",
    "        i += 2\n",
    "\n",
    "    # Deletes station columns\n",
    "    df_cis_report = df_cis_report.drop(df_cis_report.iloc[:, [0, 4]], axis=1)\n",
    "    # Saves to excel\n",
    "    writing_mode = 'w'\n",
    "    if os.path.exists(root_path + r'/Output/CIS Exception Report (' +\n",
    "                      filtered_data_list[0].split()[0] + ').xlsx'):\n",
    "        writing_mode = 'a'\n",
    "    with pd.ExcelWriter(root_path + r'/Output/CIS Exception Report (' +\n",
    "                        filtered_data_list[0].split()[0] + ').xlsx',\n",
    "                        mode=writing_mode, engine='openpyxl') as writer:\n",
    "        df_cis_report.to_excel(writer, startrow=4,\n",
    "                               sheet_name='Less Negative than -0.85V (Off)',\n",
    "                               index=False)"
   ],
   "metadata": {
    "collapsed": false,
    "pycharm": {
     "name": "#%%\n"
    }
   }
  },
  {
   "cell_type": "code",
   "execution_count": 116,
   "outputs": [],
   "source": [
    "if df_cis_filtered.shape[0] != 0:\n",
    "    wb = load_workbook(root_path + r'/Output/CIS Exception Report (' +\n",
    "                             filtered_data_list[0].split()[0] + ').xlsx')\n",
    "    sheet = wb['Less Negative than -0.85V (Off)']\n",
    "    # Company name with pipeline ID\n",
    "    sheet.cell(1, 1).value = company_name + ' (' + \\\n",
    "                             filtered_data_list[0].split()[0] + ')'\n",
    "    # Station numbers surveyed\n",
    "    sheet.cell(2, 1).value = filtered_data_list[0].split()[1] + ' to ' + \\\n",
    "                             filtered_data_list[0].split()[3].split('.CSV')[0]\n",
    "    # Start\n",
    "    sheet.cell(4, 1).value = 'Start'\n",
    "    # End\n",
    "    sheet.cell(4, 4).value = 'End'\n",
    "    # Total pipeline distance with issues\n",
    "    sheet.cell(last_index+7, 1).value = 'Total pipeline distance ' \\\n",
    "                                        'surveyed = ' + \\\n",
    "                                        str(sum(total_miles_list*5280)) + \\\n",
    "                                        ' feet or ' + \\\n",
    "                                        str(round(sum(total_miles_list), 2)) + \\\n",
    "                                        ' miles'\n",
    "    sheet.cell(last_index+8, 1).value = 'Total pipeline distance less ' \\\n",
    "                                        'negative than -0.85V \"Off\" = ' + \\\n",
    "                                        str(df_cis_report['Length (ft)']\n",
    "                                            .sum()) + ' feet (' + \\\n",
    "                                        str(round(df_cis_report['Length (ft)']\n",
    "                                                  .sum()/\\\n",
    "                                        sum(total_miles_list*5280), 2)) + ' %)'"
   ],
   "metadata": {
    "collapsed": false,
    "pycharm": {
     "name": "#%%\n"
    }
   }
  },
  {
   "cell_type": "code",
   "execution_count": 117,
   "outputs": [],
   "source": [
    "if df_cis_filtered.shape[0] != 0:\n",
    "    # Font\n",
    "    sheet.cell(1, 1).font = Font(size=14, bold=True)\n",
    "    sheet.cell(2, 1).font = Font(italic=True)\n",
    "    sheet.cell(4, 1).font = Font(bold=True)\n",
    "    sheet.cell(4, 4).font = Font(bold=True)\n",
    "    sheet.cell(4, 7).font = Font(bold=True)\n",
    "    sheet.cell(4, 8).font = Font(bold=True)\n",
    "    sheet.cell(last_index+7, 1).font = Font(bold=True)\n",
    "    sheet.cell(last_index+8, 1).font = Font(bold=True)\n",
    "    # Merging\n",
    "    sheet.merge_cells('A1:H1')\n",
    "    sheet.merge_cells('A2:H2')\n",
    "    sheet.merge_cells('A4:C4')\n",
    "    sheet.merge_cells('D4:F4')\n",
    "    sheet.cell(4, 7).value = sheet.cell(5, 7).value\n",
    "    sheet.merge_cells('G4:G5')\n",
    "    sheet.cell(4, 8).value = sheet.cell(5, 8).value\n",
    "    sheet.merge_cells('H4:H5')\n",
    "    # Alignment\n",
    "    i = 0\n",
    "\n",
    "    while i < (last_index+5):\n",
    "        for c in sheet['A1:H' + str(last_index + 5)][i]:\n",
    "            c.alignment = Alignment(horizontal='center', vertical='center')\n",
    "        i += 1\n",
    "    # Borders\n",
    "    i = 0\n",
    "    thin = Side(border_style='thin', color='000000')\n",
    "    white_border = Side(border_style='thin', color='FFFFFF')\n",
    "\n",
    "    while i < (last_index + 5):\n",
    "        # 3rd row\n",
    "        if i == 2:\n",
    "            for c in sheet['A1:H' + str(last_index + 5)][i]:\n",
    "                c.border = Border(left=white_border, right=white_border)\n",
    "            i += 1\n",
    "        for c in sheet['A1:H' + str(last_index + 5)][i]:\n",
    "            c.border = Border(top=thin, left=thin, right=thin, bottom=thin)\n",
    "        i += 1\n",
    "    # Column widths\n",
    "    sheet.column_dimensions['A'].width = 15\n",
    "    sheet.column_dimensions['B'].width = 15\n",
    "    sheet.column_dimensions['C'].width = 15\n",
    "    sheet.column_dimensions['D'].width = 15\n",
    "    sheet.column_dimensions['E'].width = 15\n",
    "    sheet.column_dimensions['F'].width = 15\n",
    "    sheet.column_dimensions['G'].width = 15\n",
    "    sheet.column_dimensions['H'].width = 50"
   ],
   "metadata": {
    "collapsed": false,
    "pycharm": {
     "name": "#%%\n"
    }
   }
  },
  {
   "cell_type": "code",
   "execution_count": 118,
   "outputs": [],
   "source": [
    "if df_cis_filtered.shape[0] != 0:\n",
    "    wb.save(root_path + r'/Output/CIS Exception Report (' +\n",
    "            filtered_data_list[0].split()[0] + ').xlsx')"
   ],
   "metadata": {
    "collapsed": false,
    "pycharm": {
     "name": "#%%\n"
    }
   }
  },
  {
   "cell_type": "markdown",
   "source": [
    "## More Negative than -1.2V \"Off\""
   ],
   "metadata": {
    "collapsed": false,
    "pycharm": {
     "name": "#%% md\n"
    }
   }
  },
  {
   "cell_type": "code",
   "execution_count": 119,
   "outputs": [],
   "source": [
    "# Combines all '.CSV' files at specified folder\n",
    "df_cis_filtered = pd.concat(map(pd.read_csv,\n",
    "                                glob.glob(root_path + r'/Data/*.CSV')),\n",
    "                            ignore_index = True)\n",
    "df_cis_filtered = df_cis_filtered[df_cis_filtered['Off Potential'] != 0]\n",
    "df_cis_filtered = df_cis_filtered[['Station', 'Stationing (ft)', 'Longitude',\n",
    "                                   'Latitude',\n",
    "                                   'Off Potential']].reset_index(drop=True)\n",
    "df_cis_filtered['Crossing Point'] = ''\n",
    "last_index = df_cis_filtered.last_valid_index()"
   ],
   "metadata": {
    "collapsed": false,
    "pycharm": {
     "name": "#%%\n"
    }
   }
  },
  {
   "cell_type": "code",
   "execution_count": 120,
   "outputs": [],
   "source": [
    "i = 1       # Loop counter for rows\n",
    "\n",
    "# Finds crossing points\n",
    "while i < last_index:\n",
    "    if ((df_cis_filtered.loc[i-1, 'Off Potential'] < -1.2) and\n",
    "        (df_cis_filtered.loc[i, 'Off Potential'] > -1.2) and\n",
    "        (df_cis_filtered.loc[i+1, 'Off Potential'] < -1.2) and\n",
    "        i >= 1):\n",
    "        df_cis_filtered.loc[i, 'Crossing Point'] = 'XX'\n",
    "    elif ((df_cis_filtered.loc[i+1, 'Off Potential'] < -1.2) and\n",
    "        (df_cis_filtered.loc[i, 'Off Potential'] > -1.2)):\n",
    "        df_cis_filtered.loc[i, 'Crossing Point'] = 'X'\n",
    "    elif ((df_cis_filtered.loc[i+1, 'Off Potential'] > -1.2) and\n",
    "          (df_cis_filtered.loc[i, 'Off Potential'] < -1.2)):\n",
    "        df_cis_filtered.loc[i+1, 'Crossing Point'] = 'X'\n",
    "    i += 1\n",
    "df_cis_filtered = df_cis_filtered[df_cis_filtered['Crossing Point'] != '']\\\n",
    "    .reset_index(drop=True)"
   ],
   "metadata": {
    "collapsed": false,
    "pycharm": {
     "name": "#%%\n"
    }
   }
  },
  {
   "cell_type": "code",
   "execution_count": 121,
   "outputs": [],
   "source": [
    "if df_cis_filtered.shape[0] != 0:\n",
    "    # Replicates rows that have 'XX'\n",
    "    df_cis_filtered = df_cis_filtered.loc[df_cis_filtered.index\n",
    "        .repeat(df_cis_filtered['Crossing Point']\n",
    "                .isin(['XX']).add(1))].reset_index(drop=True)\n",
    "    last_index = int((df_cis_filtered.last_valid_index()+1)/2)\n",
    "    # Create report dataframe\n",
    "    df_cis_report = pd.DataFrame(index=np.arange(last_index),\n",
    "                                 columns=['Station', 'Station Number',\n",
    "                                          'Latitude', 'Longitude',\n",
    "                                          'Station', 'Station Number',\n",
    "                                          'Latitude', 'Longitude'])\n",
    "    df_cis_report['Length (ft)'] = 0.0\n",
    "    df_cis_report['Comments'] = ''\n",
    "\n",
    "    i = 0       #\n",
    "    j = 0       #\n",
    "\n",
    "    # Structure data\n",
    "    while j < int((df_cis_filtered.last_valid_index()+1)/2):\n",
    "        # Start\n",
    "        df_cis_report.iloc[j, 0] = df_cis_filtered.loc[i, 'Station']\n",
    "        df_cis_report.iloc[j, 1] = df_cis_filtered.loc[i, 'Stationing (ft)']\n",
    "        df_cis_report.iloc[j, 2] = df_cis_filtered.loc[i, 'Latitude']\n",
    "        df_cis_report.iloc[j, 3] = df_cis_filtered.loc[i, 'Longitude']\n",
    "        # End\n",
    "        df_cis_report.iloc[j, 4] = df_cis_filtered.loc[i+1, 'Station']\n",
    "        df_cis_report.iloc[j, 5] = df_cis_filtered.loc[i+1, 'Stationing (ft)']\n",
    "        df_cis_report.iloc[j, 6] = df_cis_filtered.loc[i+1, 'Latitude']\n",
    "        df_cis_report.iloc[j, 7] = df_cis_filtered.loc[i+1, 'Longitude']\n",
    "        # Length\n",
    "        df_cis_report.iloc[j, 8] = df_cis_report.iloc[j, 4] - \\\n",
    "                                   df_cis_report.iloc[j, 0]\n",
    "        j += 1\n",
    "        i += 2\n",
    "\n",
    "    # Deletes station columns\n",
    "    df_cis_report = df_cis_report.drop(df_cis_report.iloc[:, [0, 4]], axis=1)\n",
    "    # Saves to excel\n",
    "    writing_mode = 'w'\n",
    "    if os.path.exists(root_path + r'/Output/CIS Exception Report (' +\n",
    "                      filtered_data_list[0].split()[0] + ').xlsx'):\n",
    "        writing_mode = 'a'\n",
    "    with pd.ExcelWriter(root_path + r'/Output/CIS Exception Report (' +\n",
    "                        filtered_data_list[0].split()[0] + ').xlsx',\n",
    "                        mode=writing_mode, engine='openpyxl') as writer:\n",
    "        df_cis_report.to_excel(writer, startrow=4,\n",
    "                               sheet_name='More Negative than -1.2V (Off)',\n",
    "                               index=False)"
   ],
   "metadata": {
    "collapsed": false,
    "pycharm": {
     "name": "#%%\n"
    }
   }
  },
  {
   "cell_type": "code",
   "execution_count": 122,
   "outputs": [],
   "source": [
    "if df_cis_filtered.shape[0] != 0:\n",
    "    wb = load_workbook(root_path + r'/Output/CIS Exception Report (' +\n",
    "                             filtered_data_list[0].split()[0] + ').xlsx')\n",
    "    sheet = wb['More Negative than -1.2V (Off)']\n",
    "    # Company name with pipeline ID\n",
    "    sheet.cell(1, 1).value = company_name + ' (' + \\\n",
    "                             filtered_data_list[0].split()[0] + ')'\n",
    "    # Station numbers surveyed\n",
    "    sheet.cell(2, 1).value = filtered_data_list[0].split()[1] + ' to ' + \\\n",
    "                             filtered_data_list[0].split()[3].split('.CSV')[0]\n",
    "    # Start\n",
    "    sheet.cell(4, 1).value = 'Start'\n",
    "    # End\n",
    "    sheet.cell(4, 4).value = 'End'\n",
    "    # Total pipeline distance with issues\n",
    "    sheet.cell(last_index+7, 1).value = 'Total pipeline distance ' \\\n",
    "                                        'surveyed = ' + \\\n",
    "                                        str(sum(total_miles_list*5280)) + \\\n",
    "                                        ' feet or ' + \\\n",
    "                                        str(round(sum(total_miles_list), 2)) + \\\n",
    "                                        ' miles'\n",
    "    sheet.cell(last_index+8, 1).value = 'Total pipeline distance more ' \\\n",
    "                                        'negative than -1.2V \"Off\" = ' + \\\n",
    "                                        str(df_cis_report['Length (ft)']\n",
    "                                            .sum()) + ' feet (' + \\\n",
    "                                        str(round(df_cis_report['Length (ft)']\n",
    "                                                  .sum()/\\\n",
    "                                        sum(total_miles_list*5280), 2)) + ' %)'"
   ],
   "metadata": {
    "collapsed": false,
    "pycharm": {
     "name": "#%%\n"
    }
   }
  },
  {
   "cell_type": "code",
   "execution_count": 123,
   "outputs": [],
   "source": [
    "if df_cis_filtered.shape[0] != 0:\n",
    "    # Font\n",
    "    sheet.cell(1, 1).font = Font(size=14, bold=True)\n",
    "    sheet.cell(2, 1).font = Font(italic=True)\n",
    "    sheet.cell(4, 1).font = Font(bold=True)\n",
    "    sheet.cell(4, 4).font = Font(bold=True)\n",
    "    sheet.cell(4, 7).font = Font(bold=True)\n",
    "    sheet.cell(4, 8).font = Font(bold=True)\n",
    "    sheet.cell(last_index+7, 1).font = Font(bold=True)\n",
    "    sheet.cell(last_index+8, 1).font = Font(bold=True)\n",
    "    # Merging\n",
    "    sheet.merge_cells('A1:H1')\n",
    "    sheet.merge_cells('A2:H2')\n",
    "    sheet.merge_cells('A4:C4')\n",
    "    sheet.merge_cells('D4:F4')\n",
    "    sheet.cell(4, 7).value = sheet.cell(5, 7).value\n",
    "    sheet.merge_cells('G4:G5')\n",
    "    sheet.cell(4, 8).value = sheet.cell(5, 8).value\n",
    "    sheet.merge_cells('H4:H5')\n",
    "    # Alignment\n",
    "    i = 0\n",
    "\n",
    "    while i < (last_index+5):\n",
    "        for c in sheet['A1:H' + str(last_index + 5)][i]:\n",
    "            c.alignment = Alignment(horizontal='center', vertical='center')\n",
    "        i += 1\n",
    "    # Borders\n",
    "    i = 0\n",
    "    thin = Side(border_style='thin', color='000000')\n",
    "    white_border = Side(border_style='thin', color='FFFFFF')\n",
    "\n",
    "    while i < (last_index + 5):\n",
    "        # 3rd row\n",
    "        if i == 2:\n",
    "            for c in sheet['A1:H' + str(last_index + 5)][i]:\n",
    "                c.border = Border(left=white_border, right=white_border)\n",
    "            i += 1\n",
    "        for c in sheet['A1:H' + str(last_index + 5)][i]:\n",
    "            c.border = Border(top=thin, left=thin, right=thin, bottom=thin)\n",
    "        i += 1\n",
    "    # Column widths\n",
    "    sheet.column_dimensions['A'].width = 15\n",
    "    sheet.column_dimensions['B'].width = 15\n",
    "    sheet.column_dimensions['C'].width = 15\n",
    "    sheet.column_dimensions['D'].width = 15\n",
    "    sheet.column_dimensions['E'].width = 15\n",
    "    sheet.column_dimensions['F'].width = 15\n",
    "    sheet.column_dimensions['G'].width = 15\n",
    "    sheet.column_dimensions['H'].width = 50"
   ],
   "metadata": {
    "collapsed": false,
    "pycharm": {
     "name": "#%%\n"
    }
   }
  },
  {
   "cell_type": "code",
   "execution_count": 124,
   "outputs": [],
   "source": [
    "if df_cis_filtered.shape[0] != 0:\n",
    "    wb.save(root_path + r'/Output/CIS Exception Report (' +\n",
    "            filtered_data_list[0].split()[0] + ').xlsx')"
   ],
   "metadata": {
    "collapsed": false,
    "pycharm": {
     "name": "#%%\n"
    }
   }
  },
  {
   "cell_type": "code",
   "execution_count": 125,
   "outputs": [],
   "source": [
    "# Current date and time\n",
    "e = datetime.datetime.now()\n",
    "# Modify log file with information of interest\n",
    "with open(root_path + str(Path(r'/Log.txt')), 'a') as f:\n",
    "    f.write('\\n')\n",
    "    f.write('User: {}'.format(socket.gethostname()))\n",
    "    f.write('\\n')\n",
    "    f.write('%s/%s/%s, %s:%s:%s' % (e.month, e.day, e.year,\n",
    "                                    e.hour, e.minute, e.second))\n",
    "    f.write('\\n')\n",
    "    f.write('Execution Time = {} seconds'.format(round(time.time()-start_time)))"
   ],
   "metadata": {
    "collapsed": false,
    "pycharm": {
     "name": "#%%\n"
    }
   }
  },
  {
   "cell_type": "code",
   "execution_count": 126,
   "outputs": [],
   "source": [
    "# df_cis_report.iloc[:, 0] = df_cis_report.iloc[:, 0].values[::-1]"
   ],
   "metadata": {
    "collapsed": false,
    "pycharm": {
     "name": "#%%\n"
    }
   }
  },
  {
   "cell_type": "code",
   "execution_count": 127,
   "outputs": [],
   "source": [
    "# First two rows of data are not being recognized for analysis\n",
    "# Need to get correct direction of when survey was taken"
   ],
   "metadata": {
    "collapsed": false,
    "pycharm": {
     "name": "#%%\n"
    }
   }
  }
 ],
 "metadata": {
  "kernelspec": {
   "display_name": "Python 3 (ipykernel)",
   "language": "python",
   "name": "python3"
  },
  "language_info": {
   "codemirror_mode": {
    "name": "ipython",
    "version": 3
   },
   "file_extension": ".py",
   "mimetype": "text/x-python",
   "name": "python",
   "nbconvert_exporter": "python",
   "pygments_lexer": "ipython3",
   "version": "3.9.7"
  }
 },
 "nbformat": 4,
 "nbformat_minor": 5
}